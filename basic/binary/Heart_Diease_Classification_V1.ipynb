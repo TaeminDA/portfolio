{
  "nbformat": 4,
  "nbformat_minor": 0,
  "metadata": {
    "colab": {
      "name": "Heart_Diease_Classification.ipynb",
      "provenance": [],
      "collapsed_sections": [],
      "toc_visible": true,
      "machine_shape": "hm"
    },
    "kernelspec": {
      "name": "python3",
      "display_name": "Python 3"
    },
    "language_info": {
      "name": "python"
    },
    "accelerator": "GPU"
  },
  "cells": [
    {
      "cell_type": "markdown",
      "metadata": {
        "id": "ZWjnfM84rNQ1"
      },
      "source": [
        "# Heart Diease Classification"
      ]
    },
    {
      "cell_type": "markdown",
      "metadata": {
        "id": "SfHnOsj_rmuk"
      },
      "source": [
        "## Import"
      ]
    },
    {
      "cell_type": "code",
      "metadata": {
        "id": "lQvgmcl5rmdp"
      },
      "source": [
        "import pandas as pd\n",
        "import numpy as np\n",
        "import matplotlib.pyplot as plt\n",
        "import seaborn as sns\n",
        "import tensorflow as tf\n",
        "from tensorflow import keras\n",
        "#from timeit import default_timer as timer\n",
        "#from datetime import timedelta"
      ],
      "execution_count": null,
      "outputs": []
    },
    {
      "cell_type": "code",
      "metadata": {
        "id": "vfvi-lRJrJzi"
      },
      "source": [
        "heart = pd.read_csv(\"/content/heart.csv\")"
      ],
      "execution_count": null,
      "outputs": []
    },
    {
      "cell_type": "markdown",
      "metadata": {
        "id": "7ieuY_Vfr8Nn"
      },
      "source": [
        "*   Age : Age of the patient\n",
        "*   Sex : Sex of the patient\n",
        "*   Lexang: exercise induced angina (1 = yes; 0 = no)\n",
        "*   ca: number of major vessels (0-3)\n",
        "\n",
        "*   cp : Chest Pain type chest pain type\n",
        "Value 1: typical angina\n",
        "Value 2: atypical angina\n",
        "Value 3: non-anginal pain\n",
        "Value 4: asymptomatic\n",
        "*   trtbps : resting blood pressure (in mm Hg)\n",
        "*   chol : cholestoral in mg/dl fetched via BMI sensor\n",
        "*   fbs : (fasting blood sugar > 120 mg/dl) (1 = true; 0 = false)\n",
        "*   rest_ecg : resting electrocardiographic results\n",
        "Value 0: normal\n",
        "Value 1: having ST-T wave abnormality (T wave inversions and/or ST elevation or depression of > 0.05 mV)\n",
        "Value 2: showing probable or definite left ventricular hypertrophy by Estes' criteria\n",
        "* thalach : maximum heart rate achieved\n",
        "* target : 0= less chance of heart attack 1= more chance of heart attack"
      ]
    },
    {
      "cell_type": "code",
      "metadata": {
        "colab": {
          "base_uri": "https://localhost:8080/",
          "height": 204
        },
        "id": "Selo6iJfrhy8",
        "outputId": "7de06065-f5af-4fd2-9999-2c6b25dcd34f"
      },
      "source": [
        "heart.head()"
      ],
      "execution_count": null,
      "outputs": [
        {
          "output_type": "execute_result",
          "data": {
            "text/html": [
              "<div>\n",
              "<style scoped>\n",
              "    .dataframe tbody tr th:only-of-type {\n",
              "        vertical-align: middle;\n",
              "    }\n",
              "\n",
              "    .dataframe tbody tr th {\n",
              "        vertical-align: top;\n",
              "    }\n",
              "\n",
              "    .dataframe thead th {\n",
              "        text-align: right;\n",
              "    }\n",
              "</style>\n",
              "<table border=\"1\" class=\"dataframe\">\n",
              "  <thead>\n",
              "    <tr style=\"text-align: right;\">\n",
              "      <th></th>\n",
              "      <th>age</th>\n",
              "      <th>sex</th>\n",
              "      <th>cp</th>\n",
              "      <th>trestbps</th>\n",
              "      <th>chol</th>\n",
              "      <th>fbs</th>\n",
              "      <th>restecg</th>\n",
              "      <th>thalach</th>\n",
              "      <th>exang</th>\n",
              "      <th>oldpeak</th>\n",
              "      <th>slope</th>\n",
              "      <th>ca</th>\n",
              "      <th>thal</th>\n",
              "      <th>target</th>\n",
              "    </tr>\n",
              "  </thead>\n",
              "  <tbody>\n",
              "    <tr>\n",
              "      <th>0</th>\n",
              "      <td>63</td>\n",
              "      <td>1</td>\n",
              "      <td>3</td>\n",
              "      <td>145</td>\n",
              "      <td>233</td>\n",
              "      <td>1</td>\n",
              "      <td>0</td>\n",
              "      <td>150</td>\n",
              "      <td>0</td>\n",
              "      <td>2.3</td>\n",
              "      <td>0</td>\n",
              "      <td>0</td>\n",
              "      <td>1</td>\n",
              "      <td>1</td>\n",
              "    </tr>\n",
              "    <tr>\n",
              "      <th>1</th>\n",
              "      <td>37</td>\n",
              "      <td>1</td>\n",
              "      <td>2</td>\n",
              "      <td>130</td>\n",
              "      <td>250</td>\n",
              "      <td>0</td>\n",
              "      <td>1</td>\n",
              "      <td>187</td>\n",
              "      <td>0</td>\n",
              "      <td>3.5</td>\n",
              "      <td>0</td>\n",
              "      <td>0</td>\n",
              "      <td>2</td>\n",
              "      <td>1</td>\n",
              "    </tr>\n",
              "    <tr>\n",
              "      <th>2</th>\n",
              "      <td>41</td>\n",
              "      <td>0</td>\n",
              "      <td>1</td>\n",
              "      <td>130</td>\n",
              "      <td>204</td>\n",
              "      <td>0</td>\n",
              "      <td>0</td>\n",
              "      <td>172</td>\n",
              "      <td>0</td>\n",
              "      <td>1.4</td>\n",
              "      <td>2</td>\n",
              "      <td>0</td>\n",
              "      <td>2</td>\n",
              "      <td>1</td>\n",
              "    </tr>\n",
              "    <tr>\n",
              "      <th>3</th>\n",
              "      <td>56</td>\n",
              "      <td>1</td>\n",
              "      <td>1</td>\n",
              "      <td>120</td>\n",
              "      <td>236</td>\n",
              "      <td>0</td>\n",
              "      <td>1</td>\n",
              "      <td>178</td>\n",
              "      <td>0</td>\n",
              "      <td>0.8</td>\n",
              "      <td>2</td>\n",
              "      <td>0</td>\n",
              "      <td>2</td>\n",
              "      <td>1</td>\n",
              "    </tr>\n",
              "    <tr>\n",
              "      <th>4</th>\n",
              "      <td>57</td>\n",
              "      <td>0</td>\n",
              "      <td>0</td>\n",
              "      <td>120</td>\n",
              "      <td>354</td>\n",
              "      <td>0</td>\n",
              "      <td>1</td>\n",
              "      <td>163</td>\n",
              "      <td>1</td>\n",
              "      <td>0.6</td>\n",
              "      <td>2</td>\n",
              "      <td>0</td>\n",
              "      <td>2</td>\n",
              "      <td>1</td>\n",
              "    </tr>\n",
              "  </tbody>\n",
              "</table>\n",
              "</div>"
            ],
            "text/plain": [
              "   age  sex  cp  trestbps  chol  fbs  ...  exang  oldpeak  slope  ca  thal  target\n",
              "0   63    1   3       145   233    1  ...      0      2.3      0   0     1       1\n",
              "1   37    1   2       130   250    0  ...      0      3.5      0   0     2       1\n",
              "2   41    0   1       130   204    0  ...      0      1.4      2   0     2       1\n",
              "3   56    1   1       120   236    0  ...      0      0.8      2   0     2       1\n",
              "4   57    0   0       120   354    0  ...      1      0.6      2   0     2       1\n",
              "\n",
              "[5 rows x 14 columns]"
            ]
          },
          "metadata": {
            "tags": []
          },
          "execution_count": 3
        }
      ]
    },
    {
      "cell_type": "code",
      "metadata": {
        "colab": {
          "base_uri": "https://localhost:8080/"
        },
        "id": "OuKEJ6lFsyYX",
        "outputId": "718ec9c7-ae70-4b36-e7de-531f5482aa0a"
      },
      "source": [
        "heart.info()"
      ],
      "execution_count": null,
      "outputs": [
        {
          "output_type": "stream",
          "text": [
            "<class 'pandas.core.frame.DataFrame'>\n",
            "RangeIndex: 303 entries, 0 to 302\n",
            "Data columns (total 14 columns):\n",
            " #   Column    Non-Null Count  Dtype  \n",
            "---  ------    --------------  -----  \n",
            " 0   age       303 non-null    int64  \n",
            " 1   sex       303 non-null    int64  \n",
            " 2   cp        303 non-null    int64  \n",
            " 3   trestbps  303 non-null    int64  \n",
            " 4   chol      303 non-null    int64  \n",
            " 5   fbs       303 non-null    int64  \n",
            " 6   restecg   303 non-null    int64  \n",
            " 7   thalach   303 non-null    int64  \n",
            " 8   exang     303 non-null    int64  \n",
            " 9   oldpeak   303 non-null    float64\n",
            " 10  slope     303 non-null    int64  \n",
            " 11  ca        303 non-null    int64  \n",
            " 12  thal      303 non-null    int64  \n",
            " 13  target    303 non-null    int64  \n",
            "dtypes: float64(1), int64(13)\n",
            "memory usage: 33.3 KB\n"
          ],
          "name": "stdout"
        }
      ]
    },
    {
      "cell_type": "code",
      "metadata": {
        "colab": {
          "base_uri": "https://localhost:8080/"
        },
        "id": "GTLh9FgVrhpU",
        "outputId": "a23fae64-19b9-4542-c400-2b22a79eacc6"
      },
      "source": [
        "for i in heart.columns:\n",
        "  print(i,\"unique value:\")\n",
        "  print(\"=>\", heart[i].unique())\n",
        "  "
      ],
      "execution_count": null,
      "outputs": [
        {
          "output_type": "stream",
          "text": [
            "age unique value:\n",
            "=> [63 37 41 56 57 44 52 54 48 49 64 58 50 66 43 69 59 42 61 40 71 51 65 53\n",
            " 46 45 39 47 62 34 35 29 55 60 67 68 74 76 70 38 77]\n",
            "sex unique value:\n",
            "=> [1 0]\n",
            "cp unique value:\n",
            "=> [3 2 1 0]\n",
            "trestbps unique value:\n",
            "=> [145 130 120 140 172 150 110 135 160 105 125 142 155 104 138 128 108 134\n",
            " 122 115 118 100 124  94 112 102 152 101 132 148 178 129 180 136 126 106\n",
            " 156 170 146 117 200 165 174 192 144 123 154 114 164]\n",
            "chol unique value:\n",
            "=> [233 250 204 236 354 192 294 263 199 168 239 275 266 211 283 219 340 226\n",
            " 247 234 243 302 212 175 417 197 198 177 273 213 304 232 269 360 308 245\n",
            " 208 264 321 325 235 257 216 256 231 141 252 201 222 260 182 303 265 309\n",
            " 186 203 183 220 209 258 227 261 221 205 240 318 298 564 277 214 248 255\n",
            " 207 223 288 160 394 315 246 244 270 195 196 254 126 313 262 215 193 271\n",
            " 268 267 210 295 306 178 242 180 228 149 278 253 342 157 286 229 284 224\n",
            " 206 167 230 335 276 353 225 330 290 172 305 188 282 185 326 274 164 307\n",
            " 249 341 407 217 174 281 289 322 299 300 293 184 409 259 200 327 237 218\n",
            " 319 166 311 169 187 176 241 131]\n",
            "fbs unique value:\n",
            "=> [1 0]\n",
            "restecg unique value:\n",
            "=> [0 1 2]\n",
            "thalach unique value:\n",
            "=> [150 187 172 178 163 148 153 173 162 174 160 139 171 144 158 114 151 161\n",
            " 179 137 157 123 152 168 140 188 125 170 165 142 180 143 182 156 115 149\n",
            " 146 175 186 185 159 130 190 132 147 154 202 166 164 184 122 169 138 111\n",
            " 145 194 131 133 155 167 192 121  96 126 105 181 116 108 129 120 112 128\n",
            " 109 113  99 177 141 136  97 127 103 124  88 195 106  95 117  71 118 134\n",
            "  90]\n",
            "exang unique value:\n",
            "=> [0 1]\n",
            "oldpeak unique value:\n",
            "=> [2.3 3.5 1.4 0.8 0.6 0.4 1.3 0.  0.5 1.6 1.2 0.2 1.8 1.  2.6 1.5 3.  2.4\n",
            " 0.1 1.9 4.2 1.1 2.  0.7 0.3 0.9 3.6 3.1 3.2 2.5 2.2 2.8 3.4 6.2 4.  5.6\n",
            " 2.9 2.1 3.8 4.4]\n",
            "slope unique value:\n",
            "=> [0 2 1]\n",
            "ca unique value:\n",
            "=> [0 2 1 3 4]\n",
            "thal unique value:\n",
            "=> [1 2 3 0]\n",
            "target unique value:\n",
            "=> [1 0]\n"
          ],
          "name": "stdout"
        }
      ]
    },
    {
      "cell_type": "code",
      "metadata": {
        "id": "FVIE_HNlrher"
      },
      "source": [
        "categorical_columns = [\"sex\",\"cp\",\"fbs\",\"restecg\",\"exang\",\"slope\",\"ca\",\"thal\"]"
      ],
      "execution_count": null,
      "outputs": []
    },
    {
      "cell_type": "markdown",
      "metadata": {
        "id": "63tDSp0IriS-"
      },
      "source": [
        "## EDA"
      ]
    },
    {
      "cell_type": "code",
      "metadata": {
        "id": "OjNGxk1CrhVb"
      },
      "source": [
        ""
      ],
      "execution_count": null,
      "outputs": []
    },
    {
      "cell_type": "markdown",
      "metadata": {
        "id": "7LOffSzkwGjj"
      },
      "source": [
        "***"
      ]
    },
    {
      "cell_type": "markdown",
      "metadata": {
        "id": "j80dL4Pyv-OI"
      },
      "source": [
        "## Data Engineering"
      ]
    },
    {
      "cell_type": "code",
      "metadata": {
        "id": "t67Ur6b-tfof"
      },
      "source": [
        "y = heart.target\n",
        "X = heart.drop([\"target\"], axis = 1)"
      ],
      "execution_count": null,
      "outputs": []
    },
    {
      "cell_type": "markdown",
      "metadata": {
        "id": "mLYDE0Fqt_vi"
      },
      "source": [
        "### One Hot Encoding"
      ]
    },
    {
      "cell_type": "code",
      "metadata": {
        "id": "3x8esCcFt_Jm"
      },
      "source": [
        "from sklearn.preprocessing import OneHotEncoder\n",
        "ohe = OneHotEncoder(drop='first')"
      ],
      "execution_count": null,
      "outputs": []
    },
    {
      "cell_type": "code",
      "metadata": {
        "id": "sszZt7yluE1I"
      },
      "source": [
        "non_categorical = ['age', 'trestbps', 'chol', 'thalach', 'oldpeak']"
      ],
      "execution_count": null,
      "outputs": []
    },
    {
      "cell_type": "code",
      "metadata": {
        "id": "Vqm-Z3_RuWCB"
      },
      "source": [
        "ohe_dataset = ohe.fit_transform(heart[categorical_columns])\n",
        "columns_ohe = ohe.get_feature_names(input_features = heart[categorical_columns].columns)\n",
        "ohe_dataset = pd.DataFrame(ohe_dataset.toarray())\n",
        "ohe_dataset.columns = columns_ohe\n",
        "X_OH = pd.concat([X.drop(categorical_columns,axis = 1),ohe_dataset],axis = 1)"
      ],
      "execution_count": null,
      "outputs": []
    },
    {
      "cell_type": "code",
      "metadata": {
        "colab": {
          "base_uri": "https://localhost:8080/",
          "height": 224
        },
        "id": "U538PrSqtv0t",
        "outputId": "0cae757a-274b-49db-cd15-1dc1e3ee1a61"
      },
      "source": [
        "# One Hot Encoding\n",
        "X_OH.head()"
      ],
      "execution_count": null,
      "outputs": [
        {
          "output_type": "execute_result",
          "data": {
            "text/html": [
              "<div>\n",
              "<style scoped>\n",
              "    .dataframe tbody tr th:only-of-type {\n",
              "        vertical-align: middle;\n",
              "    }\n",
              "\n",
              "    .dataframe tbody tr th {\n",
              "        vertical-align: top;\n",
              "    }\n",
              "\n",
              "    .dataframe thead th {\n",
              "        text-align: right;\n",
              "    }\n",
              "</style>\n",
              "<table border=\"1\" class=\"dataframe\">\n",
              "  <thead>\n",
              "    <tr style=\"text-align: right;\">\n",
              "      <th></th>\n",
              "      <th>age</th>\n",
              "      <th>trestbps</th>\n",
              "      <th>chol</th>\n",
              "      <th>thalach</th>\n",
              "      <th>oldpeak</th>\n",
              "      <th>sex_1</th>\n",
              "      <th>cp_1</th>\n",
              "      <th>cp_2</th>\n",
              "      <th>cp_3</th>\n",
              "      <th>fbs_1</th>\n",
              "      <th>restecg_1</th>\n",
              "      <th>restecg_2</th>\n",
              "      <th>exang_1</th>\n",
              "      <th>slope_1</th>\n",
              "      <th>slope_2</th>\n",
              "      <th>ca_1</th>\n",
              "      <th>ca_2</th>\n",
              "      <th>ca_3</th>\n",
              "      <th>ca_4</th>\n",
              "      <th>thal_1</th>\n",
              "      <th>thal_2</th>\n",
              "      <th>thal_3</th>\n",
              "    </tr>\n",
              "  </thead>\n",
              "  <tbody>\n",
              "    <tr>\n",
              "      <th>0</th>\n",
              "      <td>63</td>\n",
              "      <td>145</td>\n",
              "      <td>233</td>\n",
              "      <td>150</td>\n",
              "      <td>2.3</td>\n",
              "      <td>1.0</td>\n",
              "      <td>0.0</td>\n",
              "      <td>0.0</td>\n",
              "      <td>1.0</td>\n",
              "      <td>1.0</td>\n",
              "      <td>0.0</td>\n",
              "      <td>0.0</td>\n",
              "      <td>0.0</td>\n",
              "      <td>0.0</td>\n",
              "      <td>0.0</td>\n",
              "      <td>0.0</td>\n",
              "      <td>0.0</td>\n",
              "      <td>0.0</td>\n",
              "      <td>0.0</td>\n",
              "      <td>1.0</td>\n",
              "      <td>0.0</td>\n",
              "      <td>0.0</td>\n",
              "    </tr>\n",
              "    <tr>\n",
              "      <th>1</th>\n",
              "      <td>37</td>\n",
              "      <td>130</td>\n",
              "      <td>250</td>\n",
              "      <td>187</td>\n",
              "      <td>3.5</td>\n",
              "      <td>1.0</td>\n",
              "      <td>0.0</td>\n",
              "      <td>1.0</td>\n",
              "      <td>0.0</td>\n",
              "      <td>0.0</td>\n",
              "      <td>1.0</td>\n",
              "      <td>0.0</td>\n",
              "      <td>0.0</td>\n",
              "      <td>0.0</td>\n",
              "      <td>0.0</td>\n",
              "      <td>0.0</td>\n",
              "      <td>0.0</td>\n",
              "      <td>0.0</td>\n",
              "      <td>0.0</td>\n",
              "      <td>0.0</td>\n",
              "      <td>1.0</td>\n",
              "      <td>0.0</td>\n",
              "    </tr>\n",
              "    <tr>\n",
              "      <th>2</th>\n",
              "      <td>41</td>\n",
              "      <td>130</td>\n",
              "      <td>204</td>\n",
              "      <td>172</td>\n",
              "      <td>1.4</td>\n",
              "      <td>0.0</td>\n",
              "      <td>1.0</td>\n",
              "      <td>0.0</td>\n",
              "      <td>0.0</td>\n",
              "      <td>0.0</td>\n",
              "      <td>0.0</td>\n",
              "      <td>0.0</td>\n",
              "      <td>0.0</td>\n",
              "      <td>0.0</td>\n",
              "      <td>1.0</td>\n",
              "      <td>0.0</td>\n",
              "      <td>0.0</td>\n",
              "      <td>0.0</td>\n",
              "      <td>0.0</td>\n",
              "      <td>0.0</td>\n",
              "      <td>1.0</td>\n",
              "      <td>0.0</td>\n",
              "    </tr>\n",
              "    <tr>\n",
              "      <th>3</th>\n",
              "      <td>56</td>\n",
              "      <td>120</td>\n",
              "      <td>236</td>\n",
              "      <td>178</td>\n",
              "      <td>0.8</td>\n",
              "      <td>1.0</td>\n",
              "      <td>1.0</td>\n",
              "      <td>0.0</td>\n",
              "      <td>0.0</td>\n",
              "      <td>0.0</td>\n",
              "      <td>1.0</td>\n",
              "      <td>0.0</td>\n",
              "      <td>0.0</td>\n",
              "      <td>0.0</td>\n",
              "      <td>1.0</td>\n",
              "      <td>0.0</td>\n",
              "      <td>0.0</td>\n",
              "      <td>0.0</td>\n",
              "      <td>0.0</td>\n",
              "      <td>0.0</td>\n",
              "      <td>1.0</td>\n",
              "      <td>0.0</td>\n",
              "    </tr>\n",
              "    <tr>\n",
              "      <th>4</th>\n",
              "      <td>57</td>\n",
              "      <td>120</td>\n",
              "      <td>354</td>\n",
              "      <td>163</td>\n",
              "      <td>0.6</td>\n",
              "      <td>0.0</td>\n",
              "      <td>0.0</td>\n",
              "      <td>0.0</td>\n",
              "      <td>0.0</td>\n",
              "      <td>0.0</td>\n",
              "      <td>1.0</td>\n",
              "      <td>0.0</td>\n",
              "      <td>1.0</td>\n",
              "      <td>0.0</td>\n",
              "      <td>1.0</td>\n",
              "      <td>0.0</td>\n",
              "      <td>0.0</td>\n",
              "      <td>0.0</td>\n",
              "      <td>0.0</td>\n",
              "      <td>0.0</td>\n",
              "      <td>1.0</td>\n",
              "      <td>0.0</td>\n",
              "    </tr>\n",
              "  </tbody>\n",
              "</table>\n",
              "</div>"
            ],
            "text/plain": [
              "   age  trestbps  chol  thalach  oldpeak  ...  ca_3  ca_4  thal_1  thal_2  thal_3\n",
              "0   63       145   233      150      2.3  ...   0.0   0.0     1.0     0.0     0.0\n",
              "1   37       130   250      187      3.5  ...   0.0   0.0     0.0     1.0     0.0\n",
              "2   41       130   204      172      1.4  ...   0.0   0.0     0.0     1.0     0.0\n",
              "3   56       120   236      178      0.8  ...   0.0   0.0     0.0     1.0     0.0\n",
              "4   57       120   354      163      0.6  ...   0.0   0.0     0.0     1.0     0.0\n",
              "\n",
              "[5 rows x 22 columns]"
            ]
          },
          "metadata": {
            "tags": []
          },
          "execution_count": 11
        }
      ]
    },
    {
      "cell_type": "markdown",
      "metadata": {
        "id": "PPFlGx_PvKwx"
      },
      "source": [
        "### Normalization"
      ]
    },
    {
      "cell_type": "code",
      "metadata": {
        "id": "hc9fbZinvKEI"
      },
      "source": [
        "from sklearn.preprocessing import MinMaxScaler\n",
        "scaler = MinMaxScaler()\n",
        "\n",
        "min_heart = X_OH.min()\n",
        "max_heart = X_OH.max()\n",
        "\n",
        "X_normalized = scaler.fit_transform(X_OH)\n",
        "\n",
        "X_normalized = pd.DataFrame(X_normalized)\n",
        "\n",
        "X_normalized.columns = X_OH.columns"
      ],
      "execution_count": null,
      "outputs": []
    },
    {
      "cell_type": "code",
      "metadata": {
        "colab": {
          "base_uri": "https://localhost:8080/",
          "height": 224
        },
        "id": "DX9yKXDxvttw",
        "outputId": "cc116825-b5f4-4d94-f119-8ac2938c98d0"
      },
      "source": [
        "X_normalized.head()"
      ],
      "execution_count": null,
      "outputs": [
        {
          "output_type": "execute_result",
          "data": {
            "text/html": [
              "<div>\n",
              "<style scoped>\n",
              "    .dataframe tbody tr th:only-of-type {\n",
              "        vertical-align: middle;\n",
              "    }\n",
              "\n",
              "    .dataframe tbody tr th {\n",
              "        vertical-align: top;\n",
              "    }\n",
              "\n",
              "    .dataframe thead th {\n",
              "        text-align: right;\n",
              "    }\n",
              "</style>\n",
              "<table border=\"1\" class=\"dataframe\">\n",
              "  <thead>\n",
              "    <tr style=\"text-align: right;\">\n",
              "      <th></th>\n",
              "      <th>age</th>\n",
              "      <th>trestbps</th>\n",
              "      <th>chol</th>\n",
              "      <th>thalach</th>\n",
              "      <th>oldpeak</th>\n",
              "      <th>sex_1</th>\n",
              "      <th>cp_1</th>\n",
              "      <th>cp_2</th>\n",
              "      <th>cp_3</th>\n",
              "      <th>fbs_1</th>\n",
              "      <th>restecg_1</th>\n",
              "      <th>restecg_2</th>\n",
              "      <th>exang_1</th>\n",
              "      <th>slope_1</th>\n",
              "      <th>slope_2</th>\n",
              "      <th>ca_1</th>\n",
              "      <th>ca_2</th>\n",
              "      <th>ca_3</th>\n",
              "      <th>ca_4</th>\n",
              "      <th>thal_1</th>\n",
              "      <th>thal_2</th>\n",
              "      <th>thal_3</th>\n",
              "    </tr>\n",
              "  </thead>\n",
              "  <tbody>\n",
              "    <tr>\n",
              "      <th>0</th>\n",
              "      <td>0.708333</td>\n",
              "      <td>0.481132</td>\n",
              "      <td>0.244292</td>\n",
              "      <td>0.603053</td>\n",
              "      <td>0.370968</td>\n",
              "      <td>1.0</td>\n",
              "      <td>0.0</td>\n",
              "      <td>0.0</td>\n",
              "      <td>1.0</td>\n",
              "      <td>1.0</td>\n",
              "      <td>0.0</td>\n",
              "      <td>0.0</td>\n",
              "      <td>0.0</td>\n",
              "      <td>0.0</td>\n",
              "      <td>0.0</td>\n",
              "      <td>0.0</td>\n",
              "      <td>0.0</td>\n",
              "      <td>0.0</td>\n",
              "      <td>0.0</td>\n",
              "      <td>1.0</td>\n",
              "      <td>0.0</td>\n",
              "      <td>0.0</td>\n",
              "    </tr>\n",
              "    <tr>\n",
              "      <th>1</th>\n",
              "      <td>0.166667</td>\n",
              "      <td>0.339623</td>\n",
              "      <td>0.283105</td>\n",
              "      <td>0.885496</td>\n",
              "      <td>0.564516</td>\n",
              "      <td>1.0</td>\n",
              "      <td>0.0</td>\n",
              "      <td>1.0</td>\n",
              "      <td>0.0</td>\n",
              "      <td>0.0</td>\n",
              "      <td>1.0</td>\n",
              "      <td>0.0</td>\n",
              "      <td>0.0</td>\n",
              "      <td>0.0</td>\n",
              "      <td>0.0</td>\n",
              "      <td>0.0</td>\n",
              "      <td>0.0</td>\n",
              "      <td>0.0</td>\n",
              "      <td>0.0</td>\n",
              "      <td>0.0</td>\n",
              "      <td>1.0</td>\n",
              "      <td>0.0</td>\n",
              "    </tr>\n",
              "    <tr>\n",
              "      <th>2</th>\n",
              "      <td>0.250000</td>\n",
              "      <td>0.339623</td>\n",
              "      <td>0.178082</td>\n",
              "      <td>0.770992</td>\n",
              "      <td>0.225806</td>\n",
              "      <td>0.0</td>\n",
              "      <td>1.0</td>\n",
              "      <td>0.0</td>\n",
              "      <td>0.0</td>\n",
              "      <td>0.0</td>\n",
              "      <td>0.0</td>\n",
              "      <td>0.0</td>\n",
              "      <td>0.0</td>\n",
              "      <td>0.0</td>\n",
              "      <td>1.0</td>\n",
              "      <td>0.0</td>\n",
              "      <td>0.0</td>\n",
              "      <td>0.0</td>\n",
              "      <td>0.0</td>\n",
              "      <td>0.0</td>\n",
              "      <td>1.0</td>\n",
              "      <td>0.0</td>\n",
              "    </tr>\n",
              "    <tr>\n",
              "      <th>3</th>\n",
              "      <td>0.562500</td>\n",
              "      <td>0.245283</td>\n",
              "      <td>0.251142</td>\n",
              "      <td>0.816794</td>\n",
              "      <td>0.129032</td>\n",
              "      <td>1.0</td>\n",
              "      <td>1.0</td>\n",
              "      <td>0.0</td>\n",
              "      <td>0.0</td>\n",
              "      <td>0.0</td>\n",
              "      <td>1.0</td>\n",
              "      <td>0.0</td>\n",
              "      <td>0.0</td>\n",
              "      <td>0.0</td>\n",
              "      <td>1.0</td>\n",
              "      <td>0.0</td>\n",
              "      <td>0.0</td>\n",
              "      <td>0.0</td>\n",
              "      <td>0.0</td>\n",
              "      <td>0.0</td>\n",
              "      <td>1.0</td>\n",
              "      <td>0.0</td>\n",
              "    </tr>\n",
              "    <tr>\n",
              "      <th>4</th>\n",
              "      <td>0.583333</td>\n",
              "      <td>0.245283</td>\n",
              "      <td>0.520548</td>\n",
              "      <td>0.702290</td>\n",
              "      <td>0.096774</td>\n",
              "      <td>0.0</td>\n",
              "      <td>0.0</td>\n",
              "      <td>0.0</td>\n",
              "      <td>0.0</td>\n",
              "      <td>0.0</td>\n",
              "      <td>1.0</td>\n",
              "      <td>0.0</td>\n",
              "      <td>1.0</td>\n",
              "      <td>0.0</td>\n",
              "      <td>1.0</td>\n",
              "      <td>0.0</td>\n",
              "      <td>0.0</td>\n",
              "      <td>0.0</td>\n",
              "      <td>0.0</td>\n",
              "      <td>0.0</td>\n",
              "      <td>1.0</td>\n",
              "      <td>0.0</td>\n",
              "    </tr>\n",
              "  </tbody>\n",
              "</table>\n",
              "</div>"
            ],
            "text/plain": [
              "        age  trestbps      chol   thalach  ...  ca_4  thal_1  thal_2  thal_3\n",
              "0  0.708333  0.481132  0.244292  0.603053  ...   0.0     1.0     0.0     0.0\n",
              "1  0.166667  0.339623  0.283105  0.885496  ...   0.0     0.0     1.0     0.0\n",
              "2  0.250000  0.339623  0.178082  0.770992  ...   0.0     0.0     1.0     0.0\n",
              "3  0.562500  0.245283  0.251142  0.816794  ...   0.0     0.0     1.0     0.0\n",
              "4  0.583333  0.245283  0.520548  0.702290  ...   0.0     0.0     1.0     0.0\n",
              "\n",
              "[5 rows x 22 columns]"
            ]
          },
          "metadata": {
            "tags": []
          },
          "execution_count": 13
        }
      ]
    },
    {
      "cell_type": "code",
      "metadata": {
        "id": "tCObFAvxKwC4"
      },
      "source": [
        "from sklearn.preprocessing import StandardScaler\n",
        "scaler = StandardScaler()\n",
        "\n",
        "min_heart = X_OH.min()\n",
        "max_heart = X_OH.max()\n",
        "\n",
        "X_std = scaler.fit_transform(X_OH)\n",
        "\n",
        "X_std = pd.DataFrame(X_std)\n",
        "\n",
        "X_std.columns = X_OH.columns"
      ],
      "execution_count": null,
      "outputs": []
    },
    {
      "cell_type": "code",
      "metadata": {
        "colab": {
          "base_uri": "https://localhost:8080/",
          "height": 224
        },
        "id": "pz9skFGoK7vZ",
        "outputId": "f1245c85-13c8-413b-e5b9-fe493bffd0dc"
      },
      "source": [
        "X_std.head()"
      ],
      "execution_count": null,
      "outputs": [
        {
          "output_type": "execute_result",
          "data": {
            "text/html": [
              "<div>\n",
              "<style scoped>\n",
              "    .dataframe tbody tr th:only-of-type {\n",
              "        vertical-align: middle;\n",
              "    }\n",
              "\n",
              "    .dataframe tbody tr th {\n",
              "        vertical-align: top;\n",
              "    }\n",
              "\n",
              "    .dataframe thead th {\n",
              "        text-align: right;\n",
              "    }\n",
              "</style>\n",
              "<table border=\"1\" class=\"dataframe\">\n",
              "  <thead>\n",
              "    <tr style=\"text-align: right;\">\n",
              "      <th></th>\n",
              "      <th>age</th>\n",
              "      <th>trestbps</th>\n",
              "      <th>chol</th>\n",
              "      <th>thalach</th>\n",
              "      <th>oldpeak</th>\n",
              "      <th>sex_1</th>\n",
              "      <th>cp_1</th>\n",
              "      <th>cp_2</th>\n",
              "      <th>cp_3</th>\n",
              "      <th>fbs_1</th>\n",
              "      <th>restecg_1</th>\n",
              "      <th>restecg_2</th>\n",
              "      <th>exang_1</th>\n",
              "      <th>slope_1</th>\n",
              "      <th>slope_2</th>\n",
              "      <th>ca_1</th>\n",
              "      <th>ca_2</th>\n",
              "      <th>ca_3</th>\n",
              "      <th>ca_4</th>\n",
              "      <th>thal_1</th>\n",
              "      <th>thal_2</th>\n",
              "      <th>thal_3</th>\n",
              "    </tr>\n",
              "  </thead>\n",
              "  <tbody>\n",
              "    <tr>\n",
              "      <th>0</th>\n",
              "      <td>0.952197</td>\n",
              "      <td>0.763956</td>\n",
              "      <td>-0.256334</td>\n",
              "      <td>0.015443</td>\n",
              "      <td>1.087338</td>\n",
              "      <td>0.681005</td>\n",
              "      <td>-0.444554</td>\n",
              "      <td>-0.634648</td>\n",
              "      <td>3.489114</td>\n",
              "      <td>2.394438</td>\n",
              "      <td>-1.003306</td>\n",
              "      <td>-0.115663</td>\n",
              "      <td>-0.696631</td>\n",
              "      <td>-0.926766</td>\n",
              "      <td>-0.939142</td>\n",
              "      <td>-0.522599</td>\n",
              "      <td>-0.378677</td>\n",
              "      <td>-0.265841</td>\n",
              "      <td>-0.129532</td>\n",
              "      <td>3.979112</td>\n",
              "      <td>-1.100763</td>\n",
              "      <td>-0.793116</td>\n",
              "    </tr>\n",
              "    <tr>\n",
              "      <th>1</th>\n",
              "      <td>-1.915313</td>\n",
              "      <td>-0.092738</td>\n",
              "      <td>0.072199</td>\n",
              "      <td>1.633471</td>\n",
              "      <td>2.122573</td>\n",
              "      <td>0.681005</td>\n",
              "      <td>-0.444554</td>\n",
              "      <td>1.575677</td>\n",
              "      <td>-0.286606</td>\n",
              "      <td>-0.417635</td>\n",
              "      <td>0.996705</td>\n",
              "      <td>-0.115663</td>\n",
              "      <td>-0.696631</td>\n",
              "      <td>-0.926766</td>\n",
              "      <td>-0.939142</td>\n",
              "      <td>-0.522599</td>\n",
              "      <td>-0.378677</td>\n",
              "      <td>-0.265841</td>\n",
              "      <td>-0.129532</td>\n",
              "      <td>-0.251312</td>\n",
              "      <td>0.908461</td>\n",
              "      <td>-0.793116</td>\n",
              "    </tr>\n",
              "    <tr>\n",
              "      <th>2</th>\n",
              "      <td>-1.474158</td>\n",
              "      <td>-0.092738</td>\n",
              "      <td>-0.816773</td>\n",
              "      <td>0.977514</td>\n",
              "      <td>0.310912</td>\n",
              "      <td>-1.468418</td>\n",
              "      <td>2.249444</td>\n",
              "      <td>-0.634648</td>\n",
              "      <td>-0.286606</td>\n",
              "      <td>-0.417635</td>\n",
              "      <td>-1.003306</td>\n",
              "      <td>-0.115663</td>\n",
              "      <td>-0.696631</td>\n",
              "      <td>-0.926766</td>\n",
              "      <td>1.064802</td>\n",
              "      <td>-0.522599</td>\n",
              "      <td>-0.378677</td>\n",
              "      <td>-0.265841</td>\n",
              "      <td>-0.129532</td>\n",
              "      <td>-0.251312</td>\n",
              "      <td>0.908461</td>\n",
              "      <td>-0.793116</td>\n",
              "    </tr>\n",
              "    <tr>\n",
              "      <th>3</th>\n",
              "      <td>0.180175</td>\n",
              "      <td>-0.663867</td>\n",
              "      <td>-0.198357</td>\n",
              "      <td>1.239897</td>\n",
              "      <td>-0.206705</td>\n",
              "      <td>0.681005</td>\n",
              "      <td>2.249444</td>\n",
              "      <td>-0.634648</td>\n",
              "      <td>-0.286606</td>\n",
              "      <td>-0.417635</td>\n",
              "      <td>0.996705</td>\n",
              "      <td>-0.115663</td>\n",
              "      <td>-0.696631</td>\n",
              "      <td>-0.926766</td>\n",
              "      <td>1.064802</td>\n",
              "      <td>-0.522599</td>\n",
              "      <td>-0.378677</td>\n",
              "      <td>-0.265841</td>\n",
              "      <td>-0.129532</td>\n",
              "      <td>-0.251312</td>\n",
              "      <td>0.908461</td>\n",
              "      <td>-0.793116</td>\n",
              "    </tr>\n",
              "    <tr>\n",
              "      <th>4</th>\n",
              "      <td>0.290464</td>\n",
              "      <td>-0.663867</td>\n",
              "      <td>2.082050</td>\n",
              "      <td>0.583939</td>\n",
              "      <td>-0.379244</td>\n",
              "      <td>-1.468418</td>\n",
              "      <td>-0.444554</td>\n",
              "      <td>-0.634648</td>\n",
              "      <td>-0.286606</td>\n",
              "      <td>-0.417635</td>\n",
              "      <td>0.996705</td>\n",
              "      <td>-0.115663</td>\n",
              "      <td>1.435481</td>\n",
              "      <td>-0.926766</td>\n",
              "      <td>1.064802</td>\n",
              "      <td>-0.522599</td>\n",
              "      <td>-0.378677</td>\n",
              "      <td>-0.265841</td>\n",
              "      <td>-0.129532</td>\n",
              "      <td>-0.251312</td>\n",
              "      <td>0.908461</td>\n",
              "      <td>-0.793116</td>\n",
              "    </tr>\n",
              "  </tbody>\n",
              "</table>\n",
              "</div>"
            ],
            "text/plain": [
              "        age  trestbps      chol  ...    thal_1    thal_2    thal_3\n",
              "0  0.952197  0.763956 -0.256334  ...  3.979112 -1.100763 -0.793116\n",
              "1 -1.915313 -0.092738  0.072199  ... -0.251312  0.908461 -0.793116\n",
              "2 -1.474158 -0.092738 -0.816773  ... -0.251312  0.908461 -0.793116\n",
              "3  0.180175 -0.663867 -0.198357  ... -0.251312  0.908461 -0.793116\n",
              "4  0.290464 -0.663867  2.082050  ... -0.251312  0.908461 -0.793116\n",
              "\n",
              "[5 rows x 22 columns]"
            ]
          },
          "metadata": {
            "tags": []
          },
          "execution_count": 15
        }
      ]
    },
    {
      "cell_type": "markdown",
      "metadata": {
        "id": "Amj6qMO3wMuO"
      },
      "source": [
        "### Splitting Dataset"
      ]
    },
    {
      "cell_type": "code",
      "metadata": {
        "id": "5j4NqfD4wZyD"
      },
      "source": [
        "from sklearn.model_selection import train_test_split "
      ],
      "execution_count": null,
      "outputs": []
    },
    {
      "cell_type": "code",
      "metadata": {
        "id": "ZvG_Blv9wUQi"
      },
      "source": [
        "X_train, X_test, y_train, y_test = train_test_split(\n",
        "    X_std, \n",
        "    y, \n",
        "    test_size=0.2,  \n",
        "    random_state=629) \n",
        "\n",
        "X_train_tree, X_test_tree, y_train_tree, y_test_tree = train_test_split(\n",
        "    X, \n",
        "    y, \n",
        "    test_size=0.2,  \n",
        "    random_state=629) "
      ],
      "execution_count": null,
      "outputs": []
    },
    {
      "cell_type": "markdown",
      "metadata": {
        "id": "iUqP1Meec2WN"
      },
      "source": [
        "# Binary Classifers"
      ]
    },
    {
      "cell_type": "code",
      "metadata": {
        "id": "JvjVyb4rlx-0"
      },
      "source": [
        "from sklearn import metrics"
      ],
      "execution_count": null,
      "outputs": []
    },
    {
      "cell_type": "markdown",
      "metadata": {
        "id": "8YCoAV-EvG_n"
      },
      "source": [
        "## DNN"
      ]
    },
    {
      "cell_type": "code",
      "metadata": {
        "id": "C36EppIix2I0"
      },
      "source": [
        "from tensorflow.keras import regularizers"
      ],
      "execution_count": null,
      "outputs": []
    },
    {
      "cell_type": "code",
      "metadata": {
        "id": "vm4noJlEtNVY"
      },
      "source": [
        "val_acc_threshold = 0.93\n",
        "acc_threshold = 0.95"
      ],
      "execution_count": null,
      "outputs": []
    },
    {
      "cell_type": "code",
      "metadata": {
        "id": "A6KlhrF_tVUn"
      },
      "source": [
        "class myCallback(tf.keras.callbacks.Callback): \n",
        "    def on_epoch_end(self, epoch, logs={}): \n",
        "        if((logs.get('accuracy') > acc_threshold) & (logs.get('val_accuracy') > val_acc_threshold)):    \n",
        "          print(\"Reached  val_accuracy, so stopping training!!\".format(acc_threshold))\n",
        "          self.model.stop_training = True"
      ],
      "execution_count": null,
      "outputs": []
    },
    {
      "cell_type": "code",
      "metadata": {
        "id": "h_R8oizhuU5e"
      },
      "source": [
        "callbacks = myCallback()"
      ],
      "execution_count": null,
      "outputs": []
    },
    {
      "cell_type": "code",
      "metadata": {
        "colab": {
          "base_uri": "https://localhost:8080/"
        },
        "id": "FTNngVU3wL5V",
        "outputId": "686312d4-8609-4702-b115-f1ba19aa856a"
      },
      "source": [
        "model = keras.Sequential([\n",
        "                          keras.layers.Dense(256,activation = \"relu\",kernel_regularizer=regularizers.l2(l2=1e-2)),\n",
        "                          keras.layers.BatchNormalization(),\n",
        "                          keras.layers.Dense(128,activation = \"relu\",kernel_regularizer=regularizers.l2(l2=1e-2)),\n",
        "                          keras.layers.BatchNormalization(),\n",
        "                          keras.layers.Dense(64,activation = \"relu\",kernel_regularizer=regularizers.l2(l2=1e-2)),\n",
        "                          keras.layers.BatchNormalization(),\n",
        "                          keras.layers.Dense(16,activation = \"relu\",kernel_regularizer=regularizers.l2(l2=1e-2)),\n",
        "                          keras.layers.BatchNormalization(),\n",
        "                          keras.layers.Dense(1,activation=\"sigmoid\")\n",
        "                          ])\n",
        "## Callback\n",
        "  \n",
        "\n",
        "adam_opt = keras.optimizers.Adam(lr=0.001)\n",
        "model.compile(optimizer=adam_opt,loss = 'binary_crossentropy', metrics=['accuracy'])\n",
        "\n",
        "\n",
        "history = model.fit(X_train,\n",
        "                    y_train,\n",
        "                    epochs=300,\n",
        "                    verbose=1,\n",
        "                    validation_data = (X_test,y_test),\n",
        "                    callbacks=[callbacks])"
      ],
      "execution_count": null,
      "outputs": [
        {
          "output_type": "stream",
          "text": [
            "Epoch 1/300\n",
            "8/8 [==============================] - 3s 94ms/step - loss: 4.0345 - accuracy: 0.4910 - val_loss: 3.8031 - val_accuracy: 0.8852\n",
            "Epoch 2/300\n",
            "8/8 [==============================] - 0s 11ms/step - loss: 3.5083 - accuracy: 0.8528 - val_loss: 3.7028 - val_accuracy: 0.8852\n",
            "Epoch 3/300\n",
            "8/8 [==============================] - 0s 11ms/step - loss: 3.3951 - accuracy: 0.9165 - val_loss: 3.6095 - val_accuracy: 0.8197\n",
            "Epoch 4/300\n",
            "8/8 [==============================] - 0s 11ms/step - loss: 3.2483 - accuracy: 0.9260 - val_loss: 3.5190 - val_accuracy: 0.8033\n",
            "Epoch 5/300\n",
            "8/8 [==============================] - 0s 10ms/step - loss: 3.1195 - accuracy: 0.9479 - val_loss: 3.4342 - val_accuracy: 0.7869\n",
            "Epoch 6/300\n",
            "8/8 [==============================] - 0s 11ms/step - loss: 2.9889 - accuracy: 0.9787 - val_loss: 3.3443 - val_accuracy: 0.7541\n",
            "Epoch 7/300\n",
            "8/8 [==============================] - 0s 11ms/step - loss: 2.8597 - accuracy: 0.9919 - val_loss: 3.2520 - val_accuracy: 0.7377\n",
            "Epoch 8/300\n",
            "8/8 [==============================] - 0s 12ms/step - loss: 2.7658 - accuracy: 0.9705 - val_loss: 3.1566 - val_accuracy: 0.6885\n",
            "Epoch 9/300\n",
            "8/8 [==============================] - 0s 11ms/step - loss: 2.6435 - accuracy: 0.9830 - val_loss: 3.0568 - val_accuracy: 0.6230\n",
            "Epoch 10/300\n",
            "8/8 [==============================] - 0s 11ms/step - loss: 2.5340 - accuracy: 0.9906 - val_loss: 2.9621 - val_accuracy: 0.5902\n",
            "Epoch 11/300\n",
            "8/8 [==============================] - 0s 11ms/step - loss: 2.4134 - accuracy: 0.9882 - val_loss: 2.8695 - val_accuracy: 0.5738\n",
            "Epoch 12/300\n",
            "8/8 [==============================] - 0s 11ms/step - loss: 2.3000 - accuracy: 0.9864 - val_loss: 2.7754 - val_accuracy: 0.5410\n",
            "Epoch 13/300\n",
            "8/8 [==============================] - 0s 11ms/step - loss: 2.2202 - accuracy: 0.9894 - val_loss: 2.6769 - val_accuracy: 0.5574\n",
            "Epoch 14/300\n",
            "8/8 [==============================] - 0s 11ms/step - loss: 2.1020 - accuracy: 1.0000 - val_loss: 2.5895 - val_accuracy: 0.5574\n",
            "Epoch 15/300\n",
            "8/8 [==============================] - 0s 12ms/step - loss: 2.0002 - accuracy: 0.9953 - val_loss: 2.5057 - val_accuracy: 0.5574\n",
            "Epoch 16/300\n",
            "8/8 [==============================] - 0s 11ms/step - loss: 1.9380 - accuracy: 0.9881 - val_loss: 2.4340 - val_accuracy: 0.5410\n",
            "Epoch 17/300\n",
            "8/8 [==============================] - 0s 10ms/step - loss: 1.8244 - accuracy: 0.9929 - val_loss: 2.3545 - val_accuracy: 0.5410\n",
            "Epoch 18/300\n",
            "8/8 [==============================] - 0s 11ms/step - loss: 1.7291 - accuracy: 1.0000 - val_loss: 2.2748 - val_accuracy: 0.5410\n",
            "Epoch 19/300\n",
            "8/8 [==============================] - 0s 10ms/step - loss: 1.6522 - accuracy: 0.9953 - val_loss: 2.2112 - val_accuracy: 0.5410\n",
            "Epoch 20/300\n",
            "8/8 [==============================] - 0s 10ms/step - loss: 1.5625 - accuracy: 1.0000 - val_loss: 2.1354 - val_accuracy: 0.5410\n",
            "Epoch 21/300\n",
            "8/8 [==============================] - 0s 11ms/step - loss: 1.4995 - accuracy: 0.9928 - val_loss: 2.0821 - val_accuracy: 0.5410\n",
            "Epoch 22/300\n",
            "8/8 [==============================] - 0s 11ms/step - loss: 1.4200 - accuracy: 0.9986 - val_loss: 2.0333 - val_accuracy: 0.5410\n",
            "Epoch 23/300\n",
            "8/8 [==============================] - 0s 13ms/step - loss: 1.3553 - accuracy: 0.9986 - val_loss: 1.9387 - val_accuracy: 0.5410\n",
            "Epoch 24/300\n",
            "8/8 [==============================] - 0s 11ms/step - loss: 1.3111 - accuracy: 0.9877 - val_loss: 1.8801 - val_accuracy: 0.5410\n",
            "Epoch 25/300\n",
            "8/8 [==============================] - 0s 11ms/step - loss: 1.3188 - accuracy: 0.9642 - val_loss: 1.8406 - val_accuracy: 0.5410\n",
            "Epoch 26/300\n",
            "8/8 [==============================] - 0s 11ms/step - loss: 1.2312 - accuracy: 0.9686 - val_loss: 1.7057 - val_accuracy: 0.6066\n",
            "Epoch 27/300\n",
            "8/8 [==============================] - 0s 11ms/step - loss: 1.1763 - accuracy: 0.9825 - val_loss: 1.6488 - val_accuracy: 0.6066\n",
            "Epoch 28/300\n",
            "8/8 [==============================] - 0s 11ms/step - loss: 1.1047 - accuracy: 0.9892 - val_loss: 1.6014 - val_accuracy: 0.6393\n",
            "Epoch 29/300\n",
            "8/8 [==============================] - 0s 11ms/step - loss: 1.0644 - accuracy: 0.9854 - val_loss: 1.6026 - val_accuracy: 0.5738\n",
            "Epoch 30/300\n",
            "8/8 [==============================] - 0s 11ms/step - loss: 1.0035 - accuracy: 1.0000 - val_loss: 1.5714 - val_accuracy: 0.5574\n",
            "Epoch 31/300\n",
            "8/8 [==============================] - 0s 11ms/step - loss: 0.9729 - accuracy: 0.9986 - val_loss: 1.5160 - val_accuracy: 0.6066\n",
            "Epoch 32/300\n",
            "8/8 [==============================] - 0s 11ms/step - loss: 0.9192 - accuracy: 1.0000 - val_loss: 1.4791 - val_accuracy: 0.5738\n",
            "Epoch 33/300\n",
            "8/8 [==============================] - 0s 11ms/step - loss: 0.8871 - accuracy: 0.9980 - val_loss: 1.4548 - val_accuracy: 0.5574\n",
            "Epoch 34/300\n",
            "8/8 [==============================] - 0s 11ms/step - loss: 0.8443 - accuracy: 0.9991 - val_loss: 1.4074 - val_accuracy: 0.6230\n",
            "Epoch 35/300\n",
            "8/8 [==============================] - 0s 11ms/step - loss: 0.8143 - accuracy: 0.9986 - val_loss: 1.3469 - val_accuracy: 0.6066\n",
            "Epoch 36/300\n",
            "8/8 [==============================] - 0s 11ms/step - loss: 0.7807 - accuracy: 0.9955 - val_loss: 1.3315 - val_accuracy: 0.6230\n",
            "Epoch 37/300\n",
            "8/8 [==============================] - 0s 11ms/step - loss: 0.7880 - accuracy: 0.9828 - val_loss: 1.2613 - val_accuracy: 0.7213\n",
            "Epoch 38/300\n",
            "8/8 [==============================] - 0s 11ms/step - loss: 0.7389 - accuracy: 0.9869 - val_loss: 1.2887 - val_accuracy: 0.6885\n",
            "Epoch 39/300\n",
            "8/8 [==============================] - 0s 11ms/step - loss: 0.7963 - accuracy: 0.9431 - val_loss: 1.2452 - val_accuracy: 0.6721\n",
            "Epoch 40/300\n",
            "8/8 [==============================] - 0s 11ms/step - loss: 0.7459 - accuracy: 0.9676 - val_loss: 1.1101 - val_accuracy: 0.7869\n",
            "Epoch 41/300\n",
            "8/8 [==============================] - 0s 11ms/step - loss: 0.7242 - accuracy: 0.9835 - val_loss: 1.1158 - val_accuracy: 0.7541\n",
            "Epoch 42/300\n",
            "8/8 [==============================] - 0s 11ms/step - loss: 0.7154 - accuracy: 0.9810 - val_loss: 1.1603 - val_accuracy: 0.7049\n",
            "Epoch 43/300\n",
            "8/8 [==============================] - 0s 11ms/step - loss: 0.6998 - accuracy: 0.9791 - val_loss: 1.0643 - val_accuracy: 0.8197\n",
            "Epoch 44/300\n",
            "8/8 [==============================] - 0s 11ms/step - loss: 0.6546 - accuracy: 0.9739 - val_loss: 1.0548 - val_accuracy: 0.8197\n",
            "Epoch 45/300\n",
            "8/8 [==============================] - 0s 11ms/step - loss: 0.6093 - accuracy: 0.9943 - val_loss: 1.1045 - val_accuracy: 0.7705\n",
            "Epoch 46/300\n",
            "8/8 [==============================] - 0s 11ms/step - loss: 0.6079 - accuracy: 0.9887 - val_loss: 1.1123 - val_accuracy: 0.7869\n",
            "Epoch 47/300\n",
            "8/8 [==============================] - 0s 11ms/step - loss: 0.5745 - accuracy: 0.9991 - val_loss: 1.1052 - val_accuracy: 0.7377\n",
            "Epoch 48/300\n",
            "8/8 [==============================] - 0s 11ms/step - loss: 0.5602 - accuracy: 0.9937 - val_loss: 1.0320 - val_accuracy: 0.7869\n",
            "Epoch 49/300\n",
            "8/8 [==============================] - 0s 11ms/step - loss: 0.5798 - accuracy: 0.9837 - val_loss: 0.9905 - val_accuracy: 0.7869\n",
            "Epoch 50/300\n",
            "8/8 [==============================] - 0s 11ms/step - loss: 0.5356 - accuracy: 0.9977 - val_loss: 0.9708 - val_accuracy: 0.7541\n",
            "Epoch 51/300\n",
            "8/8 [==============================] - 0s 11ms/step - loss: 0.5158 - accuracy: 0.9936 - val_loss: 0.9788 - val_accuracy: 0.8033\n",
            "Epoch 52/300\n",
            "8/8 [==============================] - 0s 11ms/step - loss: 0.5152 - accuracy: 0.9901 - val_loss: 0.9834 - val_accuracy: 0.7705\n",
            "Epoch 53/300\n",
            "8/8 [==============================] - 0s 11ms/step - loss: 0.5057 - accuracy: 0.9891 - val_loss: 0.9765 - val_accuracy: 0.8033\n",
            "Epoch 54/300\n",
            "8/8 [==============================] - 0s 11ms/step - loss: 0.5552 - accuracy: 0.9684 - val_loss: 0.9810 - val_accuracy: 0.8033\n",
            "Epoch 55/300\n",
            "8/8 [==============================] - 0s 11ms/step - loss: 0.4859 - accuracy: 0.9871 - val_loss: 1.0353 - val_accuracy: 0.7213\n",
            "Epoch 56/300\n",
            "8/8 [==============================] - 0s 10ms/step - loss: 0.4640 - accuracy: 0.9936 - val_loss: 1.0087 - val_accuracy: 0.6885\n",
            "Epoch 57/300\n",
            "8/8 [==============================] - 0s 10ms/step - loss: 0.4632 - accuracy: 0.9862 - val_loss: 0.9308 - val_accuracy: 0.7377\n",
            "Epoch 58/300\n",
            "8/8 [==============================] - 0s 11ms/step - loss: 0.4880 - accuracy: 0.9759 - val_loss: 0.9943 - val_accuracy: 0.7541\n",
            "Epoch 59/300\n",
            "8/8 [==============================] - 0s 11ms/step - loss: 0.4262 - accuracy: 1.0000 - val_loss: 0.9545 - val_accuracy: 0.7705\n",
            "Epoch 60/300\n",
            "8/8 [==============================] - 0s 11ms/step - loss: 0.4205 - accuracy: 0.9946 - val_loss: 0.9462 - val_accuracy: 0.8033\n",
            "Epoch 61/300\n",
            "8/8 [==============================] - 0s 11ms/step - loss: 0.4142 - accuracy: 0.9882 - val_loss: 0.9325 - val_accuracy: 0.7705\n",
            "Epoch 62/300\n",
            "8/8 [==============================] - 0s 10ms/step - loss: 0.3869 - accuracy: 0.9953 - val_loss: 0.9095 - val_accuracy: 0.7541\n",
            "Epoch 63/300\n",
            "8/8 [==============================] - 0s 11ms/step - loss: 0.4979 - accuracy: 0.9522 - val_loss: 0.9264 - val_accuracy: 0.8197\n",
            "Epoch 64/300\n",
            "8/8 [==============================] - 0s 11ms/step - loss: 0.3999 - accuracy: 0.9815 - val_loss: 0.9716 - val_accuracy: 0.7869\n",
            "Epoch 65/300\n",
            "8/8 [==============================] - 0s 11ms/step - loss: 0.3807 - accuracy: 0.9870 - val_loss: 1.0689 - val_accuracy: 0.7377\n",
            "Epoch 66/300\n",
            "8/8 [==============================] - 0s 11ms/step - loss: 0.3675 - accuracy: 0.9958 - val_loss: 1.0906 - val_accuracy: 0.7049\n",
            "Epoch 67/300\n",
            "8/8 [==============================] - 0s 11ms/step - loss: 0.3936 - accuracy: 0.9723 - val_loss: 1.0484 - val_accuracy: 0.7377\n",
            "Epoch 68/300\n",
            "8/8 [==============================] - 0s 11ms/step - loss: 0.3643 - accuracy: 0.9884 - val_loss: 1.0277 - val_accuracy: 0.7869\n",
            "Epoch 69/300\n",
            "8/8 [==============================] - 0s 11ms/step - loss: 0.3693 - accuracy: 0.9858 - val_loss: 0.9720 - val_accuracy: 0.7541\n",
            "Epoch 70/300\n",
            "8/8 [==============================] - 0s 11ms/step - loss: 0.3500 - accuracy: 0.9955 - val_loss: 0.9918 - val_accuracy: 0.7705\n",
            "Epoch 71/300\n",
            "8/8 [==============================] - 0s 11ms/step - loss: 0.3334 - accuracy: 0.9991 - val_loss: 0.9403 - val_accuracy: 0.7377\n",
            "Epoch 72/300\n",
            "8/8 [==============================] - 0s 11ms/step - loss: 0.3418 - accuracy: 0.9803 - val_loss: 0.8601 - val_accuracy: 0.7869\n",
            "Epoch 73/300\n",
            "8/8 [==============================] - 0s 10ms/step - loss: 0.3214 - accuracy: 0.9967 - val_loss: 0.8676 - val_accuracy: 0.8197\n",
            "Epoch 74/300\n",
            "8/8 [==============================] - 0s 11ms/step - loss: 0.3505 - accuracy: 0.9879 - val_loss: 1.0741 - val_accuracy: 0.7869\n",
            "Epoch 75/300\n",
            "8/8 [==============================] - 0s 11ms/step - loss: 0.3338 - accuracy: 0.9946 - val_loss: 1.0944 - val_accuracy: 0.8033\n",
            "Epoch 76/300\n",
            "8/8 [==============================] - 0s 10ms/step - loss: 0.3167 - accuracy: 0.9936 - val_loss: 1.0689 - val_accuracy: 0.7541\n",
            "Epoch 77/300\n",
            "8/8 [==============================] - 0s 11ms/step - loss: 0.3014 - accuracy: 0.9939 - val_loss: 1.0557 - val_accuracy: 0.7541\n",
            "Epoch 78/300\n",
            "8/8 [==============================] - 0s 11ms/step - loss: 0.3010 - accuracy: 0.9958 - val_loss: 1.0264 - val_accuracy: 0.7541\n",
            "Epoch 79/300\n",
            "8/8 [==============================] - 0s 11ms/step - loss: 0.3149 - accuracy: 0.9866 - val_loss: 1.0231 - val_accuracy: 0.7869\n",
            "Epoch 80/300\n",
            "8/8 [==============================] - 0s 11ms/step - loss: 0.2831 - accuracy: 0.9973 - val_loss: 1.0726 - val_accuracy: 0.7705\n",
            "Epoch 81/300\n",
            "8/8 [==============================] - 0s 11ms/step - loss: 0.2849 - accuracy: 0.9953 - val_loss: 0.9648 - val_accuracy: 0.7705\n",
            "Epoch 82/300\n",
            "8/8 [==============================] - 0s 11ms/step - loss: 0.2918 - accuracy: 0.9931 - val_loss: 0.8213 - val_accuracy: 0.8361\n",
            "Epoch 83/300\n",
            "8/8 [==============================] - 0s 11ms/step - loss: 0.2940 - accuracy: 0.9933 - val_loss: 0.8623 - val_accuracy: 0.8033\n",
            "Epoch 84/300\n",
            "8/8 [==============================] - 0s 11ms/step - loss: 0.2726 - accuracy: 0.9932 - val_loss: 0.9317 - val_accuracy: 0.7705\n",
            "Epoch 85/300\n",
            "8/8 [==============================] - 0s 11ms/step - loss: 0.3001 - accuracy: 0.9718 - val_loss: 1.0930 - val_accuracy: 0.7541\n",
            "Epoch 86/300\n",
            "8/8 [==============================] - 0s 11ms/step - loss: 0.2846 - accuracy: 0.9856 - val_loss: 1.1655 - val_accuracy: 0.7705\n",
            "Epoch 87/300\n",
            "8/8 [==============================] - 0s 11ms/step - loss: 0.2782 - accuracy: 0.9892 - val_loss: 1.0937 - val_accuracy: 0.7705\n",
            "Epoch 88/300\n",
            "8/8 [==============================] - 0s 11ms/step - loss: 0.2664 - accuracy: 0.9913 - val_loss: 0.8114 - val_accuracy: 0.8525\n",
            "Epoch 89/300\n",
            "8/8 [==============================] - 0s 10ms/step - loss: 0.2888 - accuracy: 0.9875 - val_loss: 0.8845 - val_accuracy: 0.8033\n",
            "Epoch 90/300\n",
            "8/8 [==============================] - 0s 11ms/step - loss: 0.2644 - accuracy: 0.9960 - val_loss: 1.0070 - val_accuracy: 0.7541\n",
            "Epoch 91/300\n",
            "8/8 [==============================] - 0s 11ms/step - loss: 0.2536 - accuracy: 0.9946 - val_loss: 0.9982 - val_accuracy: 0.7705\n",
            "Epoch 92/300\n",
            "8/8 [==============================] - 0s 11ms/step - loss: 0.2574 - accuracy: 0.9871 - val_loss: 0.8615 - val_accuracy: 0.7869\n",
            "Epoch 93/300\n",
            "8/8 [==============================] - 0s 11ms/step - loss: 0.2537 - accuracy: 0.9959 - val_loss: 1.0294 - val_accuracy: 0.7377\n",
            "Epoch 94/300\n",
            "8/8 [==============================] - 0s 13ms/step - loss: 0.2728 - accuracy: 0.9807 - val_loss: 1.1760 - val_accuracy: 0.7377\n",
            "Epoch 95/300\n",
            "8/8 [==============================] - 0s 12ms/step - loss: 0.2606 - accuracy: 0.9926 - val_loss: 1.0814 - val_accuracy: 0.7869\n",
            "Epoch 96/300\n",
            "8/8 [==============================] - 0s 11ms/step - loss: 0.2715 - accuracy: 0.9771 - val_loss: 1.1129 - val_accuracy: 0.7541\n",
            "Epoch 97/300\n",
            "8/8 [==============================] - 0s 31ms/step - loss: 0.2835 - accuracy: 0.9763 - val_loss: 1.1873 - val_accuracy: 0.7541\n",
            "Epoch 98/300\n",
            "8/8 [==============================] - 0s 11ms/step - loss: 0.2278 - accuracy: 0.9971 - val_loss: 1.1941 - val_accuracy: 0.7377\n",
            "Epoch 99/300\n",
            "8/8 [==============================] - 0s 11ms/step - loss: 0.2198 - accuracy: 1.0000 - val_loss: 1.1257 - val_accuracy: 0.7705\n",
            "Epoch 100/300\n",
            "8/8 [==============================] - 0s 11ms/step - loss: 0.2473 - accuracy: 0.9885 - val_loss: 1.0517 - val_accuracy: 0.7705\n",
            "Epoch 101/300\n",
            "8/8 [==============================] - 0s 11ms/step - loss: 0.2506 - accuracy: 0.9792 - val_loss: 0.9856 - val_accuracy: 0.7869\n",
            "Epoch 102/300\n",
            "8/8 [==============================] - 0s 11ms/step - loss: 0.2387 - accuracy: 0.9836 - val_loss: 0.9371 - val_accuracy: 0.7869\n",
            "Epoch 103/300\n",
            "8/8 [==============================] - 0s 11ms/step - loss: 0.2369 - accuracy: 0.9854 - val_loss: 1.2010 - val_accuracy: 0.7377\n",
            "Epoch 104/300\n",
            "8/8 [==============================] - 0s 11ms/step - loss: 0.2179 - accuracy: 0.9958 - val_loss: 1.2228 - val_accuracy: 0.7541\n",
            "Epoch 105/300\n",
            "8/8 [==============================] - 0s 11ms/step - loss: 0.2144 - accuracy: 0.9887 - val_loss: 1.1619 - val_accuracy: 0.7705\n",
            "Epoch 106/300\n",
            "8/8 [==============================] - 0s 11ms/step - loss: 0.2483 - accuracy: 0.9741 - val_loss: 1.1757 - val_accuracy: 0.7869\n",
            "Epoch 107/300\n",
            "8/8 [==============================] - 0s 11ms/step - loss: 0.2761 - accuracy: 0.9703 - val_loss: 1.1504 - val_accuracy: 0.7541\n",
            "Epoch 108/300\n",
            "8/8 [==============================] - 0s 11ms/step - loss: 0.2036 - accuracy: 0.9964 - val_loss: 1.1161 - val_accuracy: 0.7705\n",
            "Epoch 109/300\n",
            "8/8 [==============================] - 0s 11ms/step - loss: 0.1961 - accuracy: 1.0000 - val_loss: 1.2690 - val_accuracy: 0.7049\n",
            "Epoch 110/300\n",
            "8/8 [==============================] - 0s 11ms/step - loss: 0.2018 - accuracy: 0.9944 - val_loss: 1.2450 - val_accuracy: 0.7377\n",
            "Epoch 111/300\n",
            "8/8 [==============================] - 0s 11ms/step - loss: 0.1938 - accuracy: 0.9964 - val_loss: 1.1027 - val_accuracy: 0.8033\n",
            "Epoch 112/300\n",
            "8/8 [==============================] - 0s 11ms/step - loss: 0.2000 - accuracy: 0.9925 - val_loss: 1.0843 - val_accuracy: 0.8033\n",
            "Epoch 113/300\n",
            "8/8 [==============================] - 0s 12ms/step - loss: 0.1846 - accuracy: 0.9982 - val_loss: 1.1709 - val_accuracy: 0.7541\n",
            "Epoch 114/300\n",
            "8/8 [==============================] - 0s 11ms/step - loss: 0.1984 - accuracy: 0.9911 - val_loss: 1.2844 - val_accuracy: 0.7705\n",
            "Epoch 115/300\n",
            "8/8 [==============================] - 0s 11ms/step - loss: 0.1968 - accuracy: 0.9944 - val_loss: 1.2739 - val_accuracy: 0.7541\n",
            "Epoch 116/300\n",
            "8/8 [==============================] - 0s 11ms/step - loss: 0.2051 - accuracy: 0.9821 - val_loss: 1.0564 - val_accuracy: 0.8033\n",
            "Epoch 117/300\n",
            "8/8 [==============================] - 0s 10ms/step - loss: 0.2123 - accuracy: 0.9742 - val_loss: 1.1257 - val_accuracy: 0.7705\n",
            "Epoch 118/300\n",
            "8/8 [==============================] - 0s 11ms/step - loss: 0.2114 - accuracy: 0.9902 - val_loss: 1.3082 - val_accuracy: 0.7869\n",
            "Epoch 119/300\n",
            "8/8 [==============================] - 0s 11ms/step - loss: 0.2107 - accuracy: 0.9795 - val_loss: 1.5636 - val_accuracy: 0.7377\n",
            "Epoch 120/300\n",
            "8/8 [==============================] - 0s 12ms/step - loss: 0.2219 - accuracy: 0.9787 - val_loss: 1.3723 - val_accuracy: 0.7869\n",
            "Epoch 121/300\n",
            "8/8 [==============================] - 0s 11ms/step - loss: 0.2111 - accuracy: 0.9871 - val_loss: 1.4459 - val_accuracy: 0.7705\n",
            "Epoch 122/300\n",
            "8/8 [==============================] - 0s 11ms/step - loss: 0.2268 - accuracy: 0.9857 - val_loss: 1.6296 - val_accuracy: 0.7049\n",
            "Epoch 123/300\n",
            "8/8 [==============================] - 0s 10ms/step - loss: 0.2869 - accuracy: 0.9590 - val_loss: 1.4247 - val_accuracy: 0.7377\n",
            "Epoch 124/300\n",
            "8/8 [==============================] - 0s 11ms/step - loss: 0.2046 - accuracy: 0.9900 - val_loss: 1.2541 - val_accuracy: 0.7705\n",
            "Epoch 125/300\n",
            "8/8 [==============================] - 0s 11ms/step - loss: 0.2002 - accuracy: 0.9986 - val_loss: 1.1468 - val_accuracy: 0.8197\n",
            "Epoch 126/300\n",
            "8/8 [==============================] - 0s 11ms/step - loss: 0.2200 - accuracy: 0.9735 - val_loss: 1.1111 - val_accuracy: 0.7705\n",
            "Epoch 127/300\n",
            "8/8 [==============================] - 0s 11ms/step - loss: 0.1911 - accuracy: 0.9921 - val_loss: 1.1090 - val_accuracy: 0.7377\n",
            "Epoch 128/300\n",
            "8/8 [==============================] - 0s 10ms/step - loss: 0.1791 - accuracy: 1.0000 - val_loss: 1.0546 - val_accuracy: 0.7705\n",
            "Epoch 129/300\n",
            "8/8 [==============================] - 0s 11ms/step - loss: 0.1695 - accuracy: 1.0000 - val_loss: 1.0169 - val_accuracy: 0.7869\n",
            "Epoch 130/300\n",
            "8/8 [==============================] - 0s 11ms/step - loss: 0.1665 - accuracy: 1.0000 - val_loss: 0.9981 - val_accuracy: 0.7869\n",
            "Epoch 131/300\n",
            "8/8 [==============================] - 0s 11ms/step - loss: 0.1604 - accuracy: 1.0000 - val_loss: 0.9635 - val_accuracy: 0.8033\n",
            "Epoch 132/300\n",
            "8/8 [==============================] - 0s 11ms/step - loss: 0.1728 - accuracy: 0.9980 - val_loss: 0.9865 - val_accuracy: 0.7869\n",
            "Epoch 133/300\n",
            "8/8 [==============================] - 0s 11ms/step - loss: 0.1564 - accuracy: 0.9980 - val_loss: 1.0367 - val_accuracy: 0.7377\n",
            "Epoch 134/300\n",
            "8/8 [==============================] - 0s 11ms/step - loss: 0.1566 - accuracy: 0.9972 - val_loss: 1.0998 - val_accuracy: 0.7213\n",
            "Epoch 135/300\n",
            "8/8 [==============================] - 0s 11ms/step - loss: 0.1791 - accuracy: 0.9886 - val_loss: 1.0986 - val_accuracy: 0.7213\n",
            "Epoch 136/300\n",
            "8/8 [==============================] - 0s 11ms/step - loss: 0.1521 - accuracy: 0.9945 - val_loss: 0.9476 - val_accuracy: 0.8033\n",
            "Epoch 137/300\n",
            "8/8 [==============================] - 0s 11ms/step - loss: 0.1897 - accuracy: 0.9829 - val_loss: 1.0834 - val_accuracy: 0.7869\n",
            "Epoch 138/300\n",
            "8/8 [==============================] - 0s 12ms/step - loss: 0.2026 - accuracy: 0.9876 - val_loss: 1.1082 - val_accuracy: 0.7705\n",
            "Epoch 139/300\n",
            "8/8 [==============================] - 0s 11ms/step - loss: 0.1975 - accuracy: 0.9890 - val_loss: 0.8961 - val_accuracy: 0.8197\n",
            "Epoch 140/300\n",
            "8/8 [==============================] - 0s 11ms/step - loss: 0.2220 - accuracy: 0.9686 - val_loss: 1.1520 - val_accuracy: 0.7213\n",
            "Epoch 141/300\n",
            "8/8 [==============================] - 0s 12ms/step - loss: 0.2201 - accuracy: 0.9783 - val_loss: 1.3369 - val_accuracy: 0.7213\n",
            "Epoch 142/300\n",
            "8/8 [==============================] - 0s 11ms/step - loss: 0.2029 - accuracy: 0.9820 - val_loss: 1.3880 - val_accuracy: 0.7541\n",
            "Epoch 143/300\n",
            "8/8 [==============================] - 0s 11ms/step - loss: 0.2113 - accuracy: 0.9795 - val_loss: 1.3270 - val_accuracy: 0.7377\n",
            "Epoch 144/300\n",
            "8/8 [==============================] - 0s 11ms/step - loss: 0.2256 - accuracy: 0.9752 - val_loss: 1.2122 - val_accuracy: 0.8033\n",
            "Epoch 145/300\n",
            "8/8 [==============================] - 0s 11ms/step - loss: 0.2242 - accuracy: 0.9624 - val_loss: 1.1996 - val_accuracy: 0.7869\n",
            "Epoch 146/300\n",
            "8/8 [==============================] - 0s 13ms/step - loss: 0.1827 - accuracy: 0.9991 - val_loss: 1.1742 - val_accuracy: 0.8033\n",
            "Epoch 147/300\n",
            "8/8 [==============================] - 0s 12ms/step - loss: 0.1874 - accuracy: 0.9977 - val_loss: 1.1281 - val_accuracy: 0.7705\n",
            "Epoch 148/300\n",
            "8/8 [==============================] - 0s 11ms/step - loss: 0.2270 - accuracy: 0.9752 - val_loss: 1.0304 - val_accuracy: 0.7869\n",
            "Epoch 149/300\n",
            "8/8 [==============================] - 0s 11ms/step - loss: 0.1788 - accuracy: 0.9964 - val_loss: 1.0050 - val_accuracy: 0.8033\n",
            "Epoch 150/300\n",
            "8/8 [==============================] - 0s 11ms/step - loss: 0.1724 - accuracy: 0.9957 - val_loss: 1.1799 - val_accuracy: 0.7869\n",
            "Epoch 151/300\n",
            "8/8 [==============================] - 0s 11ms/step - loss: 0.2034 - accuracy: 0.9887 - val_loss: 1.3523 - val_accuracy: 0.7541\n",
            "Epoch 152/300\n",
            "8/8 [==============================] - 0s 11ms/step - loss: 0.2195 - accuracy: 0.9824 - val_loss: 1.1962 - val_accuracy: 0.7541\n",
            "Epoch 153/300\n",
            "8/8 [==============================] - 0s 11ms/step - loss: 0.1649 - accuracy: 1.0000 - val_loss: 1.0966 - val_accuracy: 0.7705\n",
            "Epoch 154/300\n",
            "8/8 [==============================] - 0s 12ms/step - loss: 0.1809 - accuracy: 0.9944 - val_loss: 1.2356 - val_accuracy: 0.7541\n",
            "Epoch 155/300\n",
            "8/8 [==============================] - 0s 11ms/step - loss: 0.2248 - accuracy: 0.9681 - val_loss: 0.9852 - val_accuracy: 0.8197\n",
            "Epoch 156/300\n",
            "8/8 [==============================] - 0s 11ms/step - loss: 0.1646 - accuracy: 0.9950 - val_loss: 1.0731 - val_accuracy: 0.7869\n",
            "Epoch 157/300\n",
            "8/8 [==============================] - 0s 11ms/step - loss: 0.2001 - accuracy: 0.9789 - val_loss: 1.1412 - val_accuracy: 0.7869\n",
            "Epoch 158/300\n",
            "8/8 [==============================] - 0s 11ms/step - loss: 0.2044 - accuracy: 0.9901 - val_loss: 1.2653 - val_accuracy: 0.7541\n",
            "Epoch 159/300\n",
            "8/8 [==============================] - 0s 11ms/step - loss: 0.1627 - accuracy: 0.9991 - val_loss: 1.2616 - val_accuracy: 0.7541\n",
            "Epoch 160/300\n",
            "8/8 [==============================] - 0s 11ms/step - loss: 0.1564 - accuracy: 1.0000 - val_loss: 1.2520 - val_accuracy: 0.7705\n",
            "Epoch 161/300\n",
            "8/8 [==============================] - 0s 11ms/step - loss: 0.1615 - accuracy: 0.9980 - val_loss: 1.1785 - val_accuracy: 0.7869\n",
            "Epoch 162/300\n",
            "8/8 [==============================] - 0s 11ms/step - loss: 0.1568 - accuracy: 0.9936 - val_loss: 1.1601 - val_accuracy: 0.7869\n",
            "Epoch 163/300\n",
            "8/8 [==============================] - 0s 11ms/step - loss: 0.1705 - accuracy: 0.9964 - val_loss: 1.2777 - val_accuracy: 0.7377\n",
            "Epoch 164/300\n",
            "8/8 [==============================] - 0s 11ms/step - loss: 0.1493 - accuracy: 0.9986 - val_loss: 1.3933 - val_accuracy: 0.7377\n",
            "Epoch 165/300\n",
            "8/8 [==============================] - 0s 11ms/step - loss: 0.1591 - accuracy: 0.9973 - val_loss: 1.2364 - val_accuracy: 0.7377\n",
            "Epoch 166/300\n",
            "8/8 [==============================] - 0s 12ms/step - loss: 0.1473 - accuracy: 0.9966 - val_loss: 1.0707 - val_accuracy: 0.7869\n",
            "Epoch 167/300\n",
            "8/8 [==============================] - 0s 11ms/step - loss: 0.1567 - accuracy: 0.9880 - val_loss: 1.0686 - val_accuracy: 0.7705\n",
            "Epoch 168/300\n",
            "8/8 [==============================] - 0s 11ms/step - loss: 0.1448 - accuracy: 1.0000 - val_loss: 1.1147 - val_accuracy: 0.7541\n",
            "Epoch 169/300\n",
            "8/8 [==============================] - 0s 11ms/step - loss: 0.1743 - accuracy: 0.9837 - val_loss: 1.0460 - val_accuracy: 0.7705\n",
            "Epoch 170/300\n",
            "8/8 [==============================] - 0s 11ms/step - loss: 0.1795 - accuracy: 0.9868 - val_loss: 1.2334 - val_accuracy: 0.7377\n",
            "Epoch 171/300\n",
            "8/8 [==============================] - 0s 12ms/step - loss: 0.1428 - accuracy: 0.9936 - val_loss: 1.2524 - val_accuracy: 0.7377\n",
            "Epoch 172/300\n",
            "8/8 [==============================] - 0s 11ms/step - loss: 0.1507 - accuracy: 0.9935 - val_loss: 1.2682 - val_accuracy: 0.7541\n",
            "Epoch 173/300\n",
            "8/8 [==============================] - 0s 12ms/step - loss: 0.1574 - accuracy: 0.9926 - val_loss: 1.1177 - val_accuracy: 0.7869\n",
            "Epoch 174/300\n",
            "8/8 [==============================] - 0s 12ms/step - loss: 0.1888 - accuracy: 0.9838 - val_loss: 1.1306 - val_accuracy: 0.7869\n",
            "Epoch 175/300\n",
            "8/8 [==============================] - 0s 11ms/step - loss: 0.1670 - accuracy: 0.9840 - val_loss: 1.1524 - val_accuracy: 0.7869\n",
            "Epoch 176/300\n",
            "8/8 [==============================] - 0s 12ms/step - loss: 0.1512 - accuracy: 0.9953 - val_loss: 1.0730 - val_accuracy: 0.7705\n",
            "Epoch 177/300\n",
            "8/8 [==============================] - 0s 11ms/step - loss: 0.1615 - accuracy: 0.9953 - val_loss: 1.0019 - val_accuracy: 0.7541\n",
            "Epoch 178/300\n",
            "8/8 [==============================] - 0s 12ms/step - loss: 0.1603 - accuracy: 0.9936 - val_loss: 0.9608 - val_accuracy: 0.7705\n",
            "Epoch 179/300\n",
            "8/8 [==============================] - 0s 11ms/step - loss: 0.1396 - accuracy: 0.9986 - val_loss: 1.0157 - val_accuracy: 0.7541\n",
            "Epoch 180/300\n",
            "8/8 [==============================] - 0s 12ms/step - loss: 0.1608 - accuracy: 0.9862 - val_loss: 1.0707 - val_accuracy: 0.7541\n",
            "Epoch 181/300\n",
            "8/8 [==============================] - 0s 11ms/step - loss: 0.1392 - accuracy: 0.9991 - val_loss: 1.0706 - val_accuracy: 0.7541\n",
            "Epoch 182/300\n",
            "8/8 [==============================] - 0s 12ms/step - loss: 0.1350 - accuracy: 0.9973 - val_loss: 1.1658 - val_accuracy: 0.7869\n",
            "Epoch 183/300\n",
            "8/8 [==============================] - 0s 11ms/step - loss: 0.1780 - accuracy: 0.9936 - val_loss: 1.0990 - val_accuracy: 0.7705\n",
            "Epoch 184/300\n",
            "8/8 [==============================] - 0s 11ms/step - loss: 0.1344 - accuracy: 0.9973 - val_loss: 1.0104 - val_accuracy: 0.8033\n",
            "Epoch 185/300\n",
            "8/8 [==============================] - 0s 11ms/step - loss: 0.1290 - accuracy: 1.0000 - val_loss: 1.1046 - val_accuracy: 0.7377\n",
            "Epoch 186/300\n",
            "8/8 [==============================] - 0s 11ms/step - loss: 0.1753 - accuracy: 0.9746 - val_loss: 1.2155 - val_accuracy: 0.7705\n",
            "Epoch 187/300\n",
            "8/8 [==============================] - 0s 11ms/step - loss: 0.1506 - accuracy: 0.9908 - val_loss: 1.3386 - val_accuracy: 0.7377\n",
            "Epoch 188/300\n",
            "8/8 [==============================] - 0s 11ms/step - loss: 0.1678 - accuracy: 0.9845 - val_loss: 1.3376 - val_accuracy: 0.7377\n",
            "Epoch 189/300\n",
            "8/8 [==============================] - 0s 11ms/step - loss: 0.1581 - accuracy: 0.9874 - val_loss: 1.3698 - val_accuracy: 0.7869\n",
            "Epoch 190/300\n",
            "8/8 [==============================] - 0s 12ms/step - loss: 0.2585 - accuracy: 0.9640 - val_loss: 1.1270 - val_accuracy: 0.7705\n",
            "Epoch 191/300\n",
            "8/8 [==============================] - 0s 11ms/step - loss: 0.1463 - accuracy: 0.9972 - val_loss: 1.0456 - val_accuracy: 0.8033\n",
            "Epoch 192/300\n",
            "8/8 [==============================] - 0s 11ms/step - loss: 0.1552 - accuracy: 0.9939 - val_loss: 1.1933 - val_accuracy: 0.7541\n",
            "Epoch 193/300\n",
            "8/8 [==============================] - 0s 11ms/step - loss: 0.1477 - accuracy: 0.9980 - val_loss: 1.2442 - val_accuracy: 0.7541\n",
            "Epoch 194/300\n",
            "8/8 [==============================] - 0s 11ms/step - loss: 0.1422 - accuracy: 1.0000 - val_loss: 1.2728 - val_accuracy: 0.7213\n",
            "Epoch 195/300\n",
            "8/8 [==============================] - 0s 11ms/step - loss: 0.1468 - accuracy: 0.9953 - val_loss: 1.2027 - val_accuracy: 0.7377\n",
            "Epoch 196/300\n",
            "8/8 [==============================] - 0s 11ms/step - loss: 0.1335 - accuracy: 1.0000 - val_loss: 1.1682 - val_accuracy: 0.7705\n",
            "Epoch 197/300\n",
            "8/8 [==============================] - 0s 11ms/step - loss: 0.1326 - accuracy: 1.0000 - val_loss: 1.1489 - val_accuracy: 0.7705\n",
            "Epoch 198/300\n",
            "8/8 [==============================] - 0s 11ms/step - loss: 0.1360 - accuracy: 0.9964 - val_loss: 1.1474 - val_accuracy: 0.7541\n",
            "Epoch 199/300\n",
            "8/8 [==============================] - 0s 11ms/step - loss: 0.1236 - accuracy: 1.0000 - val_loss: 1.1481 - val_accuracy: 0.7869\n",
            "Epoch 200/300\n",
            "8/8 [==============================] - 0s 11ms/step - loss: 0.1276 - accuracy: 0.9950 - val_loss: 1.1746 - val_accuracy: 0.7541\n",
            "Epoch 201/300\n",
            "8/8 [==============================] - 0s 11ms/step - loss: 0.1177 - accuracy: 1.0000 - val_loss: 1.2179 - val_accuracy: 0.7541\n",
            "Epoch 202/300\n",
            "8/8 [==============================] - 0s 11ms/step - loss: 0.1192 - accuracy: 1.0000 - val_loss: 1.2631 - val_accuracy: 0.7377\n",
            "Epoch 203/300\n",
            "8/8 [==============================] - 0s 12ms/step - loss: 0.1184 - accuracy: 0.9945 - val_loss: 1.2122 - val_accuracy: 0.7377\n",
            "Epoch 204/300\n",
            "8/8 [==============================] - 0s 11ms/step - loss: 0.1183 - accuracy: 0.9936 - val_loss: 1.1772 - val_accuracy: 0.7869\n",
            "Epoch 205/300\n",
            "8/8 [==============================] - 0s 11ms/step - loss: 0.1151 - accuracy: 0.9977 - val_loss: 1.1858 - val_accuracy: 0.7869\n",
            "Epoch 206/300\n",
            "8/8 [==============================] - 0s 12ms/step - loss: 0.1131 - accuracy: 0.9986 - val_loss: 1.2247 - val_accuracy: 0.7541\n",
            "Epoch 207/300\n",
            "8/8 [==============================] - 0s 11ms/step - loss: 0.1399 - accuracy: 0.9959 - val_loss: 1.2649 - val_accuracy: 0.7377\n",
            "Epoch 208/300\n",
            "8/8 [==============================] - 0s 11ms/step - loss: 0.1486 - accuracy: 0.9897 - val_loss: 1.2317 - val_accuracy: 0.7705\n",
            "Epoch 209/300\n",
            "8/8 [==============================] - 0s 11ms/step - loss: 0.1423 - accuracy: 0.9869 - val_loss: 1.3679 - val_accuracy: 0.7869\n",
            "Epoch 210/300\n",
            "8/8 [==============================] - 0s 11ms/step - loss: 0.2090 - accuracy: 0.9740 - val_loss: 1.3286 - val_accuracy: 0.7541\n",
            "Epoch 211/300\n",
            "8/8 [==============================] - 0s 11ms/step - loss: 0.1640 - accuracy: 0.9826 - val_loss: 1.2073 - val_accuracy: 0.7541\n",
            "Epoch 212/300\n",
            "8/8 [==============================] - 0s 11ms/step - loss: 0.1754 - accuracy: 0.9828 - val_loss: 1.4574 - val_accuracy: 0.7377\n",
            "Epoch 213/300\n",
            "8/8 [==============================] - 0s 11ms/step - loss: 0.2417 - accuracy: 0.9630 - val_loss: 1.3555 - val_accuracy: 0.7541\n",
            "Epoch 214/300\n",
            "8/8 [==============================] - 0s 11ms/step - loss: 0.1496 - accuracy: 0.9950 - val_loss: 1.4571 - val_accuracy: 0.7377\n",
            "Epoch 215/300\n",
            "8/8 [==============================] - 0s 11ms/step - loss: 0.1688 - accuracy: 0.9971 - val_loss: 1.4221 - val_accuracy: 0.7541\n",
            "Epoch 216/300\n",
            "8/8 [==============================] - 0s 11ms/step - loss: 0.1370 - accuracy: 1.0000 - val_loss: 1.3302 - val_accuracy: 0.7541\n",
            "Epoch 217/300\n",
            "8/8 [==============================] - 0s 11ms/step - loss: 0.1326 - accuracy: 1.0000 - val_loss: 1.2894 - val_accuracy: 0.7705\n",
            "Epoch 218/300\n",
            "8/8 [==============================] - 0s 11ms/step - loss: 0.1282 - accuracy: 1.0000 - val_loss: 1.2716 - val_accuracy: 0.7705\n",
            "Epoch 219/300\n",
            "8/8 [==============================] - 0s 11ms/step - loss: 0.1390 - accuracy: 0.9916 - val_loss: 1.3107 - val_accuracy: 0.7705\n",
            "Epoch 220/300\n",
            "8/8 [==============================] - 0s 12ms/step - loss: 0.1254 - accuracy: 0.9964 - val_loss: 1.2531 - val_accuracy: 0.7541\n",
            "Epoch 221/300\n",
            "8/8 [==============================] - 0s 11ms/step - loss: 0.1197 - accuracy: 1.0000 - val_loss: 1.2161 - val_accuracy: 0.7377\n",
            "Epoch 222/300\n",
            "8/8 [==============================] - 0s 11ms/step - loss: 0.1284 - accuracy: 0.9957 - val_loss: 1.1627 - val_accuracy: 0.7541\n",
            "Epoch 223/300\n",
            "8/8 [==============================] - 0s 11ms/step - loss: 0.1487 - accuracy: 0.9936 - val_loss: 1.0727 - val_accuracy: 0.7377\n",
            "Epoch 224/300\n",
            "8/8 [==============================] - 0s 11ms/step - loss: 0.1942 - accuracy: 0.9733 - val_loss: 1.3058 - val_accuracy: 0.7049\n",
            "Epoch 225/300\n",
            "8/8 [==============================] - 0s 11ms/step - loss: 0.1259 - accuracy: 0.9950 - val_loss: 1.2898 - val_accuracy: 0.7213\n",
            "Epoch 226/300\n",
            "8/8 [==============================] - 0s 11ms/step - loss: 0.1358 - accuracy: 0.9856 - val_loss: 1.0785 - val_accuracy: 0.7541\n",
            "Epoch 227/300\n",
            "8/8 [==============================] - 0s 12ms/step - loss: 0.1236 - accuracy: 0.9991 - val_loss: 1.0471 - val_accuracy: 0.7377\n",
            "Epoch 228/300\n",
            "8/8 [==============================] - 0s 11ms/step - loss: 0.1497 - accuracy: 0.9791 - val_loss: 1.2075 - val_accuracy: 0.7705\n",
            "Epoch 229/300\n",
            "8/8 [==============================] - 0s 11ms/step - loss: 0.2099 - accuracy: 0.9625 - val_loss: 1.1909 - val_accuracy: 0.7377\n",
            "Epoch 230/300\n",
            "8/8 [==============================] - 0s 11ms/step - loss: 0.1522 - accuracy: 0.9855 - val_loss: 1.1857 - val_accuracy: 0.7869\n",
            "Epoch 231/300\n",
            "8/8 [==============================] - 0s 11ms/step - loss: 0.1691 - accuracy: 0.9903 - val_loss: 1.2104 - val_accuracy: 0.7869\n",
            "Epoch 232/300\n",
            "8/8 [==============================] - 0s 11ms/step - loss: 0.1513 - accuracy: 0.9901 - val_loss: 1.1367 - val_accuracy: 0.7541\n",
            "Epoch 233/300\n",
            "8/8 [==============================] - 0s 11ms/step - loss: 0.1513 - accuracy: 0.9906 - val_loss: 1.1385 - val_accuracy: 0.7705\n",
            "Epoch 234/300\n",
            "8/8 [==============================] - 0s 11ms/step - loss: 0.1294 - accuracy: 0.9982 - val_loss: 1.1808 - val_accuracy: 0.7705\n",
            "Epoch 235/300\n",
            "8/8 [==============================] - 0s 11ms/step - loss: 0.1285 - accuracy: 0.9991 - val_loss: 1.2274 - val_accuracy: 0.7377\n",
            "Epoch 236/300\n",
            "8/8 [==============================] - 0s 11ms/step - loss: 0.1429 - accuracy: 0.9909 - val_loss: 1.1634 - val_accuracy: 0.7869\n",
            "Epoch 237/300\n",
            "8/8 [==============================] - 0s 11ms/step - loss: 0.1380 - accuracy: 0.9903 - val_loss: 1.0982 - val_accuracy: 0.7869\n",
            "Epoch 238/300\n",
            "8/8 [==============================] - 0s 11ms/step - loss: 0.2222 - accuracy: 0.9608 - val_loss: 1.2204 - val_accuracy: 0.7705\n",
            "Epoch 239/300\n",
            "8/8 [==============================] - 0s 11ms/step - loss: 0.1258 - accuracy: 0.9971 - val_loss: 1.2471 - val_accuracy: 0.7705\n",
            "Epoch 240/300\n",
            "8/8 [==============================] - 0s 11ms/step - loss: 0.1386 - accuracy: 0.9903 - val_loss: 1.1639 - val_accuracy: 0.8197\n",
            "Epoch 241/300\n",
            "8/8 [==============================] - 0s 11ms/step - loss: 0.1209 - accuracy: 1.0000 - val_loss: 1.1519 - val_accuracy: 0.8033\n",
            "Epoch 242/300\n",
            "8/8 [==============================] - 0s 11ms/step - loss: 0.1182 - accuracy: 1.0000 - val_loss: 1.1605 - val_accuracy: 0.7869\n",
            "Epoch 243/300\n",
            "8/8 [==============================] - 0s 11ms/step - loss: 0.1246 - accuracy: 0.9953 - val_loss: 1.3137 - val_accuracy: 0.7541\n",
            "Epoch 244/300\n",
            "8/8 [==============================] - 0s 11ms/step - loss: 0.1176 - accuracy: 1.0000 - val_loss: 1.4290 - val_accuracy: 0.7541\n",
            "Epoch 245/300\n",
            "8/8 [==============================] - 0s 11ms/step - loss: 0.1132 - accuracy: 0.9973 - val_loss: 1.3314 - val_accuracy: 0.7541\n",
            "Epoch 246/300\n",
            "8/8 [==============================] - 0s 11ms/step - loss: 0.1098 - accuracy: 1.0000 - val_loss: 1.2461 - val_accuracy: 0.7705\n",
            "Epoch 247/300\n",
            "8/8 [==============================] - 0s 11ms/step - loss: 0.1085 - accuracy: 0.9973 - val_loss: 1.2325 - val_accuracy: 0.7541\n",
            "Epoch 248/300\n",
            "8/8 [==============================] - 0s 11ms/step - loss: 0.1055 - accuracy: 1.0000 - val_loss: 1.3033 - val_accuracy: 0.7541\n",
            "Epoch 249/300\n",
            "8/8 [==============================] - 0s 11ms/step - loss: 0.0994 - accuracy: 1.0000 - val_loss: 1.3177 - val_accuracy: 0.7377\n",
            "Epoch 250/300\n",
            "8/8 [==============================] - 0s 11ms/step - loss: 0.0988 - accuracy: 1.0000 - val_loss: 1.3141 - val_accuracy: 0.7541\n",
            "Epoch 251/300\n",
            "8/8 [==============================] - 0s 11ms/step - loss: 0.0959 - accuracy: 1.0000 - val_loss: 1.2911 - val_accuracy: 0.7541\n",
            "Epoch 252/300\n",
            "8/8 [==============================] - 0s 11ms/step - loss: 0.0934 - accuracy: 1.0000 - val_loss: 1.2523 - val_accuracy: 0.7541\n",
            "Epoch 253/300\n",
            "8/8 [==============================] - 0s 11ms/step - loss: 0.0919 - accuracy: 1.0000 - val_loss: 1.2080 - val_accuracy: 0.7541\n",
            "Epoch 254/300\n",
            "8/8 [==============================] - 0s 11ms/step - loss: 0.0898 - accuracy: 1.0000 - val_loss: 1.1851 - val_accuracy: 0.7541\n",
            "Epoch 255/300\n",
            "8/8 [==============================] - 0s 11ms/step - loss: 0.0880 - accuracy: 1.0000 - val_loss: 1.1820 - val_accuracy: 0.7705\n",
            "Epoch 256/300\n",
            "8/8 [==============================] - 0s 11ms/step - loss: 0.0852 - accuracy: 1.0000 - val_loss: 1.1675 - val_accuracy: 0.7705\n",
            "Epoch 257/300\n",
            "8/8 [==============================] - 0s 11ms/step - loss: 0.0859 - accuracy: 1.0000 - val_loss: 1.1171 - val_accuracy: 0.7705\n",
            "Epoch 258/300\n",
            "8/8 [==============================] - 0s 11ms/step - loss: 0.0832 - accuracy: 1.0000 - val_loss: 1.0513 - val_accuracy: 0.8033\n",
            "Epoch 259/300\n",
            "8/8 [==============================] - 0s 12ms/step - loss: 0.0810 - accuracy: 1.0000 - val_loss: 1.0188 - val_accuracy: 0.8033\n",
            "Epoch 260/300\n",
            "8/8 [==============================] - 0s 11ms/step - loss: 0.0785 - accuracy: 1.0000 - val_loss: 1.0264 - val_accuracy: 0.8033\n",
            "Epoch 261/300\n",
            "8/8 [==============================] - 0s 12ms/step - loss: 0.0763 - accuracy: 1.0000 - val_loss: 1.0481 - val_accuracy: 0.7869\n",
            "Epoch 262/300\n",
            "8/8 [==============================] - 0s 11ms/step - loss: 0.0745 - accuracy: 1.0000 - val_loss: 1.0507 - val_accuracy: 0.7869\n",
            "Epoch 263/300\n",
            "8/8 [==============================] - 0s 12ms/step - loss: 0.0730 - accuracy: 1.0000 - val_loss: 1.0448 - val_accuracy: 0.7869\n",
            "Epoch 264/300\n",
            "8/8 [==============================] - 0s 11ms/step - loss: 0.0716 - accuracy: 1.0000 - val_loss: 1.0394 - val_accuracy: 0.7705\n",
            "Epoch 265/300\n",
            "8/8 [==============================] - 0s 11ms/step - loss: 0.0706 - accuracy: 1.0000 - val_loss: 1.0311 - val_accuracy: 0.7705\n",
            "Epoch 266/300\n",
            "8/8 [==============================] - 0s 11ms/step - loss: 0.0699 - accuracy: 1.0000 - val_loss: 1.0112 - val_accuracy: 0.7869\n",
            "Epoch 267/300\n",
            "8/8 [==============================] - 0s 11ms/step - loss: 0.0678 - accuracy: 1.0000 - val_loss: 1.0021 - val_accuracy: 0.7869\n",
            "Epoch 268/300\n",
            "8/8 [==============================] - 0s 12ms/step - loss: 0.1484 - accuracy: 0.9694 - val_loss: 1.0148 - val_accuracy: 0.7869\n",
            "Epoch 269/300\n",
            "8/8 [==============================] - 0s 11ms/step - loss: 0.1284 - accuracy: 0.9824 - val_loss: 1.0404 - val_accuracy: 0.7705\n",
            "Epoch 270/300\n",
            "8/8 [==============================] - 0s 11ms/step - loss: 0.1325 - accuracy: 0.9923 - val_loss: 1.3408 - val_accuracy: 0.7705\n",
            "Epoch 271/300\n",
            "8/8 [==============================] - 0s 11ms/step - loss: 0.1496 - accuracy: 0.9900 - val_loss: 1.5014 - val_accuracy: 0.7213\n",
            "Epoch 272/300\n",
            "8/8 [==============================] - 0s 12ms/step - loss: 0.1570 - accuracy: 0.9938 - val_loss: 1.5646 - val_accuracy: 0.7705\n",
            "Epoch 273/300\n",
            "8/8 [==============================] - 0s 12ms/step - loss: 0.2039 - accuracy: 0.9802 - val_loss: 1.4889 - val_accuracy: 0.7541\n",
            "Epoch 274/300\n",
            "8/8 [==============================] - 0s 12ms/step - loss: 0.1943 - accuracy: 0.9762 - val_loss: 1.4216 - val_accuracy: 0.7541\n",
            "Epoch 275/300\n",
            "8/8 [==============================] - 0s 11ms/step - loss: 0.1628 - accuracy: 0.9915 - val_loss: 1.4920 - val_accuracy: 0.7377\n",
            "Epoch 276/300\n",
            "8/8 [==============================] - 0s 11ms/step - loss: 0.1642 - accuracy: 0.9877 - val_loss: 1.5638 - val_accuracy: 0.7541\n",
            "Epoch 277/300\n",
            "8/8 [==============================] - 0s 11ms/step - loss: 0.1825 - accuracy: 0.9798 - val_loss: 1.2233 - val_accuracy: 0.7541\n",
            "Epoch 278/300\n",
            "8/8 [==============================] - 0s 11ms/step - loss: 0.1778 - accuracy: 0.9903 - val_loss: 1.2095 - val_accuracy: 0.7869\n",
            "Epoch 279/300\n",
            "8/8 [==============================] - 0s 11ms/step - loss: 0.1983 - accuracy: 0.9782 - val_loss: 1.3649 - val_accuracy: 0.7869\n",
            "Epoch 280/300\n",
            "8/8 [==============================] - 0s 11ms/step - loss: 0.1711 - accuracy: 0.9833 - val_loss: 1.4721 - val_accuracy: 0.7377\n",
            "Epoch 281/300\n",
            "8/8 [==============================] - 0s 11ms/step - loss: 0.1472 - accuracy: 0.9953 - val_loss: 1.5081 - val_accuracy: 0.7213\n",
            "Epoch 282/300\n",
            "8/8 [==============================] - 0s 11ms/step - loss: 0.1438 - accuracy: 0.9935 - val_loss: 1.3714 - val_accuracy: 0.7377\n",
            "Epoch 283/300\n",
            "8/8 [==============================] - 0s 12ms/step - loss: 0.1417 - accuracy: 0.9980 - val_loss: 1.4295 - val_accuracy: 0.7869\n",
            "Epoch 284/300\n",
            "8/8 [==============================] - 0s 10ms/step - loss: 0.1379 - accuracy: 0.9982 - val_loss: 1.4855 - val_accuracy: 0.7705\n",
            "Epoch 285/300\n",
            "8/8 [==============================] - 0s 11ms/step - loss: 0.1742 - accuracy: 0.9829 - val_loss: 1.6393 - val_accuracy: 0.7705\n",
            "Epoch 286/300\n",
            "8/8 [==============================] - 0s 12ms/step - loss: 0.1817 - accuracy: 0.9817 - val_loss: 1.5096 - val_accuracy: 0.7705\n",
            "Epoch 287/300\n",
            "8/8 [==============================] - 0s 12ms/step - loss: 0.1519 - accuracy: 0.9874 - val_loss: 1.4975 - val_accuracy: 0.7377\n",
            "Epoch 288/300\n",
            "8/8 [==============================] - 0s 12ms/step - loss: 0.1462 - accuracy: 0.9944 - val_loss: 1.4110 - val_accuracy: 0.7705\n",
            "Epoch 289/300\n",
            "8/8 [==============================] - 0s 11ms/step - loss: 0.1518 - accuracy: 0.9874 - val_loss: 1.4247 - val_accuracy: 0.7705\n",
            "Epoch 290/300\n",
            "8/8 [==============================] - 0s 11ms/step - loss: 0.1269 - accuracy: 1.0000 - val_loss: 1.4385 - val_accuracy: 0.7705\n",
            "Epoch 291/300\n",
            "8/8 [==============================] - 0s 12ms/step - loss: 0.1273 - accuracy: 1.0000 - val_loss: 1.4242 - val_accuracy: 0.7705\n",
            "Epoch 292/300\n",
            "8/8 [==============================] - 0s 11ms/step - loss: 0.1191 - accuracy: 1.0000 - val_loss: 1.4011 - val_accuracy: 0.7705\n",
            "Epoch 293/300\n",
            "8/8 [==============================] - 0s 11ms/step - loss: 0.1783 - accuracy: 0.9826 - val_loss: 1.2198 - val_accuracy: 0.8033\n",
            "Epoch 294/300\n",
            "8/8 [==============================] - 0s 11ms/step - loss: 0.1567 - accuracy: 0.9835 - val_loss: 1.1290 - val_accuracy: 0.7869\n",
            "Epoch 295/300\n",
            "8/8 [==============================] - 0s 11ms/step - loss: 0.1133 - accuracy: 1.0000 - val_loss: 1.1401 - val_accuracy: 0.7541\n",
            "Epoch 296/300\n",
            "8/8 [==============================] - 0s 12ms/step - loss: 0.1554 - accuracy: 0.9766 - val_loss: 1.2563 - val_accuracy: 0.7705\n",
            "Epoch 297/300\n",
            "8/8 [==============================] - 0s 11ms/step - loss: 0.1115 - accuracy: 0.9980 - val_loss: 1.3151 - val_accuracy: 0.7705\n",
            "Epoch 298/300\n",
            "8/8 [==============================] - 0s 11ms/step - loss: 0.1148 - accuracy: 0.9980 - val_loss: 1.2795 - val_accuracy: 0.7705\n",
            "Epoch 299/300\n",
            "8/8 [==============================] - 0s 11ms/step - loss: 0.1043 - accuracy: 1.0000 - val_loss: 1.2064 - val_accuracy: 0.7705\n",
            "Epoch 300/300\n",
            "8/8 [==============================] - 0s 11ms/step - loss: 0.1042 - accuracy: 1.0000 - val_loss: 1.1380 - val_accuracy: 0.7705\n"
          ],
          "name": "stdout"
        }
      ]
    },
    {
      "cell_type": "code",
      "metadata": {
        "colab": {
          "base_uri": "https://localhost:8080/",
          "height": 282
        },
        "id": "nzlmht_oobhg",
        "outputId": "7958a5ae-b3ac-4574-e581-23b293a2acc0"
      },
      "source": [
        "plt.plot(history.history[\"accuracy\"])\n",
        "plt.plot(history.history[\"val_accuracy\"])"
      ],
      "execution_count": null,
      "outputs": [
        {
          "output_type": "execute_result",
          "data": {
            "text/plain": [
              "[<matplotlib.lines.Line2D at 0x7fe53be1bc90>]"
            ]
          },
          "metadata": {
            "tags": []
          },
          "execution_count": 24
        },
        {
          "output_type": "display_data",
          "data": {
            "image/png": "[encoded data removed]",
            "text/plain": [
              "<Figure size 432x288 with 1 Axes>"
            ]
          },
          "metadata": {
            "tags": [],
            "needs_background": "light"
          }
        }
      ]
    },
    {
      "cell_type": "code",
      "metadata": {
        "colab": {
          "base_uri": "https://localhost:8080/"
        },
        "id": "QK3V28MlVwoz",
        "outputId": "8bc9f184-0ffe-4040-8e0d-e1b8dec18fce"
      },
      "source": [
        "y_dnn_pred = model.predict_classes(X_test)"
      ],
      "execution_count": null,
      "outputs": [
        {
          "output_type": "stream",
          "text": [
            "/usr/local/lib/python3.7/dist-packages/tensorflow/python/keras/engine/sequential.py:450: UserWarning: `model.predict_classes()` is deprecated and will be removed after 2021-01-01. Please use instead:* `np.argmax(model.predict(x), axis=-1)`,   if your model does multi-class classification   (e.g. if it uses a `softmax` last-layer activation).* `(model.predict(x) > 0.5).astype(\"int32\")`,   if your model does binary classification   (e.g. if it uses a `sigmoid` last-layer activation).\n",
            "  warnings.warn('`model.predict_classes()` is deprecated and '\n"
          ],
          "name": "stderr"
        }
      ]
    },
    {
      "cell_type": "code",
      "metadata": {
        "id": "9bYqAtRQWEir"
      },
      "source": [
        "y_dnn_pred = np.squeeze(y_dnn_pred)"
      ],
      "execution_count": null,
      "outputs": []
    },
    {
      "cell_type": "code",
      "metadata": {
        "colab": {
          "base_uri": "https://localhost:8080/"
        },
        "id": "c2vjsIJWV_Wm",
        "outputId": "0656a2de-29a2-4fac-9a6d-00d30dd19a08"
      },
      "source": [
        "print(\"Accuracy:\",metrics.accuracy_score(y_test, y_dnn_pred))"
      ],
      "execution_count": null,
      "outputs": [
        {
          "output_type": "stream",
          "text": [
            "Accuracy: 0.7704918032786885\n"
          ],
          "name": "stdout"
        }
      ]
    },
    {
      "cell_type": "markdown",
      "metadata": {
        "id": "2Wa7trnhIemX"
      },
      "source": [
        "## Support Vector Machine"
      ]
    },
    {
      "cell_type": "code",
      "metadata": {
        "id": "Lz53SCT9IeHV"
      },
      "source": [
        "from sklearn import svm\n",
        "from sklearn.model_selection import GridSearchCV"
      ],
      "execution_count": null,
      "outputs": []
    },
    {
      "cell_type": "code",
      "metadata": {
        "id": "6z0f5oodL07r"
      },
      "source": [
        "param_grid = {'C': [0.1,1, 10, 100], 'gamma': [1,0.1,0.01,0.001],'kernel': ['rbf', 'poly', 'sigmoid']}"
      ],
      "execution_count": null,
      "outputs": []
    },
    {
      "cell_type": "code",
      "metadata": {
        "colab": {
          "base_uri": "https://localhost:8080/"
        },
        "id": "u7MEg80eL5ku",
        "outputId": "7c3c5bee-c734-4c14-85ac-1c6d22a0ea7c"
      },
      "source": [
        "grid = GridSearchCV(svm.SVC(),param_grid,refit=True,verbose=0)\n",
        "grid.fit(X_train,y_train)"
      ],
      "execution_count": null,
      "outputs": [
        {
          "output_type": "execute_result",
          "data": {
            "text/plain": [
              "GridSearchCV(cv=None, error_score=nan,\n",
              "             estimator=SVC(C=1.0, break_ties=False, cache_size=200,\n",
              "                           class_weight=None, coef0=0.0,\n",
              "                           decision_function_shape='ovr', degree=3,\n",
              "                           gamma='scale', kernel='rbf', max_iter=-1,\n",
              "                           probability=False, random_state=None, shrinking=True,\n",
              "                           tol=0.001, verbose=False),\n",
              "             iid='deprecated', n_jobs=None,\n",
              "             param_grid={'C': [0.1, 1, 10, 100], 'gamma': [1, 0.1, 0.01, 0.001],\n",
              "                         'kernel': ['rbf', 'poly', 'sigmoid']},\n",
              "             pre_dispatch='2*n_jobs', refit=True, return_train_score=False,\n",
              "             scoring=None, verbose=0)"
            ]
          },
          "metadata": {
            "tags": []
          },
          "execution_count": 30
        }
      ]
    },
    {
      "cell_type": "code",
      "metadata": {
        "id": "u4P32_9aL_tx"
      },
      "source": [
        "print(grid.best_estimator_)"
      ],
      "execution_count": null,
      "outputs": []
    },
    {
      "cell_type": "code",
      "metadata": {
        "id": "z0s-jSDBMC7K"
      },
      "source": [
        "clf = svm.SVC(C=10, break_ties=False, cache_size=200, class_weight=None, coef0=0.0,\n",
        "    decision_function_shape='ovr', degree=3, gamma=0.1, kernel='sigmoid',\n",
        "    max_iter=-1, probability=False, random_state=None, shrinking=True,\n",
        "    tol=0.001, verbose=False)"
      ],
      "execution_count": null,
      "outputs": []
    },
    {
      "cell_type": "code",
      "metadata": {
        "id": "zV90gd3jIpDH"
      },
      "source": [
        "clf.fit(X_train, y_train)"
      ],
      "execution_count": null,
      "outputs": []
    },
    {
      "cell_type": "code",
      "metadata": {
        "id": "k-l6rFkgKixZ"
      },
      "source": [
        "y_svm_pred = clf.predict(X_test)"
      ],
      "execution_count": null,
      "outputs": []
    },
    {
      "cell_type": "code",
      "metadata": {
        "id": "C6ogiJM_KeP-"
      },
      "source": [
        "print(\"Accuracy:\",metrics.accuracy_score(y_test, y_svm_pred))"
      ],
      "execution_count": null,
      "outputs": []
    },
    {
      "cell_type": "markdown",
      "metadata": {
        "id": "zQg7KS93MTOl"
      },
      "source": [
        "## Random Forest"
      ]
    },
    {
      "cell_type": "code",
      "metadata": {
        "id": "eRRomm4SMSrH"
      },
      "source": [
        "from sklearn.ensemble import RandomForestClassifier"
      ],
      "execution_count": null,
      "outputs": []
    },
    {
      "cell_type": "code",
      "metadata": {
        "id": "evi3ZjHCM235"
      },
      "source": [
        "#param_grid = {'max_depth': [80, 90, 100, 110],\n",
        "#              'min_samples_leaf': [3, 4, 5],\n",
        "#              'min_samples_split': [8, 10, 12],\n",
        "#              'n_estimators': [100, 200, 300, 1000]}"
      ],
      "execution_count": null,
      "outputs": []
    },
    {
      "cell_type": "code",
      "metadata": {
        "id": "I2T7UyI9NDU9"
      },
      "source": [
        "#grid = GridSearchCV(RandomForestClassifier(),param_grid,refit=True,verbose=2)\n",
        "#grid.fit(X,y)"
      ],
      "execution_count": null,
      "outputs": []
    },
    {
      "cell_type": "code",
      "metadata": {
        "id": "AoFHgLC8NZ8o"
      },
      "source": [
        "#print(grid.best_estimator_)"
      ],
      "execution_count": null,
      "outputs": []
    },
    {
      "cell_type": "code",
      "metadata": {
        "id": "Im-bncEOQQTl"
      },
      "source": [
        "clf = RandomForestClassifier()"
      ],
      "execution_count": null,
      "outputs": []
    },
    {
      "cell_type": "code",
      "metadata": {
        "id": "3tsRlJ-UMi5T"
      },
      "source": [
        "clf.fit(X_train_tree, y_train_tree)"
      ],
      "execution_count": null,
      "outputs": []
    },
    {
      "cell_type": "code",
      "metadata": {
        "id": "N-bjDHn4MitE"
      },
      "source": [
        "y_rf_pred = clf.predict(X_test_tree)"
      ],
      "execution_count": null,
      "outputs": []
    },
    {
      "cell_type": "code",
      "metadata": {
        "id": "Wd04W1mkMiav"
      },
      "source": [
        "print(\"Accuracy:\",metrics.accuracy_score(y_test_tree, y_rf_pred))"
      ],
      "execution_count": null,
      "outputs": []
    },
    {
      "cell_type": "markdown",
      "metadata": {
        "id": "CjGqlBftQguH"
      },
      "source": [
        "## Adaboost"
      ]
    },
    {
      "cell_type": "code",
      "metadata": {
        "id": "bjdy88eqQAua"
      },
      "source": [
        "from sklearn.ensemble import AdaBoostClassifier"
      ],
      "execution_count": null,
      "outputs": []
    },
    {
      "cell_type": "code",
      "metadata": {
        "id": "Tkz3SOurQjEz"
      },
      "source": [
        "clf = AdaBoostClassifier(n_estimators=100, random_state=0)"
      ],
      "execution_count": null,
      "outputs": []
    },
    {
      "cell_type": "code",
      "metadata": {
        "id": "iUTqXNllQnNa"
      },
      "source": [
        "clf.fit(X_train, y_train)"
      ],
      "execution_count": null,
      "outputs": []
    },
    {
      "cell_type": "code",
      "metadata": {
        "id": "Op8vbR8HQo3c"
      },
      "source": [
        "y_ada_pred = clf.predict(X_test)"
      ],
      "execution_count": null,
      "outputs": []
    },
    {
      "cell_type": "code",
      "metadata": {
        "id": "_iKFEPDcQrQy"
      },
      "source": [
        "print(\"Accuracy:\",metrics.accuracy_score(y_test, y_ada_pred))"
      ],
      "execution_count": null,
      "outputs": []
    },
    {
      "cell_type": "markdown",
      "metadata": {
        "id": "Lm3ViWysRIJD"
      },
      "source": [
        "## Gradient Boosting"
      ]
    },
    {
      "cell_type": "code",
      "metadata": {
        "id": "iZuWF0cuQtyc"
      },
      "source": [
        "from sklearn.ensemble import GradientBoostingClassifier"
      ],
      "execution_count": null,
      "outputs": []
    },
    {
      "cell_type": "code",
      "metadata": {
        "id": "qcMS4uKiRNYS"
      },
      "source": [
        "clf = GradientBoostingClassifier(n_estimators=100, learning_rate=1.0, max_depth=1, random_state=0)"
      ],
      "execution_count": null,
      "outputs": []
    },
    {
      "cell_type": "code",
      "metadata": {
        "id": "kGbz0JDaRfDN"
      },
      "source": [
        "clf.fit(X_train, y_train)"
      ],
      "execution_count": null,
      "outputs": []
    },
    {
      "cell_type": "code",
      "metadata": {
        "id": "XSOuwL7cRi_i"
      },
      "source": [
        "y_gb_pred = clf.predict(X_test)"
      ],
      "execution_count": null,
      "outputs": []
    },
    {
      "cell_type": "code",
      "metadata": {
        "id": "HLxcWvjNRmW2"
      },
      "source": [
        "print(\"Accuracy:\",metrics.accuracy_score(y_test, y_gb_pred))"
      ],
      "execution_count": null,
      "outputs": []
    },
    {
      "cell_type": "markdown",
      "metadata": {
        "id": "MCRUJZFtS7UU"
      },
      "source": [
        "## Logistic Regression"
      ]
    },
    {
      "cell_type": "code",
      "metadata": {
        "id": "hL5kfLWsSejl"
      },
      "source": [
        "from sklearn.linear_model import LogisticRegression"
      ],
      "execution_count": null,
      "outputs": []
    },
    {
      "cell_type": "code",
      "metadata": {
        "id": "GS9hVIxOS-uA"
      },
      "source": [
        "clf = LogisticRegression(random_state=0)"
      ],
      "execution_count": null,
      "outputs": []
    },
    {
      "cell_type": "code",
      "metadata": {
        "id": "QnYSI7aATCCP"
      },
      "source": [
        "clf.fit(X_train, y_train)"
      ],
      "execution_count": null,
      "outputs": []
    },
    {
      "cell_type": "code",
      "metadata": {
        "id": "FU5Po1UXTTLC"
      },
      "source": [
        "y_logistic_pred = clf.predict(X_test)"
      ],
      "execution_count": null,
      "outputs": []
    },
    {
      "cell_type": "code",
      "metadata": {
        "id": "MSbt8pmITnQC"
      },
      "source": [
        "print(\"Accuracy:\",metrics.accuracy_score(y_test, y_logistic_pred))"
      ],
      "execution_count": null,
      "outputs": []
    },
    {
      "cell_type": "code",
      "metadata": {
        "id": "fjJzb3RVdgUi"
      },
      "source": [
        "# To Do List\n",
        "from sklearn.neighbors import KNeighborsClassifier\n",
        "from sklearn.naive_bayes import BernoulliNB\n",
        "from sklearn.naive_bayes import GaussianNB"
      ],
      "execution_count": null,
      "outputs": []
    },
    {
      "cell_type": "code",
      "metadata": {
        "id": "43Jsecx-aSkd"
      },
      "source": [
        "from sklearn.metrics import confusion_matrix"
      ],
      "execution_count": null,
      "outputs": []
    },
    {
      "cell_type": "markdown",
      "metadata": {
        "id": "YsfElX47gIBf"
      },
      "source": [
        "## Gaussian Naive Bayes"
      ]
    },
    {
      "cell_type": "code",
      "metadata": {
        "id": "qSGOqMG5d8dc"
      },
      "source": [
        "clf = GaussianNB()\n",
        "clf.fit(X_train, y_train)\n",
        "  \n",
        "y_Gaussian_pred = clf.predict(X_test)\n",
        "\n",
        "print(\"Accuracy of Gaussian Naive Bayes:\", round(metrics.accuracy_score(y_test, y_Gaussian_pred),3))"
      ],
      "execution_count": null,
      "outputs": []
    },
    {
      "cell_type": "markdown",
      "metadata": {
        "id": "ch3H79akgOFZ"
      },
      "source": [
        "## Bernoulli Naive Bayes"
      ]
    },
    {
      "cell_type": "code",
      "metadata": {
        "id": "2p7JeK3yemAp"
      },
      "source": [
        "clf = BernoulliNB()\n",
        "clf.fit(X_train, y_train)\n",
        "  \n",
        "y_Bernoulli_pred = clf.predict(X_test)\n",
        "  \n",
        "print(\"The accuracy of Bernoulli Naive Bayes: \", round(metrics.accuracy_score(y_test, y_Bernoulli_pred),3))"
      ],
      "execution_count": null,
      "outputs": []
    },
    {
      "cell_type": "markdown",
      "metadata": {
        "id": "1SSaWiExggji"
      },
      "source": [
        "## K Nearest Neighbours"
      ]
    },
    {
      "cell_type": "code",
      "metadata": {
        "id": "FTzdhiGVfP_n"
      },
      "source": [
        "clf = KNeighborsClassifier(n_neighbors = 1)  \n",
        "clf.fit(X_train, y_train)\n",
        "\n",
        "y_KNeighbors_pred = model.predict(X_test).round()\n",
        "\n",
        "print(\"The accuracy of K Nearest Neighbours : \", round(metrics.accuracy_score(y_test, y_KNeighbors_pred),3))"
      ],
      "execution_count": null,
      "outputs": []
    },
    {
      "cell_type": "markdown",
      "metadata": {
        "id": "Dmyay26bT0X_"
      },
      "source": [
        "# Summary"
      ]
    },
    {
      "cell_type": "code",
      "metadata": {
        "id": "-qHASpJ7TzQ5"
      },
      "source": [
        "names = [\"Deep Neural Network\", \"Support Vector Machine\", \"Random Forest\", \"Adaboost\",\"Gradient Boost\",\"Logistic Regression\",\n",
        "         \"Gaussian Naive Bayes\", \"Bernoulli Naive Bayes\",\"K Nearest Neighbours\"]\n",
        "\n",
        "predictions = [y_dnn_pred, y_svm_pred, y_rf_pred, y_ada_pred, y_gb_pred, y_logistic_pred, y_Gaussian_pred,\n",
        "               y_Bernoulli_pred, y_KNeighbors_pred]\n",
        "\n",
        "acc_list = []\n",
        "for i in range(len(names)):\n",
        "  score = metrics.accuracy_score(y_test,predictions[i])\n",
        "  print(\"Accuracy of\",names[i], \":\", round(score,3))\n",
        "  acc_list.append(score)\n",
        "\n",
        "index_max = np.argmax(acc_list)\n",
        "print(\"\\n\")\n",
        "print(\"The best model is << {0} >> with accuracy:{1}\".format(names[index_max],round(acc_list[index_max],3)))"
      ],
      "execution_count": null,
      "outputs": []
    },
    {
      "cell_type": "code",
      "metadata": {
        "id": "AlbgzK1Yfp8C"
      },
      "source": [
        "#error_rate = []\n",
        "#  \n",
        "#for i in range(1, 40):\n",
        "#      \n",
        "#    model = KNeighborsClassifier(n_neighbors = i)\n",
        "#    model.fit(x_train, y_train)\n",
        "#    pred_i = model.predict(x_test)\n",
        "#    error_rate.append(np.mean(pred_i != y_test))\n",
        "  \n",
        "#plt.figure(figsize =(10, 6))\n",
        "#plt.plot(range(1, 40), error_rate, color ='blue',\n",
        "#                linestyle ='dashed', marker ='o',\n",
        "#         markerfacecolor ='red', markersize = 10)\n",
        "  \n",
        "#plt.title('Error Rate vs. K Value')\n",
        "#plt.xlabel('K')\n",
        "#plt.ylabel('Error Rate')"
      ],
      "execution_count": null,
      "outputs": []
    }
  ]
}
