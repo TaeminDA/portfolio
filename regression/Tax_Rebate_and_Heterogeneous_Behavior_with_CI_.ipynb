{
  "nbformat": 4,
  "nbformat_minor": 0,
  "metadata": {
    "accelerator": "GPU",
    "colab": {
      "name": "Tax Rebate and Heterogeneous Behavior with CI .ipynb",
      "provenance": [],
      "collapsed_sections": [],
      "machine_shape": "hm",
      "include_colab_link": true
    },
    "kernelspec": {
      "display_name": "Python 3",
      "language": "python",
      "name": "python3"
    },
    "language_info": {
      "codemirror_mode": {
        "name": "ipython",
        "version": 3
      },
      "file_extension": ".py",
      "mimetype": "text/x-python",
      "name": "python",
      "nbconvert_exporter": "python",
      "pygments_lexer": "ipython3",
      "version": "3.8.3"
    }
  },
  "cells": [
    {
      "cell_type": "markdown",
      "metadata": {
        "id": "view-in-github",
        "colab_type": "text"
      },
      "source": [
        "<a href=\"https://colab.research.google.com/github/TaeminDA/portfolio/blob/main/regression/Tax_Rebate_and_Heterogeneous_Behavior_with_CI_.ipynb\" target=\"_parent\"><img src=\"https://colab.research.google.com/assets/colab-badge.svg\" alt=\"Open In Colab\"/></a>"
      ]
    },
    {
      "cell_type": "markdown",
      "metadata": {
        "id": "Kk8SxCoukpgp"
      },
      "source": [
        "# Bachelor Thesis Final with Deep Neural Network"
      ]
    },
    {
      "cell_type": "code",
      "metadata": {
        "id": "UZMi7UBbkpOG"
      },
      "source": [
        "import pandas as pd\n",
        "import numpy as np\n",
        "import matplotlib.pyplot as plt\n",
        "import seaborn as sns\n",
        "import tensorflow as tf\n",
        "from tensorflow import keras\n",
        "from timeit import default_timer as timer\n",
        "from datetime import timedelta"
      ],
      "execution_count": null,
      "outputs": []
    },
    {
      "cell_type": "markdown",
      "metadata": {
        "id": "-2fzCwcKl-zX"
      },
      "source": [
        "## Data Preprocessing"
      ]
    },
    {
      "cell_type": "markdown",
      "metadata": {
        "id": "9_MiBvLOk1mg"
      },
      "source": [
        "### Import Data"
      ]
    },
    {
      "cell_type": "markdown",
      "metadata": {
        "id": "ValhURhpylD8"
      },
      "source": [
        "Data: Tax Rebate 2008 from Consumer Expenditure Interview Survey"
      ]
    },
    {
      "cell_type": "code",
      "metadata": {
        "id": "c-DCooikk1B7"
      },
      "source": [
        "df_2008 = pd.read_csv(\"/content/dataframe_2008_cluster.csv\")\n",
        "df_2008 = df_2008.drop(df_2008.columns[0],axis = 1)"
      ],
      "execution_count": null,
      "outputs": []
    },
    {
      "cell_type": "code",
      "metadata": {
        "id": "UqNlOfkqAsvl"
      },
      "source": [
        "df_2008 = df_2008.drop(['c_1', 'c_2', 'c_3','k_1','k_2','k_3',\"chadults\",\"chchildren\"],axis = 1)"
      ],
      "execution_count": null,
      "outputs": []
    },
    {
      "cell_type": "code",
      "metadata": {
        "colab": {
          "base_uri": "https://localhost:8080/"
        },
        "id": "HGTK4J0cxTQV",
        "outputId": "d9ace69a-de50-41e4-d744-421a567b62b9"
      },
      "source": [
        "df_2008.shape"
      ],
      "execution_count": null,
      "outputs": [
        {
          "output_type": "execute_result",
          "data": {
            "text/plain": [
              "(17718, 20)"
            ]
          },
          "metadata": {
            "tags": []
          },
          "execution_count": 4
        }
      ]
    },
    {
      "cell_type": "code",
      "metadata": {
        "colab": {
          "base_uri": "https://localhost:8080/"
        },
        "id": "eJQHW0mScGQM",
        "outputId": "1902cd34-116e-47e5-da03-305c38209ad6"
      },
      "source": [
        "df_2008.columns"
      ],
      "execution_count": null,
      "outputs": [
        {
          "output_type": "execute_result",
          "data": {
            "text/plain": [
              "Index(['age', 'income', 'adults', 'children', 'total_expenditure',\n",
              "       'tax_rebate', 'month_2', 'month_3', 'month_4', 'month_5', 'month_6',\n",
              "       'month_7', 'month_8', 'month_9', 'month_10', 'month_11', 'month_12',\n",
              "       'housing_type_2', 'housing_type_4', 'housing_type_5'],\n",
              "      dtype='object')"
            ]
          },
          "metadata": {
            "tags": []
          },
          "execution_count": 5
        }
      ]
    },
    {
      "cell_type": "markdown",
      "metadata": {
        "id": "ycXygvPKlGlH"
      },
      "source": [
        "### Detect Outlier and Remove it"
      ]
    },
    {
      "cell_type": "code",
      "metadata": {
        "id": "RsEkf2HnbvVU"
      },
      "source": [
        "from scipy import stats"
      ],
      "execution_count": null,
      "outputs": []
    },
    {
      "cell_type": "code",
      "metadata": {
        "id": "so5X8GVBlCQN"
      },
      "source": [
        "outlier_column = [\"total_expenditure\",\"income\"]"
      ],
      "execution_count": null,
      "outputs": []
    },
    {
      "cell_type": "code",
      "metadata": {
        "id": "IsbBIu2jlCLe"
      },
      "source": [
        "filtered_outlier = (np.abs(stats.zscore(df_2008[outlier_column])) < 3).all(axis=1)\n",
        "df_2008 = df_2008[filtered_outlier]\n",
        "df_2008 = df_2008.reset_index().drop([\"index\"],axis = 1)"
      ],
      "execution_count": null,
      "outputs": []
    },
    {
      "cell_type": "code",
      "metadata": {
        "colab": {
          "base_uri": "https://localhost:8080/"
        },
        "id": "Yk-cvJixxcAe",
        "outputId": "12ef605b-bd3a-460b-e5e3-0293631c274e"
      },
      "source": [
        "df_2008.shape"
      ],
      "execution_count": null,
      "outputs": [
        {
          "output_type": "execute_result",
          "data": {
            "text/plain": [
              "(17054, 20)"
            ]
          },
          "metadata": {
            "tags": []
          },
          "execution_count": 9
        }
      ]
    },
    {
      "cell_type": "code",
      "metadata": {
        "id": "LV9BUgGL_Ily"
      },
      "source": [
        "#df_2008.to_csv(\"df_2008\")"
      ],
      "execution_count": null,
      "outputs": []
    },
    {
      "cell_type": "code",
      "metadata": {
        "colab": {
          "base_uri": "https://localhost:8080/",
          "height": 439
        },
        "id": "uZcTsSON_sme",
        "outputId": "515ae6a6-6504-422d-8b34-08a7dade3afa"
      },
      "source": [
        "df_2008"
      ],
      "execution_count": null,
      "outputs": [
        {
          "output_type": "execute_result",
          "data": {
            "text/html": [
              "<div>\n",
              "<style scoped>\n",
              "    .dataframe tbody tr th:only-of-type {\n",
              "        vertical-align: middle;\n",
              "    }\n",
              "\n",
              "    .dataframe tbody tr th {\n",
              "        vertical-align: top;\n",
              "    }\n",
              "\n",
              "    .dataframe thead th {\n",
              "        text-align: right;\n",
              "    }\n",
              "</style>\n",
              "<table border=\"1\" class=\"dataframe\">\n",
              "  <thead>\n",
              "    <tr style=\"text-align: right;\">\n",
              "      <th></th>\n",
              "      <th>age</th>\n",
              "      <th>income</th>\n",
              "      <th>adults</th>\n",
              "      <th>children</th>\n",
              "      <th>total_expenditure</th>\n",
              "      <th>tax_rebate</th>\n",
              "      <th>month_2</th>\n",
              "      <th>month_3</th>\n",
              "      <th>month_4</th>\n",
              "      <th>month_5</th>\n",
              "      <th>month_6</th>\n",
              "      <th>month_7</th>\n",
              "      <th>month_8</th>\n",
              "      <th>month_9</th>\n",
              "      <th>month_10</th>\n",
              "      <th>month_11</th>\n",
              "      <th>month_12</th>\n",
              "      <th>housing_type_2</th>\n",
              "      <th>housing_type_4</th>\n",
              "      <th>housing_type_5</th>\n",
              "    </tr>\n",
              "  </thead>\n",
              "  <tbody>\n",
              "    <tr>\n",
              "      <th>0</th>\n",
              "      <td>74.0</td>\n",
              "      <td>15234.0</td>\n",
              "      <td>1</td>\n",
              "      <td>0</td>\n",
              "      <td>4118.5001</td>\n",
              "      <td>0</td>\n",
              "      <td>0.0</td>\n",
              "      <td>0.0</td>\n",
              "      <td>0.0</td>\n",
              "      <td>0.0</td>\n",
              "      <td>0.0</td>\n",
              "      <td>0.0</td>\n",
              "      <td>0.0</td>\n",
              "      <td>0.0</td>\n",
              "      <td>0.0</td>\n",
              "      <td>0.0</td>\n",
              "      <td>1.0</td>\n",
              "      <td>1.0</td>\n",
              "      <td>0.0</td>\n",
              "      <td>0.0</td>\n",
              "    </tr>\n",
              "    <tr>\n",
              "      <th>1</th>\n",
              "      <td>58.0</td>\n",
              "      <td>60010.0</td>\n",
              "      <td>2</td>\n",
              "      <td>0</td>\n",
              "      <td>13801.4995</td>\n",
              "      <td>0</td>\n",
              "      <td>0.0</td>\n",
              "      <td>0.0</td>\n",
              "      <td>0.0</td>\n",
              "      <td>0.0</td>\n",
              "      <td>0.0</td>\n",
              "      <td>0.0</td>\n",
              "      <td>0.0</td>\n",
              "      <td>0.0</td>\n",
              "      <td>0.0</td>\n",
              "      <td>0.0</td>\n",
              "      <td>1.0</td>\n",
              "      <td>0.0</td>\n",
              "      <td>0.0</td>\n",
              "      <td>0.0</td>\n",
              "    </tr>\n",
              "    <tr>\n",
              "      <th>2</th>\n",
              "      <td>45.0</td>\n",
              "      <td>66134.2</td>\n",
              "      <td>2</td>\n",
              "      <td>3</td>\n",
              "      <td>8940.7496</td>\n",
              "      <td>0</td>\n",
              "      <td>0.0</td>\n",
              "      <td>0.0</td>\n",
              "      <td>0.0</td>\n",
              "      <td>0.0</td>\n",
              "      <td>0.0</td>\n",
              "      <td>0.0</td>\n",
              "      <td>0.0</td>\n",
              "      <td>0.0</td>\n",
              "      <td>0.0</td>\n",
              "      <td>0.0</td>\n",
              "      <td>1.0</td>\n",
              "      <td>0.0</td>\n",
              "      <td>0.0</td>\n",
              "      <td>0.0</td>\n",
              "    </tr>\n",
              "    <tr>\n",
              "      <th>3</th>\n",
              "      <td>49.5</td>\n",
              "      <td>60217.8</td>\n",
              "      <td>2</td>\n",
              "      <td>1</td>\n",
              "      <td>17512.7505</td>\n",
              "      <td>0</td>\n",
              "      <td>0.0</td>\n",
              "      <td>0.0</td>\n",
              "      <td>0.0</td>\n",
              "      <td>0.0</td>\n",
              "      <td>0.0</td>\n",
              "      <td>0.0</td>\n",
              "      <td>0.0</td>\n",
              "      <td>0.0</td>\n",
              "      <td>0.0</td>\n",
              "      <td>0.0</td>\n",
              "      <td>1.0</td>\n",
              "      <td>0.0</td>\n",
              "      <td>1.0</td>\n",
              "      <td>0.0</td>\n",
              "    </tr>\n",
              "    <tr>\n",
              "      <th>4</th>\n",
              "      <td>46.0</td>\n",
              "      <td>122015.0</td>\n",
              "      <td>2</td>\n",
              "      <td>1</td>\n",
              "      <td>10071.9998</td>\n",
              "      <td>0</td>\n",
              "      <td>0.0</td>\n",
              "      <td>0.0</td>\n",
              "      <td>0.0</td>\n",
              "      <td>0.0</td>\n",
              "      <td>0.0</td>\n",
              "      <td>0.0</td>\n",
              "      <td>0.0</td>\n",
              "      <td>0.0</td>\n",
              "      <td>0.0</td>\n",
              "      <td>0.0</td>\n",
              "      <td>1.0</td>\n",
              "      <td>0.0</td>\n",
              "      <td>0.0</td>\n",
              "      <td>0.0</td>\n",
              "    </tr>\n",
              "    <tr>\n",
              "      <th>...</th>\n",
              "      <td>...</td>\n",
              "      <td>...</td>\n",
              "      <td>...</td>\n",
              "      <td>...</td>\n",
              "      <td>...</td>\n",
              "      <td>...</td>\n",
              "      <td>...</td>\n",
              "      <td>...</td>\n",
              "      <td>...</td>\n",
              "      <td>...</td>\n",
              "      <td>...</td>\n",
              "      <td>...</td>\n",
              "      <td>...</td>\n",
              "      <td>...</td>\n",
              "      <td>...</td>\n",
              "      <td>...</td>\n",
              "      <td>...</td>\n",
              "      <td>...</td>\n",
              "      <td>...</td>\n",
              "      <td>...</td>\n",
              "    </tr>\n",
              "    <tr>\n",
              "      <th>17049</th>\n",
              "      <td>31.5</td>\n",
              "      <td>36640.0</td>\n",
              "      <td>2</td>\n",
              "      <td>3</td>\n",
              "      <td>7412.0330</td>\n",
              "      <td>0</td>\n",
              "      <td>0.0</td>\n",
              "      <td>1.0</td>\n",
              "      <td>0.0</td>\n",
              "      <td>0.0</td>\n",
              "      <td>0.0</td>\n",
              "      <td>0.0</td>\n",
              "      <td>0.0</td>\n",
              "      <td>0.0</td>\n",
              "      <td>0.0</td>\n",
              "      <td>0.0</td>\n",
              "      <td>0.0</td>\n",
              "      <td>0.0</td>\n",
              "      <td>1.0</td>\n",
              "      <td>0.0</td>\n",
              "    </tr>\n",
              "    <tr>\n",
              "      <th>17050</th>\n",
              "      <td>56.0</td>\n",
              "      <td>32393.0</td>\n",
              "      <td>2</td>\n",
              "      <td>1</td>\n",
              "      <td>3794.0002</td>\n",
              "      <td>0</td>\n",
              "      <td>0.0</td>\n",
              "      <td>1.0</td>\n",
              "      <td>0.0</td>\n",
              "      <td>0.0</td>\n",
              "      <td>0.0</td>\n",
              "      <td>0.0</td>\n",
              "      <td>0.0</td>\n",
              "      <td>0.0</td>\n",
              "      <td>0.0</td>\n",
              "      <td>0.0</td>\n",
              "      <td>0.0</td>\n",
              "      <td>1.0</td>\n",
              "      <td>0.0</td>\n",
              "      <td>0.0</td>\n",
              "    </tr>\n",
              "    <tr>\n",
              "      <th>17051</th>\n",
              "      <td>59.0</td>\n",
              "      <td>83095.8</td>\n",
              "      <td>4</td>\n",
              "      <td>0</td>\n",
              "      <td>17729.0003</td>\n",
              "      <td>0</td>\n",
              "      <td>0.0</td>\n",
              "      <td>1.0</td>\n",
              "      <td>0.0</td>\n",
              "      <td>0.0</td>\n",
              "      <td>0.0</td>\n",
              "      <td>0.0</td>\n",
              "      <td>0.0</td>\n",
              "      <td>0.0</td>\n",
              "      <td>0.0</td>\n",
              "      <td>0.0</td>\n",
              "      <td>0.0</td>\n",
              "      <td>1.0</td>\n",
              "      <td>0.0</td>\n",
              "      <td>0.0</td>\n",
              "    </tr>\n",
              "    <tr>\n",
              "      <th>17052</th>\n",
              "      <td>78.0</td>\n",
              "      <td>8957.0</td>\n",
              "      <td>1</td>\n",
              "      <td>0</td>\n",
              "      <td>1814.7004</td>\n",
              "      <td>0</td>\n",
              "      <td>0.0</td>\n",
              "      <td>1.0</td>\n",
              "      <td>0.0</td>\n",
              "      <td>0.0</td>\n",
              "      <td>0.0</td>\n",
              "      <td>0.0</td>\n",
              "      <td>0.0</td>\n",
              "      <td>0.0</td>\n",
              "      <td>0.0</td>\n",
              "      <td>0.0</td>\n",
              "      <td>0.0</td>\n",
              "      <td>1.0</td>\n",
              "      <td>0.0</td>\n",
              "      <td>0.0</td>\n",
              "    </tr>\n",
              "    <tr>\n",
              "      <th>17053</th>\n",
              "      <td>40.5</td>\n",
              "      <td>124093.4</td>\n",
              "      <td>2</td>\n",
              "      <td>3</td>\n",
              "      <td>6182.0000</td>\n",
              "      <td>0</td>\n",
              "      <td>0.0</td>\n",
              "      <td>1.0</td>\n",
              "      <td>0.0</td>\n",
              "      <td>0.0</td>\n",
              "      <td>0.0</td>\n",
              "      <td>0.0</td>\n",
              "      <td>0.0</td>\n",
              "      <td>0.0</td>\n",
              "      <td>0.0</td>\n",
              "      <td>0.0</td>\n",
              "      <td>0.0</td>\n",
              "      <td>1.0</td>\n",
              "      <td>0.0</td>\n",
              "      <td>0.0</td>\n",
              "    </tr>\n",
              "  </tbody>\n",
              "</table>\n",
              "<p>17054 rows × 20 columns</p>\n",
              "</div>"
            ],
            "text/plain": [
              "        age    income  adults  ...  housing_type_2  housing_type_4  housing_type_5\n",
              "0      74.0   15234.0       1  ...             1.0             0.0             0.0\n",
              "1      58.0   60010.0       2  ...             0.0             0.0             0.0\n",
              "2      45.0   66134.2       2  ...             0.0             0.0             0.0\n",
              "3      49.5   60217.8       2  ...             0.0             1.0             0.0\n",
              "4      46.0  122015.0       2  ...             0.0             0.0             0.0\n",
              "...     ...       ...     ...  ...             ...             ...             ...\n",
              "17049  31.5   36640.0       2  ...             0.0             1.0             0.0\n",
              "17050  56.0   32393.0       2  ...             1.0             0.0             0.0\n",
              "17051  59.0   83095.8       4  ...             1.0             0.0             0.0\n",
              "17052  78.0    8957.0       1  ...             1.0             0.0             0.0\n",
              "17053  40.5  124093.4       2  ...             1.0             0.0             0.0\n",
              "\n",
              "[17054 rows x 20 columns]"
            ]
          },
          "metadata": {
            "tags": []
          },
          "execution_count": 11
        }
      ]
    },
    {
      "cell_type": "markdown",
      "metadata": {
        "id": "TT5v6cbrZe2h"
      },
      "source": [
        "***"
      ]
    },
    {
      "cell_type": "markdown",
      "metadata": {
        "id": "5JLe6s20rv-g"
      },
      "source": [
        "### Normalization"
      ]
    },
    {
      "cell_type": "code",
      "metadata": {
        "id": "Zb40lFyirq8n"
      },
      "source": [
        "from sklearn.preprocessing import MinMaxScaler"
      ],
      "execution_count": null,
      "outputs": []
    },
    {
      "cell_type": "code",
      "metadata": {
        "colab": {
          "base_uri": "https://localhost:8080/"
        },
        "id": "02_qTHtXruP9",
        "outputId": "02561fdb-1fe2-4163-e4f0-0e93cb2ac997"
      },
      "source": [
        "start = timer()\n",
        "###\n",
        "scaler = MinMaxScaler()\n",
        "\n",
        "\n",
        "min_2008 = df_2008.min()\n",
        "max_2008 = df_2008.max()\n",
        "\n",
        "df_2008_normalized = scaler.fit_transform(df_2008)\n",
        "\n",
        "df_2008_normalized = pd.DataFrame(df_2008_normalized)\n",
        "\n",
        "df_2008_normalized.columns = df_2008.columns\n",
        "###\n",
        "end = timer()\n",
        "\n",
        "\n",
        "print(\"It took \",timedelta(seconds=end-start), \" to normalize the dataset\")  "
      ],
      "execution_count": null,
      "outputs": [
        {
          "output_type": "stream",
          "text": [
            "It took  0:00:00.015096  to normalize the dataset\n"
          ],
          "name": "stdout"
        }
      ]
    },
    {
      "cell_type": "markdown",
      "metadata": {
        "id": "3h4aDPEzEkiN"
      },
      "source": [
        "### Divide into X and y"
      ]
    },
    {
      "cell_type": "code",
      "metadata": {
        "id": "BPUD98cDVg8F"
      },
      "source": [
        "X_2008 = df_2008_normalized.drop([\"total_expenditure\"], axis =1) \n",
        "y_2008 = df_2008_normalized[\"total_expenditure\"]"
      ],
      "execution_count": null,
      "outputs": []
    },
    {
      "cell_type": "code",
      "metadata": {
        "colab": {
          "base_uri": "https://localhost:8080/"
        },
        "id": "eckjidpCjc2N",
        "outputId": "95fcce1f-b69f-4532-f394-e7ac80dd8060"
      },
      "source": [
        "len(X_2008)"
      ],
      "execution_count": null,
      "outputs": [
        {
          "output_type": "execute_result",
          "data": {
            "text/plain": [
              "17054"
            ]
          },
          "metadata": {
            "tags": []
          },
          "execution_count": 15
        }
      ]
    },
    {
      "cell_type": "markdown",
      "metadata": {
        "id": "x3PK3LDplfVg"
      },
      "source": [
        "### Splitting into Training, Validation and Test set"
      ]
    },
    {
      "cell_type": "code",
      "metadata": {
        "id": "N6GA_Z0SlCBC"
      },
      "source": [
        "from sklearn.model_selection import train_test_split "
      ],
      "execution_count": null,
      "outputs": []
    },
    {
      "cell_type": "code",
      "metadata": {
        "id": "QozCp6FIVA6z"
      },
      "source": [
        "## 2008\n",
        "# split dataset into Train and Validation\n",
        "X_train_2008, X_test_2008, y_train_2008, y_test_2008 = train_test_split(\n",
        "    X_2008, \n",
        "    y_2008, \n",
        "    test_size=0.2,  \n",
        "    random_state=629) "
      ],
      "execution_count": null,
      "outputs": []
    },
    {
      "cell_type": "markdown",
      "metadata": {
        "id": "zbfBhAp5EXYO"
      },
      "source": [
        "### Resampling"
      ]
    },
    {
      "cell_type": "code",
      "metadata": {
        "id": "pi4bb6GtEWxy"
      },
      "source": [
        "num_subsets = 250"
      ],
      "execution_count": null,
      "outputs": []
    },
    {
      "cell_type": "code",
      "metadata": {
        "id": "6bZ4HiezE1uc"
      },
      "source": [
        "for_resam_2008 = pd.concat([X_train_2008,y_train_2008], axis=1)"
      ],
      "execution_count": null,
      "outputs": []
    },
    {
      "cell_type": "code",
      "metadata": {
        "id": "AzI_AwomGEIq"
      },
      "source": [
        "X_subsets_train_2008 = []\n",
        "y_subsets_train_2008 = []\n",
        "\n",
        "for i in range(0,num_subsets):\n",
        "    sb = for_resam_2008.sample(frac = 0.3,replace=True)\n",
        "\n",
        "    Xsb = sb.drop([\"total_expenditure\"], axis =1)\n",
        "    ysb = sb[\"total_expenditure\"]\n",
        "\n",
        "    X_subsets_train_2008.append(Xsb)\n",
        "    y_subsets_train_2008.append(ysb)"
      ],
      "execution_count": null,
      "outputs": []
    },
    {
      "cell_type": "markdown",
      "metadata": {
        "id": "2SHJF9Z5ZeqY"
      },
      "source": [
        "## Deep Neural Network"
      ]
    },
    {
      "cell_type": "code",
      "metadata": {
        "id": "S0U9EvUnazU6"
      },
      "source": [
        "from tqdm import tqdm"
      ],
      "execution_count": null,
      "outputs": []
    },
    {
      "cell_type": "code",
      "metadata": {
        "id": "H0FLd0Bq-qTK"
      },
      "source": [
        "from tensorflow.keras import regularizers"
      ],
      "execution_count": null,
      "outputs": []
    },
    {
      "cell_type": "markdown",
      "metadata": {
        "id": "WYBAhPXUZibf"
      },
      "source": [
        "### Training"
      ]
    },
    {
      "cell_type": "code",
      "metadata": {
        "id": "orX9VaYkgRjq"
      },
      "source": [
        "num_epoch = 1000"
      ],
      "execution_count": null,
      "outputs": []
    },
    {
      "cell_type": "code",
      "metadata": {
        "colab": {
          "background_save": true,
          "base_uri": "https://localhost:8080/"
        },
        "id": "QMGEVq06b8Wd",
        "outputId": "aeb82a71-f79b-4ee8-ee63-21082c185dab"
      },
      "source": [
        "print(\"Totally, there are \",len(X_subsets_train_2008), \"training processes(# of subsets)\")\n",
        "print(\"=========================================================\")\n",
        "print(\"\\n\")\n",
        "\n",
        "start = timer()\n",
        "\n",
        "sub_histories_2008 = []\n",
        "trained_model_2008 = []\n",
        "\n",
        "for i in tqdm(range(0,len(X_subsets_train_2008))):\n",
        "\n",
        "  # model\n",
        "    model = keras.Sequential([ \n",
        "            keras.layers.Dense(16,activation = \"relu\", kernel_regularizer=regularizers.l2(l2=1e-4)),  \n",
        "            keras.layers.Dense(8,activation = \"relu\", kernel_regularizer=regularizers.l2(l2=1e-4)),\n",
        "            keras.layers.Dense(1)\n",
        "        ])\n",
        "  \n",
        "\n",
        "  # compile\n",
        "    adam_opt = keras.optimizers.Adam(lr=0.0001)\n",
        "    model.compile(loss='mse', optimizer=adam_opt, metrics=['mse'])\n",
        "\n",
        "\n",
        "\n",
        "  # history\n",
        "    history = model.fit(X_subsets_train_2008[i],\n",
        "                    y_subsets_train_2008[i],\n",
        "                    batch_size=256,\n",
        "                    epochs=num_epoch,\n",
        "                    verbose=0,\n",
        "                    validation_split = 0.2)\n",
        "                    #validation_data=(X_valid_2008, y_valid_2008))\n",
        "\n",
        "# save\n",
        "    trained_model_2008.append(model)\n",
        "    sub_histories_2008.append(history)\n",
        "\n",
        "end = timer()\n",
        "print(\"\\n\")\n",
        "print(\"=========================================================\")\n",
        "print(\"It took \",timedelta(seconds=end-start), \" to train the whole models\")"
      ],
      "execution_count": null,
      "outputs": [
        {
          "output_type": "stream",
          "text": [
            "\r  0%|          | 0/250 [00:00<?, ?it/s]"
          ],
          "name": "stderr"
        },
        {
          "output_type": "stream",
          "text": [
            "Totally, there are  250 training processes(# of subsets)\n",
            "=========================================================\n",
            "\n",
            "\n"
          ],
          "name": "stdout"
        },
        {
          "output_type": "stream",
          "text": [
            "100%|██████████| 250/250 [4:00:37<00:00, 57.75s/it]"
          ],
          "name": "stderr"
        },
        {
          "output_type": "stream",
          "text": [
            "\n",
            "\n",
            "=========================================================\n",
            "It took  4:00:37.063286  to train the whole models\n"
          ],
          "name": "stdout"
        },
        {
          "output_type": "stream",
          "text": [
            "\n"
          ],
          "name": "stderr"
        }
      ]
    },
    {
      "cell_type": "markdown",
      "metadata": {
        "id": "UP4g5m5rccbi"
      },
      "source": [
        "### Testing"
      ]
    },
    {
      "cell_type": "code",
      "metadata": {
        "colab": {
          "background_save": true
        },
        "id": "eax-dTvSdwba",
        "outputId": "93db09bc-d104-4fde-d4e2-f6c2613fdc5a"
      },
      "source": [
        "print(\"=========================================================\")\n",
        "print(\"\\n\")\n",
        "\n",
        "start = timer()\n",
        "\n",
        "yhat_list_2008 = []\n",
        "\n",
        "for i in tqdm(range(0,len(trained_model_2008))):\n",
        "    yhat_2008 = np.squeeze(trained_model_2008[i].predict(X_test_2008)) # Predict X_test\n",
        "    yhat_list_2008.append(yhat_2008)\n",
        "\n",
        "\n",
        "yhat_df_2008 = pd.DataFrame(yhat_list_2008).transpose()\n",
        "\n",
        "yhat_df_2008_original = (yhat_df_2008 * (max_2008[\"total_expenditure\"] - min_2008[\"total_expenditure\"])) + min_2008[\"total_expenditure\"]\n",
        "yhat_mean_2008_original = np.mean(yhat_df_2008_original,axis = 1)\n",
        "yhat_std_2008_original = np.std(yhat_df_2008_original,axis = 1)\n",
        "\n",
        "y_test_2008_original = (y_test_2008 * (max_2008[\"total_expenditure\"] - min_2008[\"total_expenditure\"])) + min_2008[\"total_expenditure\"]\n",
        "y_test_2008_index = y_test_2008_original.reset_index().pop(\"index\")\n",
        "y_test_2008_original = y_test_2008_original.reset_index().drop(\"index\",axis = 1)\n",
        "residuel_2008_original = yhat_df_2008_original.sub(y_test_2008_original[\"total_expenditure\"], axis=0)\n",
        "\n",
        "\n",
        "end = timer()\n",
        "\n",
        "print(\"\\n\")\n",
        "print(\"=========================================================\")\n",
        "print(\"It took \",timedelta(seconds=end-start), \" to test the whole models\")"
      ],
      "execution_count": null,
      "outputs": [
        {
          "output_type": "stream",
          "text": [
            "\r  0%|          | 0/250 [00:00<?, ?it/s]"
          ],
          "name": "stderr"
        },
        {
          "output_type": "stream",
          "text": [
            "=========================================================\n",
            "\n",
            "\n"
          ],
          "name": "stdout"
        },
        {
          "output_type": "stream",
          "text": [
            "100%|██████████| 250/250 [00:46<00:00,  5.36it/s]\n"
          ],
          "name": "stderr"
        },
        {
          "output_type": "stream",
          "text": [
            "\n",
            "\n",
            "=========================================================\n",
            "It took  0:00:47.103133  to test the whole models\n"
          ],
          "name": "stdout"
        }
      ]
    },
    {
      "cell_type": "markdown",
      "metadata": {
        "id": "WXUMAVjJdoEm"
      },
      "source": [
        "### Histroy"
      ]
    },
    {
      "cell_type": "code",
      "metadata": {
        "colab": {
          "background_save": true
        },
        "id": "NYFmlT-Ifm-F"
      },
      "source": [
        " # loss\n",
        "list_loss_2008 = []\n",
        "for i in range(0,len(sub_histories_2008)):\n",
        "    loss_2008 = np.array(sub_histories_2008[i].history[\"loss\"])\n",
        "    list_loss_2008.append(loss_2008)\n",
        "        \n",
        "loss_df_2008 = pd.DataFrame(list_loss_2008).transpose()\n",
        "\n",
        "list_val_loss_2008 = []\n",
        "for i in range(0,len(sub_histories_2008)):\n",
        "    val_loss_2008 = np.array(sub_histories_2008[i].history[\"val_loss\"])\n",
        "    list_val_loss_2008.append(val_loss_2008)\n",
        "        \n",
        "val_loss_df_2008 = pd.DataFrame(list_val_loss_2008).transpose()"
      ],
      "execution_count": null,
      "outputs": []
    },
    {
      "cell_type": "code",
      "metadata": {
        "colab": {
          "background_save": true
        },
        "id": "KMqT1JA-Der4"
      },
      "source": [
        "mean_loss_2008 = np.mean(loss_df_2008,axis=1)\n",
        "mean_val_loss_2008 = np.mean(val_loss_df_2008, axis = 1)"
      ],
      "execution_count": null,
      "outputs": []
    },
    {
      "cell_type": "code",
      "metadata": {
        "colab": {
          "background_save": true
        },
        "id": "IXrMjTCJxINn",
        "outputId": "b9a98caf-1e30-4594-b132-3717a86d23f4"
      },
      "source": [
        "plt.plot(mean_loss_2008[300:])\n",
        "plt.plot(mean_val_loss_2008[300:])"
      ],
      "execution_count": null,
      "outputs": [
        {
          "output_type": "execute_result",
          "data": {
            "text/plain": [
              "[<matplotlib.lines.Line2D at 0x7f095ed75b90>]"
            ]
          },
          "metadata": {
            "tags": []
          },
          "execution_count": 0
        },
        {
          "output_type": "display_data",
          "data": {
            "image/png": "[encoded data removed]",
            "text/plain": [
              "<Figure size 432x288 with 1 Axes>"
            ]
          },
          "metadata": {
            "tags": []
          }
        }
      ]
    },
    {
      "cell_type": "code",
      "metadata": {
        "colab": {
          "background_save": true
        },
        "id": "QaGnuuVto08k"
      },
      "source": [
        " import plotly.graph_objects as go\n",
        "from plotly.subplots import make_subplots"
      ],
      "execution_count": null,
      "outputs": []
    },
    {
      "cell_type": "code",
      "metadata": {
        "colab": {
          "background_save": true
        },
        "id": "W8EmYkedMLai",
        "outputId": "fdbbff5f-7fa0-4933-a509-2ecb7fe408d2"
      },
      "source": [
        "fig = make_subplots(rows=1, cols=2, subplot_titles=(\"total_expenditure_2008\", \"predicted total_expenditure_2008\"))\n",
        "\n",
        "\n",
        "\n",
        "fig.add_trace(go.Histogram(x=y_test_2008_original[\"total_expenditure\"],\n",
        "                           xbins=dict(size=1000),marker_color='#1f77b4'), row=1, col=1)\n",
        "fig.add_trace(go.Histogram(x=yhat_mean_2008_original,\n",
        "                           xbins=dict(size=1000),marker_color='#1f77b4'), row=1, col=2)\n",
        "#fig.add_trace(go.Histogram(x=res_2001.predict(X_test_2001),\n",
        "#                           xbins=dict(size=1000), marker_color='#1f77b4'), row=1, col=2)\n",
        "\n",
        "fig.update_layout(title_text=\"2008 Prediction Linear Regression (Test set Comparison)\", height=400, showlegend=False,\n",
        "                  bargap=0.1,\n",
        "                  bargroupgap=0.1)"
      ],
      "execution_count": null,
      "outputs": [
        {
          "output_type": "display_data",
          "data": {
            "text/html": [
              "<html>\n",
              "<head><meta charset=\"utf-8\" /></head>\n",
              "<body>\n",
              "    <div>\n",
              "            <script src=\"https://cdnjs.cloudflare.com/ajax/libs/mathjax/2.7.5/MathJax.js?config=TeX-AMS-MML_SVG\"></script><script type=\"text/javascript\">if (window.MathJax) {MathJax.Hub.Config({SVG: {font: \"STIX-Web\"}});}</script>\n",
              "                <script type=\"text/javascript\">window.PlotlyConfig = {MathJaxConfig: 'local'};</script>\n",
              "        <script src=\"https://cdn.plot.ly/plotly-latest.min.js\"></script>    \n",
              "            <div id=\"e0a29921-7849-4cc9-a472-ad6770043ee4\" class=\"plotly-graph-div\" style=\"height:400px; width:100%;\"></div>\n",
              "            <script type=\"text/javascript\">\n",
              "                \n",
              "                    window.PLOTLYENV=window.PLOTLYENV || {};\n",
              "                    \n",
              "                if (document.getElementById(\"e0a29921-7849-4cc9-a472-ad6770043ee4\")) {\n",
              "                    Plotly.newPlot(\n",
              "                        'e0a29921-7849-4cc9-a472-ad6770043ee4',\n",
              "                        [{\"marker\": {\"color\": \"#1f77b4\"}, \"type\": \"histogram\", \"x\": [8993.9999, 28558.9998, 1812.2000000000007, 15961.700000000004, 4549.0, 7883.7001, 5381.550000000001, 4584.0002, 12489.000200000002, 10166.000100000001, 7071.0, 7340.999599999999, 13106.249499999998, 4282.949900000001, 18691.7002, 14576.399900000004, 6411.5, 9594.077900000002, 12197.000000000004, 8013.5003, 18723.5002, 10879.5, 7341.5, 8360.5001, 3289.9998000000014, 6635.200000000001, 14905.0003, 8674.1998, 6172.9997, 6814.999899999999, 8016.249900000001, 7745.545000000002, 3797.9998000000014, 16499.999700000004, 7556.000000000002, 4214.0, 12897.9329, 6219.200399999998, 5087.999700000002, 10014.0002, 4505.1998, 3550.000100000001, 4726.4998, 10579.000100000001, 1550.9998999999998, 4045.9999000000007, 3279.2001, 10697.000199999999, 10485.4431, 5955.0, 11482.2003, 3524.9999000000007, 5552.3999, 6264.999899999999, 14315.000100000001, 0.0, 3994.0002000000004, 12786.200000000004, 3992.2003000000004, 2182.2001, 4772.700300000002, 2964.9999000000007, 14668.999800000001, 7126.9999000000025, 6146.400100000001, 5690.499900000001, 12326.1999, 2439.200200000001, 11310.999900000003, 4118.500100000001, 11335.000200000002, 1554.000000000001, 15351.000200000002, 7734.000100000001, 5238.000200000002, 6974.000000000002, 6665.999700000002, 29301.99980000001, 9202.0997, 6382.000400000003, 7789.499800000001, 9048.0, 6650.1999, 12909.249800000001, 7678.0, 5179.000100000001, 12123.999700000004, 17618.9999, 11309.500100000001, 28175.00010000001, 9848.0004, 6274.0002, 12306.9997, 7756.999899999999, 14410.0004, 6634.400200000002, 15265.9996, 8330.0, 5092.8999, 21936.699499999995, 4580.200200000001, 6497.999899999999, 4249.200200000001, 4082.1998000000003, 6814.8837, 7362.9998, 6966.1998, 2373.0002000000004, 2568.2001, 15397.500200000002, 15482.000199999999, 5222.2001, 7967.0002, 12464.2, 2148.9997999999996, 5599.8999, 6165.750100000003, 15045.750100000001, 5132.999600000001, 5040.75, 27286.999700000004, 12244.9997, 15536.999899999999, 6543.4, 16872.999900000003, 19291.000000000004, 7657.000000000002, 14911.4225, 6581.200100000002, 5084.7502, 2932.0002000000004, 11505.750200000002, 8960.3999, 15399.000100000001, 6712.000200000002, 3588.3997, 14524.241100000003, 1868.0, 12555.5553, 9564.803300000001, 9809.450199999997, 6642.250100000001, 6874.000100000001, 8429.399800000001, 4389.2001, 10749.999900000003, 16108.000400000004, 9854.000000000002, 9414.0, 18978.1644, 11020.000200000002, 11920.199800000002, 17135.683100000002, 7336.999900000001, 13953.000200000002, 4204.2001, 11598.999900000003, 4847.000200000002, 4612.2001, 6490.0003000000015, 6392.999600000001, 7335.000100000003, 10204.000100000001, 7102.0, 22730.1998, 11895.421700000003, 21805.2504, 10124.0, 15707.0, 8114.000100000001, 4461.000400000001, 5545.75, 5317.9998, 12411.000100000001, 22444.000000000004, 7103.999800000001, 3460.2001, 5386.499900000001, 15231.249899999999, 1420.0002000000004, 8531.750100000001, 18745.0, 22078.000700000004, 6955.999999999998, 8612.499600000001, 6402.200000000001, 5179.000100000001, 20601.1079, 6142.1499, 2707.000100000001, 9753.000000000002, 12892.000100000001, 9209.9999, 19252.000200000002, 5880.1999, 14615.000200000002, 5757.0, 5908.499900000001, 2936.0001999999986, 8717.9004, 5702.999799999998, 7406.199800000002, 5548.200000000001, 8821.0001, 6531.9998, 8107.000099999999, 6493.0002, 7108.5, 13385.1001, 3546.000100000001, 5817.3999, 9349.0001, 6914.0002, 7570.999899999999, 8662.0, 9049.0002, 4146.0002, 12962.4994, 6145.000000000002, 7120.999599999999, 6364.700399999998, 7660.500100000003, 2373.0002000000004, 3608.2000000000007, 12737.6829, 18676.898999999998, 5535.999900000001, 19418.0, 5744.399700000002, 9196.699899999998, 5384.9997, 3659.0002999999997, 5483.999700000002, 2611.0, 4990.5003, 6108.000200000002, 4981.200000000001, 13296.2409, 2804.0002000000004, 6356.999900000001, 5868.750100000001, 2526.9997000000003, 1185.0, 5023.9997, 14748.5003, 8173.999900000001, 6186.000000000002, 23759.4998, 15818.400000000001, 14605.499600000003, 6270.750299999998, 8646.0001, 4300.5003, 4178.9998, 6846.1998, 3960.999899999999, 34753.000100000005, 5464.400200000002, 4521.999900000001, 6071.000000000002, 9799.750400000003, 17429.683400000005, 10562.0, 2339.000100000001, 4834.756200000002, 8748.250100000001, 27051.2499, 5873.1996, 15976.790100000002, 20398.3052, 7387.000699999999, 12896.4912, 2294.1998999999996, 3244.9995, 5322.9997, 9863.0, 26469.166000000005, 5659.999999999998, 6518.999800000001, 13848.000499999998, 18518.5637, 9258.200000000003, 3944.0001999999986, 15680.5003, 6115.999900000001, 11011.000100000001, 3729.400099999999, 6330.200000000001, 3668.000100000001, 3216.0002999999997, 9718.999800000001, 11725.555, 4737.999900000001, 3451.4501, 10895.499899999999, 3949.1998999999996, 9938.0, 5636.000200000002, 10149.000200000002, 4140.500100000001, 12306.5497, 8311.400200000002, 8592.000000000002, 8270.200100000002, 4770.700300000002, 7993.000199999999, 6199.3999, 3201.999899999999, 2511.9997999999996, 8337.999500000002, 7844.244000000002, 7472.4, 6458.000100000001, 23422.4441, 13252.999899999999, 24057.999900000003, 4857.360199999999, 19117.0002, 6966.5003, 14178.000500000002, 12356.1999, 19335.3999, 9570.4999, 8613.0001, 4986.0, 13251.9997, 9132.7498, 5878.5, 6551.636, 8116.240900000001, 20425.9999, 6369.000000000002, 3197.0, 13655.933399999998, 11025.0, 5550.4000000000015, 7466.0, 12078.999800000001, 6939.749900000001, 23921.066000000003, 5367.0002, 13020.0003, 4353.9998, 3405.0, 5794.0003, 7647.0002, 14817.2408, 5706.9998, 5274.000200000002, 5131.000100000001, 9077.999900000003, 680.0, 13354.5004, 5161.649800000001, 5001.499900000001, 21344.9996, 11056.75, 8150.213000000002, 3858.000000000002, 21889.3995, 30609.9241, 13197.999800000001, 22171.432700000005, 6315.249800000001, 6507.500399999999, 6884.0003000000015, 15927.000200000002, 8237.242000000002, 7267.550000000001, 2865.0002000000004, 20818.3999, 3985.1998999999996, 4052.000100000001, 6223.0002, 7817.400300000001, 6282.2004, 2045.9501, 8405.499899999999, 17903.999600000003, 3929.9997000000003, 12641.499899999999, 4429.2004, 8867.0001, 5302.9998, 5925.0005, 4404.0002, 11007.999800000001, 34784.63100000001, 14651.999900000003, 8681.0001, 1405.0, 5852.0, 11091.000099999997, 21766.00010000001, 16202.749600000003, 5203.000200000002, 6750.1999, 13030.1999, 7076.999900000001, 6722.999600000001, 10576.000100000001, 7000.000100000001, 9404.4998, 12462.0, 10883.441300000002, 5195.000399999999, 15119.2504, 9447.0, 11348.000100000001, 14192.0003, 15011.6499, 13255.25, 14463.249800000001, 3410.9999000000007, 7457.0002, 10278.240900000003, 4656.000099999999, 11196.0, 5962.3999, 6648.9998, 5556.999800000001, 15414.240699999998, 8959.250300000002, 17917.999900000003, 6118.200100000002, 17487.400000000005, 10639.999900000003, 12548.000099999997, 24244.499900000006, 29332.9998, 7903.999900000001, 6951.000099999999, 12939.000100000001, 14528.0, 2924.2000000000007, 6454.999899999999, 3415.0, 12285.400300000001, 6240.999700000002, 13555.000100000001, 12709.9997, 5748.9996999999985, 7272.000199999999, 4431.199999999999, 3259.0, 5617.000100000001, 10101.7503, 7061.0002, 29565.9904, 18433.9997, 22318.000100000005, 4120.200000000001, 6864.999900000001, 3289.9999000000007, 8414.9999, 2868.9997999999996, 6429.999900000001, 8734.000100000001, 5483.400100000001, 9629.000100000001, 1664.0000999999993, 14355.200500000003, 5526.6500000000015, 4361.6998, 2942.199700000001, 3823.5005, 10093.000100000001, 19881.999900000003, 12400.2, 22249.950299999997, 22303.500400000004, 12232.999900000003, 5214.0002, 3892.9999000000007, 7725.1999, 6419.421899999999, 11050.999900000003, 5365.499800000001, 6225.200100000002, 4594.000100000001, 9319.0002, 6866.200000000001, 4560.000100000001, 1305.0, 17322.0003, 1566.1998000000003, 3889.9997999999996, 9377.999899999999, 2269.999899999999, 9139.9997, 5944.4000000000015, 12929.500199999999, 5535.587900000002, 9817.9998, 18974.000000000004, 7129.499900000001, 12799.400000000001, 9365.999600000001, 12681.949400000001, 5976.750100000001, 5053.749800000001, 8881.646500000003, 9267.2046, 7662.567200000001, 12824.000100000001, 4549.3001, 5082.999700000002, 3391.2000000000007, 5799.499800000001, 4464.000100000001, 4434.900100000001, 6249.000200000002, 9959.5001, 7799.9995, 14247.000200000002, 9316.000000000002, 11113.966400000001, 9314.9999, 20915.000000000004, 24685.5332, 6068.0, 9248.200100000002, 4794.9998, 3131.500100000001, 3259.9997999999996, 7827.0, 4801.0003, 10736.500100000001, 34950.859, 7254.199700000003, 12732.999800000001, 6723.499600000001, 2844.1999000000014, 11062.999900000003, 3725.0, 7261.000200000002, 19894.2498, 12606.0, 9520.1505, 8557.000200000002, 31210.199900000003, 9432.0001, 7576.749800000001, 2110.0001999999995, 11506.682800000002, 4977.399800000001, 10941.7494, 3578.0002000000004, 7292.75, 14719.0, 5622.999999999998, 4541.399799999999, 29775.241299999998, 5439.2001, 8167.000000000002, 14929.999600000003, 8198.0001, 8325.999700000002, 5439.5, 6767.000100000001, 10747.999799999998, 9371.000300000002, 12425.000100000001, 4188.700000000001, 13278.999800000001, 8966.15, 6597.0, 11560.75, 10552.500100000001, 21533.0437, 4707.000000000002, 7879.000100000001, 19950.332499999997, 14888.0003, 10166.8996, 8940.7496, 3842.4002, 14556.999800000001, 10146.0005, 8154.1998, 12123.999800000001, 19954.0, 12625.1999, 10253.0003, 15023.000100000001, 7260.000200000002, 20038.599700000002, 6944.000100000001, 5315.9998, 10475.949700000001, 5414.399600000001, 12689.0003, 11106.9997, 5325.0002, 15417.622, 11838.999900000003, 4251.1998, 13498.999800000001, 16315.3999, 4260.999900000001, 7678.0, 13364.9996, 10278.2001, 17798.999700000004, 25340.000300000003, 3318.000100000001, 8015.9998, 4046.2000000000007, 16351.999900000003, 11874.000100000001, 13568.9996, 4031.000100000001, 5600.0003, 11708.0003, 14119.499600000003, 20687.999900000003, 6929.0, 3833.2000000000007, 17600.0002, 3533.000100000001, 6832.000399999999, 9108.999800000001, 15820.0, 9226.200500000003, 5190.500000000002, 5229.400100000001, 8917.2, 5536.749899999999, 6688.000100000003, 4170.2001, 6151.000000000002, 3431.9997999999996, 24151.9503, 3255.0, 10607.9997, 17901.4003, 7059.000400000001, 8465.7499, 4505.200000000001, 2210.0001, 6554.749600000001, 4629.399799999999, 10796.999800000001, 8271.9999, 7519.999900000001, 2937.1998000000003, 9556.7504, 2883.9999000000007, 9937.044000000002, 17484.750000000004, 19906.25, 19135.6999, 21865.683, 5503.0003, 7256.0, 7607.000400000003, 9750.6908, 6147.9998, 9371.0001, 6814.400299999999, 10443.4558, 13100.500500000002, 8369.199600000002, 13748.0, 7247.999600000001, 2505.0, 3646.2000000000007, 4882.1998, 7488.666100000002, 8147.0, 7837.000000000002, 16043.249400000004, 9072.0001, 6418.9998, 2756.000100000001, 13022.0003, 6425.000100000001, 14594.0003, 6179.200000000001, 9211.999800000001, 10501.171999999999, 5785.999900000001, 14110.5, 16495.000200000002, 14090.991400000003, 12224.7503, 11668.999800000001, 3720.2001, 7996.200500000001, 35121.999899999995, 13627.999900000003, 7497.250000000002, 8147.999800000001, 6771.588000000002, 7168.9998, 10872.0, 3206.000100000001, 7285.0002, 11071.1999, 5020.5, 5822.000000000002, 7889.2498, 1527.0, 9698.999900000003, 4156.6001, 18752.200100000002, 13309.241000000002, 4318.399800000001, 4170.500099999999, 4293.0, 1842.0001000000002, 36148.14880000001, 16607.7502, 15170.9997, 4439.4, 1973.2001, 5532.9996999999985, 10988.650099999999, 6279.000100000001, 6215.0003000000015, 6964.0, 11700.000100000001, 13476.000100000001, 8911.9999, 6460.499500000002, 7401.0, 9682.0001, 6518.000100000001, 4092.250100000001, 14290.9997, 10632.500100000001, 3283.1998999999996, 13741.000100000001, 11586.4499, 9717.4, 13225.199800000002, 11126.0, 11551.9479, 3194.000100000001, 5203.9998, 4745.000000000002, 11006.400000000001, 7233.9997, 9614.0003, 20497.682700000005, 1164.000000000001, 19154.200200000003, 5638.999900000001, 6501.999600000001, 35403.00020000001, 3729.2001, 9179.0001, 8911.0, 8122.000100000001, 21410.000200000002, 11334.500100000001, 9899.9997, 7549.200499999999, 9255.2001, 8457.4004, 8363.9999, 4109.4998, 6108.500100000001, 8816.8763, 27038.1847, 9701.4002, 2191.9997000000003, 4434.000100000001, 7844.0002, 19275.000400000004, 3438.9501, 8751.400100000003, 11836.000100000001, 20003.0001, 7902.1999, 10610.333200000001, 5549.3999, 3754.0, 6529.0005, 6809.200000000001, 15955.999500000002, 6284.000100000001, 6282.0, 7121.4998, 20850.500200000002, 3542.0002000000004, 25503.0, 15244.749900000003, 10527.999799999998, 5198.999800000001, 12092.000100000001, 8452.0002, 12077.999900000003, 5989.999799999998, 23079.199799999995, 6021.0002, 20336.000100000005, 9110.5002, 5450.000100000001, 4666.9998, 14730.0, 9169.000200000002, 18190.0004, 6032.000400000001, 2508.000100000001, 7931.1996, 16699.7501, 18215.5151, 4003.2502000000004, 28916.010100000003, 4911.999799999998, 22935.199900000003, 7061.999700000002, 6841.999900000001, 6500.000200000002, 2714.2000000000007, 10241.0003, 8009.999899999999, 13681.3998, 14295.564300000002, 4844.2001, 4012.9998000000014, 8228.9999, 4196.5002, 10947.388000000003, 22811.6829, 7797.249800000001, 3253.0, 9198.9997, 7083.000000000002, 14985.9996, 23149.761, 32145.000000000004, 15299.000200000006, 7610.4, 11509.499600000003, 7091.499599999999, 10861.000100000001, 17970.75, 9519.399900000002, 19128.704900000004, 8034.1998, 7134.999999999998, 12172.3998, 8015.000000000002, 6006.999900000001, 7951.2999, 12138.400100000003, 7855.9998, 5131.0, 11232.0003, 7481.999800000001, 12285.2, 7344.999800000001, 6028.000100000001, 31078.0001, 13605.999800000001, 10033.9999, 7898.5, 5911.000099999999, 2933.0002999999997, 5698.5, 29177.061100000003, 13198.9996, 6114.1999, 5561.5872, 12892.999800000001, 888.9999000000007, 7660.9997, 11325.9997, 12228.8177, 4209.000100000001, 5029.000000000002, 6925.000100000001, 4934.0, 5737.4002, 4327.7503000000015, 5455.0003, 7349.5002, 4913.9997, 24283.999700000004, 22588.683200000003, 19411.0001, 20234.9996, 8730.000100000001, 19813.749900000003, 9662.000100000001, 7347.0002, 5604.7502, 7444.949800000002, 8213.000000000002, 6284.999900000001, 8059.75, 9628.9997, 12087.000100000001, 8662.7001, 1769.2501000000002, 3226.0002000000004, 6288.000000000002, 10848.000100000001, 8481.000200000002, 7371.000000000002, 4986.000100000001, 6130.0, 7454.750200000002, 6280.000200000002, 4846.9998, 6331.000000000002, 1504.9998000000005, 6787.000200000002, 3114.999899999999, 8586.0, 11722.699800000002, 4253.0, 12127.8331, 22475.010200000004, 7747.0002, 16932.000200000002, 6504.000000000002, 23106.243800000004, 3730.0, 29503.2, 7226.749700000002, 9782.000000000002, 11650.0, 7279.0002, 6289.6536, 3249.9999000000007, 8609.0002, 5010.000099999999, 5746.999700000002, 5244.000000000002, 11265.499900000003, 5644.5771, 14993.999800000001, 2012.0001000000002, 22622.000299999996, 7424.000099999999, 14641.0003, 4116.0, 24245.755800000006, 9745.4001, 4703.999700000002, 2026.9999000000007, 7580.4998, 21863.399899999997, 2179.9999, 6146.999900000001, 5554.0, 1890.0, 12696.000199999999, 4063.9999000000007, 11651.999899999999, 5782.0, 11679.0, 3601.3997, 4207.9997, 11274.000199999999, 6191.0, 15013.199600000004, 5898.000099999999, 7212.399800000001, 7184.0003, 11380.0, 9790.0001, 6323.000200000002, 8002.9998, 9526.000100000001, 10968.999899999999, 6544.600200000001, 8951.000100000001, 9077.500000000002, 23088.999800000005, 9074.1995, 6483.000400000001, 8926.0001, 2712.5, 9531.9996, 6286.000200000002, 12341.2, 6643.000400000001, 4293.000099999999, 16181.000200000002, 8047.200200000001, 18859.399500000003, 9732.2001, 9248.3997, 6814.999899999999, 5253.0002, 2691.9999000000007, 16476.0, 6226.199900000001, 15699.0, 14621.7503, 9891.9997, 4813.000000000002, 9447.000100000001, 6479.399700000002, 11337.9997, 12760.0, 9512.9999, 6176.000100000001, 12809.000200000002, 9231.9998, 5327.9999000000025, 6911.4000000000015, 8952.999699999998, 11322.000100000001, 7466.2997, 31164.000300000003, 6542.999900000001, 11183.0, 3972.0002999999997, 11998.6499, 6230.0003, 10288.2998, 4765.399800000001, 3295.999899999999, 29026.250300000003, 4799.999899999999, 4445.000500000002, 6606.000100000001, 3720.6499999999996, 21230.0002, 9381.9998, 10974.000500000002, 2654.0, 5314.4, 13437.150000000001, 9742.250000000002, 8790.000300000002, 9206.9998, 9558.1998, 3208.1998999999996, 5349.999600000001, 24891.099700000006, 12679.0003, 16347.482500000002, 14336.0004, 4543.000100000001, 6573.249800000001, 3866.0002999999997, 7442.9997, 14122.000200000002, 6086.0002, 5542.9997, 9435.999900000003, 2031.4497000000001, 14672.0, 19599.999800000005, 9655.0001, 6748.999899999999, 3794.500100000001, 20506.8996, 3468.0, 29994.499900000006, 4310.0002, 6276.6497, 4526.999900000001, 6863.999900000001, 13078.3998, 4267.200200000001, 5862.200000000001, 9805.4999, 14529.766800000001, 2543.8001000000004, 4825.000100000001, 7917.000100000001, 5805.000099999999, 15010.600300000002, 13291.3998, 6448.0, 14008.249900000003, 5557.000100000001, 13698.000100000001, 29510.683200000003, 3479.9999000000007, 3061.000100000001, 3562.0, 8781.000099999997, 4056.9999000000007, 12080.0, 10625.000100000001, 20090.2498, 13103.999900000003, 4174.0002, 9697.0, 4730.9, 6150.200100000002, 6664.200000000001, 5837.0002, 16038.750000000004, 11343.0, 7417.999900000001, 12875.9997, 7469.999500000002, 7544.0, 5348.9998, 9867.0, 8425.0003, 9568.9998, 8985.000200000002, 5237.7507000000005, 8025.999800000001, 8631.4157, 11299.000200000002, 12527.2497, 2945.0000999999993, 12879.350200000004, 19220.333300000002, 21059.0095, 9351.250300000002, 3198.0, 6750.399800000001, 7935.0002, 13070.9997, 17770.999800000005, 14629.500200000002, 20115.0001, 6637.999600000001, 22560.569100000008, 13692.249900000003, 6166.249900000001, 5415.9997, 3625.2001, 3857.3999999999996, 8030.500100000001, 7872.500100000001, 15245.200100000002, 5158.450000000001, 2514.0000999999993, 9367.999900000003, 8458.000200000002, 2944.0, 7126.449899999998, 3670.9998000000014, 11863.0, 7736.999800000001, 3513.199999999999, 6054.999999999998, 8585.149700000002, 12283.250100000001, 9048.0, 9092.5238, 13252.199500000002, 2306.000100000001, 14221.0, 7363.1999, 3521.2000000000007, 5176.999900000001, 6974.0002, 8629.9999, 7652.500400000001, 1127.2001, 9607.4997, 12276.75, 19988.9998, 10918.515200000002, 7659.699700000001, 10761.9997, 17786.0003, 6932.123000000003, 4156.999899999999, 5871.0003, 9286.000200000002, 5395.999900000001, 10621.608200000002, 8529.999900000003, 10992.0, 14385.999800000001, 7423.000099999999, 8882.000000000002, 14125.999800000001, 4400.0002, 9209.9999, 15521.999600000003, 20803.4998, 15114.000200000002, 11253.999900000003, 3911.500000000002, 5982.4000000000015, 9139.000000000002, 9815.0005, 7233.000000000002, 7011.500000000002, 11674.682800000002, 31808.189200000004, 7329.9998, 7383.3997, 5123.000099999999, 3275.000100000001, 23289.999500000005, 2480.25, 4637.000099999999, 5350.1998, 14642.9997, 9950.999500000002, 7699.0003, 9936.0003, 9640.9999, 9331.0001, 4941.399800000001, 6379.999700000002, 4165.200200000001, 6592.999900000001, 18279.641000000003, 7792.5, 6637.999700000002, 2931.9998000000014, 11639.0004, 7741.0003, 12125.999900000003, 6490.200000000001, 3454.749599999999, 7796.0003, 17608.9999, 3420.0, 9093.199700000001, 4399.2003, 3128.0, 4066.0002999999997, 9971.0001, 13376.550400000004, 4449.0003, 9358.400200000002, 7491.999800000001, 6059.4, 4192.300000000001, 28556.2118, 5046.000000000002, 5988.499899999999, 20256.0001, 6377.000099999999, 7978.999900000001, 3423.000100000001, 17219.9501, 8766.4001, 2274.2001999999993, 5926.0, 10915.0003, 14343.0, 5685.9999000000025, 6538.0, 7159.000000000002, 2234.9999000000007, 12500.999800000001, 10002.0002, 5909.7004, 5957.5003, 4779.999900000001, 15065.2, 8709.999800000001, 2522.0, 31814.899700000005, 7719.000100000001, 7297.000000000002, 14092.5, 5482.999600000001, 13380.999900000003, 13927.000200000002, 8131.400200000002, 18078.0004, 7851.0002, 28174.00010000001, 5105.999900000001, 11446.0, 14540.399700000002, 21507.000000000004, 6105.000200000002, 4993.000000000002, 14707.999799999998, 10173.999700000002, 10228.199900000001, 15038.3999, 12846.000500000002, 16668.1828, 3919.0, 9334.241000000002, 12806.000200000002, 16338.9996, 9183.0003, 8570.0003, 12109.241399999999, 6973.000100000001, 8143.749900000001, 6159.199999999999, 8777.9999, 5406.3999, 10881.755200000003, 1684.2997999999998, 4994.200100000002, 6462.299800000001, 7790.0, 7180.999899999999, 6361.000200000002, 11705.899999999998, 10690.999900000003, 22566.998800000005, 10998.4997, 9340.4998, 7474.200000000001, 7503.0007000000005, 3045.000100000001, 5519.5002, 4352.200000000001, 14064.099500000004, 16689.7497, 14617.377200000003, 4615.400100000001, 6247.0, 8115.500200000002, 4050.000100000001, 5807.0003000000015, 12061.000100000001, 7461.0002, 4101.999899999999, 16861.999800000005, 8973.0, 21446.0002, 25423.999900000003, 16085.0439, 3555.9999000000007, 4742.500399999999, 10847.000000000004, 9842.3389, 13047.999800000001, 2040.9999000000007, 7131.5641, 3800.0001999999986, 18638.3997, 9550.999700000002, 6717.449999999999, 4132.999900000001, 4611.0002, 8181.999900000001, 11441.500200000002, 6713.9997, 5736.0, 6947.450200000001, 12950.000200000002, 9644.5444, 13114.999800000001, 6670.399800000001, 17272.999900000003, 4085.2412000000004, 22793.184900000004, 18007.9998, 5902.000100000001, 13544.000200000002, 25843.999800000005, 16513.0006, 5136.999900000001, 11015.0004, 5802.000099999999, 5911.999900000001, 5406.000099999999, 14417.9997, 14187.0104, 7330.800500000001, 3638.4000000000015, 5387.9998, 9342.149700000002, 3662.700100000002, 9239.000000000002, 10133.500100000001, 7634.0, 5096.1998, 5811.999899999999, 12911.200300000004, 4548.999900000001, 8216.0001, 5359.000000000002, 5187.0003, 12296.0, 8457.750300000002, 11108.0, 6721.000299999998, 6218.200100000002, 2086.0, 6813.000099999999, 20319.000200000002, 2030.0, 7208.1999, 3666.0000999999993, 12940.0004, 19158.5671, 6850.0, 6008.999900000001, 5463.999900000001, 7748.240900000001, 9947.200400000002, 3625.000100000001, 11245.0, 8451.4999, 13311.1999, 5544.200300000002, 6381.500099999999, 7796.749900000001, 8623.9998, 6457.4414, 8706.5002, 5465.0003, 5621.5998, 10971.999800000001, 12730.950100000002, 6608.999900000001, 2271.1998999999996, 10494.000100000001, 8730.0003, 21898.7002, 6104.9997, 11190.999500000002, 16285.000200000002, 8588.5003, 8087.999900000001, 5383.25, 9135.000000000002, 13541.0, 4094.0, 8473.000100000001, 8991.0331, 7578.1504, 6820.653700000003, 23502.515000000007, 32493.999700000004, 13429.000200000002, 3512.3497000000007, 17554.999800000005, 17375.0001, 7860.000100000001, 13896.999900000003, 23561.500000000007, 8159.000100000001, 7393.999799999998, 8509.2491, 11023.2, 3941.0002000000004, 6622.3999, 5369.000099999999, 31758.9996, 17737.800100000004, 10704.5003, 33021.249200000006, 6294.999900000001, 10610.999900000003, 9686.3997, 1956.1997000000001, 25519.000200000006, 8831.4006, 7822.999899999999, 12450.212, 4440.0, 12085.999800000001, 1782.000100000001, 13830.249800000001, 2159.9999, 7240.0, 5897.5002, 9246.7499, 6621.0003, 13302.6295, 6164.338899999999, 6009.9995, 6544.400300000001, 3977.000100000001, 10042.505099999998, 3822.1999000000014, 5290.000100000001, 25089.000099999997, 10669.0, 8459.9996, 6487.5998, 9929.4997, 7937.999899999999, 8446.9999, 11216.3498, 31329.999900000006, 28399.0001, 11604.250500000002, 16504.0, 7059.2001, 13445.000200000002, 4793.9998, 2650.0002000000004, 3288.9999000000007, 5353.000000000002, 4148.755900000002, 21157.5001, 2253.0, 16759.0001, 9961.9998, 4195.749899999999, 12071.000300000003, 11685.199800000002, 13274.1999, 22740.99950000001, 7750.0, 3934.0002000000004, 6885.9998, 1830.2001, 14296.9997, 6833.200200000003, 30534.2505, 8706.000100000001, 24986.682800000006, 17762.400400000002, 2557.000400000001, 13600.1996, 5592.749900000001, 5452.999899999999, 4208.499800000001, 4148.200200000001, 11101.9997, 11393.2503, 6471.200300000002, 6894.9998, 3278.9997999999996, 4041.2503000000015, 11433.500200000002, 13551.800200000001, 3784.4498999999996, 13797.0, 8262.2001, 5334.2001, 10808.499800000001, 14141.000100000001, 8015.200200000001, 28477.999700000004, 16599.199900000003, 1895.0001000000002, 5606.200100000002, 8392.0002, 11591.0, 3738.9997000000003, 15822.000300000003, 10031.9998, 11752.9997, 7549.999900000001, 13915.9997, 12999.999800000001, 4159.3999, 2062.2000000000007, 7477.9998, 6862.1999, 4993.000100000001, 12585.5004, 949.3000000000002, 4891.200199999999, 19391.2499, 3440.000100000001, 18355.626800000002, 16088.000599999996, 14824.000200000002, 15601.0, 9967.000000000002, 7038.9998, 24024.0002, 4795.421999999999, 5714.200000000001, 16948.0001, 7850.0, 24064.9914, 15459.2411, 6821.999899999999, 13435.000200000002, 13285.0, 3291.9998000000014, 21864.0001, 5554.200099999998, 5324.999900000001, 19170.9996, 3304.400200000002, 8734.200200000001, 3848.1998999999996, 2817.4997999999996, 5468.200199999999, 11131.999800000001, 6228.199900000001, 7281.940699999999, 14885.9997, 9097.4998, 8426.999800000001, 23358.440899999998, 10251.0002, 16872.924100000004, 8078.000100000001, 5241.0003, 8066.250100000001, 5617.5, 6207.000100000001, 8723.5, 4712.499900000001, 33909.99990000001, 6598.0, 12769.000200000002, 3458.000100000001, 10895.999500000002, 5465.000399999999, 10863.749900000003, 18321.9999, 30687.6836, 9355.000100000001, 22729.740799999996, 13818.999900000003, 2072.000100000001, 16693.0, 7135.000099999999, 11061.0006, 11890.750100000001, 7724.000200000002, 11036.199900000003, 12162.999900000003, 4797.200000000001, 10025.000100000001, 4842.999899999999, 12101.389, 18161.500300000003, 13716.2497, 16495.211700000003, 11411.7002, 10944.399700000002, 12007.999799999998, 28258.000200000006, 10323.000000000002, 8511.999900000003, 22133.250000000004, 4245.9997, 19909.9997, 7315.3997, 9156.9999, 10205.1505, 17403.0001, 34090.0, 14302.000100000001, 15355.456000000002, 6581.000000000002, 12742.2, 12439.000200000002, 13156.9997, 8990.9997, 5643.000299999998, 2129.0001, 5543.000199999999, 8891.0, 8798.500100000001, 11605.6829, 13746.082600000002, 5999.1999, 4248.0003, 9092.9999, 16245.000000000004, 7694.000000000002, 14912.0, 12514.0, 22011.0001, 1689.0, 9984.498900000002, 4572.9998, 3360.2000000000007, 21472.000600000003, 9944.9999, 8378.000299999998, 11878.184800000003, 6477.000000000002, 6572.1999, 7349.000099999999, 5551.250100000001, 9115.0001, 5415.000100000001, 5841.0002, 6672.0, 2121.4998000000005, 4717.899699999998, 1782.2497999999996, 8660.75, 26297.900000000005, 13273.4542, 18086.0, 20837.9998, 7489.1998, 11301.9996, 11557.000200000002, 9582.999900000003, 10571.0004, 5358.999900000001, 12009.056000000004, 5644.500100000003, 13383.7493, 7995.243900000001, 12446.400100000003, 10411.999900000003, 3362.9997000000003, 1977.0001999999995, 14921.999800000001, 4726.588200000002, 22075.000400000008, 19477.0003, 2755.500100000001, 27547.710000000003, 7754.249599999999, 7347.500400000001, 8053.000100000001, 6345.0, 8757.0002, 9910.5002, 6270.999900000001, 13780.000000000004, 7451.200000000003, 3740.2001, 11490.0, 11684.400000000001, 9198.0, 10663.4408, 8336.9997, 7920.0, 24728.506200000003, 4555.9998, 9608.999800000001, 7501.999899999999, 9529.9999, 13027.900000000001, 9382.000000000002, 21936.000199999995, 7010.200000000001, 7968.6999, 15100.000200000002, 3542.0002000000004, 3448.0000999999993, 29059.9998, 17662.000200000002, 8295.000100000001, 11608.800000000003, 8973.100200000003, 2169.0002000000004, 2113.0001, 10605.500200000002, 9310.000100000001, 8676.5001, 11097.082700000003, 31014.6865, 10102.000100000001, 5421.0, 3938.9999000000007, 6891.000100000001, 7806.9997, 4894.000200000002, 4861.9997, 1449.0, 11100.999900000003, 14240.5, 6441.200100000002, 3607.2001, 28736.635600000005, 7135.400100000001, 11381.999899999999, 12627.999800000001, 26092.692700000003, 6253.199800000002, 2901.000100000001, 5189.999700000002, 15441.9997, 16996.0579, 4346.000100000001, 1930.0001999999995, 16492.000100000005, 21747.0, 10883.999900000003, 11014.000100000001, 2323.9997999999996, 16204.211799999997, 8832.199700000001, 16194.990800000003, 3522.9998000000014, 4487.200000000001, 11806.9997, 8275.000000000002, 9568.0002, 8143.4002, 22197.166, 7680.000100000001, 9867.0, 5804.9998, 2304.0002999999997, 14391.3998, 14290.2503, 15469.750000000004, 14363.000100000001, 28858.000300000003, 8200.0003, 6370.199200000001, 3188.9997999999996, 7137.000099999999, 8350.0001, 23211.000000000004, 3239.000400000001, 7774.000200000002, 3682.7004000000015, 2996.2497000000003, 8438.199800000002, 7063.999900000001, 5053.2003, 3402.0, 5367.999900000001, 1972.9998000000005, 5843.999700000002, 3094.0002000000004, 6329.999900000001, 7259.999600000001, 17059.500600000003, 7299.1999, 6341.9995, 5035.400100000001, 1995.0001000000002, 24879.400200000004, 6731.000100000001, 6974.000100000003, 5267.0, 3196.8999000000003, 5316.000000000002, 11285.000200000002, 7818.749900000001, 15361.749799999998, 20556.666000000005, 2751.000100000001, 14097.999900000003, 4868.999999999998, 4818.9997, 3576.0002000000004, 6770.0, 3764.0001999999986, 14248.9996, 10807.9002, 12012.0003, 10415.999200000002, 7387.750100000001, 2926.0000999999993, 9877.9999, 14582.75, 2816.4001000000007, 16673.5, 32142.0001, 10937.999500000002, 4794.4, 20604.3766, 5837.399599999999, 2979.0002000000004, 14100.750200000002, 8486.000200000002, 11114.0003, 10187.4424, 3043.999899999999, 7207.400100000001, 12840.0003, 5795.649900000002, 13825.683300000004, 5628.0, 19246.5, 6171.9997, 10181.000000000002, 4595.9998, 11802.000200000002, 4380.7003, 9783.9999, 8859.0002, 6355.0, 8171.000200000002, 4406.3999, 16105.999899999999, 5379.0, 10431.0007, 14957.200400000002, 18297.000100000005, 1531.0002000000004, 6560.9998, 3829.000100000001, 10199.999800000001, 10092.6869, 7147.0003, 8809.000200000002, 24016.000199999995, 17513.0, 7666.5, 4318.9002, 1362.9998000000005, 8436.5005, 13143.7503, 8686.9499, 10290.700100000002, 2866.2002999999986, 28612.0005, 5262.9501, 6161.700000000001, 11513.599900000001, 18365.249900000003, 5004.9995, 26062.423800000008, 10432.9997, 6253.442800000001, 3141.9498000000003, 9046.0, 8421.000000000002, 5535.0002, 4790.5002, 6014.999800000001, 10021.0002, 10164.3502, 21704.250000000004, 6603.9998, 4862.0, 9487.000100000001, 5095.4998, 9583.249400000002, 8193.9997, 4172.999900000001, 4408.0, 2829.0002000000004, 11289.000200000002, 10434.500500000002, 15443.000000000004, 6616.4411, 4664.0, 9302.000100000001, 5517.241000000002, 13240.000300000003, 21293.682800000002, 3497.0002000000004, 8939.0, 8691.0, 14743.0003, 4392.9998, 14259.377100000002, 10617.399900000004, 7901.4000000000015, 20516.999800000005, 13283.000100000001, 5869.1998, 6130.999899999999, 5450.999899999999, 1469.9998999999998, 8206.2, 4956.999900000001, 3865.9999000000007, 14229.750000000004, 12385.0, 2836.4999000000007, 3500.2999, 13226.000100000001, 9558.000200000002, 7631.9999000000025, 7586.000000000002, 21749.0, 14241.999800000001, 2439.999899999999, 5697.200099999998, 9427.000000000002, 4220.000100000001, 812.0, 981.0000999999993, 5657.0003, 12383.999900000003, 18704.625100000005, 5501.9998, 4730.4, 6097.0, 21112.000100000005, 8536.0001, 15261.949500000002, 10310.000100000001, 9456.000300000002, 14896.999900000003, 19506.4104, 17041.755600000004, 2841.999899999999, 21777.5002, 9977.000000000002, 13806.999800000001, 8170.2492, 5884.199200000001, 8108.9998, 5502.000000000002, 8555.158300000001, 7574.999899999999, 2028.9500000000007, 4002.313, 2465.999899999999, 2179.9999, 5942.0, 7026.1998, 29855.000000000004, 2996.0002000000004, 8608.0001, 8686.2503, 30080.607300000007, 11373.899700000002, 9199.7502, 15555.900200000004, 8461.0001, 9452.000200000002, 15175.000500000002, 17772.5003, 6310.999899999999, 27545.71200000001, 17637.4998, 5387.500100000001, 34585.1501, 16608.2504, 7392.999899999999, 12468.999800000001, 7639.999999999998, 4876.0, 8261.0, 8669.5002, 12634.0004, 7402.000100000001, 4585.3999, 13084.000100000001, 12917.5004, 7969.800400000002, 7718.0002, 6924.199999999999, 18956.200200000003, 14270.9996, 4308.000100000001, 18285.4996, 1576.25, 8630.665900000002, 12762.749800000001, 5345.9998, 16690.4002, 16317.646800000002, 5297.000099999999, 3045.2001, 27871.682999999994, 2640.6000000000004, 14822.000200000002, 11116.8479, 9356.999900000003, 1898.1998999999996, 7419.999900000001, 11144.999900000003, 19495.9999, 4210.9998, 7155.000000000002, 4245.200000000001, 5634.999899999999, 21834.0, 17362.0, 7874.000000000002, 20718.0, 7292.2001, 10874.999900000003, 13678.200100000002, 19757.0001, 8959.9996, 3668.9998000000014, 8353.999900000003, 12515.9996, 3271.0002000000004, 3574.7499000000007, 6630.950100000002, 7351.749600000001, 4824.999899999999, 6765.200000000001, 11282.95, 9947.000300000002, 4922.0002, 5107.0002, 12893.749800000001, 8554.9999, 6766.500400000001, 2123.0, 8613.7503, 5343.0, 10604.000200000002, 13841.1439, 8237.4999, 8143.000099999999, 4988.549800000001, 3202.2000000000007, 3410.000100000001, 6067.999900000001, 3628.4999000000007, 15500.0, 13331.500100000001, 4332.9501, 5090.4, 10006.000200000002, 14041.9908, 8969.0001, 3907.000100000001, 8340.9999, 3339.3999999999996, 8971.2002, 4635.000099999999, 12283.0, 14101.500200000002, 8147.1999, 8756.4999, 3335.000100000001, 8968.0004, 12731.300300000003, 16911.355700000004, 14123.999800000001, 8522.0001, 10954.2, 11787.0, 17129.399500000003, 35728.51000000001, 7742.999900000001, 13121.2, 6445.3999, 4176.999899999999, 7361.9000000000015, 3230.000100000001, 8733.2119, 32978.41, 9934.700000000003, 3792.1998999999996, 5796.4999000000025, 3530.000100000001, 10573.4996, 10998.4996, 3694.000100000001, 6610.200200000001, 6753.000200000002, 15831.000199999999, 10202.000100000001, 5392.0002, 6006.000000000002, 5261.0002, 6588.999899999999, 4792.499600000001, 6832.000399999999, 7950.2502, 15449.000100000001, 6376.9501, 23708.250200000006, 2178.0002999999997, 6189.9999000000025, 24666.0001, 11223.243800000004, 10559.000300000003, 4785.0003, 3486.1998999999996, 1188.0, 2205.9999, 7913.000100000003, 4893.0003, 5674.0, 18031.0002, 6775.000099999999, 11771.0, 18394.9998, 10127.0001, 14689.000100000001, 2585.4001000000007, 5884.000200000002, 11812.0004, 20046.0002, 12837.999900000003, 7972.0, 7218.000200000002, 9264.6499, 22330.000100000005, 3658.9999000000007, 4722.999900000001, 7495.999999999998, 4530.400100000001, 21541.999700000004, 5238.199899999998, 3554.1998999999996, 17962.000100000005, 9823.000000000002, 7299.0002, 5769.750100000003, 6647.2006, 12916.3, 5041.8999, 8321.0001, 7188.4, 9406.0002, 9778.9999, 8796.3769, 11742.000100000001, 7186.1500000000015, 10517.0, 26171.000099999997, 5550.999700000002, 9359.999900000003, 3392.9997999999996, 9045.2003, 3306.7000000000007, 7748.999900000001, 5166.4000000000015, 19706.0001, 8604.550000000001, 9171.4997, 4511.25, 13510.000100000001, 9486.000200000002, 6724.2006, 5039.999899999999, 1534.0001999999995, 15247.999899999999, 10849.000200000002, 10050.0004, 6439.399600000001, 14727.3995, 8102.999900000001, 6414.9998, 7470.500100000001, 8944.999900000003, 4069.2003000000004, 5414.5, 16132.722399999999, 4326.999900000001, 9641.499800000001, 10476.999900000003, 10574.500200000002, 2587.0005, 14839.9997, 10257.000200000002, 11415.749900000003, 13506.0, 2477.0000999999993, 10790.0003, 11665.0, 9076.999900000003, 5024.4501, 4700.999900000001, 5954.9997, 16008.009899999997, 6105.999900000001, 9552.0, 5428.400100000001, 5310.9997, 11598.4568, 2970.0002999999997, 10425.9997, 10093.9999, 8319.999900000003, 589.0000000000009, 23478.2001, 6789.4998, 7523.199900000001, 9361.0001, 7925.000000000002, 3618.000100000001, 2506.199999999999, 4081.2499000000007, 5460.000000000002, 10995.9993, 6929.199999999999, 10971.5003, 15108.2503, 14477.499899999999, 2057.9999, 8271.400200000002, 12952.000100000001, 8502.4002, 13009.000200000002, 7143.9997, 5012.999999999998, 4982.999800000001, 16881.75, 5347.999600000001, 9081.7498, 3955.0002999999997, 11762.25, 7553.9997, 8946.000100000001, 9273.9998, 16439.999900000003, 9969.000000000002, 7248.999800000001, 12701.000300000003, 2395.000100000001, 6344.2496999999985, 15209.950100000002, 19893.6499, 1789.9999000000007, 4851.2503000000015, 9648.999800000001, 8734.4, 5183.999800000001, 12024.406900000002, 3344.0, 3932.000400000001, 27099.199900000003, 8112.0002, 8485.0441, 10502.3999, 4313.999900000001, 11681.756000000001, 9218.2497, 4539.2001, 5875.0002, 8423.903100000001, 19817.5056, 9003.2001, 4807.000200000002, 15710.749999999996, 10111.8141, 14205.000200000002, 16479.1996, 12853.999799999998, 13272.0003, 9834.250000000002, 6512.449800000002, 9730.9998, 3851.249899999999, 26722.000600000003, 9887.000100000001, 12332.9997, 5722.750500000002, 4697.4000000000015, 2332.1998999999996, 11352.000100000001, 1125.2002000000002, 7289.0003, 4711.999900000001, 4768.0, 8566.4997, 8276.75, 9614.0003, 4541.0003, 7915.400300000003, 3828.0, 7685.000100000001, 2957.0, 7596.999800000001, 11717.179199999999, 5951.9998, 11126.399700000002, 13011.999900000003, 5139.000000000002, 12551.0, 3886.000100000001, 10051.3996, 5209.200200000001, 28247.000000000004, 25779.400000000005, 8757.999600000001, 10052.0, 15235.999300000003, 4924.9997, 16346.999500000002, 6055.0002, 11902.9996, 6784.499899999999, 9941.500000000002, 9153.2499, 9966.000000000002, 4644.999899999999, 2761.9997000000003, 8717.0001, 8425.1998, 7880.999800000001, 1908.000100000001, 10687.149700000002, 5700.000099999999, 6286.975900000001, 21742.0, 14351.0, 12800.999799999998, 6415.0002, 22071.9992, 20587.000000000004, 3406.0, 10476.7503, 5116.0, 9141.999900000003, 2154.0001, 1369.2001, 4719.199900000001, 4443.200000000001, 2298.0, 9670.000100000001, 7898.999899999999, 9049.449500000002, 23433.9998, 6917.749900000001, 6802.2503, 8075.0003000000015, 4332.1999, 21560.000200000002, 11308.0, 10134.1997, 3042.749899999999, 4176.9998, 5713.6659, 19925.6411, 5803.6001000000015, 8186.0002, 2796.1999000000014, 5574.000099999999, 5969.749700000002, 8007.9998, 5751.25, 10856.400000000001, 4014.2001, 23288.500100000005, 13971.0, 3618.699699999999, 27129.2501, 6454.000099999999, 10068.9999, 3959.200200000001, 6681.000200000002, 12566.9996, 22380.705400000003, 3738.0002000000004, 8639.999900000003, 8901.400100000003, 6929.4000000000015, 11484.999900000003, 5057.0, 26029.0829, 6357.9997, 7062.000000000002, 7342.000100000001, 6115.4, 2135.2001, 5123.200000000001, 21454.2117, 5620.5002, 3577.2003000000004, 5795.000100000001, 5388.999900000001, 9247.0004, 8748.0, 8011.499900000001, 3490.0002000000004, 8165.999800000001, 5419.0, 6284.250100000001, 3353.000100000001, 17163.443, 13940.000100000001, 7755.0003000000015, 23782.400400000002, 4896.999800000001, 5514.999999999998, 4113.000099999999, 6490.7003, 5454.900099999999, 14942.0, 8996.0003, 7162.999800000001, 23643.450100000005, 3267.3999000000003, 4001.0002000000004, 7958.0, 5671.200200000001, 7444.9998, 7445.000100000003, 3256.2000000000007, 23233.683, 2664.9997999999996, 8623.9998, 5698.200199999999, 345.0000000000009, 11204.000200000002, 5690.000100000001, 9602.0001, 9888.000000000002, 11701.2, 12724.044300000001, 9841.0, 8850.385000000002, 18494.999800000005, 23476.4443, 4866.000000000002, 4898.1998, 5927.000200000002, 4910.0003, 2468.000100000001, 8862.000300000002, 6008.900100000001, 10008.999900000003, 3759.000100000001, 31376.097600000005, 16832.999800000005, 9166.000100000001, 6289.499900000001, 11645.0003, 6956.4000000000015, 4521.0, 7916.000000000002, 12323.4503, 5670.999899999999, 5064.0002, 4259.000099999999, 15852.0, 6402.0002, 13740.999800000001, 10605.999800000001, 12413.103000000003, 7823.999600000001, 2878.199700000001, 14400.999800000001, 4450.000100000001, 4794.3999, 4948.999899999999, 8581.0, 5623.9998, 3384.999899999999, 17380.999899999995, 1834.9000000000005, 4573.999900000001, 5019.000100000001, 1605.9998999999998, 11137.044300000001, 6093.999899999999, 12224.0, 5103.749600000001, 8041.399800000001, 9482.999900000003, 7037.0, 8446.000100000001, 16216.000100000001, 2239.250100000001, 5653.999900000001, 3564.999899999999, 6681.399700000002, 14502.199800000002, 14547.950200000003, 13990.357099999997, 10445.241200000004, 5440.200000000001, 14690.200100000002, 4361.9998, 15425.0, 12637.9996, 10885.999900000003, 12406.400100000003, 16198.200400000002, 1231.9999000000007, 7090.399600000001, 18843.999500000005, 6203.9998, 8621.333000000002, 17314.9997, 1858.9998999999998, 7236.0, 9534.1998, 6882.499999999998, 3284.9999000000007, 7949.999900000001, 7260.999600000001, 12894.999600000003, 11107.999799999998, 13814.7487, 14931.185000000001, 22787.000000000004, 11334.999900000003, 15445.686999999998, 1964.0001000000002, 7177.000100000001, 5052.0, 5535.999599999999, 7989.000000000002, 10906.650100000003, 14921.0, 4029.9997000000003, 4384.0002, 8604.0001, 5718.9997, 4004.9997999999996, 23953.999800000005, 4587.200000000001, 6957.400100000001, 14160.409700000004, 21365.5743, 5569.500200000002, 9108.0003, 7689.499900000001, 5567.1999, 4796.000099999999, 10912.0, 31703.923899999998, 3743.999899999999, 8269.000000000002, 22055.499999999996, 5807.0, 10024.000100000001, 10087.7119, 10770.900100000003, 5760.999899999999, 8506.0002, 4120.000100000001, 6841.999900000001, 7990.900200000002, 2676.2001999999993, 6897.000100000001, 17290.0042, 3257.5, 6270.2498, 11919.999800000001, 5677.200000000001, 13760.0, 8048.0, 1860.000000000001, 15821.2098, 16308.999900000003, 12597.000100000001, 4372.0, 3388.0, 3825.4999000000007, 7354.9995, 10250.9999, 12042.2997, 10499.5006, 6499.250199999999, 2576.000100000001, 27196.199900000003, 7874.390099999999, 3361.0, 8732.5768, 23508.9998, 15878.382000000001, 22679.0, 14931.983, 7546.999900000001, 4642.199699999999, 12347.0, 17356.5002, 17434.000200000002, 7482.000100000001, 11967.4997, 2255.9997999999996, 11319.949799999999, 19624.0001, 5495.999900000001, 8107.999700000002, 6763.466200000001, 6215.000200000002, 4354.000100000001, 8912.000200000002, 12545.000100000001, 3922.1999000000014, 14340.999900000003, 2371.0002000000004, 8269.9998, 2207.200200000001, 11392.0, 7062.1996, 7684.000200000002, 19722.000100000005, 17204.365599999997, 2710.0000999999993, 4959.999900000001, 11599.000100000001, 8459.999800000001, 8605.999900000003, 10030.8999, 6273.0002, 21185.999799999998, 6407.3002, 9889.7502, 8569.0, 12926.000200000002, 10555.999900000003, 23072.250500000006, 8513.9997, 19877.250200000002, 6794.299300000001, 2351.1998999999996, 5670.999899999999, 10846.0003, 25334.0001, 11341.0004, 4158.000400000001, 13608.141500000002, 19898.39, 9371.9999, 7181.0, 10678.0, 11292.000199999999, 20807.5148, 10815.6662, 7318.0002, 13905.932700000001, 10856.000200000002, 1208.9998999999998, 5870.399400000002, 7865.0003, 3787.9999000000007, 14120.0, 11397.498800000001, 8868.0, 7030.0002, 3843.9997000000003, 4845.000200000002, 4661.000100000001, 7684.683000000003, 14291.2003, 12545.000100000001, 15734.499900000003, 11145.999900000003, 5226.249900000001, 11098.400000000001, 24362.000000000004, 5701.000400000001, 7396.000200000002, 12789.000100000001, 7157.0003, 9033.500000000002, 7021.200299999999, 23533.999800000005, 12935.140900000002, 7158.0002, 5226.0002, 21781.2004, 10037.0001, 10603.7961, 20336.641200000002, 3916.3001000000004, 6216.999900000001, 6148.3997, 2547.0003000000015, 25682.0001, 14348.000200000002, 4544.500100000001, 3458.4000000000015, 8817.4001, 8143.750200000002, 6202.999899999999, 8764.2001, 23433.0003, 2090.0, 18379.044500000004, 5189.2503, 16750.0001, 3362.1998999999996, 8839.1998, 5559.699999999999, 5745.1999, 7435.399999999998, 10219.0002, 12247.3901, 9711.5001, 3909.9999000000007, 23280.999899999995, 5783.999900000001, 30524.99980000001, 20591.999900000003, 5651.5003, 4750.000200000002, 5151.199999999999, 8178.5003000000015, 9151.199800000002, 8405.999899999999, 12501.0, 7572.399900000002, 15922.683, 11244.999800000001, 9888.6496, 3392.200200000001, 6003.000100000003, 11504.0004, 7035.499799999998, 15834.499800000001, 12556.999900000003, 11263.5004, 7886.7498, 24727.9999, 24089.000199999995, 6209.0, 4796.4004, 6744.1999, 5156.5002, 2693.3001999999997, 17230.0, 6480.0, 3769.1993, 6465.0, 9925.2, 1263.0001000000002, 5190.999900000001, 6818.199999999999, 9652.7499, 8463.999700000002, 2414.000100000001, 25453.000400000004, 2668.0002000000004, 6122.249900000001, 5862.200200000003, 6228.200000000003, 1957.9996, 7935.000100000001, 14690.249799999998, 19371.0002, 5353.000200000002, 7427.0, 12772.000100000001, 7445.000000000002, 12674.400100000003, 14093.000100000001, 9468.0, 6711.0, 5235.0003, 4826.5, 17638.499500000005, 36290.000199999995, 7704.9997, 17980.5, 7763.3999, 4428.7498, 4314.0002, 4957.919899999999, 9658.0002, 17309.499800000005, 11784.9997, 12286.000200000002, 8031.256099999999, 12778.749900000003, 3723.9997000000003, 15306.999899999999, 10483.199700000001, 1684.4500000000007, 15108.000100000001, 17088.682900000003, 5163.0, 5754.999900000001, 8339.000000000002, 12481.0004, 9912.499500000002, 5341.749800000001, 12727.750099999997, 5962.000200000002, 10094.000300000002, 10512.999900000003, 14716.2002, 4464.000100000001, 6895.9998, 3315.199999999999, 17436.999700000004, 7152.000000000002, 11351.000300000003, 1365.0, 7264.0003, 11610.0, 17137.950099999995, 9167.9996, 16126.4006, 7206.1499, 11010.9997, 7495.5002, 4241.399800000001, 8696.4999, 5336.3997, 34452.500400000004, 3744.9997999999996, 7816.25, 16096.9996, 2855.0, 10732.0, 3661.000000000002, 4061.9999000000007, 16996.0002, 4258.0, 10480.0003, 7190.000000000002, 7621.500200000002, 8043.0002, 10094.2499, 7900.000100000001, 6235.500099999999, 13035.999900000003, 11945.000100000001, 8960.9997, 13212.000200000002, 2986.9998000000014, 8859.999600000001, 8580.0, 8387.400300000001, 3695.8999999999996, 10956.999900000003, 4060.0002000000004, 9371.5446, 6730.0, 7278.250100000001, 6482.000100000001, 16348.199800000002, 8140.065699999999, 4320.9501, 9254.0002, 7263.500000000002, 4350.0, 5426.4, 18698.0002, 10169.9997, 2383.3498, 16081.999800000001, 8804.000100000001, 10496.8829, 14372.999800000001, 8650.9999, 8523.6996, 1940.0, 3907.0002999999997, 3683.0000999999993, 11848.999800000001, 5342.0, 6788.454900000001, 16665.9998, 7206.0003000000015, 19273.500200000002, 13143.999800000001, 14144.000400000004, 5682.999800000001, 13099.000200000002, 8545.399800000001, 10700.999900000003, 21067.0438, 18248.000100000005, 6804.999899999999, 4690.5002, 3379.000100000001, 8667.950000000003, 6382.0, 5621.999700000002, 3777.000100000001, 9781.9997, 1340.0, 6606.204899999999, 11202.0, 4775.749700000002, 16674.683299999997, 9558.9999, 5330.299999999999, 8137.000199999999, 4328.4998, 8557.000000000002, 6026.000400000001, 6770.5003, 5500.0003, 10843.200100000002, 10596.400100000003, 8435.0001, 2086.0002000000004, 2015.1999000000005, 9259.0002, 7547.9998, 7442.000000000002, 34510.900200000004, 3548.9999000000007, 5023.9998, 9024.0001, 7760.0003, 6586.000200000002, 10455.500200000002, 8609.200000000003, 10613.2, 5645.000100000003, 2814.000000000002, 15867.000099999997, 11817.999700000004, 5872.0002, 6623.2003, 14912.2497, 24046.9997, 5778.000100000001, 2581.0, 7736.500100000001, 9695.9999, 9558.3996, 3626.000100000001, 6688.0003, 2244.3001000000004, 7143.0, 10693.0, 8009.000100000001, 7792.0003, 6055.999999999998, 1351.0, 7168.15, 5735.0002, 3588.7001, 8140.7498, 6567.8997, 9142.815999999999, 4930.65, 10712.0003, 9779.9998, 8225.500400000003, 28473.000400000008, 3943.0, 13851.499900000003, 4407.1497, 22510.248900000006, 8403.000200000002, 10592.999900000003, 3481.1998999999996, 3758.9999000000007, 5926.999900000001, 7384.200500000001, 14594.9996, 14047.0, 16664.9998, 3509.3997000000018, 5965.700100000002, 6809.9000000000015, 27123.001099999998, 18725.976200000005, 2575.999899999999, 14457.399700000002, 11530.000200000002, 7501.000100000001, 9774.999500000002, 4868.141100000001, 16585.0, 16027.399500000003, 6349.999899999999, 12775.000200000002, 19788.999800000005, 8651.0, 14000.999900000003, 2904.000100000001, 11416.999899999999, 4518.000100000001, 9246.4499, 9587.0002, 4483.0, 7326.0, 12750.999900000003, 19301.1663, 11481.9997, 13352.999900000003, 16049.000000000004, 2953.0, 3371.200200000001, 4253.200000000001, 5145.0, 22129.2002, 7805.500100000003, 19483.000500000002, 8768.0, 12047.199700000001, 3298.0002999999997, 2329.0003000000015, 7259.2006, 6496.399600000001, 9690.2002, 4264.787900000001, 2293.2001, 8862.0001, 6772.999900000001, 19548.466200000003, 8712.000199999999, 9449.9998, 15228.9993, 17202.000000000004, 6134.999899999999, 13159.499900000003, 10814.250100000001, 35003.2561, 10463.500100000001, 10227.043900000002, 2162.000100000001, 17487.999800000005, 18980.000200000002, 14388.000199999999, 6103.200200000001, 6202.999600000001, 1173.9996999999994, 10120.000000000002, 13842.999800000001, 12328.149400000002, 15549.000100000005, 4238.999900000001, 7534.200000000001, 11073.9997, 5278.9998, 4985.4000000000015, 13255.000100000001, 3170.3999000000003, 8703.1999, 14021.682900000003, 6242.196100000001, 9917.0003, 2893.0000999999993, 3104.200100000002, 5709.000200000002, 6770.999800000001, 9963.25, 10948.500199999999, 10171.000100000001, 15185.999800000001, 10591.999900000003, 12005.0, 26226.000200000002, 11305.300100000004, 3668.0, 3573.9999000000007, 17643.500000000004, 14063.000200000002, 2273.4501, 12887.750200000002, 11957.400100000003, 3180.0002000000004, 25703.082699999995, 8469.0, 8152.399800000001, 10737.2409, 5253.199600000002, 20987.9994, 16115.000200000002, 16294.999800000001, 4775.000200000002, 19179.000200000002, 6189.9, 3018.1998999999996, 12393.3996, 4197.000100000001, 13481.179100000001, 8885.9999, 7305.000000000002, 15406.000199999999, 8984.9998, 4795.000000000002, 14627.999900000003, 9038.499600000001, 8308.0002, 12468.2003, 7433.200200000001, 4789.057700000001, 3277.8999000000003, 9234.999600000001, 6943.999800000001, 6648.999900000001, 7059.199999999999, 14830.0586, 5453.465600000001, 14736.000100000001, 12132.9996, 27881.683, 6028.5, 3717.200100000002, 6801.000000000002, 4160.000100000001, 4676.699699999999, 3929.9997000000003, 9747.9999, 3080.4999000000007, 5518.0, 24032.9997, 10912.0, 4585.300000000001, 21231.0002, 7488.9997, 6965.0, 8614.0001, 9666.200400000002, 4340.000100000001, 12898.000200000002, 5638.333400000001, 6318.055, 7772.199900000001, 17904.249800000005, 4583.500099999999, 23051.999700000004, 4067.1499000000003, 9160.0003, 8381.9999, 4184.0, 5809.0, 8938.0001, 4998.999800000001, 3061.000100000001, 6866.999900000001, 7515.4998, 12659.000199999999, 10554.499900000003, 7046.000100000003, 6813.0, 5988.249900000001, 10748.000099999997, 16115.999900000003, 7387.0003000000015, 7083.500100000003, 2245.999600000001, 13205.199800000002, 7172.000099999999, 3133.0005999999994, 11924.999900000003, 6785.999899999999, 8901.999600000001, 7159.200000000001, 4803.5003, 1854.9998000000005, 7082.200000000001, 16718.000100000005, 3587.0, 16777.25, 6432.3999, 16486.6827, 12104.000200000002, 2024.9997000000003, 23904.0, 3460.2006, 9119.2499, 5131.7999, 6053.250000000002, 7911.0002, 5049.500099999999, 2789.1999000000014, 4918.7502, 7233.400200000002, 17649.000100000005, 1672.9999000000007, 2026.0001000000002, 4659.0003, 4726.999900000001, 12110.0, 2984.1998999999996, 3329.0, 5750.9998, 8643.400000000001, 8154.4002, 12729.000200000002, 8159.750000000002, 12512.3, 4819.1998, 12508.000200000002, 3617.2001, 8630.9999, 5890.000200000002, 4586.500100000001, 9621.0001, 16557.1163, 9946.000300000002, 6619.900200000002, 6810.999900000001, 21819.8178, 2586.9999000000007, 6699.199999999999, 10678.0, 5603.1999, 6627.000099999999, 5871.0002, 3747.1998000000003, 19993.7829, 3131.0, 7343.8999, 8932.0, 6574.999700000002, 5962.000100000001, 7133.9998, 10621.9997, 3820.199999999999, 9443.999700000002, 6965.999899999999, 4248.2001, 10606.9996, 10950.500199999999, 9035.000200000002, 4205.200000000001, 5436.000100000001, 9153.0002, 8190.000200000002, 7329.000100000001, 13029.883400000002, 9029.000000000002, 3889.1999000000014, 15880.000100000001, 10140.000200000002, 2324.000100000001, 4097.999900000001, 7600.999700000002, 4141.0002, 14108.756000000001, 4891.0003, 2464.000100000001, 14630.123200000002, 2394.0, 23728.000199999995, 4966.499800000001, 4217.0003, 7926.9998, 13467.2, 21966.750300000003, 5863.5002, 5759.7503, 5102.9997, 5518.199800000002, 19532.500300000003, 6343.0002, 11031.000100000001, 14777.682700000001, 9503.0001, 13407.999900000003, 32962.00020000001, 21329.0, 9320.200100000002, 7674.399599999999, 12626.338900000002, 12115.4005, 8362.4, 7159.65, 6669.9995, 8627.000200000002, 10419.9996, 7250.3328, 8970.0002, 7135.999999999998, 18900.75, 7128.25, 1974.9998999999998, 10575.0004, 7419.750100000001, 4794.399800000001, 5388.000100000001, 21431.219900000007, 11030.9997, 2877.5, 7224.000200000002, 13752.9996, 10386.000100000001, 1732.0001999999995, 11458.700100000002, 12164.999500000002, 15056.999600000003, 8559.243900000001, 14856.9801, 5381.999899999999, 13061.000000000004, 16981.671800000004, 1472.0001999999995, 5442.9998, 4422.3999, 4465.399800000001, 8614.0001, 9083.900100000003, 6364.7503000000015, 19238.999700000004, 14643.0003, 2830.0, 8814.1998, 3743.0002999999997, 7580.999900000001, 12170.999900000003, 7395.400099999999, 24002.2597, 10466.999800000001, 8145.999700000002, 10820.000200000002, 8496.4001, 5386.9998, 4236.2997, 12953.700500000003, 12432.000200000002, 7499.2001, 8236.2412, 6097.999899999999, 7293.9, 15640.000299999996, 31077.240800000003, 8230.000100000001, 11737.000100000001, 21626.000200000002, 4986.649700000002, 21075.8334, 12400.000100000001, 15731.400200000004, 29494.683, 19346.399800000003, 4437.0, 4005.0, 8959.500000000002, 14007.7496, 8311.999800000001, 3201.500100000001, 23361.019799999995, 5068.9997, 8645.999700000002, 15453.649800000003, 9990.0, 8070.000099999999, 11360.563999999998, 6702.500400000001, 22403.999900000003, 11726.0, 3615.6499000000003, 26658.4994, 21047.000200000002, 9333.400100000003, 17504.6829, 9627.4503, 23452.000300000003, 29384.491100000003, 7857.499900000001, 17114.0001, 2834.9997999999996, 9414.0, 5877.649800000001, 17033.5004, 6542.000100000001, 9101.999800000001, 11982.0, 5246.500299999998, 9738.999600000001, 2522.000100000001, 16925.200400000005, 6176.000100000001, 6609.200200000001, 12309.000200000002, 6802.000100000001, 18665.0001, 3749.000100000001], \"xaxis\": \"x\", \"xbins\": {\"size\": 1000}, \"yaxis\": \"y\"}, {\"marker\": {\"color\": \"#1f77b4\"}, \"type\": \"histogram\", \"x\": [10171.741379778538, 13615.216952109162, 8170.650318765671, 7872.401303682358, 5214.94371714347, 11919.34247637436, 5568.739471149006, 6825.395966207597, 5738.926873814229, 9077.103906622602, 8836.569922198243, 7923.769928291776, 11034.307066613184, 7128.306920820264, 11726.368516040944, 12058.110368560336, 10107.538099693324, 10386.32322545036, 11693.117104894412, 6236.151625845877, 10767.284936854248, 13997.031578100352, 8350.145540603842, 11012.783863887775, 6719.257911757333, 10495.333177539982, 15458.51313528185, 11197.2556747207, 7480.544593063355, 4543.235281530595, 10059.147463464602, 9488.391351000688, 7213.475612497208, 15700.465068417992, 9001.998760754785, 5934.7953601332065, 13767.754363481135, 11790.54676018657, 5855.099557689733, 6161.212351288324, 8230.84395291653, 5389.977410759103, 6225.287495868462, 14974.027348889167, 5522.23790140398, 6313.8173975921, 5250.266588288269, 8416.751851517345, 15842.522566852933, 5961.411355497453, 10864.016470908233, 5858.236146600245, 9265.938852667114, 11139.087748714863, 13463.994309040896, 3494.5521596809763, 7160.256331739657, 6981.454532164137, 5097.44362067796, 5015.712944560814, 5841.1745327293065, 6107.494655753081, 13718.015965066714, 9441.974340078412, 7537.812660200445, 7389.77473517333, 6056.1288707396425, 5108.302468097385, 19742.86550988629, 5188.444099740125, 10958.521943615975, 3842.781982211004, 20508.39045491837, 9161.905908943198, 9637.086859759776, 6772.748922144024, 11055.09326281465, 7478.4530487341335, 7365.174602842458, 10969.7823058637, 9069.051524871293, 12521.899370656058, 11963.823585163724, 15661.651722451496, 9671.35759491234, 4896.544562724769, 11685.05641656699, 15359.785718945892, 8187.341524521112, 8808.989674316026, 12247.184047825629, 8179.842899352981, 11570.617818877578, 11550.913165160442, 16203.623118338197, 6568.466831697521, 5580.568230067699, 7475.7579285756865, 6172.391183784099, 7719.39844109876, 6675.976456476223, 10347.907675553042, 6817.91587925588, 6415.444369838518, 5169.457073062319, 9183.9266119145, 11113.02907458675, 4525.825013779848, 4073.840613826403, 16184.421320688529, 15071.613454803512, 6486.4606238231745, 12412.201923076167, 14116.23786247943, 4985.622016362804, 6595.138560448538, 12704.685103169666, 16934.013353353595, 10709.826849209478, 8126.168810816028, 16993.766284230667, 11112.4069756991, 18566.048830766184, 7672.21874602491, 12688.046015621441, 14693.835819752738, 7577.139695141465, 16357.171112611142, 5155.6011760953015, 8118.756768061732, 8255.279914157865, 14002.036906635845, 9066.717366876983, 15488.817894656622, 5605.725822582904, 8174.6787277598805, 15309.69427083583, 4258.348245505678, 16023.881382179967, 8089.742554529616, 11126.513365957413, 11812.585526424073, 6525.288263770099, 10322.893098632125, 6689.573604102451, 10642.21366404879, 13491.084287036345, 11229.404296939712, 12920.596642708339, 7135.243629356292, 10474.887879382342, 4967.028715835037, 17989.54263751217, 11814.28085616727, 12142.501867367133, 5655.153790504575, 11736.671181599482, 4615.93437507831, 6670.585054047096, 13324.17470023362, 9570.972193057058, 8643.173342067848, 10058.088268903732, 10713.98558909034, 17130.147789056537, 6770.117356892933, 18626.384075871294, 13486.301331202496, 14793.484861824798, 13860.53811134005, 6448.592977000267, 5270.6682263946705, 6000.522323458844, 9992.272133675053, 22360.576478337, 6554.839913787535, 6587.478131362949, 10496.41793351727, 6065.235571233117, 4349.086117519712, 9796.133428472833, 14080.031407089775, 13286.662505647071, 11251.038718858272, 14631.058441269079, 7888.510139630442, 5409.384720377745, 9738.051099611774, 6941.466331153868, 5428.914147781167, 6380.341577486877, 14913.829470502325, 9897.104646050862, 10244.35500249803, 5671.808675200144, 13068.033422236571, 6558.624392898228, 8022.988614941545, 4139.990679478197, 8555.58457946045, 5535.638692484542, 6918.036607524321, 3976.183005167564, 7557.82196921781, 8048.948827847765, 7527.424364654819, 6545.448692851395, 7924.80533492055, 10207.743808681795, 5158.752713305963, 7158.5060189299675, 11868.10881846888, 7429.915056674582, 9625.888539147156, 8919.56483494767, 13093.74331616832, 6273.725649855759, 14975.502948472873, 6572.472966031873, 8612.621957214455, 9204.357631249683, 8701.107617830747, 4923.930768180453, 6194.9997614378735, 19534.921325904943, 11491.383011197977, 6146.571270666403, 15642.621093828073, 9084.254777284736, 7069.064763531828, 7451.303883857516, 4916.019540117527, 10308.982862813007, 7869.96820446327, 8426.274224397694, 9110.886807271436, 5354.832966789322, 10306.49913592195, 4797.2987432807395, 7939.211272237939, 10065.131886712321, 4521.519160595913, 5376.72826269297, 7712.172053352285, 10389.40371212977, 9801.051057956207, 9321.33133634872, 19719.948025117323, 11383.267304469742, 11564.06315221101, 9650.392261636858, 16713.4930383938, 7201.51206877043, 5394.304775650955, 10236.540015012119, 8385.297348828299, 15981.57783928818, 8262.873691054361, 5977.315760746198, 10210.382323869295, 14437.66314956747, 16788.799876418212, 7109.3048826840395, 3410.69644261274, 6940.257118009365, 8892.304693405691, 15185.799646769106, 8839.551194809135, 12326.152054747745, 14210.669520849895, 12792.28258667147, 11465.288205484803, 3239.6029688310123, 5355.689658241358, 18049.006096337936, 15308.54942355089, 20362.69059359322, 10018.501703985667, 5990.461665245977, 8144.062049883449, 18629.063997622852, 6780.719435615023, 7368.114529521261, 12420.484569786955, 10312.235721052179, 13105.799149290537, 5042.128384617378, 9978.656852045353, 6213.404031779687, 9427.1259007396, 11635.587229029768, 7729.050182333677, 8155.534826036283, 5544.168608888358, 10246.230388899705, 4845.433813345648, 13960.10319838245, 7906.217147686598, 10292.193438363427, 8269.365022604374, 19517.447781143244, 11550.996771556434, 9955.196367810337, 6490.008661095248, 7772.436247926187, 8732.807735466038, 12019.226179221727, 4447.677912832049, 4654.418017173339, 18029.60215684476, 5565.164480452183, 6669.791205077088, 8834.630144673663, 10630.995112578032, 16893.865523596818, 11065.941398590916, 6849.196615850482, 15686.971505412808, 7750.768731072382, 14359.678855490502, 11730.245367915972, 16609.963754110577, 12813.315681195318, 9923.489808031152, 8093.084849936596, 15284.29627772142, 11930.11021419493, 6238.241543217968, 6681.096364224987, 20546.92922913341, 21642.546509426887, 11007.92961499491, 5606.937903113024, 18384.589563468482, 7776.584195321302, 8742.149536316414, 11170.266901542545, 13776.396274661663, 9862.241890506775, 10246.931713525508, 7811.253782549368, 14533.563232741799, 7254.1039276610345, 5468.487881464414, 6039.4889191862385, 7682.415568422567, 17374.614937272487, 7251.176910533316, 10044.308513024791, 4306.628993917678, 13006.647081987529, 3677.9047174876982, 18180.43245061336, 10178.589949680869, 9468.745434477807, 12220.269912568638, 10410.241819379318, 6090.251110686129, 6980.496668737104, 10189.317917999837, 15700.822822141823, 16190.418234116385, 14602.490898204422, 7067.13109972813, 7758.031712722468, 11583.906941078112, 10807.790990232423, 10576.832628691878, 10696.937089403302, 4828.95940720581, 19121.473651312157, 10658.683436897683, 4796.008361649592, 7871.889903563657, 8903.556991605088, 7043.0744064448845, 5291.190711541388, 14969.18214426104, 14266.098909173812, 5511.569190703452, 7691.919362665217, 4104.261607161202, 13990.949461635355, 5392.260188234844, 10518.112749903152, 5239.082526287458, 11447.578236568797, 15912.366906443016, 14718.844560849186, 10176.160074060055, 4511.635282390289, 9355.749543543337, 5573.02288293524, 13517.971506763542, 12774.015748732565, 6113.959564407832, 4537.316343307075, 12437.841322269493, 5134.926668984507, 14258.699927550457, 14065.57541810389, 11353.54533427327, 12798.508486735356, 19570.06172016622, 7328.74413263606, 7304.2199165498105, 11926.494645570598, 11161.136696066042, 11815.023415566618, 13010.80300753575, 10669.289560275594, 11253.920757189995, 9972.99146397357, 9440.21098634843, 6176.627239496929, 8162.611715623291, 6355.795887587668, 5783.588769371698, 6956.471877960918, 7737.6911840350795, 6851.102628962096, 14046.189759141369, 13017.628602984554, 14321.767556195351, 10696.680732497904, 11819.2214196829, 14548.124893098078, 8895.326043730558, 7614.293979371666, 8785.671114300325, 8532.044647170158, 10619.95294953323, 11199.48738494291, 12153.539548700848, 4079.5800562369227, 9344.810732697124, 6828.979389797081, 7853.818138794311, 10765.02875659059, 21519.46698077337, 12008.070674865829, 10483.286929317352, 13541.547929377872, 3245.008420186473, 5010.061004148596, 5457.751950150346, 8357.05154411368, 7274.670373492382, 13300.676214928664, 11291.203985351167, 18283.687274303695, 4468.856069278233, 6939.560323094916, 5617.8227439514485, 12390.500336123352, 16031.436460739184, 6032.211299974712, 7453.631013599171, 7923.713646691178, 9804.74218408617, 2858.6985722970685, 6855.3943978510615, 6304.651123688825, 5481.392291463685, 6766.251492031141, 4264.369386447209, 11990.284036858568, 15754.837116507942, 7040.426897519258, 7567.891929381195, 17451.948685975476, 9604.898205300746, 9116.55981475733, 6508.03828413825, 8797.712213860514, 11175.50547610802, 8630.494187313825, 9200.086171535111, 4531.399860677227, 6541.260799111527, 6808.785567673479, 7026.090141248214, 10688.665220020277, 4064.520635422658, 17770.33714138267, 3124.7017292099645, 3605.1274163131966, 8933.709600172906, 3938.152632316402, 13471.721632843326, 9515.222976289302, 14294.53876136763, 5935.593465970841, 9691.565867648907, 20331.192147903883, 7314.957924507904, 7111.056941188414, 10373.914671055536, 6819.872153721453, 8478.377334252771, 6132.0794456761805, 13362.908972041821, 13518.481663927427, 10232.036370326543, 12801.871235317587, 4758.858695552342, 5875.006545251533, 7037.043791762342, 5006.603078574687, 6718.3394590929065, 6385.888622112306, 3565.150412001633, 12497.864297712962, 8219.648199056146, 9063.0077985312, 12754.69681522272, 11754.322868060803, 10700.108847366771, 15372.737257648785, 20328.800677565927, 5261.716200512751, 8288.212173917245, 10505.584033103707, 6988.6390080803785, 8382.59137049949, 12211.378116942573, 5640.209168694367, 9104.191489656328, 13558.453938947476, 10736.420681072417, 8327.717977087956, 13161.055453629386, 4825.140979260001, 15354.284077540036, 6177.251564082143, 10138.486593453887, 9888.343638577346, 8009.79730722219, 6292.121550463176, 11175.614113390933, 9932.26188588683, 9848.86394756319, 10145.74084157792, 7056.503113482297, 14066.38857329491, 12940.897682316869, 13923.145770911446, 6245.749604232144, 9160.853919478146, 8007.037300779982, 5298.005047133212, 8009.695556717415, 17328.554174380846, 8829.775299566698, 9951.81796102897, 14799.006031768768, 8223.239863537143, 13239.719972416151, 9117.107528356903, 8490.099641164814, 13992.025764509313, 13203.656406304248, 8809.975145487524, 9272.910851519988, 12646.169751080864, 7464.730180775216, 7357.098994004528, 11548.966217908683, 15515.990018828796, 16577.182922627497, 7564.36747540841, 9627.45877508774, 10666.495306891227, 9365.151390227393, 6368.508617279838, 11472.409204809956, 6803.6493751955, 16816.823934961267, 9346.373642277991, 5615.199634330002, 10634.20517477115, 23147.958415043064, 12092.408388086995, 9896.246481747898, 9209.310144310626, 10592.632635841026, 12126.28987122162, 8736.79617537852, 7103.455130559532, 7685.42160918196, 9975.253884274636, 11625.959093831116, 8958.893274528686, 8933.024302590553, 13584.625322803973, 10511.265089479959, 3956.216724618696, 12524.692027399275, 8480.745006553287, 9774.387352832247, 11439.560804079663, 13618.714258129718, 8805.134462991782, 15977.642886854284, 16560.0602852328, 6595.045530838154, 9657.008363619141, 5675.017211489382, 17245.668894288705, 14168.030476157166, 11899.124502527011, 4767.172812767607, 7250.764001952478, 12944.410803169058, 10353.6423356191, 10837.619293697999, 6301.317155068622, 6699.674352660951, 19455.91024504035, 7595.511663815937, 6664.111123864574, 10661.228371734653, 13148.667847570676, 8757.267413902206, 7796.897576056452, 8036.937432886726, 8657.46544291327, 8352.703698256917, 4339.561966102385, 4215.560938029306, 10538.307703823017, 7625.072767363727, 8077.113431233451, 6091.222517773301, 13189.858875160848, 16511.76244619203, 9576.857503289488, 9728.432316890243, 4627.460439129577, 4505.414157091864, 9553.0234858676, 7141.212510616093, 15620.191372825573, 9849.002390498483, 14667.024157531161, 4509.1203174172115, 11398.040287356165, 5414.843596053508, 9223.057057887392, 11829.19443442294, 12804.051782285671, 5352.378085544899, 20577.28625829525, 11177.575541571625, 10817.960038147769, 17810.539979469235, 7482.535847107068, 8544.943501767702, 7732.284497303786, 11203.681402508964, 9722.613343055527, 13988.249369657618, 4850.845133367876, 10284.914619144718, 8529.990639065987, 4311.015144004081, 6740.498231102525, 6307.142934838871, 7699.267201245106, 7040.830107515625, 9337.227515863931, 11523.961584626322, 13242.688042421598, 7589.676364830709, 6068.580769394337, 12390.845064084904, 13510.207889690877, 13750.955586554439, 5485.555730320095, 11287.799572519132, 9684.565606731843, 10407.955575777527, 12382.346850608003, 11313.189794639586, 17701.179498962254, 6938.581417857525, 7926.537245935703, 4461.8402208993, 4639.419685567435, 9512.28367614057, 8339.862226740255, 14563.57067833403, 7473.946428030724, 9542.2644335728, 13159.942852432505, 8543.724254036719, 7253.5279039969955, 7749.022465444851, 11377.207854245902, 8915.679964498242, 9711.028827285401, 9054.398679126203, 5480.338632093899, 12580.712587267533, 6230.0205263503485, 21446.165215822868, 10067.45633349052, 5378.164239302291, 9701.459676861441, 4275.968135565834, 4567.7100623730885, 7696.012079413396, 8506.952057149936, 10568.3097632777, 9863.421358630838, 5280.210751816893, 11607.435012244665, 9346.770382340836, 5671.227780770059, 5587.395447420963, 6076.889467629738, 9207.037007313731, 17832.57115660862, 13482.315710675337, 13180.576043927176, 9726.182007819687, 20404.465749317078, 8554.462115467622, 6373.296403458441, 12343.925586150108, 11514.224109824767, 4430.814527518005, 16138.689854929038, 12771.832175220019, 9272.265644283263, 23831.90988742682, 11363.831583733407, 7991.596179150936, 5198.759697586739, 10527.633773722791, 8848.872987118493, 6917.842039620961, 7494.738429740691, 12776.102912403943, 14279.44764267911, 7041.964594317382, 11202.780007631023, 8409.62695153723, 10697.700768929266, 14016.143797107685, 6807.007002904927, 12389.553113602227, 10015.384853298752, 10681.009093276276, 7379.364700550007, 9490.60054150893, 8654.953643432862, 8265.102768839732, 5192.3187840232185, 7654.918184195063, 15680.324001136983, 7413.806311674416, 7476.564601201525, 11702.200431774068, 16850.313104164834, 8486.443423875733, 3854.935205390789, 4808.206417098162, 7377.844496067282, 16082.675777625942, 6732.075138076011, 11124.356000601989, 11645.070448833263, 15194.554510205782, 4499.2727678504425, 10685.807752783227, 6695.452146294304, 7452.252791441375, 9374.58488173276, 3704.3236514599453, 19411.1578184138, 7082.72217425621, 6119.566571498027, 7828.653305814642, 11895.978442401818, 8806.851903183346, 6913.515495786658, 6575.241445788037, 12064.825007554435, 7803.39267436589, 12804.613557443248, 12290.950290855362, 9154.321257154026, 10399.873575322337, 19734.187891544287, 7041.38536726571, 16978.954628270283, 11424.040946820665, 5640.883979477006, 6508.985632975921, 10777.083867182157, 11042.794133917987, 12283.486493685516, 7128.065999796887, 3496.390689440625, 10111.308608193945, 20679.280998641345, 11292.552394277593, 8578.414784548242, 22251.78558440281, 8702.586921015618, 15331.256717586004, 8943.32957532263, 6340.777006805928, 10683.798774001645, 5456.475915552578, 11198.141997508275, 12620.480598326087, 6827.42567606083, 13793.682133245475, 4705.176409071499, 6466.489204717189, 10681.329189511183, 4686.777706763069, 13354.653715811039, 16433.430630031515, 9722.185483648216, 8984.505323663305, 11776.538750307556, 7983.398780951248, 21177.555352755302, 6100.709213808174, 16255.325132735907, 9898.1338176949, 8621.930253863959, 14546.038194271609, 11150.317148250662, 11835.22164866404, 17988.23470040734, 6411.29966877866, 19831.895175448328, 6130.5936725577885, 6393.150110700797, 11088.135362390465, 8730.219949003744, 8435.044488347756, 10788.068849252553, 9796.750681857751, 10261.91453851212, 4741.495788927648, 8492.947083920713, 10460.764082703883, 5446.629563466678, 7038.71753653403, 9577.44440533455, 10169.141547770332, 10658.959691185528, 9770.051325151613, 13108.698103934219, 10824.658003357696, 6808.543398642617, 3326.9393332935997, 13875.81623409711, 12667.535300650547, 6877.680835468199, 6362.7666055907575, 10666.661781994586, 3637.5669809081237, 13517.019080000691, 13893.418333734824, 7729.685104877167, 7174.480054911967, 3992.957531843598, 12126.059858895216, 5000.940878732535, 7438.304183181668, 6073.1870437478465, 4049.7305341178194, 10596.036700039384, 8535.616429426687, 16848.378738041127, 19625.83433581112, 22106.282312045754, 10191.796374964544, 9962.776608625683, 12071.379168954818, 11178.70508434374, 6794.859597865285, 6664.30379196707, 5336.51508433386, 7242.942708744546, 11516.98472258639, 9478.782178442043, 10738.07670110625, 9932.852996799234, 10779.896143411426, 4753.7041568591085, 4976.924710323835, 7649.017731134997, 10185.488929990708, 12486.048066869387, 10608.118756476702, 7270.14994891673, 6767.53000243322, 7925.216449806415, 6252.1425326658655, 5214.561614642076, 7998.555291189705, 4258.14224595483, 6377.296484703864, 5374.250732891698, 7912.751520336756, 8040.537454470463, 8032.269101740099, 11210.051859229008, 6927.386699792827, 12240.231509299947, 16207.247513962804, 12016.43763534528, 12742.940842424625, 6133.592389483798, 4793.828499317185, 6219.981031211741, 8955.09592628821, 13851.03204339957, 8046.14570451547, 6522.048267081718, 4897.026702878576, 10731.127669127922, 7622.905028893481, 8652.885260505662, 5358.387458836925, 12414.592463724308, 5726.774188742925, 17892.986840090754, 5632.63579192018, 10766.94759588437, 10735.151250303712, 14615.017093725617, 6679.18407823366, 14054.387920293011, 9170.138317036992, 6400.393005493607, 5467.24384537428, 8543.879537494024, 7902.327578261623, 4910.40631320057, 6298.710241754802, 6054.973400233134, 3998.101962686758, 12956.22940371106, 9359.626703630742, 5386.080209288381, 7072.911951229018, 8141.3738367137785, 9534.561296862754, 7507.633201787438, 11735.809389485294, 7754.47250906766, 12818.151048290749, 10244.738949221013, 7503.337100240921, 13134.360275474597, 12456.540880276416, 14787.846783390425, 6280.3748366679665, 9055.645923656632, 7673.240293202172, 13889.555280679355, 8538.412077345738, 11582.983865228072, 13631.004226550409, 8582.101908969988, 8739.205021820628, 7712.0989211243605, 8981.79711205795, 6122.8681904506, 8607.176021405747, 5248.967296287907, 10878.948946119275, 12584.054139933223, 4695.669323019643, 17447.43914483349, 6558.917192127375, 8014.902895727207, 8483.168045922595, 10259.909318910997, 8943.449697305972, 5032.248697594773, 6681.598126391168, 11967.195438642648, 5631.148614161779, 10881.958518689324, 13053.140822632999, 10854.874619046104, 6873.639158183909, 18397.70991665714, 9502.53748044462, 13280.417971366192, 13921.58725714641, 11756.659193647061, 5250.874645828581, 9877.68334055884, 9971.77647058388, 12734.764872563937, 8255.463431889715, 7547.49122601724, 13681.707264011418, 7323.622115400965, 15120.542244995551, 11377.355902291409, 8494.88173804615, 6362.007930726372, 13133.987444607734, 6244.694952014296, 8773.504344934065, 13688.148296312507, 5872.572430447403, 20226.935765366645, 6891.37014617331, 3871.4553583312163, 6305.1596261059485, 7579.86568201128, 11177.691176791232, 9607.935102666193, 6175.326307907793, 5047.955905029652, 6577.97090888923, 18659.81776684753, 10112.46786567052, 9171.794867600334, 11665.944980722239, 16681.197161397173, 8042.833237497861, 9685.350113330047, 12136.253649695755, 21063.11253104056, 9773.03603862526, 10970.003400241896, 4565.925641569425, 7749.187066010656, 7792.420298686858, 5904.793611417232, 12159.584310836643, 9363.09804907458, 7415.0227147567675, 8778.847749601733, 5171.462269926478, 19502.66231312934, 17882.57497135117, 15823.314478639248, 7909.644065074599, 8257.663696870759, 10361.232944496607, 4886.9820514985095, 7664.149213012883, 6682.242939520265, 6365.214473740506, 8847.39597278945, 10748.445127059065, 7480.313231676235, 7601.587166346542, 10028.397311945828, 6749.491827759996, 17379.754252295526, 4648.605748220932, 4617.209437038668, 13216.55345204886, 8062.234019077363, 10463.691872888872, 13170.515744453298, 8039.3384780189035, 12729.365815352081, 10378.542934593517, 9096.557584519242, 21428.845650931704, 9019.565244178963, 4097.152352748575, 4495.381940312667, 12970.958610335005, 7709.672395418357, 9866.033094710418, 8715.20049727121, 13271.720965960601, 10153.735602773244, 7787.436413648346, 12341.979861642518, 7072.53152621136, 5588.866145922671, 8745.182214709203, 9844.183070657153, 17509.61571634663, 10376.420356815079, 6980.357856957498, 13914.991628550033, 10666.879162666297, 9013.14755517574, 6181.360401348034, 12820.968917816717, 13114.679758323213, 13715.280226559471, 7580.437471544681, 7173.097252516185, 10216.523521109568, 10410.629919390354, 13864.678328162514, 14934.835007808304, 7049.20687521177, 7374.298295437801, 8097.593132965763, 12600.007616634057, 9886.040953613827, 6571.9398874674, 8233.77813471878, 13265.434327848354, 21367.09302806561, 12125.760943418876, 12936.180224138858, 11597.150038581656, 6946.718583275047, 13972.353569092047, 9126.43812240324, 8936.515606048793, 8269.888837113298, 6139.184028902912, 7835.704921986963, 15459.537668582278, 10062.51111142064, 6523.722499435279, 6821.062146540202, 4760.297825022671, 9727.575365226123, 9309.529162010465, 7079.711788207598, 6331.506216065506, 5110.553125801611, 13014.62648309077, 10709.72965115304, 4416.387106282329, 7338.687111827604, 10620.962446111935, 13063.386261743197, 7222.943555577545, 8421.115926524024, 5836.143698356681, 4506.803914476709, 12809.920322733355, 5492.524957787936, 5561.31461737054, 9667.83922939711, 9326.032176321823, 10524.250465859408, 5416.682300129988, 4543.207272099505, 11066.37379528858, 11684.897737720905, 10113.746381125264, 4634.636835839489, 9841.531534759999, 12164.657966518627, 14847.178807322902, 10104.76183883787, 4507.472667117757, 6611.411385590336, 10811.65251233134, 4878.632115963238, 12432.944297541226, 11926.557945318531, 14455.584062063983, 9635.469376378038, 7293.134325876212, 12589.243238833646, 18193.19092710612, 4235.720576369021, 12424.06853906393, 15753.260347475562, 15625.681413319764, 17807.303395853956, 10029.50067182412, 6867.533948527818, 10436.03066115283, 9921.47697406858, 11224.556904509014, 7783.526436522078, 8892.089546010528, 10515.955056124714, 14285.310887937136, 12363.82191764803, 8428.672829094194, 5678.664728094716, 4703.790655921184, 12437.397531819302, 4455.293315121365, 7375.183971484667, 10117.040287189498, 12844.745607737008, 13010.711564461188, 6736.015944018688, 6489.437829041273, 9577.847734068466, 15612.996205476802, 6903.6781121755785, 6620.687405835798, 8916.8346139472, 8595.642512257213, 14584.992413503736, 14799.889585697658, 8753.044707322035, 4690.504989741373, 16727.27886757231, 10087.695654834284, 7222.303257001828, 6888.20747289587, 5444.445600899156, 6958.550419264812, 12471.57664705413, 4177.616281060469, 11393.349492074849, 5438.537333897515, 6549.690912811722, 5762.880240162187, 12313.222035331772, 12928.061041144947, 6117.1447498202315, 11077.602275239904, 13288.697793639003, 7248.731967874796, 5455.563323975922, 15439.767421208731, 6205.370579826082, 10330.916174944574, 15244.798867022078, 11030.477209546212, 12861.932797939771, 5329.033648321419, 10403.27714941248, 10564.201140749943, 5568.335361778823, 8533.352695433543, 12712.809167034964, 4353.854365054857, 7682.050094231385, 10837.332767348564, 8918.655290126124, 4773.677086710997, 11382.723905843408, 12036.825242209652, 5794.734456405589, 8779.565230113878, 5869.931242401771, 14149.234366834517, 6817.180570426321, 6772.775862937121, 16509.11935834552, 8628.315651305156, 9905.182250690239, 9631.220587957281, 6586.869672136014, 7751.638824710043, 13341.31694195638, 6667.9574020826185, 16016.975206879612, 11129.105901921874, 12061.694782471535, 7137.743135710373, 11082.867891651731, 11493.023792403616, 14325.701397043651, 9475.178230940037, 4287.835122924244, 13921.630462458068, 15420.381630876987, 13221.846181044277, 13861.214026129313, 16789.29188947332, 12725.496355521354, 7586.0618522127315, 9693.471140545542, 7431.47369170351, 15070.405610930362, 10827.294457059146, 9713.08572551216, 14106.852098418116, 10173.543684478898, 8386.209159768694, 7130.999024539574, 8785.229264072288, 8468.578863717097, 6719.805519251013, 3540.295797302919, 8442.594509192453, 9838.849455521844, 9010.255931944426, 9394.456056027208, 15048.229589133116, 9327.641206600263, 14955.365392791864, 10466.190783028844, 12200.149060987776, 16490.09040215319, 4834.33056361882, 7038.4971444758385, 3842.7561100558887, 8663.298837044962, 5289.499797824657, 13302.359837654312, 14763.445771411252, 6845.0614921112, 6117.911407890369, 4183.938851177623, 8650.178766805348, 7105.442923529871, 10093.36388250203, 9916.033751539293, 7248.786667992229, 4900.944291839954, 9063.29906427746, 10559.398939327028, 14514.172682802588, 12425.122271697323, 16086.780519709411, 5697.34415124409, 5616.015035429219, 14924.909760933608, 15866.00976451126, 13695.631359282059, 3909.8457308144234, 11273.006449722503, 6839.928705127326, 12478.012500376788, 8310.042022691669, 5770.351646640814, 5522.368795662433, 6500.1201010862615, 14459.003905725353, 12279.570423049026, 5248.547152295276, 6712.700981498239, 7235.880047453377, 16392.375579677646, 13440.718342964772, 9466.5701776467, 7407.266706992877, 17951.7349278907, 10912.528588286337, 14400.049901743476, 17488.327816084588, 4797.540257991888, 15248.850647103776, 12181.354437147726, 15027.06445339657, 7685.289234493582, 8668.536486973337, 6791.385791775112, 6571.51062089376, 21329.9000101295, 9897.84485090977, 13701.92274689648, 9870.699662478046, 5791.9916997510145, 9219.727368871801, 6952.669593269787, 6859.491027885869, 17929.15795716328, 9423.694986696057, 9004.5442463319, 6742.282659485184, 9410.540199616713, 7886.08069853854, 6062.195781218749, 10537.864009373401, 6899.861839190054, 7116.711900566097, 8749.610382731726, 11128.664663065914, 16342.444311054254, 10951.682018818092, 6761.059924905372, 4459.8040562705355, 8540.49410245999, 9795.474323889626, 6139.09287383008, 13028.654668248633, 5266.443814541119, 15706.51071982225, 13470.920846568575, 6813.121469037564, 9040.223653509027, 6917.740228484243, 7700.535626534087, 15677.289210731542, 5206.066892554531, 7191.381375611349, 8795.9180136298, 11632.442240068893, 5324.446440187484, 10133.481825763854, 9168.881452238365, 14053.873473419202, 7071.391388007295, 10254.564481813675, 6337.700996784934, 5889.4535177623175, 9984.794780213402, 11130.002906036641, 9563.897769169047, 4826.700415135833, 10634.97659497511, 8871.615771050585, 9654.67190666366, 10158.632678028127, 10936.792834813958, 15201.479425829004, 6992.074201728531, 8291.559678618609, 8845.332248416504, 11622.64375942789, 14030.660498878635, 5646.333985204849, 8238.72796986893, 7027.272196335161, 7009.327212957504, 6227.961874849925, 12040.604608026531, 20302.377696411535, 14459.215480888573, 6613.140547957435, 13753.790751341994, 13699.551204256977, 8075.012544532428, 12706.334074740202, 12562.589255031122, 10797.604081157368, 11660.42975776129, 11692.274113735048, 15439.988798535986, 5681.790938837743, 7014.655608693089, 6252.489122533305, 10509.882084977708, 11925.095376549776, 12634.536613545542, 22632.994178971097, 8748.62492671822, 8909.04483924402, 13634.886408983708, 4748.144346683459, 11821.421636663656, 6030.394534556084, 11441.337830312677, 16802.90897995595, 4189.749834227588, 11069.076939074084, 5279.399895587027, 9822.885651180133, 6642.462978916391, 8137.600655355029, 6907.4415873708695, 10641.0335087627, 11504.260199981414, 9502.626927717743, 5539.246416851302, 7724.219650635645, 7673.617186409184, 6876.007505014784, 10335.750672982183, 6063.797525558753, 8268.462182665126, 16438.02680411395, 6272.163561332448, 7516.1517623336995, 5793.695141542857, 9140.242696957303, 4235.726927564994, 7316.267377411295, 10508.967214650538, 9803.036814703817, 16352.496955745399, 18875.467391552735, 13042.790854054007, 7793.254184949539, 14288.583305030428, 6104.995351505479, 3972.618870114775, 4640.197840969669, 7795.163540396979, 6880.756226538119, 14451.838210553293, 4462.812934099574, 17277.361437983847, 8550.14621759189, 7487.15754218462, 12875.622490120846, 12640.342061404412, 9378.726659827713, 12222.821309760133, 6157.877970876171, 4991.496839795523, 18648.228274205456, 4958.863321195645, 15058.828664047725, 10212.078300353216, 13981.219318246172, 10235.853626054797, 16631.854249985456, 15824.288965323827, 4538.231360161431, 12144.856695801167, 7368.061625625135, 6735.414682308592, 3729.1054648800823, 8573.155099961452, 8475.624881540063, 9913.221869417657, 7157.15694305218, 6162.61525822569, 4632.930579714985, 7654.81626695244, 14277.342203529743, 7692.032537238488, 6271.170824433176, 12198.083942080168, 8090.250114625306, 7992.006076345291, 8387.725799598475, 10040.45977921307, 13300.986549420848, 7285.721535327966, 13141.969265936003, 3987.337900677718, 6995.6944642757235, 6233.755987061899, 10043.121016221, 7879.024449075282, 16095.745477879384, 12448.869646073428, 13368.976284207547, 3784.0798584761023, 18221.46721958249, 14363.372376582181, 7759.3141515691495, 4990.369439352036, 9426.354667484138, 5404.923995528442, 8734.555981737036, 10788.106142949822, 3632.264555854561, 6574.416543158162, 12106.978951233508, 5287.489568509276, 12759.700648170305, 16271.64285077843, 8620.34990249431, 11321.30264159551, 19269.34159468857, 8866.356485624085, 14922.777850888702, 11334.331011074832, 6206.667466759395, 16883.35679532914, 5069.355304907552, 12202.322796967666, 10658.093796309891, 10393.460347819535, 18585.12818220803, 17928.24681064791, 8030.262088444002, 13813.053912545818, 6060.778916302954, 7823.216692167088, 14885.731193409038, 5190.58385404259, 6573.698256746454, 4352.02243407161, 5113.345868440085, 11316.879106863937, 8445.236697665128, 5302.458726045529, 11700.851083052536, 11908.834020950435, 13230.300370678284, 10301.784522392583, 6307.596151029792, 12766.760191969102, 5770.558457143893, 10446.72395810602, 8627.758024382989, 11637.920841336601, 8619.922578669153, 8537.007194817586, 9291.857300270298, 6921.631657288775, 9209.304025537103, 7900.594368712371, 9477.789663859896, 6736.764672718176, 21203.854963064772, 6914.291612439827, 13828.161351332192, 16261.247246557388, 20816.592228620266, 10415.199612471913, 10827.2585376859, 5585.703972858764, 5369.919583556112, 12775.378512271356, 6204.358872707816, 12673.431812634353, 9786.727898398269, 11972.600705575955, 11774.12196613365, 9259.186268182351, 5027.745063014532, 11128.31012283503, 8266.931461066717, 17898.08347022627, 12695.256820958704, 13843.216530436808, 10953.846841902438, 14266.14699535685, 9842.083214699147, 12503.907978579111, 13061.172741103715, 6003.124747482592, 10712.077810073415, 16945.128193886758, 9843.228031668103, 13216.896204419598, 10814.427742443773, 10016.761678395538, 9465.273098712241, 14205.517675225434, 8221.09722669108, 13180.04044661076, 19466.78527613576, 9560.59368199115, 9619.025998634743, 11827.679934395468, 14502.316156980582, 10577.413841439657, 9133.57551761616, 4626.997370248009, 9849.523431096037, 10286.912547754768, 7872.896105806819, 10867.23288934999, 7772.441866486187, 8129.43826704946, 8636.696708711233, 9895.748779395522, 10779.839745599613, 10163.551990047918, 11507.721131889133, 14355.531792311222, 17182.317710259555, 3902.306376138941, 10022.339321941263, 10120.685156200007, 6811.060644892525, 10143.770055867444, 13822.631844496122, 12343.258882363445, 8767.81832179118, 11813.49549566922, 6336.585154305488, 5861.776862565256, 7200.24208220892, 19314.197257302483, 6581.813943298355, 9457.667114584665, 8421.077541451778, 4942.786165437501, 8527.482684661261, 4287.354670359508, 12590.22357650069, 8310.389287089467, 13829.34698370375, 16746.52911519665, 15568.141017813085, 8949.891098451359, 10043.197003202897, 13161.008706401737, 13846.902416956398, 12608.533902700321, 8484.648713326173, 10447.496287789112, 7918.932863501934, 20058.25240624516, 3630.95387768067, 13017.749513183155, 8870.722844433929, 4530.51442210547, 3427.8159978836948, 13460.669425106731, 7426.624854211506, 14480.342969241512, 16718.331477507654, 8680.482308488597, 22092.476924013154, 8984.849798991743, 9384.796124427394, 12947.109445032842, 9564.484620687484, 10812.443759180482, 8865.030712622849, 12678.71296092877, 8635.93105359447, 7525.099920402946, 5925.758179214437, 9496.109716433628, 11100.782751059318, 12349.862691219387, 8648.23549283876, 10721.567320440947, 5317.915174924372, 18028.227216390856, 6607.735286076794, 9852.31535520329, 12875.997220788577, 11329.861062591275, 10740.556239340622, 10026.184109624064, 8649.67516799657, 7079.967932901193, 5629.729129440809, 8274.56788495575, 5688.979090565506, 4676.475859735737, 13907.959399441303, 20533.13649296612, 9198.057361055702, 10875.494698883213, 11630.315013841533, 4790.071974058294, 5287.611486713921, 16591.78568133546, 13293.552537692727, 11201.970126564891, 7382.491969825695, 10872.096106717661, 9786.058087224561, 5582.514679632267, 5665.881321768279, 13868.639549385483, 5752.844905890619, 7041.028922181296, 4522.189770090199, 4841.421958134889, 10839.766174780023, 9435.542771413035, 12791.12733595575, 3300.31062037942, 16944.64961080691, 5901.881754801455, 8670.665153209322, 12464.502415167275, 21875.35858650233, 5058.373887490107, 5887.633271059649, 6216.774536197893, 21242.165589385644, 17595.514318083922, 5709.991428754373, 4765.4171466626585, 10203.09522839043, 16113.02203451269, 9091.068605084045, 12297.23505443006, 4790.341882202832, 19609.321003964218, 6749.749935412726, 14781.157458232286, 4843.011089767706, 4193.95546281063, 10848.836516318668, 13362.30396125661, 8618.853218152592, 13912.377805721111, 15449.753901292646, 9110.271756847082, 7938.4097583798675, 7666.515670148215, 3996.5052861666018, 6802.889141584934, 10179.813087961506, 10451.099755288235, 14793.519245188818, 15444.79617893731, 9714.628500235467, 6682.03203636107, 5167.996083250403, 11007.566934925731, 20157.120983848497, 20408.190258383987, 8211.146327452052, 10210.309257325956, 5978.503889132716, 7147.074811026355, 7996.943699211706, 8117.5927863462975, 5571.876143428438, 5136.781862423012, 8225.951894954875, 4604.305976939827, 7250.652550336915, 4773.617333931698, 7096.165281379951, 16760.779582108255, 14449.625220443322, 6154.204208218743, 5755.540349419419, 8130.765970167518, 4189.840145505888, 7936.005171331717, 7980.899557546231, 7493.743282721706, 7608.314618891153, 5700.888416704067, 7922.291120267763, 8961.073700232893, 12314.455304199455, 11039.171309671226, 16760.824667010136, 6035.180767041155, 12928.325199360266, 9298.095503565852, 7263.974772525371, 5918.278074578392, 8146.856581164227, 6177.678364956791, 8349.15321802285, 6401.3074766604805, 11371.314404175191, 9110.760889884923, 10629.095988770885, 6389.741145420424, 14040.498779337197, 13133.591184547768, 4868.09339256836, 11673.271198961984, 19670.202345817142, 10740.238765437221, 6709.717404873523, 12457.02093873353, 7841.1840841001485, 4711.527867782907, 17087.7128112715, 11740.861596617631, 10794.142613667485, 9845.438237761375, 4357.731762617373, 7385.425540255861, 9115.700372130901, 6931.946209234378, 15605.200241262835, 13014.463347796916, 5487.030086949, 9141.14505689367, 8365.473346185088, 9237.469695034437, 9036.190750172076, 5692.414610110342, 9357.135807012497, 11198.978117047513, 6781.939506929891, 10861.41021696677, 6751.552505377833, 18261.21144776161, 8785.319024610442, 12573.72980856055, 12873.843609560921, 18800.098926211464, 4008.973995027341, 6957.077899278502, 4379.3993527347675, 12710.11203086442, 14052.221444988236, 7526.200016261674, 12648.520385805547, 18680.925378028664, 15924.312530904474, 7657.370693214733, 6943.751943172921, 8222.60473888719, 12305.998936868198, 11424.08171674931, 12244.191123776442, 7737.934116017879, 4682.059136999451, 13442.388636768404, 6812.0808809040345, 9692.385540773734, 11373.104289432671, 11539.90910423882, 9276.762265768839, 15945.08988494766, 12932.04785915296, 10525.642342835896, 4660.9337682381765, 9742.231560886028, 7648.716592487433, 6111.95668924181, 4872.712472893386, 9996.991047019677, 5978.243058095232, 6218.516342851322, 14499.804771818423, 5471.126490126157, 7045.3827251263965, 10826.481291762808, 4657.558246526739, 11759.364323128679, 10182.36317146092, 4747.628202115261, 7657.897557005097, 4250.21806791953, 13647.672068797347, 19326.662522774168, 19976.37332334351, 8813.521214747787, 5996.9411104089295, 20043.523805940622, 4294.331385872241, 11574.958343427274, 19899.94321290035, 5968.4770079644595, 10459.731551039715, 7895.777746992462, 12073.35172309695, 16544.864480442968, 13879.037321198442, 8036.379735227283, 9552.576673925605, 13760.418423919955, 11259.206877303703, 6619.4827426133015, 6990.101910324814, 9117.959962941317, 6139.355455614898, 11759.12740886617, 9126.244873244628, 6460.18083510622, 14014.662730543823, 9498.405635882898, 7193.496538608483, 4372.510791013718, 11144.677129594118, 11111.303822979944, 9628.838581255039, 7935.524476239213, 14550.913068130218, 15462.473411657054, 4241.44585111565, 9746.483284903326, 17392.89037989456, 7786.949023778859, 5763.662119376223, 3682.695163892772, 6829.9968695815405, 13555.33291476186, 20044.410831048204, 8141.483954426618, 7292.040626687425, 4898.712450248534, 11579.800162771935, 8560.561582773495, 6198.586037254988, 13135.973681358222, 7288.1089534310795, 15564.991410719278, 10449.834457596957, 11243.186008198812, 4115.07680968738, 10129.297580045859, 7458.175130106335, 10890.57770804943, 8519.567366468555, 8811.262048360975, 10736.100160413913, 6259.84718770081, 7682.056309005493, 11631.583838290815, 4983.9342251911075, 6031.3039606400735, 3734.8741369395275, 4632.4147206221805, 7036.65997640857, 9586.478968974468, 10016.914208152133, 5072.344234827519, 8088.633303247594, 10204.135531048565, 22260.569404644695, 10072.654921289948, 11880.142450194824, 9141.778387848664, 22474.227679305593, 12299.032028572143, 20540.6660404249, 12943.161168729577, 8398.95685135469, 9293.285142094004, 13552.363637170234, 11358.969629531184, 12004.268663018436, 19245.96820318624, 11669.755268829775, 8746.635658370611, 8514.286117120897, 8475.594823254589, 6451.330218674406, 6034.217562950528, 17442.82460937782, 6465.573632070019, 7578.015912605307, 13107.416804462799, 12098.197525953361, 6911.450422352993, 13818.083210909244, 3989.56714520093, 10793.146562222017, 17069.10306432934, 10390.633327922918, 13158.4226732131, 6168.581312521164, 10564.059742007457, 12039.37621497757, 7328.349211531493, 10752.556200127829, 13367.87306075111, 7163.054998624184, 7978.3433199046585, 19812.51076954595, 4552.481213174604, 14798.89298351205, 7229.813174869239, 7289.697520428931, 4130.3032336081615, 6856.72880079877, 8514.288931453555, 13427.327020572555, 6317.770352660246, 8972.070899639699, 5769.671970144797, 7279.815938658119, 9618.567636307713, 21954.155121238517, 9817.955213198906, 13995.215055209483, 4370.5616509066995, 10636.498497152228, 12768.726036176282, 14391.906127444236, 10833.60861702062, 9103.443973595688, 10049.082454909858, 12163.952392604184, 8397.60718431547, 8804.135390054525, 8898.732381626762, 10036.050270670832, 10608.949656616222, 5092.98209245542, 7404.612099077324, 11043.211660631763, 6633.296636802184, 9152.782084978635, 11380.495712273849, 12218.93711131475, 7260.925642665527, 4124.559205906994, 7729.302128265266, 4006.9793152788716, 13823.465372019804, 6941.079433676347, 9186.364384845823, 10808.748666710966, 5847.11564203312, 5878.668024887944, 8870.486587017464, 9433.174912164019, 7211.254449706664, 24121.984953714196, 9763.230746996045, 9403.503150268567, 7157.083042819639, 12992.896293019123, 13803.496009347193, 12278.827914176303, 3935.6548767096638, 14086.093626172347, 7331.4222657452965, 10892.086412673738, 8093.544258164637, 9682.644175422538, 14141.12693127945, 6439.851222694806, 9389.044781478933, 5748.501238585232, 6984.755193637292, 7995.5999336815485, 7249.8120905611395, 13984.775593883429, 7813.994048241648, 12376.099961786686, 9692.397566108984, 7416.4583376797555, 22902.315891359143, 16210.808084362643, 13285.219561417034, 13738.628708438779, 5431.2478535622495, 8415.614229538893, 5633.069171360587, 12238.738624559966, 6560.5417467094085, 6626.247572224101, 9228.224283814605, 7876.177794534633, 5562.290180272106, 7324.420595135576, 7966.388231807513, 7488.676564344466, 7300.0376767385715, 13457.172725405615, 13634.808158409316, 9545.57559952999, 10078.210545335238, 12648.411975892424, 9499.530242204368, 17705.612699436027, 7320.440967065405, 5459.848317245315, 10439.783778391284, 4670.280220063802, 9196.758311583104, 14211.45418913327, 4451.501696599449, 10941.651530049257, 13686.195184813254, 4986.08097743027, 8874.73561291332, 8915.250422554527, 5323.315136562701, 3887.6635195063736, 3507.3156534669743, 13194.604734351235, 5915.370692094711, 6722.157497983754, 20589.16458130058, 11877.383146072614, 10429.50504223935, 16306.17819383322, 11040.277337354983, 10679.372505779984, 8157.412617505003, 4536.734862768209, 7805.416871765012, 7397.751518997718, 11213.413531594262, 6741.4387133727205, 9802.04345632714, 6020.913310554016, 16463.367863834384, 5540.499610891077, 4245.677384696108, 5745.440156653733, 8580.335397326333, 18255.916035802715, 7235.479906949092, 6683.1673037990895, 15484.55602994694, 12167.073795739434, 9025.999404859887, 8363.989061075607, 11871.151263657068, 12927.097761264378, 6803.175420353936, 10814.51058083517, 6592.679154545402, 9544.590330464956, 10680.30995645305, 5835.378250399059, 5045.777854076526, 7526.709607527429, 5801.0500336387195, 11925.078530975099, 7257.104784389358, 8689.115089509134, 5907.912781275942, 8285.773638033974, 6170.683404282037, 4312.145409306842, 8115.000017959391, 13962.67660496906, 8192.635410576113, 7698.251414102366, 7987.317873079527, 6170.274974885958, 10237.631935663934, 5292.275331096796, 4334.3495996940255, 5157.79106038253, 14331.394807178183, 13674.118858094493, 12125.412749331295, 10738.81161077553, 8786.94727521463, 9288.460309798567, 7142.83940205424, 11180.561644527268, 11584.480888098138, 12877.860167536732, 10062.490254032438, 10661.580602899065, 7811.556833629454, 10408.28545396583, 9026.320718786306, 18076.056138093954, 5695.567130063742, 11892.368931919085, 10155.750882224162, 14061.197347223819, 9637.527067872701, 4518.411225330874, 14213.600964109422, 9757.366647838158, 16018.682364904262, 6753.069178049908, 5486.922278302639, 10529.650543708962, 9725.399193863213, 8194.659274499543, 7649.2106165019595, 6982.050786686316, 6904.330514402814, 7569.888519035846, 4971.704989766122, 10805.72613406322, 14853.336329713678, 13405.96307774934, 4665.037565473853, 11322.525784928805, 8260.926829697853, 11074.715204456948, 10430.759269548484, 11601.283474731876, 6968.983688553753, 4343.616029987253, 7788.306138441686, 8927.71520297066, 11861.282086171146, 9200.664009104765, 11224.000020328147, 12449.933433503928, 17026.17060145638, 5094.917782376538, 8682.47882235333, 9691.161508171954, 6613.512858400127, 11526.021079921287, 11351.270540003288, 7965.687245710054, 7973.767765735331, 18998.473676819787, 8357.314626112022, 10136.480353215053, 6232.947212528721, 12101.881068037836, 7140.389437049814, 7264.8266563696325, 10814.413832465641, 16702.09038813508, 10455.906630423398, 10827.710473027033, 12972.98039256177, 4529.8308601124745, 6461.708360896003, 9928.437455378718, 14001.362169116817, 4122.504295902683, 6908.919751180491, 14303.539830912005, 7473.242986339589, 6337.736812578616, 12878.908347294715, 5156.450879715968, 5242.350355563767, 12058.355159922703, 8539.527356453385, 8624.289331586626, 7259.323868009537, 4626.260090880326, 9171.778982031401, 11080.259687382802, 5341.839976048439, 5950.586002173572, 7034.81863989525, 14045.652428761945, 7029.99157432326, 6450.853707185931, 20080.273533640062, 11130.57465009609, 9195.548739699605, 9755.10034709278, 14326.26310651661, 11990.278590089072, 11939.74669133831, 8236.816643883369, 6717.366326521699, 7860.511718293724, 20315.874730595435, 11829.815275197792, 11438.122755878974, 8379.223233253373, 6597.70865754163, 4749.461449316918, 10768.697539849743, 4633.89139642288, 9727.336409688212, 6844.726419786506, 4885.005621964722, 10720.064391009166, 12580.672464079615, 7422.900471461117, 10632.456423233982, 14275.758871089583, 7164.571143293095, 11828.684595576753, 6129.780133364463, 12928.281114885427, 11471.083113491035, 9414.133566844768, 10253.963452526028, 13153.86780969414, 4375.982611407777, 11317.539530191882, 8554.235195370298, 7793.733288453561, 6284.034861137769, 13294.085537940928, 7431.609997362825, 6990.181969752173, 13245.594874165121, 20453.602694020246, 7990.164689305353, 12591.799592686455, 6284.018023142077, 8321.59026540222, 17457.5568475989, 11488.110508209427, 13149.769373332716, 9875.945765509718, 5011.618426538671, 4789.210679631292, 12469.531440686966, 5068.287854297185, 10755.421433306197, 5034.51778740951, 10701.111199481586, 14655.358546538, 7966.153560926871, 6560.991984356156, 18138.0523649469, 11591.114866398106, 6815.015338076364, 13825.941272337604, 17334.73243289592, 5325.449032303727, 11397.507322476591, 4928.550416929939, 11206.67593330461, 4282.733354231601, 4409.426799289028, 4643.581487361399, 6669.448010598434, 4203.683463871182, 9362.17155762512, 12480.828955157423, 10966.967856989837, 20372.32894022149, 10061.644044327459, 7706.924717471115, 11409.7142251361, 4535.079772424151, 10857.492554741808, 7199.3149743347085, 10479.382398960583, 6252.317236029084, 6613.061999275972, 5281.870935244123, 9639.269594530457, 6298.455910966812, 9234.414855666684, 6983.541488676367, 8830.563908926348, 9302.953562165761, 7208.873241324997, 9895.789225953808, 6912.766893403712, 5163.725204591951, 13934.344490684338, 11457.574144919787, 4983.01578515834, 8376.188020950649, 8071.214903237562, 7386.709674270612, 6297.026164289581, 18451.622728309576, 15310.834222091395, 16524.105634300213, 6555.602176041848, 8734.064635633293, 10559.31818263232, 9994.905409252193, 9896.337561030796, 6908.640962982709, 19455.243020829526, 5588.602606658421, 9510.190550328201, 8286.878634974717, 4243.47238031823, 3926.7209494625713, 9749.61624852894, 12387.751960908776, 9511.118572734214, 6954.030482271039, 3964.2243524174714, 5340.425362093518, 15958.529495629387, 10927.227670940203, 11338.6279665212, 4993.862910402218, 13623.700098548368, 5540.175093577028, 10012.800719910983, 8835.356631555598, 20847.822792282503, 17087.348302138722, 8270.082611748741, 10848.06117524911, 12902.820145393458, 6653.350343559414, 5729.841975556733, 6537.41236845952, 7159.443661604185, 10069.286119618799, 11355.381971811043, 8670.181618520839, 13962.554795396667, 3892.6600627260445, 6464.622433104004, 7478.932061290239, 5514.210472223331, 9715.32246313292, 10154.688211431918, 4788.905453380274, 20335.07951436825, 5722.908864515952, 15602.881605045794, 6482.6719762664425, 4646.039155148852, 10804.265864255627, 6189.772274938863, 10745.372729691308, 14186.945873773926, 15990.498718035999, 10719.826860321904, 12141.430748524235, 4848.945173345191, 18293.131987771063, 10630.727897502275, 6045.102671580031, 7562.2284916368835, 10246.766077164026, 4846.297280417259, 4129.647420834168, 17561.2068046056, 9090.413739684142, 10611.460016087995, 4781.350584506519, 7718.255630036573, 14541.026782331213, 11997.616707347523, 8745.734607073678, 15316.044239011982, 6540.118725737974, 8678.15176820018, 6934.956668546585, 8168.16199900498, 5944.342354634863, 5496.380222165126, 6670.74272741347, 10514.44116746932, 7291.5870441785255, 17204.05116940343, 12272.791200930886, 10313.299238165278, 19033.89237169698, 3681.924481377449, 11388.674162991532, 7327.873905102863, 9232.09062110028, 4132.931719261846, 16679.501498178277, 6199.679231177594, 7986.380841777399, 10404.74236577606, 4812.004308499797, 6699.547950218903, 6388.293378424627, 6015.561427519724, 5053.535142690201, 7254.844375047716, 7454.229415502638, 10020.067534005097, 8076.865279850932, 12621.74959456587, 8738.678908350556, 13733.843726487523, 15909.271281988622, 5565.490884935444, 5883.99098901202, 3969.9058155330117, 11336.950083619447, 13425.22486565341, 11335.362451364037, 18328.466980251687, 10636.22694183992, 9763.480919443311, 17227.147710403828, 6258.571883212692, 13821.282455353305, 15887.87746782842, 12623.005595359307, 12511.959956117465, 22734.358943329666, 6290.467546441428, 9090.551025559871, 12959.276441768883, 8934.779966169173, 9218.739674529077, 9056.389205586614, 3485.6777704750525, 8665.018414512493, 5767.924208929354, 10145.186220989566, 7750.653310590917, 7136.541046819107, 13003.136457150296, 7172.722117635505, 6351.320386228725, 14020.921109118222, 11780.24595906025, 17128.460806310755, 6134.369054350776, 9320.198873138042, 4332.0626664038955, 10360.827352170176, 6471.817408451617, 6479.120995818828, 9689.740886602065, 9072.42004359338, 16294.274061831047, 7406.000909088071, 4492.953105540194, 6938.8663778817745, 7667.4180806112, 7160.718165245403, 13871.23224703512, 9144.572393652608, 10292.22678593179, 8473.58980575993, 13672.706068150512, 7268.028694935708, 13903.991382388129, 9061.408969577087, 4930.552620091935, 4444.501703473468, 10762.221260179453, 18592.653546062804, 6362.850679357974, 10858.012003750862, 11481.893551357056, 11298.403083670859, 7936.513954171583, 8641.482084770125, 7608.2321998706975, 9857.095026806917, 11651.097228545448, 5989.115434016823, 5727.78478174926, 9120.580935286787, 6857.495340131354, 5315.184140445337, 22105.430453464807, 2915.163851042137, 6945.673023322235, 13838.436767885263, 4831.880964932378, 6310.73000645023, 14213.608775524677, 5801.709130642925, 5938.916404630188, 13987.253191895623, 19177.80358061416, 12215.260264007256, 4360.0931216168765, 6712.099520208003, 7787.696474154891, 13717.585720802997, 9673.020900884607, 12787.349814360452, 7439.7159954355875, 5501.860710602048, 21073.25342552396, 6094.19830824607, 3630.3909732531743, 12595.600533369516, 15006.27399780114, 11629.196854716613, 8444.945664341305, 9419.86168876636, 7904.660033508898, 5592.408531792429, 10700.996519215083, 8287.502249660933, 19972.293430251142, 10854.167115014825, 18253.197451082542, 4428.3904978269675, 8502.133045520968, 11110.46693038344, 12853.003152823605, 14524.87804551232, 5418.109515423626, 9487.031341162616, 6193.995059835292, 9145.35359075728, 11253.249303901173, 6099.278668810363, 16195.898118760222, 4073.560441199278, 10784.751938418818, 3949.2901087747555, 19827.04279098769, 5440.5131823751935, 7728.719814037186, 16549.083690581123, 9705.822402807398, 4527.640225504958, 4252.586634541194, 13330.274642489712, 11377.842857631967, 6645.7608058462265, 7867.102562019306, 12732.249329061078, 17928.426432777458, 7646.132931523551, 10024.568500779866, 11713.727266356258, 9684.469697104196, 15958.905206513527, 14130.0802562076, 12298.75910904113, 12978.871412302105, 7593.547476881854, 4799.270259100857, 4735.568213178661, 7133.930596641975, 21062.24908165326, 9724.012041125565, 7373.085242270272, 7889.088689625418, 14755.966684886584, 10245.327634855701, 9064.033630365728, 12261.01309242113, 13367.004164594327, 13025.899406255918, 8254.961854145686, 9135.544216577287, 14786.108465600008, 14203.365332215912, 5493.29134048801, 7325.3212977988505, 5051.522690203595, 7357.421525622464, 9893.6648696384, 13515.02357161567, 11687.922079221598, 7410.273217649832, 6654.004562218595, 6871.4380443556665, 8994.406514814837, 5892.281699771161, 14159.24105251328, 10765.377339733139, 14133.953823852426, 10534.025572886572, 7097.812807889186, 9746.126172867545, 13438.47966512184, 4680.736468858938, 11148.589966527008, 10360.371900176357, 7038.730334926552, 8916.062733951008, 6546.576788035886, 15465.221478659278, 6763.469935986046, 7675.936545156881, 11628.284662300252, 13204.224360867283, 11778.751194730046, 11883.837148556711, 8554.478743777845, 6419.376684782919, 7071.93065355623, 6549.708551654308, 6483.974297337596, 7074.042625797387, 14224.437837502359, 8388.445824125869, 5448.464374467183, 8589.334774228982, 8697.520020742555, 8173.178635397744, 4867.177938658755, 14117.314215880024, 4370.745348008047, 21740.40391802045, 8279.480653778406, 17599.56121224159, 4903.41478580956, 8759.99478014872, 6758.797416182731, 6396.3183216956395, 13717.151868938698, 10788.294925555345, 12894.384539449813, 11325.056622839158, 8074.026350830286, 15341.393549729251, 7418.707631165279, 7986.233915422826, 7695.983643032386, 9656.486671228195, 9534.479403319137, 8161.798858539321, 15068.84391398834, 8844.145100246387, 10232.731813653927, 12130.734076392922, 7223.944811264726, 13519.888138044073, 10870.252971456717, 10967.281000762003, 6413.6714160509755, 4732.0157826171, 9459.15528013845, 11546.713791772798, 15693.417873324803, 11608.158525635074, 12685.983453360737, 11168.597102899766, 9401.090347592219, 11870.799320494376, 6422.730186993929, 7573.425357082879, 8586.68954405386, 6922.210368968933, 4193.265382883821, 10303.630593250073, 8065.660749516877, 5737.214385231304, 5551.745739790325, 11650.802137934139, 4225.133808475568, 8716.165199476081, 6876.657277331512, 10934.05277122815, 12493.089148241706, 4428.284012978018, 10639.675408830813, 5759.597492901708, 14140.775301381802, 10182.136701050495, 9193.024303511844, 4327.45017474995, 10136.278054739028, 13060.744618957993, 16909.195451296036, 7126.617618902674, 16481.45050698474, 14423.721284085032, 9630.566677510484, 9441.843349819388, 17509.43807991321, 12582.054826893811, 10209.591147757425, 10741.763855843974, 8370.567136724629, 9628.904644809014, 20853.673956626004, 17174.569983808484, 12994.517757898404, 6427.4493933929425, 5503.559385207413, 8888.700185058213, 3690.85343427893, 12977.822227064402, 16855.56925694098, 11523.844322449593, 13280.456932441895, 9569.122893548625, 10166.312289544507, 6115.390084142331, 15316.759877828868, 10412.479956587416, 4932.742726696284, 9806.599153535315, 10154.433269271847, 4326.714795183127, 8745.796896289221, 8947.665213948296, 10969.932976240725, 10768.240415424863, 6332.657737916771, 9204.30203175844, 9230.444251650611, 13512.777905941388, 9789.39057541483, 9720.082212090792, 4790.715395179055, 8559.132457573667, 6554.350272957186, 17049.631373693122, 6191.047945744976, 10194.386379545416, 5306.416693354261, 7855.115824048202, 7712.603510254856, 12072.527851210103, 10770.409220006763, 8866.715820831092, 8329.426757017065, 10211.72056684002, 8189.303028491732, 10211.757865589963, 10365.267596054566, 7369.3150167187205, 15488.22493446999, 6799.436036250444, 12194.899896043005, 11814.957250959402, 5105.731433735514, 12499.597401156321, 7227.287637201202, 8378.34864022032, 11408.891555782771, 5125.399837130053, 14484.620987311195, 5973.885147336032, 8811.429124731096, 8887.230593089464, 11179.042814368591, 7575.758661177334, 5524.691438640346, 18842.77642671372, 7746.000882697532, 5402.148636573139, 12956.964015273274, 5068.536364418689, 8397.724416176226, 9756.907002135009, 11667.251220132684, 7999.813671786891, 8637.145092031064, 5721.778015630749, 6435.714143575386, 9531.663105171005, 8121.043895879345, 9199.186509720184, 13157.892330665043, 9729.596217763088, 7725.414660747627, 11685.713985140985, 5140.707677117918, 5969.282227950003, 9517.914397899267, 14940.662636852805, 11540.208605823938, 6547.295592345439, 5945.066807820387, 8678.470500216396, 10844.369164903337, 12901.466274539549, 9240.519825321328, 15211.304847263116, 6948.6422377555755, 4482.287110645425, 3467.4006503692435, 10836.677522999029, 8424.156759913074, 13013.21287461555, 17309.71277299715, 7619.8762258923525, 13109.516832211282, 13288.616652942, 16657.270574157134, 5674.06759400653, 13137.743315546913, 7520.554030411471, 8201.455938406472, 16353.997323477606, 13823.194397763615, 5878.67903211183, 8562.3559699527, 5159.298175944672, 10298.253868803684, 6748.60496939025, 8193.953392372732, 5133.111154099685, 11446.37184280961, 3238.2449093204195, 7724.840784464877, 9425.632045888546, 8810.777558719397, 16001.910407506793, 11647.144278529966, 4684.407692553773, 9438.285891859263, 6503.52606255915, 11321.4931117901, 6269.264290897394, 11581.005045785216, 6319.366988759111, 9174.191966603588, 8865.333139699203, 12813.870852523802, 4390.242089741816, 4458.488189012903, 9701.953771613224, 7697.038588304624, 7413.8570808209015, 8184.800545918389, 8489.976517900317, 4042.1997815991776, 9466.690420893929, 7166.612984587474, 7778.412925443251, 11315.711133545607, 5266.072110417847, 11181.722695698827, 10108.747969683878, 4923.031116470851, 20111.852549075615, 8639.816227203612, 8961.000229476615, 6481.308601355562, 9295.588953801125, 13907.110491614885, 7805.146832251263, 7080.374818709083, 5857.975376194704, 7030.540697615489, 9817.276125337996, 8229.248721457667, 7100.408082396387, 4860.674591878815, 9898.912483415972, 10628.131839832495, 6377.211178087161, 10212.734610814408, 7599.28264221411, 4074.154038021307, 8666.451101838942, 12992.70038616036, 7349.807821027535, 11891.750122314319, 9509.848853963787, 7368.086330615362, 6440.73499894081, 14454.545138782527, 6900.656703745097, 11286.650051521996, 8674.501664631971, 6205.5254388598, 11623.351985989813, 10371.575707979784, 20812.617350052285, 8489.543807937602, 7709.312696419693, 4636.031163356999, 4271.574345854685, 6185.765458495159, 13952.13074468929, 7760.914218425428, 11597.569465096309, 14313.802433914576, 7304.289360334581, 9283.464060896447, 8774.091565296818, 23629.80185633057, 13309.335219264307, 4474.338073513715, 10812.052369886564, 12183.067082363188, 9633.167424050487, 15660.481222802246, 10421.940131200132, 14605.468613741368, 11664.489106730465, 12993.460564191635, 13486.077063752653, 14715.570648167999, 6772.786326999857, 15136.29265016311, 5121.89641991498, 15273.624757740889, 5512.0242789055965, 9529.761040714648, 14647.600856237725, 5797.195744425265, 17613.350184175793, 18878.434547026376, 14514.886568345795, 13022.020058365923, 13112.122131199627, 16530.812613458915, 5958.74463635139, 6874.4886495927685, 5055.2809055778725, 10359.64158842941, 8281.961177281835, 9179.55619581717, 9418.572608195647, 9180.459035756407, 10647.503214919894, 5153.376898338709, 5478.293054356063, 10150.89201519834, 11830.20974661546, 10653.1381354406, 3920.211481382774, 3627.649105867092, 15347.728107286697, 8382.979980829385, 12945.052753965221, 11565.487366223477, 9940.375192634998, 17080.44954919868, 11085.91964889576, 5677.272156377206, 7469.925135710753, 13042.776312493139, 11507.662233009703, 13726.133975843079, 4876.900172105776, 4273.371057258349, 17189.57546493094, 11058.820838847341, 17198.366192161575, 8992.011820878626, 6005.417731335316, 4825.964439354906, 14625.654705292314, 10798.671951138673, 6986.396106212122, 7683.149492822775, 4537.051669720241, 10152.065829393785, 11473.692358608298, 8679.787436112007, 7374.589556131418, 12870.107534950968, 7328.91679725021, 14781.84530235622, 19619.196017274582, 8123.0804773527225, 9441.448287240277, 6637.209140259387, 5260.4723614764325, 6338.72943074033, 8274.277068896388, 7278.389289262619, 10976.604819188766, 16040.793500417762, 21477.94932385647, 7543.861055200117, 10485.67382194363, 16572.500757292666, 5297.650981852536, 5172.0636301634795, 5575.112219251214, 8637.734904409357, 10926.93853741724, 4736.400712485659, 13083.613355645235, 8431.32488036284, 7841.3363056443595, 10193.393374855064, 8143.669351950099, 9496.187123213509, 11720.778609684834, 8304.663843078662, 15667.443998020875, 12796.865386357922, 13577.646520541884, 4853.709386329825, 21294.077455988885, 6850.415441684205, 4923.482751178598, 7259.145675783302, 5025.205739158568, 10142.084235233886, 6889.913673441096, 8306.083196430422, 9492.277631142775, 10522.188358338255, 5792.503279239212, 15452.848242370934, 10048.539248284673, 16325.310204117108, 12313.328515128072, 8535.59618341057, 12227.980951641857, 6432.145963866764, 11419.466660869473, 7374.992657495551, 9323.137142543745, 10173.983543958155, 13655.603004767901, 9390.939565049528, 11328.88297841144, 13556.079511238033, 14180.053017290289, 8386.313125865705, 4450.853480502574, 8668.1582447056, 8693.956186323143, 6344.890727469524, 4144.760293758375, 8736.409156637117, 5515.495187294189, 11376.032155407582, 18005.18910437236, 12251.90331990924, 11786.18455466477, 14631.81667907821, 8110.967796731791, 5140.4808479685025, 9776.071794089108, 10068.01195450592, 2016.2377921055768, 9606.298636433803, 7717.673432019722, 5793.405924650974, 17565.339316118698, 16304.771022449226, 6311.753587323901, 14475.360397895072, 6701.964726813813, 12018.40918906036, 11328.213854399748, 6626.3358750693105, 6455.318153320698, 9505.273198741212, 5696.155606012968, 5064.083365089392, 12249.839388377164, 10063.047310003822, 15397.850538319351, 12021.606255807143, 8218.429054904725, 11366.734156082986, 8715.516025899788, 11967.27269384267, 13130.347643417075, 9546.710063594765, 9932.183832366238, 4841.723772575988, 8031.716633585704, 9739.984111622096, 6647.660106496537, 13295.453152035125, 6978.586616022327, 3842.5572473899347, 5588.249276540052, 11096.535478437127, 7205.976292588072, 7197.794966905796, 15270.875584205756, 6938.155667936539, 17822.003817463232, 5408.161766519274, 15458.48974145739, 11608.412952423647, 5634.24119944005, 15286.126240692867, 8775.06318206946, 12188.194038575248, 7259.387511338483, 7660.073970895776, 5914.209815239995, 5438.036741422557, 6465.012448073893, 6170.157859236429, 8723.698362114448, 12354.771251174712, 6129.0270619020985, 3931.842534695077, 8201.410479607615, 4927.984837117982, 8254.855616877174, 6033.33042921071, 5225.167738019988, 7536.083492780684, 7708.079195129568, 8138.8232428955125, 10138.32389268894, 9203.293980241042, 8864.809203926376, 6449.252955693964, 12993.898079235778, 6312.877324587525, 10719.207621240867, 5902.494859950978, 7012.186718943625, 7970.823347240119, 13962.367129429418, 12972.740062699831, 10793.763936870819, 3861.9174232523033, 14396.052523672157, 4814.473814674009, 6253.031182204242, 12934.106601601301, 9276.588777570794, 7340.975343651832, 9962.177661034731, 6689.784315260499, 10823.213705014272, 5906.805316109879, 10038.508168354394, 6849.464755563365, 10178.572093573819, 11640.041403102941, 9341.835457595862, 11244.443999741034, 6173.401377630133, 7278.659626883413, 8541.132718499306, 7940.25864862269, 12355.02569312124, 13982.71447163134, 10228.603430165589, 9604.746625444592, 5561.2232399805835, 9061.84404418555, 6612.347845941672, 8386.674436663503, 12355.435357893168, 7379.114485155117, 6894.354245748519, 13362.372743142683, 11409.164647104291, 5839.994339548254, 7032.25980013281, 8645.186474137477, 5645.810163116935, 14653.11283033708, 5353.002304024208, 4833.449056017996, 5370.987049324463, 4620.636604533431, 5726.218762255009, 5416.019999738151, 6128.197536086617, 14189.851669721807, 8295.198474329543, 18031.027148967183, 8246.946291141441, 8582.554864948821, 7465.652978728848, 5721.632589916748, 6804.314825922018, 4028.55674190833, 6640.008234093833, 10352.70721927582, 11789.860280281342, 8537.601711224077, 21954.764158995236, 17231.527857927926, 5364.405373653854, 10254.51098928244, 12405.474495794868, 8901.189071724135, 9217.93769077346, 10827.653923635371, 10994.88420288709, 10170.039779681952, 4838.003045426456, 8954.761763442644, 12275.380230348006, 7460.049041130737, 15765.818046343513, 10000.40047714494, 4749.887979874166, 10839.896604193598, 8392.929632060928, 11481.627488288188, 5894.874435315765, 9178.294733096236, 12006.4698197943, 7152.789932448952, 8559.754106774415, 11533.67374053924, 11708.8185396631, 4017.316194937284, 8329.657138187775, 15430.363048193729, 8712.537688885432, 4188.593540137197, 10648.968011912528, 11267.9303586575, 13071.574352939715, 17152.157780384678, 4322.593066050471, 8709.019949900283, 6701.491974505771, 5874.419390573382, 9085.94218950679, 6419.663544608036, 8203.92160203134, 9417.042111440685, 11017.819998502702, 9249.86375839501, 7731.442218569745, 5715.784330853831, 7510.965194816851, 14587.511463553936, 6987.303546600004, 13697.431466074513, 10643.205456100275, 9228.58928305556, 16122.691071009178, 7253.973078876542, 5653.962663363235, 11765.472955963189, 9800.66135119869, 12387.168322883299, 10761.965216539096, 12250.870454769389, 7726.3702858454535, 9257.679867571862, 9629.18901367183, 18525.30637344434, 10089.122460862298, 12910.369529602749, 15027.7009220546, 7562.5338947310665, 7701.4158356008065, 13575.4009862368, 6841.305323064974, 22800.06862907802, 7480.383872941866, 6013.954036830061, 6766.291377743948, 9358.610896277367, 14778.326679155254, 10552.266622039284, 4886.161127839868, 8556.469982663573, 6912.182469689317, 9430.06307371769, 8261.11505145791, 9506.975460736516, 8227.5706667654, 11967.623459735154, 11032.176278259207, 14783.588384806782, 7219.900504069926, 6740.7263360490715, 14396.649035880087, 15244.853253874466, 9685.610512364934, 13382.588286659677, 19872.79353265222, 12376.620199011008, 23093.45765544459, 8350.197987234069, 13906.910790207077, 5465.733864952853, 9068.17847542645, 11736.590763433134, 13931.663851454807, 15300.384443229783, 8457.60411833965, 6418.741378237136, 7389.97950945368, 11842.66897415619, 5940.384842065694, 7401.565667338922, 14023.679680604462, 6806.051989179195, 12106.55987335253, 6498.152134761112, 13459.169370639547, 5799.353481151335], \"xaxis\": \"x2\", \"xbins\": {\"size\": 1000}, \"yaxis\": \"y2\"}],\n",
              "                        {\"annotations\": [{\"font\": {\"size\": 16}, \"showarrow\": false, \"text\": \"total_expenditure_2008\", \"x\": 0.225, \"xanchor\": \"center\", \"xref\": \"paper\", \"y\": 1.0, \"yanchor\": \"bottom\", \"yref\": \"paper\"}, {\"font\": {\"size\": 16}, \"showarrow\": false, \"text\": \"predicted total_expenditure_2008\", \"x\": 0.775, \"xanchor\": \"center\", \"xref\": \"paper\", \"y\": 1.0, \"yanchor\": \"bottom\", \"yref\": \"paper\"}], \"bargap\": 0.1, \"bargroupgap\": 0.1, \"height\": 400, \"showlegend\": false, \"template\": {\"data\": {\"bar\": [{\"error_x\": {\"color\": \"#2a3f5f\"}, \"error_y\": {\"color\": \"#2a3f5f\"}, \"marker\": {\"line\": {\"color\": \"#E5ECF6\", \"width\": 0.5}}, \"type\": \"bar\"}], \"barpolar\": [{\"marker\": {\"line\": {\"color\": \"#E5ECF6\", \"width\": 0.5}}, \"type\": \"barpolar\"}], \"carpet\": [{\"aaxis\": {\"endlinecolor\": \"#2a3f5f\", \"gridcolor\": \"white\", \"linecolor\": \"white\", \"minorgridcolor\": \"white\", \"startlinecolor\": \"#2a3f5f\"}, \"baxis\": {\"endlinecolor\": \"#2a3f5f\", \"gridcolor\": \"white\", \"linecolor\": \"white\", \"minorgridcolor\": \"white\", \"startlinecolor\": \"#2a3f5f\"}, \"type\": \"carpet\"}], \"choropleth\": [{\"colorbar\": {\"outlinewidth\": 0, \"ticks\": \"\"}, \"type\": \"choropleth\"}], \"contour\": [{\"colorbar\": {\"outlinewidth\": 0, \"ticks\": \"\"}, \"colorscale\": [[0.0, \"#0d0887\"], [0.1111111111111111, \"#46039f\"], [0.2222222222222222, \"#7201a8\"], [0.3333333333333333, \"#9c179e\"], [0.4444444444444444, \"#bd3786\"], [0.5555555555555556, \"#d8576b\"], [0.6666666666666666, \"#ed7953\"], [0.7777777777777778, \"#fb9f3a\"], [0.8888888888888888, \"#fdca26\"], [1.0, \"#f0f921\"]], \"type\": \"contour\"}], \"contourcarpet\": [{\"colorbar\": {\"outlinewidth\": 0, \"ticks\": \"\"}, \"type\": \"contourcarpet\"}], \"heatmap\": [{\"colorbar\": {\"outlinewidth\": 0, \"ticks\": \"\"}, \"colorscale\": [[0.0, \"#0d0887\"], [0.1111111111111111, \"#46039f\"], [0.2222222222222222, \"#7201a8\"], [0.3333333333333333, \"#9c179e\"], [0.4444444444444444, \"#bd3786\"], [0.5555555555555556, \"#d8576b\"], [0.6666666666666666, \"#ed7953\"], [0.7777777777777778, \"#fb9f3a\"], [0.8888888888888888, \"#fdca26\"], [1.0, \"#f0f921\"]], \"type\": \"heatmap\"}], \"heatmapgl\": [{\"colorbar\": {\"outlinewidth\": 0, \"ticks\": \"\"}, \"colorscale\": [[0.0, \"#0d0887\"], [0.1111111111111111, \"#46039f\"], [0.2222222222222222, \"#7201a8\"], [0.3333333333333333, \"#9c179e\"], [0.4444444444444444, \"#bd3786\"], [0.5555555555555556, \"#d8576b\"], [0.6666666666666666, \"#ed7953\"], [0.7777777777777778, \"#fb9f3a\"], [0.8888888888888888, \"#fdca26\"], [1.0, \"#f0f921\"]], \"type\": \"heatmapgl\"}], \"histogram\": [{\"marker\": {\"colorbar\": {\"outlinewidth\": 0, \"ticks\": \"\"}}, \"type\": \"histogram\"}], \"histogram2d\": [{\"colorbar\": {\"outlinewidth\": 0, \"ticks\": \"\"}, \"colorscale\": [[0.0, \"#0d0887\"], [0.1111111111111111, \"#46039f\"], [0.2222222222222222, \"#7201a8\"], [0.3333333333333333, \"#9c179e\"], [0.4444444444444444, \"#bd3786\"], [0.5555555555555556, \"#d8576b\"], [0.6666666666666666, \"#ed7953\"], [0.7777777777777778, \"#fb9f3a\"], [0.8888888888888888, \"#fdca26\"], [1.0, \"#f0f921\"]], \"type\": \"histogram2d\"}], \"histogram2dcontour\": [{\"colorbar\": {\"outlinewidth\": 0, \"ticks\": \"\"}, \"colorscale\": [[0.0, \"#0d0887\"], [0.1111111111111111, \"#46039f\"], [0.2222222222222222, \"#7201a8\"], [0.3333333333333333, \"#9c179e\"], [0.4444444444444444, \"#bd3786\"], [0.5555555555555556, \"#d8576b\"], [0.6666666666666666, \"#ed7953\"], [0.7777777777777778, \"#fb9f3a\"], [0.8888888888888888, \"#fdca26\"], [1.0, \"#f0f921\"]], \"type\": \"histogram2dcontour\"}], \"mesh3d\": [{\"colorbar\": {\"outlinewidth\": 0, \"ticks\": \"\"}, \"type\": \"mesh3d\"}], \"parcoords\": [{\"line\": {\"colorbar\": {\"outlinewidth\": 0, \"ticks\": \"\"}}, \"type\": \"parcoords\"}], \"pie\": [{\"automargin\": true, \"type\": \"pie\"}], \"scatter\": [{\"marker\": {\"colorbar\": {\"outlinewidth\": 0, \"ticks\": \"\"}}, \"type\": \"scatter\"}], \"scatter3d\": [{\"line\": {\"colorbar\": {\"outlinewidth\": 0, \"ticks\": \"\"}}, \"marker\": {\"colorbar\": {\"outlinewidth\": 0, \"ticks\": \"\"}}, \"type\": \"scatter3d\"}], \"scattercarpet\": [{\"marker\": {\"colorbar\": {\"outlinewidth\": 0, \"ticks\": \"\"}}, \"type\": \"scattercarpet\"}], \"scattergeo\": [{\"marker\": {\"colorbar\": {\"outlinewidth\": 0, \"ticks\": \"\"}}, \"type\": \"scattergeo\"}], \"scattergl\": [{\"marker\": {\"colorbar\": {\"outlinewidth\": 0, \"ticks\": \"\"}}, \"type\": \"scattergl\"}], \"scattermapbox\": [{\"marker\": {\"colorbar\": {\"outlinewidth\": 0, \"ticks\": \"\"}}, \"type\": \"scattermapbox\"}], \"scatterpolar\": [{\"marker\": {\"colorbar\": {\"outlinewidth\": 0, \"ticks\": \"\"}}, \"type\": \"scatterpolar\"}], \"scatterpolargl\": [{\"marker\": {\"colorbar\": {\"outlinewidth\": 0, \"ticks\": \"\"}}, \"type\": \"scatterpolargl\"}], \"scatterternary\": [{\"marker\": {\"colorbar\": {\"outlinewidth\": 0, \"ticks\": \"\"}}, \"type\": \"scatterternary\"}], \"surface\": [{\"colorbar\": {\"outlinewidth\": 0, \"ticks\": \"\"}, \"colorscale\": [[0.0, \"#0d0887\"], [0.1111111111111111, \"#46039f\"], [0.2222222222222222, \"#7201a8\"], [0.3333333333333333, \"#9c179e\"], [0.4444444444444444, \"#bd3786\"], [0.5555555555555556, \"#d8576b\"], [0.6666666666666666, \"#ed7953\"], [0.7777777777777778, \"#fb9f3a\"], [0.8888888888888888, \"#fdca26\"], [1.0, \"#f0f921\"]], \"type\": \"surface\"}], \"table\": [{\"cells\": {\"fill\": {\"color\": \"#EBF0F8\"}, \"line\": {\"color\": \"white\"}}, \"header\": {\"fill\": {\"color\": \"#C8D4E3\"}, \"line\": {\"color\": \"white\"}}, \"type\": \"table\"}]}, \"layout\": {\"annotationdefaults\": {\"arrowcolor\": \"#2a3f5f\", \"arrowhead\": 0, \"arrowwidth\": 1}, \"coloraxis\": {\"colorbar\": {\"outlinewidth\": 0, \"ticks\": \"\"}}, \"colorscale\": {\"diverging\": [[0, \"#8e0152\"], [0.1, \"#c51b7d\"], [0.2, \"#de77ae\"], [0.3, \"#f1b6da\"], [0.4, \"#fde0ef\"], [0.5, \"#f7f7f7\"], [0.6, \"#e6f5d0\"], [0.7, \"#b8e186\"], [0.8, \"#7fbc41\"], [0.9, \"#4d9221\"], [1, \"#276419\"]], \"sequential\": [[0.0, \"#0d0887\"], [0.1111111111111111, \"#46039f\"], [0.2222222222222222, \"#7201a8\"], [0.3333333333333333, \"#9c179e\"], [0.4444444444444444, \"#bd3786\"], [0.5555555555555556, \"#d8576b\"], [0.6666666666666666, \"#ed7953\"], [0.7777777777777778, \"#fb9f3a\"], [0.8888888888888888, \"#fdca26\"], [1.0, \"#f0f921\"]], \"sequentialminus\": [[0.0, \"#0d0887\"], [0.1111111111111111, \"#46039f\"], [0.2222222222222222, \"#7201a8\"], [0.3333333333333333, \"#9c179e\"], [0.4444444444444444, \"#bd3786\"], [0.5555555555555556, \"#d8576b\"], [0.6666666666666666, \"#ed7953\"], [0.7777777777777778, \"#fb9f3a\"], [0.8888888888888888, \"#fdca26\"], [1.0, \"#f0f921\"]]}, \"colorway\": [\"#636efa\", \"#EF553B\", \"#00cc96\", \"#ab63fa\", \"#FFA15A\", \"#19d3f3\", \"#FF6692\", \"#B6E880\", \"#FF97FF\", \"#FECB52\"], \"font\": {\"color\": \"#2a3f5f\"}, \"geo\": {\"bgcolor\": \"white\", \"lakecolor\": \"white\", \"landcolor\": \"#E5ECF6\", \"showlakes\": true, \"showland\": true, \"subunitcolor\": \"white\"}, \"hoverlabel\": {\"align\": \"left\"}, \"hovermode\": \"closest\", \"mapbox\": {\"style\": \"light\"}, \"paper_bgcolor\": \"white\", \"plot_bgcolor\": \"#E5ECF6\", \"polar\": {\"angularaxis\": {\"gridcolor\": \"white\", \"linecolor\": \"white\", \"ticks\": \"\"}, \"bgcolor\": \"#E5ECF6\", \"radialaxis\": {\"gridcolor\": \"white\", \"linecolor\": \"white\", \"ticks\": \"\"}}, \"scene\": {\"xaxis\": {\"backgroundcolor\": \"#E5ECF6\", \"gridcolor\": \"white\", \"gridwidth\": 2, \"linecolor\": \"white\", \"showbackground\": true, \"ticks\": \"\", \"zerolinecolor\": \"white\"}, \"yaxis\": {\"backgroundcolor\": \"#E5ECF6\", \"gridcolor\": \"white\", \"gridwidth\": 2, \"linecolor\": \"white\", \"showbackground\": true, \"ticks\": \"\", \"zerolinecolor\": \"white\"}, \"zaxis\": {\"backgroundcolor\": \"#E5ECF6\", \"gridcolor\": \"white\", \"gridwidth\": 2, \"linecolor\": \"white\", \"showbackground\": true, \"ticks\": \"\", \"zerolinecolor\": \"white\"}}, \"shapedefaults\": {\"line\": {\"color\": \"#2a3f5f\"}}, \"ternary\": {\"aaxis\": {\"gridcolor\": \"white\", \"linecolor\": \"white\", \"ticks\": \"\"}, \"baxis\": {\"gridcolor\": \"white\", \"linecolor\": \"white\", \"ticks\": \"\"}, \"bgcolor\": \"#E5ECF6\", \"caxis\": {\"gridcolor\": \"white\", \"linecolor\": \"white\", \"ticks\": \"\"}}, \"title\": {\"x\": 0.05}, \"xaxis\": {\"automargin\": true, \"gridcolor\": \"white\", \"linecolor\": \"white\", \"ticks\": \"\", \"title\": {\"standoff\": 15}, \"zerolinecolor\": \"white\", \"zerolinewidth\": 2}, \"yaxis\": {\"automargin\": true, \"gridcolor\": \"white\", \"linecolor\": \"white\", \"ticks\": \"\", \"title\": {\"standoff\": 15}, \"zerolinecolor\": \"white\", \"zerolinewidth\": 2}}}, \"title\": {\"text\": \"2008 Prediction Linear Regression (Test set Comparison)\"}, \"xaxis\": {\"anchor\": \"y\", \"domain\": [0.0, 0.45]}, \"xaxis2\": {\"anchor\": \"y2\", \"domain\": [0.55, 1.0]}, \"yaxis\": {\"anchor\": \"x\", \"domain\": [0.0, 1.0]}, \"yaxis2\": {\"anchor\": \"x2\", \"domain\": [0.0, 1.0]}},\n",
              "                        {\"responsive\": true}\n",
              "                    ).then(function(){\n",
              "                            \n",
              "var gd = document.getElementById('e0a29921-7849-4cc9-a472-ad6770043ee4');\n",
              "var x = new MutationObserver(function (mutations, observer) {{\n",
              "        var display = window.getComputedStyle(gd).display;\n",
              "        if (!display || display === 'none') {{\n",
              "            console.log([gd, 'removed!']);\n",
              "            Plotly.purge(gd);\n",
              "            observer.disconnect();\n",
              "        }}\n",
              "}});\n",
              "\n",
              "// Listen for the removal of the full notebook cells\n",
              "var notebookContainer = gd.closest('#notebook-container');\n",
              "if (notebookContainer) {{\n",
              "    x.observe(notebookContainer, {childList: true});\n",
              "}}\n",
              "\n",
              "// Listen for the clearing of the current output cell\n",
              "var outputEl = gd.closest('.output');\n",
              "if (outputEl) {{\n",
              "    x.observe(outputEl, {childList: true});\n",
              "}}\n",
              "\n",
              "                        })\n",
              "                };\n",
              "                \n",
              "            </script>\n",
              "        </div>\n",
              "</body>\n",
              "</html>"
            ]
          },
          "metadata": {
            "tags": []
          }
        }
      ]
    },
    {
      "cell_type": "markdown",
      "metadata": {
        "id": "DWcL7bakMuox"
      },
      "source": [
        "### MSE and RMSE with test set"
      ]
    },
    {
      "cell_type": "code",
      "metadata": {
        "colab": {
          "background_save": true
        },
        "id": "lsRfvnskVFzi"
      },
      "source": [
        "from sklearn.metrics import mean_squared_error"
      ],
      "execution_count": null,
      "outputs": []
    },
    {
      "cell_type": "code",
      "metadata": {
        "colab": {
          "background_save": true
        },
        "id": "uhi_RlYeVFoX"
      },
      "source": [
        "MSE_2008 = mean_squared_error(y_test_2008_original[\"total_expenditure\"],yhat_mean_2008_original)"
      ],
      "execution_count": null,
      "outputs": []
    },
    {
      "cell_type": "code",
      "metadata": {
        "colab": {
          "background_save": true
        },
        "id": "jJrSpc89VKHg"
      },
      "source": [
        "RMSE_2008 = np.sqrt(MSE_2008)"
      ],
      "execution_count": null,
      "outputs": []
    },
    {
      "cell_type": "code",
      "metadata": {
        "colab": {
          "background_save": true
        },
        "id": "SExwg52WDouS",
        "outputId": "daf12993-d524-4b76-e647-99532170ffad"
      },
      "source": [
        "print(\"RMSE_2008: \",RMSE_2008)"
      ],
      "execution_count": null,
      "outputs": [
        {
          "output_type": "stream",
          "text": [
            "RMSE_2008:  4713.877900654876\n"
          ],
          "name": "stdout"
        }
      ]
    },
    {
      "cell_type": "markdown",
      "metadata": {
        "id": "5N-7j49bWcDy"
      },
      "source": [
        "***"
      ]
    },
    {
      "cell_type": "markdown",
      "metadata": {
        "id": "vlcuB5vcfpd2"
      },
      "source": [
        "## Visualization"
      ]
    },
    {
      "cell_type": "code",
      "metadata": {
        "colab": {
          "background_save": true
        },
        "id": "_GK7xS4rXCTQ"
      },
      "source": [
        "num_ob = 200"
      ],
      "execution_count": null,
      "outputs": []
    },
    {
      "cell_type": "code",
      "metadata": {
        "colab": {
          "background_save": true
        },
        "id": "x6gVX6eEo4jz"
      },
      "source": [
        "X_income_2008_original = (X_test_2008[\"income\"] * (max_2008[\"income\"] - min_2008[\"income\"])) + min_2008[\"income\"]"
      ],
      "execution_count": null,
      "outputs": []
    },
    {
      "cell_type": "markdown",
      "metadata": {
        "id": "bUj9FWbG64ip"
      },
      "source": [
        "***"
      ]
    },
    {
      "cell_type": "markdown",
      "metadata": {
        "id": "XTEkgDnH63bd"
      },
      "source": [
        "## Giving everyone Tax Rebate dollar additionally"
      ]
    },
    {
      "cell_type": "code",
      "metadata": {
        "id": "FFGEvmCd6vf5"
      },
      "source": [
        "X_2008_tr = X_2008.copy()\n",
        "y_2008_tr = y_2008.copy()"
      ],
      "execution_count": null,
      "outputs": []
    },
    {
      "cell_type": "code",
      "metadata": {
        "id": "4iR2Dcr3mZXl"
      },
      "source": [
        "X_2008_tr.tax_rebate = 0"
      ],
      "execution_count": null,
      "outputs": []
    },
    {
      "cell_type": "code",
      "metadata": {
        "colab": {
          "base_uri": "https://localhost:8080/"
        },
        "id": "8cYCALyZ6-xs",
        "outputId": "06e3fdbd-23dc-45f8-b714-a8355bf01961"
      },
      "source": [
        "yhat_list_2008_tr = []\n",
        "\n",
        "for i in tqdm(range(0,len(trained_model_2008))):\n",
        "    yhat_2008_tr = np.squeeze(trained_model_2008[i].predict(X_2008_tr))\n",
        "    yhat_list_2008_tr.append(yhat_2008_tr)\n",
        "\n",
        "\n",
        "yhat_df_2008_tr = pd.DataFrame(yhat_list_2008_tr).transpose()\n",
        "yhat_df_2008_original_tr = (yhat_df_2008_tr * (max_2008[\"total_expenditure\"] - min_2008[\"total_expenditure\"])) + min_2008[\"total_expenditure\"]\n",
        "\n",
        "y_2008_original_tr = (y_2008_tr * (max_2008[\"total_expenditure\"] - min_2008[\"total_expenditure\"])) + min_2008[\"total_expenditure\"]\n",
        "\n",
        "yhat_mean_2008_original_tr = np.mean(yhat_df_2008_original_tr,axis = 1)\n",
        "yhat_std_2008_original_tr = np.std(yhat_df_2008_original_tr,axis = 1)\n",
        "#residuel_2008_original_tr = yhat_mean_2008_original_tr.sub(y_2008_original_tr, axis=0)"
      ],
      "execution_count": null,
      "outputs": [
        {
          "output_type": "stream",
          "text": [
            "100%|██████████| 250/250 [02:03<00:00,  2.03it/s]\n"
          ],
          "name": "stderr"
        }
      ]
    },
    {
      "cell_type": "code",
      "metadata": {
        "colab": {
          "base_uri": "https://localhost:8080/",
          "height": 385
        },
        "id": "fCRvXLPHbhtx",
        "outputId": "54343fb5-b350-4636-aaff-28c8837a301a"
      },
      "source": [
        "sns.distplot(X_2008_tr.tax_rebate, kde = False)"
      ],
      "execution_count": null,
      "outputs": [
        {
          "output_type": "stream",
          "text": [
            "/usr/local/lib/python3.7/dist-packages/seaborn/distributions.py:2557: FutureWarning:\n",
            "\n",
            "`distplot` is a deprecated function and will be removed in a future version. Please adapt your code to use either `displot` (a figure-level function with similar flexibility) or `histplot` (an axes-level function for histograms).\n",
            "\n"
          ],
          "name": "stderr"
        },
        {
          "output_type": "execute_result",
          "data": {
            "text/plain": [
              "<matplotlib.axes._subplots.AxesSubplot at 0x7f09e26eb910>"
            ]
          },
          "metadata": {
            "tags": []
          },
          "execution_count": 101
        },
        {
          "output_type": "display_data",
          "data": {
            "image/png": "[encoded data removed]",
            "text/plain": [
              "<Figure size 432x288 with 1 Axes>"
            ]
          },
          "metadata": {
            "tags": [],
            "needs_background": "light"
          }
        }
      ]
    },
    {
      "cell_type": "markdown",
      "metadata": {
        "id": "Wbj-kJv87mhA"
      },
      "source": [
        "#### give 600"
      ]
    },
    {
      "cell_type": "code",
      "metadata": {
        "id": "d6Kb4c2sOLvZ"
      },
      "source": [
        "amount_of_tr = 600"
      ],
      "execution_count": null,
      "outputs": []
    },
    {
      "cell_type": "markdown",
      "metadata": {
        "id": "PzmCIwHk1--9"
      },
      "source": [
        "**Watch out!! don't substract min twice!!**"
      ]
    },
    {
      "cell_type": "code",
      "metadata": {
        "id": "VsTpvoHV0vRY"
      },
      "source": [
        "#scaled_tr_2008 = (amount_of_tr) / (max_2008[\"income\"] - min_2008[\"income\"])\n",
        "\n",
        "scaled_tr_2008 = (amount_of_tr) / (max_2008[\"tax_rebate\"] - min_2008[\"tax_rebate\"])"
      ],
      "execution_count": null,
      "outputs": []
    },
    {
      "cell_type": "code",
      "metadata": {
        "id": "yvU_NclSz6YM"
      },
      "source": [
        "#X_2008_tr[\"income\"] = X_2008_tr[\"income\"] + scaled_tr_2008\n",
        "\n",
        "X_2008_tr[\"tax_rebate\"] = X_2008_tr[\"tax_rebate\"] + scaled_tr_2008"
      ],
      "execution_count": null,
      "outputs": []
    },
    {
      "cell_type": "code",
      "metadata": {
        "id": "oTQNAK7DbxtL",
        "colab": {
          "base_uri": "https://localhost:8080/"
        },
        "outputId": "b3b8940b-7dc9-40cc-b76f-438f1888c543"
      },
      "source": [
        "X_2008_tr.tax_rebate"
      ],
      "execution_count": null,
      "outputs": [
        {
          "output_type": "execute_result",
          "data": {
            "text/plain": [
              "0        0.166667\n",
              "1        0.166667\n",
              "2        0.166667\n",
              "3        0.166667\n",
              "4        0.166667\n",
              "           ...   \n",
              "17049    0.166667\n",
              "17050    0.166667\n",
              "17051    0.166667\n",
              "17052    0.166667\n",
              "17053    0.166667\n",
              "Name: tax_rebate, Length: 17054, dtype: float64"
            ]
          },
          "metadata": {
            "tags": []
          },
          "execution_count": 105
        }
      ]
    },
    {
      "cell_type": "code",
      "metadata": {
        "id": "HmoX7zVGbubG",
        "colab": {
          "base_uri": "https://localhost:8080/",
          "height": 385
        },
        "outputId": "d9103461-46e3-482d-bc6e-b174869c5893"
      },
      "source": [
        "sns.distplot(X_2008_tr.tax_rebate, kde = False)"
      ],
      "execution_count": null,
      "outputs": [
        {
          "output_type": "stream",
          "text": [
            "/usr/local/lib/python3.7/dist-packages/seaborn/distributions.py:2557: FutureWarning:\n",
            "\n",
            "`distplot` is a deprecated function and will be removed in a future version. Please adapt your code to use either `displot` (a figure-level function with similar flexibility) or `histplot` (an axes-level function for histograms).\n",
            "\n"
          ],
          "name": "stderr"
        },
        {
          "output_type": "execute_result",
          "data": {
            "text/plain": [
              "<matplotlib.axes._subplots.AxesSubplot at 0x7f09dfa3b610>"
            ]
          },
          "metadata": {
            "tags": []
          },
          "execution_count": 106
        },
        {
          "output_type": "display_data",
          "data": {
            "image/png": "[encoded data removed]",
            "text/plain": [
              "<Figure size 432x288 with 1 Axes>"
            ]
          },
          "metadata": {
            "tags": [],
            "needs_background": "light"
          }
        }
      ]
    },
    {
      "cell_type": "code",
      "metadata": {
        "id": "y73NVFJu8SFj",
        "colab": {
          "base_uri": "https://localhost:8080/"
        },
        "outputId": "01cff7df-e206-46ff-af61-53b897e5e84d"
      },
      "source": [
        "yhat_list_2008_tr_after = []\n",
        "\n",
        "for i in tqdm(range(0,len(trained_model_2008))):\n",
        "    yhat_2008_tr_after = np.squeeze(trained_model_2008[i].predict(X_2008_tr))\n",
        "    yhat_list_2008_tr_after.append(yhat_2008_tr_after)\n",
        "\n",
        "\n",
        "yhat_df_2008_tr_after = pd.DataFrame(yhat_list_2008_tr_after).transpose()\n",
        "yhat_df_2008_original_tr_after = (yhat_df_2008_tr_after * (max_2008[\"total_expenditure\"] - min_2008[\"total_expenditure\"])) + min_2008[\"total_expenditure\"]\n",
        "\n",
        "yhat_mean_2008_original_tr_after = np.mean(yhat_df_2008_original_tr_after,axis = 1)\n",
        "yhat_std_2008_original_tr_after = np.std(yhat_df_2008_original_tr_after,axis = 1)"
      ],
      "execution_count": null,
      "outputs": [
        {
          "output_type": "stream",
          "text": [
            "100%|██████████| 250/250 [02:03<00:00,  2.03it/s]\n"
          ],
          "name": "stderr"
        }
      ]
    },
    {
      "cell_type": "code",
      "metadata": {
        "id": "BdTDSPRPQeDS"
      },
      "source": [
        "X_income_2008_original_tr = (X_2008_tr[\"income\"] * (max_2008[\"income\"] - min_2008[\"income\"])) + min_2008[\"income\"]"
      ],
      "execution_count": null,
      "outputs": []
    },
    {
      "cell_type": "code",
      "metadata": {
        "id": "w1l2CkPS8Ruk"
      },
      "source": [
        "num_ob = 200"
      ],
      "execution_count": null,
      "outputs": []
    },
    {
      "cell_type": "code",
      "metadata": {
        "id": "s7hEyPnB8Qb3",
        "colab": {
          "base_uri": "https://localhost:8080/",
          "height": 542
        },
        "outputId": "fd8870ac-ff3e-43c9-d24a-4a0483c91f4f"
      },
      "source": [
        "fig = go.Figure()\n",
        "\n",
        "\n",
        "fig.add_trace(go.Scatter(x=X_income_2008_original_tr[:num_ob],\n",
        "                         y=yhat_mean_2008_original_tr[:num_ob],\n",
        "                         marker_symbol = \"circle-dot\",\n",
        "                         mode='markers',\n",
        "                         marker=dict(color=\"royalblue\",opacity=0.5, size = 10,\n",
        "                                     line=dict(color='black', width=1)),\n",
        "                         name='Before Tax Rebate'))\n",
        "\n",
        "fig.add_trace(go.Scatter(x=X_income_2008_original_tr[:num_ob],\n",
        "                         y=yhat_mean_2008_original_tr_after[:num_ob],\n",
        "                         marker_symbol = \"x-dot\",\n",
        "                         mode='markers',\n",
        "                         marker=dict(color=\"firebrick\",opacity=0.5, size = 10,\n",
        "                                     line=dict(color='black', width=1)),\n",
        "                         name='After Tax Rebate'))\n",
        "\n",
        "#fig.add_shape(type='line',\n",
        "#                x0=upper_income_2008,\n",
        "#                y0=0,\n",
        "#                x1=upper_income_2008,\n",
        "#                y1=30000,\n",
        "#                line=dict(color='red',dash=\"dot\")\n",
        "#)\n",
        "#fig.add_shape(type='line',\n",
        "#                x0=lower_income_2008,\n",
        "#                y0=0,\n",
        "#                x1=lower_income_2008,\n",
        "#                y1=30000,\n",
        "#                line=dict(color='blue',dash=\"dot\")\n",
        "#)\n",
        "\n",
        "fig.update_layout(title='2008 Effect of Tax Rebate({0})'.format(amount_of_tr),\n",
        "                  xaxis_title='Income',\n",
        "                  yaxis_title='Predicted Expenditure',\n",
        "                  template= \"plotly_white\")\n",
        "\n",
        "fig.show()"
      ],
      "execution_count": null,
      "outputs": [
        {
          "output_type": "display_data",
          "data": {
            "text/html": [
              "<html>\n",
              "<head><meta charset=\"utf-8\" /></head>\n",
              "<body>\n",
              "    <div>\n",
              "            <script src=\"https://cdnjs.cloudflare.com/ajax/libs/mathjax/2.7.5/MathJax.js?config=TeX-AMS-MML_SVG\"></script><script type=\"text/javascript\">if (window.MathJax) {MathJax.Hub.Config({SVG: {font: \"STIX-Web\"}});}</script>\n",
              "                <script type=\"text/javascript\">window.PlotlyConfig = {MathJaxConfig: 'local'};</script>\n",
              "        <script src=\"https://cdn.plot.ly/plotly-latest.min.js\"></script>    \n",
              "            <div id=\"f27596f2-f0b3-4fa2-8665-837fcdd7235c\" class=\"plotly-graph-div\" style=\"height:525px; width:100%;\"></div>\n",
              "            <script type=\"text/javascript\">\n",
              "                \n",
              "                    window.PLOTLYENV=window.PLOTLYENV || {};\n",
              "                    \n",
              "                if (document.getElementById(\"f27596f2-f0b3-4fa2-8665-837fcdd7235c\")) {\n",
              "                    Plotly.newPlot(\n",
              "                        'f27596f2-f0b3-4fa2-8665-837fcdd7235c',\n",
              "                        [{\"marker\": {\"color\": \"royalblue\", \"line\": {\"color\": \"black\", \"width\": 1}, \"opacity\": 0.5, \"size\": 10, \"symbol\": \"circle-dot\"}, \"mode\": \"markers\", \"name\": \"Before Tax Rebate\", \"type\": \"scatter\", \"x\": [15234.0, 60010.0, 66134.2, 60217.79999999999, 122014.99999999999, 30399.999999999985, 123000.00000000001, 72906.59999999999, 14159.999999999993, 68000.0, 4526.999999999993, 15335.0, 153297.39999999997, 14235.400000000001, 44640.0, 109999.99999999999, 101720.3, 28062.0, 65219.0, 35007.2, 74481.2, 55697.0, 75973.0, 3702.0, 2006.3999999999942, 14892.599999999999, 160570.0, 52059.999999999985, 26346.0, 18862.0, 53000.0, 15000.0, 89300.00000000001, 73733.4, 35536.0, 124519.99999999999, 34052.0, 84999.99999999999, 55000.0, 79500.0, 68456.80000000002, 6480.0, 47911.2, 41145.2, 242309.8, 102545.99999999999, 29549.999999999985, 61107.79999999999, 54000.0, 27324.0, 29000.0, 30900.0, 47870.8, 8522.0, 41762.0, 71028.2, 232839.59999999998, 38261.8, 33580.600000000006, 12150.0, 61361.2, 31896.0, 46999.999999999985, 14400.0, 42737.59999999999, 64215.0, 22658.600000000006, 67845.8, 54186.999999999985, 83275.2, 137696.0, 37999.999999999985, 20898.0, 80272.3, 112721.40000000001, 183265.10000000003, 93999.99999999999, 78385.4, 56100.0, 50711.8, 142286.2, 116999.99999999999, 35843.600000000006, 54500.0, 105201.60000000002, 11949.999999999993, 106559.99999999999, 198464.40000000002, 61093.600000000006, 100000.00000000001, 53499.999999999985, 135000.0, 72172.0, 53324.399999999994, 77110.0, 112711.39999999998, 239835.79999999993, 126989.90000000001, 234185.2, 46403.40000000001, 103730.50000000001, 147217.3, 46918.399999999994, 46000.0, 83383.8, 31799.999999999985, 139000.0, 91499.99999999999, 120010.00000000001, 94999.99999999999, 34000.0, 14174.0, 55536.8, 25366.79999999999, 177000.0, 80499.6, 115087.2, 25870.0, 38475.0, 35956.0, 64620.2, 34994.0, 58599.999999999985, 57000.0, 2652.0, 32256.999999999985, 82318.8, 61657.0, 16344.0, 14674.0, 39462.0, 59999.999999999985, 69801.39999999998, 10866.999999999993, 92934.2, 43208.0, 97811.2, 60357.8, 89000.00000000001, 50758.600000000006, 35000.0, 12599.999999999993, 24840.0, 77145.4, 25000.0, 46924.600000000006, 13845.999999999993, 75000.0, 63077.8, 38192.0, 14421.999999999993, 98999.99999999999, 8597.999999999993, 29121.800000000003, 65729.2, 12587.599999999999, 42000.0, 115962.59999999999, 22662.0, 7200.0, 74000.0, 105999.99999999999, 30000.0, 24564.0, 103015.00000000001, 52942.999999999985, 74120.0, 71566.6, 42419.999999999985, 45000.0, 4586.399999999994, 11738.399999999994, 3087.5999999999985, 44422.59999999999, 35234.0, 41600.0, 56000.0, 39298.0, 9226.800000000003, 71772.4, 63399.999999999985, 80727.59999999999, 13155.600000000006, 27440.0, 22031.0, 41082.0, 13915.199999999997, 127634.99999999999, 33800.0, 50023.59999999999, 150000.0, 61117.8, 12439.999999999993, 69200.00000000001, 33447.8, 45000.0, 48000.0, 16482.399999999994, 16807.199999999997, 8862.800000000003], \"y\": [5188.444099740125, 9992.301434061257, 11472.409204809956, 8819.32934557013, 14139.174006728688, 8347.79218754707, 11540.926311179534, 10814.378898361454, 5140.707677117918, 10917.746315568933, 3461.031262287186, 5914.209815239995, 15924.225064274799, 4184.165119481574, 9806.410542720301, 12932.04785915296, 13439.684305607374, 6482.845631202321, 11626.166465179656, 6552.537334929918, 12463.176990799719, 10764.454188093165, 10811.65251233134, 5616.015035429219, 3743.5966178662743, 6090.251110686129, 16883.35679532914, 6843.825474595464, 6170.157859236429, 5319.307099901158, 8545.884529725374, 7340.9609385128415, 9023.729769357678, 11737.338966655787, 7464.89189121842, 15203.772318733812, 7931.975026748155, 10460.694467128616, 9973.428155433838, 11877.652584319605, 10454.928020766723, 3637.5669809081237, 8358.689854567656, 7751.638824710043, 21019.417202120192, 13027.45615664197, 8086.664993341432, 7977.458280493188, 8870.722844433929, 6777.70942346339, 5374.250732891698, 5522.368795662433, 8587.297232749852, 4861.148839774776, 7495.789272251478, 8327.717977087956, 18082.359793571395, 9508.41217503446, 7014.414364299348, 4892.173876310034, 10000.97383805618, 7151.0091141932, 10286.219873286085, 6193.995059835292, 7877.828317272363, 10273.989384800952, 6264.4147738223755, 11634.51741377364, 9411.594685096718, 10795.697540042585, 15890.503886943396, 9916.986865464165, 5505.325712428908, 9208.417803802742, 11967.195438642648, 15027.715569721364, 12126.28987122162, 12013.428027406595, 7939.009196079025, 10292.348686452118, 14894.457726570598, 13976.412114687988, 8595.419538288807, 9783.215201969664, 13858.222789669198, 5435.7681594003425, 12927.324772309632, 18757.433006410236, 9066.16971896201, 10062.315623932824, 10147.491599021856, 15305.269745782525, 9841.704068004936, 8490.099641164814, 11668.982873462077, 13439.48322987552, 17887.458879369227, 12133.755906720671, 20474.090757907958, 7806.274328695318, 10944.060017752365, 15337.103496218995, 9060.108277989386, 8227.5706667654, 13186.028371353152, 8720.758450593627, 12781.622869709061, 9473.197971488546, 14334.84139963151, 12171.325807758469, 6888.045537609214, 4166.2810737324235, 7734.404649804522, 5597.733825193628, 16811.593353706856, 11441.337830312677, 14080.031407089775, 6834.424224125511, 8664.240516796017, 7138.043304246861, 9649.000900031875, 7372.6736878028205, 8715.20049727121, 8514.970414276202, 8048.948827847765, 9234.859040224508, 11335.607404411583, 11657.854729270215, 6163.442591185922, 5955.603338360008, 8729.388811389115, 10777.083867182157, 7755.317425291202, 5709.991428754373, 10739.36593325684, 7487.15754218462, 13216.55345204886, 8977.990886290549, 12454.252787400377, 11442.082441092743, 7415.0227147567675, 4917.089580217106, 6161.212351288324, 11251.013743550628, 5292.197181575627, 6999.591061953357, 6782.676377031965, 11145.81670190004, 11635.587229029768, 7314.957924507904, 6295.662279059853, 12333.91575771567, 4821.360158276508, 5934.7953601332065, 10360.827352170176, 5293.6294545837945, 8831.59190330016, 13642.850273151691, 5681.318088002791, 5650.52006503911, 10787.181955514183, 12789.492001519613, 7059.146211434107, 7795.163540396979, 12685.983453360737, 8568.311881029458, 9971.77647058388, 9144.706602457252, 9484.066307806961, 7886.514843457225, 3238.2449093204195, 3911.8040061341026, 4361.896995168745, 8480.971507279684, 5947.523452443802, 6191.524972604968, 7586.665220882824, 8712.537688885432, 4867.227055584812, 11372.270852856902, 10208.112855104917, 9243.494579998418, 5067.489478142143, 7921.997848614721, 4896.199854973885, 7548.439640966563, 5958.74463635139, 15656.844256154902, 4910.40631320057, 9319.584226926652, 14661.608441693113, 7489.594597637957, 7053.9172066102055, 11722.375084098536, 6227.689364584528, 8198.124839698206, 9210.239758305133, 4358.580576969552, 6812.52035385466, 3729.1054648800823]}, {\"marker\": {\"color\": \"firebrick\", \"line\": {\"color\": \"black\", \"width\": 1}, \"opacity\": 0.5, \"size\": 10, \"symbol\": \"x-dot\"}, \"mode\": \"markers\", \"name\": \"After Tax Rebate\", \"type\": \"scatter\", \"x\": [15234.0, 60010.0, 66134.2, 60217.79999999999, 122014.99999999999, 30399.999999999985, 123000.00000000001, 72906.59999999999, 14159.999999999993, 68000.0, 4526.999999999993, 15335.0, 153297.39999999997, 14235.400000000001, 44640.0, 109999.99999999999, 101720.3, 28062.0, 65219.0, 35007.2, 74481.2, 55697.0, 75973.0, 3702.0, 2006.3999999999942, 14892.599999999999, 160570.0, 52059.999999999985, 26346.0, 18862.0, 53000.0, 15000.0, 89300.00000000001, 73733.4, 35536.0, 124519.99999999999, 34052.0, 84999.99999999999, 55000.0, 79500.0, 68456.80000000002, 6480.0, 47911.2, 41145.2, 242309.8, 102545.99999999999, 29549.999999999985, 61107.79999999999, 54000.0, 27324.0, 29000.0, 30900.0, 47870.8, 8522.0, 41762.0, 71028.2, 232839.59999999998, 38261.8, 33580.600000000006, 12150.0, 61361.2, 31896.0, 46999.999999999985, 14400.0, 42737.59999999999, 64215.0, 22658.600000000006, 67845.8, 54186.999999999985, 83275.2, 137696.0, 37999.999999999985, 20898.0, 80272.3, 112721.40000000001, 183265.10000000003, 93999.99999999999, 78385.4, 56100.0, 50711.8, 142286.2, 116999.99999999999, 35843.600000000006, 54500.0, 105201.60000000002, 11949.999999999993, 106559.99999999999, 198464.40000000002, 61093.600000000006, 100000.00000000001, 53499.999999999985, 135000.0, 72172.0, 53324.399999999994, 77110.0, 112711.39999999998, 239835.79999999993, 126989.90000000001, 234185.2, 46403.40000000001, 103730.50000000001, 147217.3, 46918.399999999994, 46000.0, 83383.8, 31799.999999999985, 139000.0, 91499.99999999999, 120010.00000000001, 94999.99999999999, 34000.0, 14174.0, 55536.8, 25366.79999999999, 177000.0, 80499.6, 115087.2, 25870.0, 38475.0, 35956.0, 64620.2, 34994.0, 58599.999999999985, 57000.0, 2652.0, 32256.999999999985, 82318.8, 61657.0, 16344.0, 14674.0, 39462.0, 59999.999999999985, 69801.39999999998, 10866.999999999993, 92934.2, 43208.0, 97811.2, 60357.8, 89000.00000000001, 50758.600000000006, 35000.0, 12599.999999999993, 24840.0, 77145.4, 25000.0, 46924.600000000006, 13845.999999999993, 75000.0, 63077.8, 38192.0, 14421.999999999993, 98999.99999999999, 8597.999999999993, 29121.800000000003, 65729.2, 12587.599999999999, 42000.0, 115962.59999999999, 22662.0, 7200.0, 74000.0, 105999.99999999999, 30000.0, 24564.0, 103015.00000000001, 52942.999999999985, 74120.0, 71566.6, 42419.999999999985, 45000.0, 4586.399999999994, 11738.399999999994, 3087.5999999999985, 44422.59999999999, 35234.0, 41600.0, 56000.0, 39298.0, 9226.800000000003, 71772.4, 63399.999999999985, 80727.59999999999, 13155.600000000006, 27440.0, 22031.0, 41082.0, 13915.199999999997, 127634.99999999999, 33800.0, 50023.59999999999, 150000.0, 61117.8, 12439.999999999993, 69200.00000000001, 33447.8, 45000.0, 48000.0, 16482.399999999994, 16807.199999999997, 8862.800000000003], \"y\": [5575.517985894494, 10307.092550848161, 11765.136524472451, 9116.922434194546, 14406.408393760206, 8598.216035055057, 11858.999980699447, 11153.18030478498, 5525.456618806888, 11237.730891703479, 3826.1272819375904, 6149.7160549944765, 16171.241467353637, 4547.540121655822, 10143.399412803166, 13196.777717484492, 13732.264552388086, 6823.579665633857, 11891.406733308178, 6830.008980812048, 12756.386768933691, 11071.167477923585, 11042.776606233945, 5936.37659319235, 4082.623335114315, 6406.831728728204, 17114.658439769933, 7194.414455690752, 6514.811852327758, 5706.986279789794, 8864.484267241405, 7655.272517266809, 9370.425843744832, 12074.830394699095, 7790.778597896761, 15479.517864161959, 8303.941645906658, 10738.947113061613, 10282.787514181244, 12160.282947446323, 10758.572500619304, 4004.6583801006723, 8690.233268844693, 8072.773285633388, 21294.510105319645, 13279.920152802608, 8425.478788891862, 8288.530516878485, 9154.33903241849, 7158.930619370374, 5708.479743059564, 5852.246781849227, 8862.22202883616, 5243.415188895285, 7828.292788284758, 8611.420803065634, 18394.74349887215, 9857.227952235442, 7368.076331397505, 5275.454630670247, 10311.250947148019, 7480.867930580846, 10589.103098890402, 6530.26517108257, 8198.25259625364, 10612.456936591287, 6627.131919420896, 11944.274699959436, 9712.26941240746, 11079.477691957552, 16138.16414061926, 10156.18052016846, 5888.801315115229, 9565.87996379004, 12208.849593151352, 15386.873367664226, 12440.19844966469, 12327.41057176681, 8294.128815705944, 10633.908073200422, 15168.139315203323, 14211.408609070533, 8863.391846376058, 10052.78262530456, 14122.771085649021, 5786.042609767776, 13244.318122089382, 18990.21603067993, 9384.836500248408, 10350.566017385723, 10407.880245641676, 15560.02198134637, 10146.525413860725, 8800.248614751572, 11928.96898966856, 13687.603614310048, 18213.09180599972, 12490.92517905721, 20709.72809150105, 8163.1062853253, 11314.071448767614, 15640.204016599768, 9378.719914524114, 8551.483869401178, 13422.156929786086, 8984.80904422109, 13034.824640398256, 9770.265674226202, 14587.304546944959, 12472.075481202748, 7223.562481393544, 4530.309278980806, 8083.126649601164, 5873.7272921081485, 17093.453453689202, 11696.778966006796, 14339.247098466702, 7161.37289422343, 9001.573250835243, 7487.655542644036, 9927.745463019393, 7694.542987658175, 8951.40218793207, 8820.80819906809, 8333.436802111702, 9522.15872987225, 11630.067650674282, 11864.490758882257, 6555.872132186673, 6324.894828216766, 9067.833959676705, 11091.298647039976, 8098.410138285134, 6056.680851312172, 11002.370630929472, 7825.5443777015425, 13522.819202353956, 9294.478055351316, 12731.607838057178, 11752.27562547088, 7738.857424290363, 5300.354027111134, 6403.6851911264675, 11511.04586929611, 5647.157735827814, 7359.863239630045, 7167.194717759437, 11413.585114870128, 11958.991482087851, 7669.106038520731, 6610.617177881343, 12613.961729768875, 5207.8223489740085, 6194.733392682978, 10677.086060071733, 5630.725974154176, 9156.426443670296, 13888.549851493462, 6061.192458992856, 5971.666867089088, 11084.104045589347, 13023.664133907094, 7381.044902623566, 8137.869350860718, 13000.12064454284, 8839.593849380659, 10233.116053431302, 9442.790193390872, 9724.366101353566, 8179.939198035596, 3475.9361979647115, 4277.971222943659, 4619.386002509201, 8809.634611235337, 6260.340663501532, 6441.641949220489, 7851.781774585396, 9049.76186143168, 5251.851560317201, 11649.94310457332, 10523.322362610801, 9482.305212616839, 5425.986056962794, 8252.701005222465, 5238.3870122228045, 7916.4690693619605, 6185.429279637507, 15933.353834795313, 5156.009244226058, 9691.102816451647, 14883.667736827163, 7796.894521722351, 7397.3103306683815, 12024.54096308624, 6600.6312131689165, 8440.373652087947, 9532.57262472925, 4716.455382799241, 7168.327317391982, 4095.223029181421]}],\n",
              "                        {\"template\": {\"data\": {\"bar\": [{\"error_x\": {\"color\": \"#2a3f5f\"}, \"error_y\": {\"color\": \"#2a3f5f\"}, \"marker\": {\"line\": {\"color\": \"white\", \"width\": 0.5}}, \"type\": \"bar\"}], \"barpolar\": [{\"marker\": {\"line\": {\"color\": \"white\", \"width\": 0.5}}, \"type\": \"barpolar\"}], \"carpet\": [{\"aaxis\": {\"endlinecolor\": \"#2a3f5f\", \"gridcolor\": \"#C8D4E3\", \"linecolor\": \"#C8D4E3\", \"minorgridcolor\": \"#C8D4E3\", \"startlinecolor\": \"#2a3f5f\"}, \"baxis\": {\"endlinecolor\": \"#2a3f5f\", \"gridcolor\": \"#C8D4E3\", \"linecolor\": \"#C8D4E3\", \"minorgridcolor\": \"#C8D4E3\", \"startlinecolor\": \"#2a3f5f\"}, \"type\": \"carpet\"}], \"choropleth\": [{\"colorbar\": {\"outlinewidth\": 0, \"ticks\": \"\"}, \"type\": \"choropleth\"}], \"contour\": [{\"colorbar\": {\"outlinewidth\": 0, \"ticks\": \"\"}, \"colorscale\": [[0.0, \"#0d0887\"], [0.1111111111111111, \"#46039f\"], [0.2222222222222222, \"#7201a8\"], [0.3333333333333333, \"#9c179e\"], [0.4444444444444444, \"#bd3786\"], [0.5555555555555556, \"#d8576b\"], [0.6666666666666666, \"#ed7953\"], [0.7777777777777778, \"#fb9f3a\"], [0.8888888888888888, \"#fdca26\"], [1.0, \"#f0f921\"]], \"type\": \"contour\"}], \"contourcarpet\": [{\"colorbar\": {\"outlinewidth\": 0, \"ticks\": \"\"}, \"type\": \"contourcarpet\"}], \"heatmap\": [{\"colorbar\": {\"outlinewidth\": 0, \"ticks\": \"\"}, \"colorscale\": [[0.0, \"#0d0887\"], [0.1111111111111111, \"#46039f\"], [0.2222222222222222, \"#7201a8\"], [0.3333333333333333, \"#9c179e\"], [0.4444444444444444, \"#bd3786\"], [0.5555555555555556, \"#d8576b\"], [0.6666666666666666, \"#ed7953\"], [0.7777777777777778, \"#fb9f3a\"], [0.8888888888888888, \"#fdca26\"], [1.0, \"#f0f921\"]], \"type\": \"heatmap\"}], \"heatmapgl\": [{\"colorbar\": {\"outlinewidth\": 0, \"ticks\": \"\"}, \"colorscale\": [[0.0, \"#0d0887\"], [0.1111111111111111, \"#46039f\"], [0.2222222222222222, \"#7201a8\"], [0.3333333333333333, \"#9c179e\"], [0.4444444444444444, \"#bd3786\"], [0.5555555555555556, \"#d8576b\"], [0.6666666666666666, \"#ed7953\"], [0.7777777777777778, \"#fb9f3a\"], [0.8888888888888888, \"#fdca26\"], [1.0, \"#f0f921\"]], \"type\": \"heatmapgl\"}], \"histogram\": [{\"marker\": {\"colorbar\": {\"outlinewidth\": 0, \"ticks\": \"\"}}, \"type\": \"histogram\"}], \"histogram2d\": [{\"colorbar\": {\"outlinewidth\": 0, \"ticks\": \"\"}, \"colorscale\": [[0.0, \"#0d0887\"], [0.1111111111111111, \"#46039f\"], [0.2222222222222222, \"#7201a8\"], [0.3333333333333333, \"#9c179e\"], [0.4444444444444444, \"#bd3786\"], [0.5555555555555556, \"#d8576b\"], [0.6666666666666666, \"#ed7953\"], [0.7777777777777778, \"#fb9f3a\"], [0.8888888888888888, \"#fdca26\"], [1.0, \"#f0f921\"]], \"type\": \"histogram2d\"}], \"histogram2dcontour\": [{\"colorbar\": {\"outlinewidth\": 0, \"ticks\": \"\"}, \"colorscale\": [[0.0, \"#0d0887\"], [0.1111111111111111, \"#46039f\"], [0.2222222222222222, \"#7201a8\"], [0.3333333333333333, \"#9c179e\"], [0.4444444444444444, \"#bd3786\"], [0.5555555555555556, \"#d8576b\"], [0.6666666666666666, \"#ed7953\"], [0.7777777777777778, \"#fb9f3a\"], [0.8888888888888888, \"#fdca26\"], [1.0, \"#f0f921\"]], \"type\": \"histogram2dcontour\"}], \"mesh3d\": [{\"colorbar\": {\"outlinewidth\": 0, \"ticks\": \"\"}, \"type\": \"mesh3d\"}], \"parcoords\": [{\"line\": {\"colorbar\": {\"outlinewidth\": 0, \"ticks\": \"\"}}, \"type\": \"parcoords\"}], \"pie\": [{\"automargin\": true, \"type\": \"pie\"}], \"scatter\": [{\"marker\": {\"colorbar\": {\"outlinewidth\": 0, \"ticks\": \"\"}}, \"type\": \"scatter\"}], \"scatter3d\": [{\"line\": {\"colorbar\": {\"outlinewidth\": 0, \"ticks\": \"\"}}, \"marker\": {\"colorbar\": {\"outlinewidth\": 0, \"ticks\": \"\"}}, \"type\": \"scatter3d\"}], \"scattercarpet\": [{\"marker\": {\"colorbar\": {\"outlinewidth\": 0, \"ticks\": \"\"}}, \"type\": \"scattercarpet\"}], \"scattergeo\": [{\"marker\": {\"colorbar\": {\"outlinewidth\": 0, \"ticks\": \"\"}}, \"type\": \"scattergeo\"}], \"scattergl\": [{\"marker\": {\"colorbar\": {\"outlinewidth\": 0, \"ticks\": \"\"}}, \"type\": \"scattergl\"}], \"scattermapbox\": [{\"marker\": {\"colorbar\": {\"outlinewidth\": 0, \"ticks\": \"\"}}, \"type\": \"scattermapbox\"}], \"scatterpolar\": [{\"marker\": {\"colorbar\": {\"outlinewidth\": 0, \"ticks\": \"\"}}, \"type\": \"scatterpolar\"}], \"scatterpolargl\": [{\"marker\": {\"colorbar\": {\"outlinewidth\": 0, \"ticks\": \"\"}}, \"type\": \"scatterpolargl\"}], \"scatterternary\": [{\"marker\": {\"colorbar\": {\"outlinewidth\": 0, \"ticks\": \"\"}}, \"type\": \"scatterternary\"}], \"surface\": [{\"colorbar\": {\"outlinewidth\": 0, \"ticks\": \"\"}, \"colorscale\": [[0.0, \"#0d0887\"], [0.1111111111111111, \"#46039f\"], [0.2222222222222222, \"#7201a8\"], [0.3333333333333333, \"#9c179e\"], [0.4444444444444444, \"#bd3786\"], [0.5555555555555556, \"#d8576b\"], [0.6666666666666666, \"#ed7953\"], [0.7777777777777778, \"#fb9f3a\"], [0.8888888888888888, \"#fdca26\"], [1.0, \"#f0f921\"]], \"type\": \"surface\"}], \"table\": [{\"cells\": {\"fill\": {\"color\": \"#EBF0F8\"}, \"line\": {\"color\": \"white\"}}, \"header\": {\"fill\": {\"color\": \"#C8D4E3\"}, \"line\": {\"color\": \"white\"}}, \"type\": \"table\"}]}, \"layout\": {\"annotationdefaults\": {\"arrowcolor\": \"#2a3f5f\", \"arrowhead\": 0, \"arrowwidth\": 1}, \"coloraxis\": {\"colorbar\": {\"outlinewidth\": 0, \"ticks\": \"\"}}, \"colorscale\": {\"diverging\": [[0, \"#8e0152\"], [0.1, \"#c51b7d\"], [0.2, \"#de77ae\"], [0.3, \"#f1b6da\"], [0.4, \"#fde0ef\"], [0.5, \"#f7f7f7\"], [0.6, \"#e6f5d0\"], [0.7, \"#b8e186\"], [0.8, \"#7fbc41\"], [0.9, \"#4d9221\"], [1, \"#276419\"]], \"sequential\": [[0.0, \"#0d0887\"], [0.1111111111111111, \"#46039f\"], [0.2222222222222222, \"#7201a8\"], [0.3333333333333333, \"#9c179e\"], [0.4444444444444444, \"#bd3786\"], [0.5555555555555556, \"#d8576b\"], [0.6666666666666666, \"#ed7953\"], [0.7777777777777778, \"#fb9f3a\"], [0.8888888888888888, \"#fdca26\"], [1.0, \"#f0f921\"]], \"sequentialminus\": [[0.0, \"#0d0887\"], [0.1111111111111111, \"#46039f\"], [0.2222222222222222, \"#7201a8\"], [0.3333333333333333, \"#9c179e\"], [0.4444444444444444, \"#bd3786\"], [0.5555555555555556, \"#d8576b\"], [0.6666666666666666, \"#ed7953\"], [0.7777777777777778, \"#fb9f3a\"], [0.8888888888888888, \"#fdca26\"], [1.0, \"#f0f921\"]]}, \"colorway\": [\"#636efa\", \"#EF553B\", \"#00cc96\", \"#ab63fa\", \"#FFA15A\", \"#19d3f3\", \"#FF6692\", \"#B6E880\", \"#FF97FF\", \"#FECB52\"], \"font\": {\"color\": \"#2a3f5f\"}, \"geo\": {\"bgcolor\": \"white\", \"lakecolor\": \"white\", \"landcolor\": \"white\", \"showlakes\": true, \"showland\": true, \"subunitcolor\": \"#C8D4E3\"}, \"hoverlabel\": {\"align\": \"left\"}, \"hovermode\": \"closest\", \"mapbox\": {\"style\": \"light\"}, \"paper_bgcolor\": \"white\", \"plot_bgcolor\": \"white\", \"polar\": {\"angularaxis\": {\"gridcolor\": \"#EBF0F8\", \"linecolor\": \"#EBF0F8\", \"ticks\": \"\"}, \"bgcolor\": \"white\", \"radialaxis\": {\"gridcolor\": \"#EBF0F8\", \"linecolor\": \"#EBF0F8\", \"ticks\": \"\"}}, \"scene\": {\"xaxis\": {\"backgroundcolor\": \"white\", \"gridcolor\": \"#DFE8F3\", \"gridwidth\": 2, \"linecolor\": \"#EBF0F8\", \"showbackground\": true, \"ticks\": \"\", \"zerolinecolor\": \"#EBF0F8\"}, \"yaxis\": {\"backgroundcolor\": \"white\", \"gridcolor\": \"#DFE8F3\", \"gridwidth\": 2, \"linecolor\": \"#EBF0F8\", \"showbackground\": true, \"ticks\": \"\", \"zerolinecolor\": \"#EBF0F8\"}, \"zaxis\": {\"backgroundcolor\": \"white\", \"gridcolor\": \"#DFE8F3\", \"gridwidth\": 2, \"linecolor\": \"#EBF0F8\", \"showbackground\": true, \"ticks\": \"\", \"zerolinecolor\": \"#EBF0F8\"}}, \"shapedefaults\": {\"line\": {\"color\": \"#2a3f5f\"}}, \"ternary\": {\"aaxis\": {\"gridcolor\": \"#DFE8F3\", \"linecolor\": \"#A2B1C6\", \"ticks\": \"\"}, \"baxis\": {\"gridcolor\": \"#DFE8F3\", \"linecolor\": \"#A2B1C6\", \"ticks\": \"\"}, \"bgcolor\": \"white\", \"caxis\": {\"gridcolor\": \"#DFE8F3\", \"linecolor\": \"#A2B1C6\", \"ticks\": \"\"}}, \"title\": {\"x\": 0.05}, \"xaxis\": {\"automargin\": true, \"gridcolor\": \"#EBF0F8\", \"linecolor\": \"#EBF0F8\", \"ticks\": \"\", \"title\": {\"standoff\": 15}, \"zerolinecolor\": \"#EBF0F8\", \"zerolinewidth\": 2}, \"yaxis\": {\"automargin\": true, \"gridcolor\": \"#EBF0F8\", \"linecolor\": \"#EBF0F8\", \"ticks\": \"\", \"title\": {\"standoff\": 15}, \"zerolinecolor\": \"#EBF0F8\", \"zerolinewidth\": 2}}}, \"title\": {\"text\": \"2008 Effect of Tax Rebate(600)\"}, \"xaxis\": {\"title\": {\"text\": \"Income\"}}, \"yaxis\": {\"title\": {\"text\": \"Predicted Expenditure\"}}},\n",
              "                        {\"responsive\": true}\n",
              "                    ).then(function(){\n",
              "                            \n",
              "var gd = document.getElementById('f27596f2-f0b3-4fa2-8665-837fcdd7235c');\n",
              "var x = new MutationObserver(function (mutations, observer) {{\n",
              "        var display = window.getComputedStyle(gd).display;\n",
              "        if (!display || display === 'none') {{\n",
              "            console.log([gd, 'removed!']);\n",
              "            Plotly.purge(gd);\n",
              "            observer.disconnect();\n",
              "        }}\n",
              "}});\n",
              "\n",
              "// Listen for the removal of the full notebook cells\n",
              "var notebookContainer = gd.closest('#notebook-container');\n",
              "if (notebookContainer) {{\n",
              "    x.observe(notebookContainer, {childList: true});\n",
              "}}\n",
              "\n",
              "// Listen for the clearing of the current output cell\n",
              "var outputEl = gd.closest('.output');\n",
              "if (outputEl) {{\n",
              "    x.observe(outputEl, {childList: true});\n",
              "}}\n",
              "\n",
              "                        })\n",
              "                };\n",
              "                \n",
              "            </script>\n",
              "        </div>\n",
              "</body>\n",
              "</html>"
            ]
          },
          "metadata": {
            "tags": []
          }
        }
      ]
    },
    {
      "cell_type": "markdown",
      "metadata": {
        "id": "8O45p2WsusbZ"
      },
      "source": [
        "# might have to increase Income not Tax_rebate"
      ]
    },
    {
      "cell_type": "markdown",
      "metadata": {
        "id": "VYcE0HrI3T3R"
      },
      "source": [
        "The difference between increasing Income and Tax Rebate is significant"
      ]
    },
    {
      "cell_type": "markdown",
      "metadata": {
        "id": "kKOW4wAuG3Z-"
      },
      "source": [
        "Individual MPC Confidence Interval"
      ]
    },
    {
      "cell_type": "code",
      "metadata": {
        "id": "9Ih1bwYtuxSx"
      },
      "source": [
        "# amount_of_tr = 600\n",
        "# yhat_df_2001_original_tr\n",
        "# yhat_df_2008_original_tr\n",
        "# yhat_df_2001_original_tr_after\n",
        "# yhat_df_2008_original_tr_after"
      ],
      "execution_count": null,
      "outputs": []
    },
    {
      "cell_type": "code",
      "metadata": {
        "id": "6LUKZzKRG9sT"
      },
      "source": [
        "mpc_2008_df = (yhat_df_2008_original_tr_after - yhat_df_2008_original_tr)/amount_of_tr"
      ],
      "execution_count": null,
      "outputs": []
    },
    {
      "cell_type": "code",
      "metadata": {
        "id": "lRi2JABHG__f"
      },
      "source": [
        "mpc_2008_mean = np.mean(mpc_2008_df,axis = 1)\n",
        "mpc_2008_std = np.std(mpc_2008_df,axis = 1)"
      ],
      "execution_count": null,
      "outputs": []
    },
    {
      "cell_type": "code",
      "metadata": {
        "id": "uwrmODJZIxek"
      },
      "source": [
        "mpc_2008_ci = pd.DataFrame({'mean' : mpc_2008_mean,'ci_plus':mpc_2008_mean + (1.96*mpc_2008_std)/np.sqrt(num_subsets),\n",
        "                            'ci_minus':mpc_2008_mean - (1.96*mpc_2008_std)/np.sqrt(num_subsets)})"
      ],
      "execution_count": null,
      "outputs": []
    },
    {
      "cell_type": "code",
      "metadata": {
        "id": "OsKY639zmoWt",
        "colab": {
          "base_uri": "https://localhost:8080/",
          "height": 370
        },
        "outputId": "54349fed-2d13-4215-abf5-cfe72e604096"
      },
      "source": [
        "sns.distplot(mpc_2008_mean, kde = False)"
      ],
      "execution_count": null,
      "outputs": [
        {
          "output_type": "stream",
          "text": [
            "/usr/local/lib/python3.7/dist-packages/seaborn/distributions.py:2557: FutureWarning:\n",
            "\n",
            "`distplot` is a deprecated function and will be removed in a future version. Please adapt your code to use either `displot` (a figure-level function with similar flexibility) or `histplot` (an axes-level function for histograms).\n",
            "\n"
          ],
          "name": "stderr"
        },
        {
          "output_type": "execute_result",
          "data": {
            "text/plain": [
              "<matplotlib.axes._subplots.AxesSubplot at 0x7f0ba0dce910>"
            ]
          },
          "metadata": {
            "tags": []
          },
          "execution_count": 115
        },
        {
          "output_type": "display_data",
          "data": {
            "image/png": "[encoded data removed]",
            "text/plain": [
              "<Figure size 432x288 with 1 Axes>"
            ]
          },
          "metadata": {
            "tags": [],
            "needs_background": "light"
          }
        }
      ]
    },
    {
      "cell_type": "code",
      "metadata": {
        "id": "K7dHA2X3d2Bj",
        "colab": {
          "base_uri": "https://localhost:8080/",
          "height": 300
        },
        "outputId": "5dc723e4-82ea-4d46-b5ae-150802e4f0a3"
      },
      "source": [
        "sns.ecdfplot(mpc_2008_ci[\"mean\"], color = \"black\", linestyle = \"-.\", linewidth = 2)\n",
        "sns.ecdfplot(mpc_2008_ci[\"ci_plus\"], color = \"black\")\n",
        "sns.ecdfplot(mpc_2008_ci[\"ci_minus\"], color = \"black\")"
      ],
      "execution_count": null,
      "outputs": [
        {
          "output_type": "execute_result",
          "data": {
            "text/plain": [
              "<matplotlib.axes._subplots.AxesSubplot at 0x7f0ba10852d0>"
            ]
          },
          "metadata": {
            "tags": []
          },
          "execution_count": 116
        },
        {
          "output_type": "display_data",
          "data": {
            "image/png": "[encoded data removed]",
            "text/plain": [
              "<Figure size 432x288 with 1 Axes>"
            ]
          },
          "metadata": {
            "tags": [],
            "needs_background": "light"
          }
        }
      ]
    },
    {
      "cell_type": "code",
      "metadata": {
        "id": "MjPqRDvCNbL2"
      },
      "source": [
        "n_CI = 100"
      ],
      "execution_count": null,
      "outputs": []
    },
    {
      "cell_type": "code",
      "metadata": {
        "id": "5TwjJ2QJMRVW",
        "colab": {
          "base_uri": "https://localhost:8080/",
          "height": 530
        },
        "outputId": "8e3429ad-d86f-4d10-c49c-f34a7ef29b6e"
      },
      "source": [
        "fig, ax = plt.subplots(figsize = (12,8))\n",
        "sns.scatterplot(x=mpc_2008_ci[:n_CI].index, y=\"mean\", data=mpc_2008_ci[:n_CI], ax = ax)\n",
        "ax.errorbar(x=mpc_2008_ci[:n_CI].index, y=\"mean\", yerr=mpc_2008_std[:n_CI], data=mpc_2008_ci[:n_CI],\n",
        "    ecolor=\"red\", fmt=' ', zorder=-1)\n",
        "\n",
        "ax.axhline(1, color='grey', linestyle='--')\n",
        "ax.axhline(0, color='grey', linestyle='--')\n",
        "\n",
        "plt.xlabel(\"Index\")\n",
        "plt.ylabel(\"MPC Value\")\n",
        "plt.title(\"MPC Confidence Interval 2008\")"
      ],
      "execution_count": null,
      "outputs": [
        {
          "output_type": "execute_result",
          "data": {
            "text/plain": [
              "Text(0.5, 1.0, 'MPC Confidence Interval 2008')"
            ]
          },
          "metadata": {
            "tags": []
          },
          "execution_count": 118
        },
        {
          "output_type": "display_data",
          "data": {
            "image/png": "[encoded data removed]",
            "text/plain": [
              "<Figure size 864x576 with 1 Axes>"
            ]
          },
          "metadata": {
            "tags": [],
            "needs_background": "light"
          }
        }
      ]
    },
    {
      "cell_type": "code",
      "metadata": {
        "id": "fw0F-PCMNVCl"
      },
      "source": [
        "# amount_of_tr = 600\n",
        "#from google.colab import  drive\n",
        "#drive.mount('/drive')"
      ],
      "execution_count": null,
      "outputs": []
    },
    {
      "cell_type": "code",
      "metadata": {
        "id": "myElQh36xJ1V"
      },
      "source": [
        "#yhat_df_2008_original_tr.to_csv('yhat_df_2008_original_tr.csv')\n",
        "#yhat_df_2008_original_tr_after.to_csv('yhat_df_2008_original_tr_after.csv')\n",
        "#yhat_df_2008_original.to_csv('yhat_df_2008_original.csv')\n",
        "#y_test_2008_original.to_csv('y_test_2008_original.csv')"
      ],
      "execution_count": null,
      "outputs": []
    },
    {
      "cell_type": "code",
      "metadata": {
        "id": "CXbjgbXk7Nxr"
      },
      "source": [
        "#yhat_df_2008_original_tr.to_csv('600.csv')\n",
        "#yhat_df_2008_original_tr_after.to_csv('600_after.csv')"
      ],
      "execution_count": null,
      "outputs": []
    },
    {
      "cell_type": "code",
      "metadata": {
        "id": "4ABXs3KvWRWQ"
      },
      "source": [
        ""
      ],
      "execution_count": null,
      "outputs": []
    }
  ]
}