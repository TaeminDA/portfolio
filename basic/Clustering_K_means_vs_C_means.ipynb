{
  "nbformat": 4,
  "nbformat_minor": 0,
  "metadata": {
    "colab": {
      "name": "Clustering K-means vs C-means.ipynb",
      "provenance": [],
      "collapsed_sections": []
    },
    "kernelspec": {
      "name": "python3",
      "display_name": "Python 3"
    }
  },
  "cells": [
    {
      "cell_type": "markdown",
      "metadata": {
        "id": "5KGpGq1SLJfY"
      },
      "source": [
        " # Clustering"
      ]
    },
    {
      "cell_type": "code",
      "metadata": {
        "id": "pfPSzCF7LVFq"
      },
      "source": [
        "import pandas as pd\n",
        "import numpy as np\n",
        "import matplotlib.pyplot as plt\n",
        "import seaborn as sns"
      ],
      "execution_count": 1,
      "outputs": []
    },
    {
      "cell_type": "code",
      "metadata": {
        "id": "KUHpYYQJLSq_"
      },
      "source": [
        "dataset = pd.read_csv(\"/content/Country-data.csv\")"
      ],
      "execution_count": 2,
      "outputs": []
    },
    {
      "cell_type": "code",
      "metadata": {
        "colab": {
          "base_uri": "https://localhost:8080/",
          "height": 204
        },
        "id": "0vED9L3FLqEs",
        "outputId": "ff43bde8-545d-4971-a8b9-0b8abc685162"
      },
      "source": [
        "dataset.head()"
      ],
      "execution_count": 3,
      "outputs": [
        {
          "output_type": "execute_result",
          "data": {
            "text/html": [
              "<div>\n",
              "<style scoped>\n",
              "    .dataframe tbody tr th:only-of-type {\n",
              "        vertical-align: middle;\n",
              "    }\n",
              "\n",
              "    .dataframe tbody tr th {\n",
              "        vertical-align: top;\n",
              "    }\n",
              "\n",
              "    .dataframe thead th {\n",
              "        text-align: right;\n",
              "    }\n",
              "</style>\n",
              "<table border=\"1\" class=\"dataframe\">\n",
              "  <thead>\n",
              "    <tr style=\"text-align: right;\">\n",
              "      <th></th>\n",
              "      <th>country</th>\n",
              "      <th>child_mort</th>\n",
              "      <th>exports</th>\n",
              "      <th>health</th>\n",
              "      <th>imports</th>\n",
              "      <th>income</th>\n",
              "      <th>inflation</th>\n",
              "      <th>life_expec</th>\n",
              "      <th>total_fer</th>\n",
              "      <th>gdpp</th>\n",
              "    </tr>\n",
              "  </thead>\n",
              "  <tbody>\n",
              "    <tr>\n",
              "      <th>0</th>\n",
              "      <td>Afghanistan</td>\n",
              "      <td>90.2</td>\n",
              "      <td>10.0</td>\n",
              "      <td>7.58</td>\n",
              "      <td>44.9</td>\n",
              "      <td>1610</td>\n",
              "      <td>9.44</td>\n",
              "      <td>56.2</td>\n",
              "      <td>5.82</td>\n",
              "      <td>553</td>\n",
              "    </tr>\n",
              "    <tr>\n",
              "      <th>1</th>\n",
              "      <td>Albania</td>\n",
              "      <td>16.6</td>\n",
              "      <td>28.0</td>\n",
              "      <td>6.55</td>\n",
              "      <td>48.6</td>\n",
              "      <td>9930</td>\n",
              "      <td>4.49</td>\n",
              "      <td>76.3</td>\n",
              "      <td>1.65</td>\n",
              "      <td>4090</td>\n",
              "    </tr>\n",
              "    <tr>\n",
              "      <th>2</th>\n",
              "      <td>Algeria</td>\n",
              "      <td>27.3</td>\n",
              "      <td>38.4</td>\n",
              "      <td>4.17</td>\n",
              "      <td>31.4</td>\n",
              "      <td>12900</td>\n",
              "      <td>16.10</td>\n",
              "      <td>76.5</td>\n",
              "      <td>2.89</td>\n",
              "      <td>4460</td>\n",
              "    </tr>\n",
              "    <tr>\n",
              "      <th>3</th>\n",
              "      <td>Angola</td>\n",
              "      <td>119.0</td>\n",
              "      <td>62.3</td>\n",
              "      <td>2.85</td>\n",
              "      <td>42.9</td>\n",
              "      <td>5900</td>\n",
              "      <td>22.40</td>\n",
              "      <td>60.1</td>\n",
              "      <td>6.16</td>\n",
              "      <td>3530</td>\n",
              "    </tr>\n",
              "    <tr>\n",
              "      <th>4</th>\n",
              "      <td>Antigua and Barbuda</td>\n",
              "      <td>10.3</td>\n",
              "      <td>45.5</td>\n",
              "      <td>6.03</td>\n",
              "      <td>58.9</td>\n",
              "      <td>19100</td>\n",
              "      <td>1.44</td>\n",
              "      <td>76.8</td>\n",
              "      <td>2.13</td>\n",
              "      <td>12200</td>\n",
              "    </tr>\n",
              "  </tbody>\n",
              "</table>\n",
              "</div>"
            ],
            "text/plain": [
              "               country  child_mort  exports  ...  life_expec  total_fer   gdpp\n",
              "0          Afghanistan        90.2     10.0  ...        56.2       5.82    553\n",
              "1              Albania        16.6     28.0  ...        76.3       1.65   4090\n",
              "2              Algeria        27.3     38.4  ...        76.5       2.89   4460\n",
              "3               Angola       119.0     62.3  ...        60.1       6.16   3530\n",
              "4  Antigua and Barbuda        10.3     45.5  ...        76.8       2.13  12200\n",
              "\n",
              "[5 rows x 10 columns]"
            ]
          },
          "metadata": {
            "tags": []
          },
          "execution_count": 3
        }
      ]
    },
    {
      "cell_type": "code",
      "metadata": {
        "colab": {
          "base_uri": "https://localhost:8080/"
        },
        "id": "SNnJAffhLqvj",
        "outputId": "84b65c30-5041-4a54-db28-328126cd2d0c"
      },
      "source": [
        "dataset.info()"
      ],
      "execution_count": 4,
      "outputs": [
        {
          "output_type": "stream",
          "text": [
            "<class 'pandas.core.frame.DataFrame'>\n",
            "RangeIndex: 167 entries, 0 to 166\n",
            "Data columns (total 10 columns):\n",
            " #   Column      Non-Null Count  Dtype  \n",
            "---  ------      --------------  -----  \n",
            " 0   country     167 non-null    object \n",
            " 1   child_mort  167 non-null    float64\n",
            " 2   exports     167 non-null    float64\n",
            " 3   health      167 non-null    float64\n",
            " 4   imports     167 non-null    float64\n",
            " 5   income      167 non-null    int64  \n",
            " 6   inflation   167 non-null    float64\n",
            " 7   life_expec  167 non-null    float64\n",
            " 8   total_fer   167 non-null    float64\n",
            " 9   gdpp        167 non-null    int64  \n",
            "dtypes: float64(7), int64(2), object(1)\n",
            "memory usage: 13.2+ KB\n"
          ],
          "name": "stdout"
        }
      ]
    },
    {
      "cell_type": "code",
      "metadata": {
        "id": "TEmcicVOMGbo"
      },
      "source": [
        "X = dataset.iloc[:,1:]"
      ],
      "execution_count": 5,
      "outputs": []
    },
    {
      "cell_type": "code",
      "metadata": {
        "colab": {
          "base_uri": "https://localhost:8080/",
          "height": 204
        },
        "id": "i2k-zLI8MbOJ",
        "outputId": "7654578f-d2c7-4940-88a4-7624640746d9"
      },
      "source": [
        "X.head()"
      ],
      "execution_count": 6,
      "outputs": [
        {
          "output_type": "execute_result",
          "data": {
            "text/html": [
              "<div>\n",
              "<style scoped>\n",
              "    .dataframe tbody tr th:only-of-type {\n",
              "        vertical-align: middle;\n",
              "    }\n",
              "\n",
              "    .dataframe tbody tr th {\n",
              "        vertical-align: top;\n",
              "    }\n",
              "\n",
              "    .dataframe thead th {\n",
              "        text-align: right;\n",
              "    }\n",
              "</style>\n",
              "<table border=\"1\" class=\"dataframe\">\n",
              "  <thead>\n",
              "    <tr style=\"text-align: right;\">\n",
              "      <th></th>\n",
              "      <th>child_mort</th>\n",
              "      <th>exports</th>\n",
              "      <th>health</th>\n",
              "      <th>imports</th>\n",
              "      <th>income</th>\n",
              "      <th>inflation</th>\n",
              "      <th>life_expec</th>\n",
              "      <th>total_fer</th>\n",
              "      <th>gdpp</th>\n",
              "    </tr>\n",
              "  </thead>\n",
              "  <tbody>\n",
              "    <tr>\n",
              "      <th>0</th>\n",
              "      <td>90.2</td>\n",
              "      <td>10.0</td>\n",
              "      <td>7.58</td>\n",
              "      <td>44.9</td>\n",
              "      <td>1610</td>\n",
              "      <td>9.44</td>\n",
              "      <td>56.2</td>\n",
              "      <td>5.82</td>\n",
              "      <td>553</td>\n",
              "    </tr>\n",
              "    <tr>\n",
              "      <th>1</th>\n",
              "      <td>16.6</td>\n",
              "      <td>28.0</td>\n",
              "      <td>6.55</td>\n",
              "      <td>48.6</td>\n",
              "      <td>9930</td>\n",
              "      <td>4.49</td>\n",
              "      <td>76.3</td>\n",
              "      <td>1.65</td>\n",
              "      <td>4090</td>\n",
              "    </tr>\n",
              "    <tr>\n",
              "      <th>2</th>\n",
              "      <td>27.3</td>\n",
              "      <td>38.4</td>\n",
              "      <td>4.17</td>\n",
              "      <td>31.4</td>\n",
              "      <td>12900</td>\n",
              "      <td>16.10</td>\n",
              "      <td>76.5</td>\n",
              "      <td>2.89</td>\n",
              "      <td>4460</td>\n",
              "    </tr>\n",
              "    <tr>\n",
              "      <th>3</th>\n",
              "      <td>119.0</td>\n",
              "      <td>62.3</td>\n",
              "      <td>2.85</td>\n",
              "      <td>42.9</td>\n",
              "      <td>5900</td>\n",
              "      <td>22.40</td>\n",
              "      <td>60.1</td>\n",
              "      <td>6.16</td>\n",
              "      <td>3530</td>\n",
              "    </tr>\n",
              "    <tr>\n",
              "      <th>4</th>\n",
              "      <td>10.3</td>\n",
              "      <td>45.5</td>\n",
              "      <td>6.03</td>\n",
              "      <td>58.9</td>\n",
              "      <td>19100</td>\n",
              "      <td>1.44</td>\n",
              "      <td>76.8</td>\n",
              "      <td>2.13</td>\n",
              "      <td>12200</td>\n",
              "    </tr>\n",
              "  </tbody>\n",
              "</table>\n",
              "</div>"
            ],
            "text/plain": [
              "   child_mort  exports  health  ...  life_expec  total_fer   gdpp\n",
              "0        90.2     10.0    7.58  ...        56.2       5.82    553\n",
              "1        16.6     28.0    6.55  ...        76.3       1.65   4090\n",
              "2        27.3     38.4    4.17  ...        76.5       2.89   4460\n",
              "3       119.0     62.3    2.85  ...        60.1       6.16   3530\n",
              "4        10.3     45.5    6.03  ...        76.8       2.13  12200\n",
              "\n",
              "[5 rows x 9 columns]"
            ]
          },
          "metadata": {
            "tags": []
          },
          "execution_count": 6
        }
      ]
    },
    {
      "cell_type": "markdown",
      "metadata": {
        "id": "V3bo7oZRND_W"
      },
      "source": [
        "## Data Preprocessing"
      ]
    },
    {
      "cell_type": "code",
      "metadata": {
        "id": "XqHXd0v7NDPY"
      },
      "source": [
        "from sklearn.preprocessing import MinMaxScaler"
      ],
      "execution_count": 7,
      "outputs": []
    },
    {
      "cell_type": "code",
      "metadata": {
        "id": "fJLXUwVtNL20"
      },
      "source": [
        "X_normal = MinMaxScaler().fit_transform(X)\n",
        "X_normal = pd.DataFrame(X_normal,columns=X.columns)"
      ],
      "execution_count": 8,
      "outputs": []
    },
    {
      "cell_type": "markdown",
      "metadata": {
        "id": "FwVVEnJDLMgZ"
      },
      "source": [
        "## K-means"
      ]
    },
    {
      "cell_type": "code",
      "metadata": {
        "id": "uX8ZbE2bL4ya"
      },
      "source": [
        "import sklearn\n",
        "from sklearn.cluster import KMeans"
      ],
      "execution_count": 9,
      "outputs": []
    },
    {
      "cell_type": "code",
      "metadata": {
        "colab": {
          "base_uri": "https://localhost:8080/",
          "height": 302
        },
        "id": "IKUT1OvbKu3D",
        "outputId": "e12b7eff-9ed4-40d9-ad70-9c4b5adf7fab"
      },
      "source": [
        "a=[]\n",
        "K=range(1,10)\n",
        "for i in K:\n",
        "    kmean=KMeans(n_clusters=i)\n",
        "    kmean.fit(X_normal)\n",
        "    a.append(kmean.inertia_)\n",
        "    \n",
        "plt.plot(K,a,marker='o')\n",
        "plt.title('Elbow Method',fontsize=15)\n",
        "plt.xlabel('Number of clusters',fontsize=15)\n",
        "plt.ylabel('Sum of Squared distance',fontsize=15)\n",
        "plt.show()"
      ],
      "execution_count": 10,
      "outputs": [
        {
          "output_type": "display_data",
          "data": {
            "image/png": "[encoded data removed]",
            "text/plain": [
              "<Figure size 432x288 with 1 Axes>"
            ]
          },
          "metadata": {
            "tags": [],
            "needs_background": "light"
          }
        }
      ]
    },
    {
      "cell_type": "code",
      "metadata": {
        "id": "Auj7wRTfMn0e"
      },
      "source": [
        "kmeans = KMeans(n_clusters=3, random_state=0).fit(X)"
      ],
      "execution_count": 11,
      "outputs": []
    },
    {
      "cell_type": "code",
      "metadata": {
        "id": "caMlVA89Mucf"
      },
      "source": [
        "dataset_k =dataset.copy()\n",
        "dataset_k[\"cluster\"] = kmeans.labels_\n",
        "dataset_k[\"cluster\"] = dataset_k[\"cluster\"].astype(\"category\")"
      ],
      "execution_count": 12,
      "outputs": []
    },
    {
      "cell_type": "code",
      "metadata": {
        "colab": {
          "base_uri": "https://localhost:8080/",
          "height": 419
        },
        "id": "oZYUB38bOoO1",
        "outputId": "7a6aa175-0cf3-46a5-92da-143779b34733"
      },
      "source": [
        "dataset_k"
      ],
      "execution_count": 13,
      "outputs": [
        {
          "output_type": "execute_result",
          "data": {
            "text/html": [
              "<div>\n",
              "<style scoped>\n",
              "    .dataframe tbody tr th:only-of-type {\n",
              "        vertical-align: middle;\n",
              "    }\n",
              "\n",
              "    .dataframe tbody tr th {\n",
              "        vertical-align: top;\n",
              "    }\n",
              "\n",
              "    .dataframe thead th {\n",
              "        text-align: right;\n",
              "    }\n",
              "</style>\n",
              "<table border=\"1\" class=\"dataframe\">\n",
              "  <thead>\n",
              "    <tr style=\"text-align: right;\">\n",
              "      <th></th>\n",
              "      <th>country</th>\n",
              "      <th>child_mort</th>\n",
              "      <th>exports</th>\n",
              "      <th>health</th>\n",
              "      <th>imports</th>\n",
              "      <th>income</th>\n",
              "      <th>inflation</th>\n",
              "      <th>life_expec</th>\n",
              "      <th>total_fer</th>\n",
              "      <th>gdpp</th>\n",
              "      <th>cluster</th>\n",
              "    </tr>\n",
              "  </thead>\n",
              "  <tbody>\n",
              "    <tr>\n",
              "      <th>0</th>\n",
              "      <td>Afghanistan</td>\n",
              "      <td>90.2</td>\n",
              "      <td>10.0</td>\n",
              "      <td>7.58</td>\n",
              "      <td>44.9</td>\n",
              "      <td>1610</td>\n",
              "      <td>9.44</td>\n",
              "      <td>56.2</td>\n",
              "      <td>5.82</td>\n",
              "      <td>553</td>\n",
              "      <td>0</td>\n",
              "    </tr>\n",
              "    <tr>\n",
              "      <th>1</th>\n",
              "      <td>Albania</td>\n",
              "      <td>16.6</td>\n",
              "      <td>28.0</td>\n",
              "      <td>6.55</td>\n",
              "      <td>48.6</td>\n",
              "      <td>9930</td>\n",
              "      <td>4.49</td>\n",
              "      <td>76.3</td>\n",
              "      <td>1.65</td>\n",
              "      <td>4090</td>\n",
              "      <td>0</td>\n",
              "    </tr>\n",
              "    <tr>\n",
              "      <th>2</th>\n",
              "      <td>Algeria</td>\n",
              "      <td>27.3</td>\n",
              "      <td>38.4</td>\n",
              "      <td>4.17</td>\n",
              "      <td>31.4</td>\n",
              "      <td>12900</td>\n",
              "      <td>16.10</td>\n",
              "      <td>76.5</td>\n",
              "      <td>2.89</td>\n",
              "      <td>4460</td>\n",
              "      <td>0</td>\n",
              "    </tr>\n",
              "    <tr>\n",
              "      <th>3</th>\n",
              "      <td>Angola</td>\n",
              "      <td>119.0</td>\n",
              "      <td>62.3</td>\n",
              "      <td>2.85</td>\n",
              "      <td>42.9</td>\n",
              "      <td>5900</td>\n",
              "      <td>22.40</td>\n",
              "      <td>60.1</td>\n",
              "      <td>6.16</td>\n",
              "      <td>3530</td>\n",
              "      <td>0</td>\n",
              "    </tr>\n",
              "    <tr>\n",
              "      <th>4</th>\n",
              "      <td>Antigua and Barbuda</td>\n",
              "      <td>10.3</td>\n",
              "      <td>45.5</td>\n",
              "      <td>6.03</td>\n",
              "      <td>58.9</td>\n",
              "      <td>19100</td>\n",
              "      <td>1.44</td>\n",
              "      <td>76.8</td>\n",
              "      <td>2.13</td>\n",
              "      <td>12200</td>\n",
              "      <td>0</td>\n",
              "    </tr>\n",
              "    <tr>\n",
              "      <th>...</th>\n",
              "      <td>...</td>\n",
              "      <td>...</td>\n",
              "      <td>...</td>\n",
              "      <td>...</td>\n",
              "      <td>...</td>\n",
              "      <td>...</td>\n",
              "      <td>...</td>\n",
              "      <td>...</td>\n",
              "      <td>...</td>\n",
              "      <td>...</td>\n",
              "      <td>...</td>\n",
              "    </tr>\n",
              "    <tr>\n",
              "      <th>162</th>\n",
              "      <td>Vanuatu</td>\n",
              "      <td>29.2</td>\n",
              "      <td>46.6</td>\n",
              "      <td>5.25</td>\n",
              "      <td>52.7</td>\n",
              "      <td>2950</td>\n",
              "      <td>2.62</td>\n",
              "      <td>63.0</td>\n",
              "      <td>3.50</td>\n",
              "      <td>2970</td>\n",
              "      <td>0</td>\n",
              "    </tr>\n",
              "    <tr>\n",
              "      <th>163</th>\n",
              "      <td>Venezuela</td>\n",
              "      <td>17.1</td>\n",
              "      <td>28.5</td>\n",
              "      <td>4.91</td>\n",
              "      <td>17.6</td>\n",
              "      <td>16500</td>\n",
              "      <td>45.90</td>\n",
              "      <td>75.4</td>\n",
              "      <td>2.47</td>\n",
              "      <td>13500</td>\n",
              "      <td>0</td>\n",
              "    </tr>\n",
              "    <tr>\n",
              "      <th>164</th>\n",
              "      <td>Vietnam</td>\n",
              "      <td>23.3</td>\n",
              "      <td>72.0</td>\n",
              "      <td>6.84</td>\n",
              "      <td>80.2</td>\n",
              "      <td>4490</td>\n",
              "      <td>12.10</td>\n",
              "      <td>73.1</td>\n",
              "      <td>1.95</td>\n",
              "      <td>1310</td>\n",
              "      <td>0</td>\n",
              "    </tr>\n",
              "    <tr>\n",
              "      <th>165</th>\n",
              "      <td>Yemen</td>\n",
              "      <td>56.3</td>\n",
              "      <td>30.0</td>\n",
              "      <td>5.18</td>\n",
              "      <td>34.4</td>\n",
              "      <td>4480</td>\n",
              "      <td>23.60</td>\n",
              "      <td>67.5</td>\n",
              "      <td>4.67</td>\n",
              "      <td>1310</td>\n",
              "      <td>0</td>\n",
              "    </tr>\n",
              "    <tr>\n",
              "      <th>166</th>\n",
              "      <td>Zambia</td>\n",
              "      <td>83.1</td>\n",
              "      <td>37.0</td>\n",
              "      <td>5.89</td>\n",
              "      <td>30.9</td>\n",
              "      <td>3280</td>\n",
              "      <td>14.00</td>\n",
              "      <td>52.0</td>\n",
              "      <td>5.40</td>\n",
              "      <td>1460</td>\n",
              "      <td>0</td>\n",
              "    </tr>\n",
              "  </tbody>\n",
              "</table>\n",
              "<p>167 rows × 11 columns</p>\n",
              "</div>"
            ],
            "text/plain": [
              "                 country  child_mort  exports  ...  total_fer   gdpp  cluster\n",
              "0            Afghanistan        90.2     10.0  ...       5.82    553        0\n",
              "1                Albania        16.6     28.0  ...       1.65   4090        0\n",
              "2                Algeria        27.3     38.4  ...       2.89   4460        0\n",
              "3                 Angola       119.0     62.3  ...       6.16   3530        0\n",
              "4    Antigua and Barbuda        10.3     45.5  ...       2.13  12200        0\n",
              "..                   ...         ...      ...  ...        ...    ...      ...\n",
              "162              Vanuatu        29.2     46.6  ...       3.50   2970        0\n",
              "163            Venezuela        17.1     28.5  ...       2.47  13500        0\n",
              "164              Vietnam        23.3     72.0  ...       1.95   1310        0\n",
              "165                Yemen        56.3     30.0  ...       4.67   1310        0\n",
              "166               Zambia        83.1     37.0  ...       5.40   1460        0\n",
              "\n",
              "[167 rows x 11 columns]"
            ]
          },
          "metadata": {
            "tags": []
          },
          "execution_count": 13
        }
      ]
    },
    {
      "cell_type": "code",
      "metadata": {
        "id": "dszu_0wcOxd-"
      },
      "source": [
        "#plt.figure(figsize=(12,6))\n",
        "#sns.scatterplot(x = \"income\", y = \"health\",hue = \"cluster\", data = dataset_k)\n"
      ],
      "execution_count": 14,
      "outputs": []
    },
    {
      "cell_type": "code",
      "metadata": {
        "id": "R6RKBceytITc"
      },
      "source": [
        "import plotly.express as px"
      ],
      "execution_count": 15,
      "outputs": []
    },
    {
      "cell_type": "code",
      "metadata": {
        "colab": {
          "base_uri": "https://localhost:8080/"
        },
        "id": "FJIdzqrRiiMv",
        "outputId": "dadb4a11-baa8-4b8f-8590-595f0215db30"
      },
      "source": [
        "dataset_k[\"income\"][dataset_k[\"cluster\"]==1]"
      ],
      "execution_count": 16,
      "outputs": [
        {
          "output_type": "execute_result",
          "data": {
            "text/plain": [
              "23      80600\n",
              "82      75200\n",
              "91      91700\n",
              "114     62300\n",
              "123    125000\n",
              "133     72100\n",
              "145     55500\n",
              "Name: income, dtype: int64"
            ]
          },
          "metadata": {
            "tags": []
          },
          "execution_count": 16
        }
      ]
    },
    {
      "cell_type": "code",
      "metadata": {
        "colab": {
          "base_uri": "https://localhost:8080/",
          "height": 617
        },
        "id": "Uu4RtWKvtCXF",
        "outputId": "c93ae4fc-5ff3-4dcf-f685-615daebba60f"
      },
      "source": [
        "fig = px.scatter(dataset_k, x=\"income\", y=\"health\", color=\"cluster\",opacity=0.7,height=600, width=800)\n",
        "fig.update_traces(marker=dict(size=7,\n",
        "                              line=dict(width=1,\n",
        "                                        color='DarkSlateGrey')),\n",
        "                  selector=dict(mode='markers'))\n",
        "\n",
        "fig.add_shape(type=\"circle\",\n",
        "    xref=\"x\", yref=\"y\",\n",
        "    x0=min(dataset_k[\"income\"][dataset_k[\"cluster\"]==0]), y0=min(dataset_k[\"health\"][dataset_k[\"cluster\"]==0]),\n",
        "    x1=max(dataset_k[\"income\"][dataset_k[\"cluster\"]==0]), y1=max(dataset_k[\"health\"][dataset_k[\"cluster\"]==0]),\n",
        "    opacity=0.2,\n",
        "    fillcolor=\"blue\",\n",
        "    line_color=\"black\",\n",
        ")\n",
        "\n",
        "fig.add_shape(type=\"circle\",\n",
        "    xref=\"x\", yref=\"y\",\n",
        "    x0=min(dataset_k[\"income\"][dataset_k[\"cluster\"]==1]), y0=min(dataset_k[\"health\"][dataset_k[\"cluster\"]==1]),\n",
        "    x1=max(dataset_k[\"income\"][dataset_k[\"cluster\"]==1]), y1=max(dataset_k[\"health\"][dataset_k[\"cluster\"]==1]),\n",
        "    opacity=0.2,\n",
        "    fillcolor=\"green\",\n",
        "    line_color=\"black\",\n",
        ")\n",
        "\n",
        "fig.add_shape(type=\"circle\",\n",
        "    xref=\"x\", yref=\"y\",\n",
        "    x0=min(dataset_k[\"income\"][dataset_k[\"cluster\"]==2]), y0=min(dataset_k[\"health\"][dataset_k[\"cluster\"]==2]),\n",
        "    x1=max(dataset_k[\"income\"][dataset_k[\"cluster\"]==2]), y1=max(dataset_k[\"health\"][dataset_k[\"cluster\"]==2]),\n",
        "    opacity=0.2,\n",
        "    fillcolor=\"red\",\n",
        "    line_color=\"black\",\n",
        ")\n",
        "\n",
        "fig.update_layout(title_text='K-means 2D', title_x=0.5)\n",
        "fig.update_layout(legend=dict(\n",
        "    yanchor=\"top\",\n",
        "    y=0.99,\n",
        "    xanchor=\"right\",\n",
        "    x=0.99\n",
        "))\n",
        "fig.show()"
      ],
      "execution_count": 17,
      "outputs": [
        {
          "output_type": "display_data",
          "data": {
            "text/html": [
              "<html>\n",
              "<head><meta charset=\"utf-8\" /></head>\n",
              "<body>\n",
              "    <div>\n",
              "            <script src=\"https://cdnjs.cloudflare.com/ajax/libs/mathjax/2.7.5/MathJax.js?config=TeX-AMS-MML_SVG\"></script><script type=\"text/javascript\">if (window.MathJax) {MathJax.Hub.Config({SVG: {font: \"STIX-Web\"}});}</script>\n",
              "                <script type=\"text/javascript\">window.PlotlyConfig = {MathJaxConfig: 'local'};</script>\n",
              "        <script src=\"https://cdn.plot.ly/plotly-latest.min.js\"></script>    \n",
              "            <div id=\"fa0ed03c-a121-47ea-8ee1-06249d41cb6b\" class=\"plotly-graph-div\" style=\"height:600px; width:800px;\"></div>\n",
              "            <script type=\"text/javascript\">\n",
              "                \n",
              "                    window.PLOTLYENV=window.PLOTLYENV || {};\n",
              "                    \n",
              "                if (document.getElementById(\"fa0ed03c-a121-47ea-8ee1-06249d41cb6b\")) {\n",
              "                    Plotly.newPlot(\n",
              "                        'fa0ed03c-a121-47ea-8ee1-06249d41cb6b',\n",
              "                        [{\"hoverlabel\": {\"namelength\": 0}, \"hovertemplate\": \"cluster=0<br>income=%{x}<br>health=%{y}\", \"legendgroup\": \"cluster=0\", \"marker\": {\"color\": \"#636efa\", \"line\": {\"color\": \"DarkSlateGrey\", \"width\": 1}, \"opacity\": 0.7, \"size\": 7, \"symbol\": \"circle\"}, \"mode\": \"markers\", \"name\": \"cluster=0\", \"showlegend\": true, \"type\": \"scatter\", \"x\": [1610, 9930, 12900, 5900, 19100, 18700, 6700, 16000, 2440, 15300, 16200, 7880, 1820, 6420, 5410, 9720, 13300, 14500, 15300, 1430, 764, 2520, 2660, 5830, 888, 1930, 19400, 9530, 10900, 1410, 609, 5190, 13000, 2690, 20100, 11100, 9350, 9860, 7300, 1420, 22700, 7350, 15400, 1660, 6730, 3060, 11200, 6710, 1190, 1390, 5840, 1500, 22300, 4410, 8430, 17400, 12700, 8000, 9470, 20100, 2480, 1730, 2790, 3980, 18300, 16300, 2380, 700, 29600, 21100, 11400, 1390, 1030, 21100, 10500, 1870, 3320, 15900, 3340, 3910, 7710, 14000, 6440, 918, 3720, 8460, 1990, 814, 5150, 4280, 15400, 7290, 9960, 5600, 21800, 17800, 23100, 1350, 5400, 2180, 12700, 20400, 1220, 25200, 1780, 12000, 8560, 9920, 3370, 14200, 2110, 2090, 13500, 1850, 1210, 4980, 10400, 18000, 9940, 1540, 7820, 17100, 4240, 2950, 16500, 4490, 4480, 3280], \"xaxis\": \"x\", \"y\": [7.58, 6.55, 4.17, 2.85, 6.03, 8.1, 4.4, 5.88, 3.52, 7.97, 5.61, 5.2, 4.1, 5.2, 4.84, 11.1, 8.3, 9.01, 6.87, 6.74, 11.6, 5.68, 5.13, 4.09, 3.98, 4.53, 7.96, 5.07, 7.59, 4.51, 7.91, 2.46, 10.9, 5.3, 7.76, 6.22, 8.06, 4.66, 6.91, 2.66, 6.03, 4.86, 3.5, 5.69, 10.1, 5.22, 5.86, 6.85, 4.93, 8.5, 5.38, 6.91, 7.33, 4.05, 2.61, 5.6, 8.41, 4.81, 8.04, 4.29, 4.75, 11.3, 6.18, 4.47, 6.68, 7.03, 11.1, 11.8, 3.88, 7.04, 7.09, 3.77, 6.59, 4.39, 6.33, 4.98, 4.41, 6.0, 14.2, 11.7, 5.44, 9.11, 5.2, 5.21, 1.97, 6.78, 5.25, 5.16, 5.07, 2.2, 8.1, 5.87, 5.08, 3.61, 7.46, 5.58, 5.08, 10.5, 6.47, 5.66, 10.4, 3.4, 13.1, 8.79, 8.55, 8.94, 2.94, 4.47, 6.32, 7.01, 5.98, 6.01, 3.88, 9.12, 7.65, 5.07, 6.21, 6.74, 2.5, 9.01, 7.72, 8.35, 5.81, 5.25, 4.91, 6.84, 5.18, 5.89], \"yaxis\": \"y\"}, {\"hoverlabel\": {\"namelength\": 0}, \"hovertemplate\": \"cluster=2<br>income=%{x}<br>health=%{y}\", \"legendgroup\": \"cluster=2\", \"marker\": {\"color\": \"#EF553B\", \"line\": {\"color\": \"DarkSlateGrey\", \"width\": 1}, \"opacity\": 0.7, \"size\": 7, \"symbol\": \"circle\"}, \"mode\": \"markers\", \"name\": \"cluster=2\", \"showlegend\": true, \"type\": \"scatter\", \"x\": [41400, 43200, 22900, 41100, 41100, 40700, 33900, 28300, 44000, 33700, 39800, 36900, 40400, 28700, 38800, 45700, 29600, 36200, 35800, 28300, 45500, 32300, 45300, 27200, 45400, 28700, 30400, 32500, 42900, 57600, 36200, 49400], \"xaxis\": \"x\", \"y\": [8.73, 11.0, 7.89, 4.97, 10.7, 11.3, 5.97, 7.88, 11.4, 4.48, 8.95, 11.9, 11.6, 10.3, 9.4, 9.19, 7.63, 9.53, 9.49, 8.65, 11.9, 10.1, 2.77, 11.0, 4.29, 9.41, 6.93, 9.54, 9.63, 3.66, 9.64, 17.9], \"yaxis\": \"y\"}, {\"hoverlabel\": {\"namelength\": 0}, \"hovertemplate\": \"cluster=1<br>income=%{x}<br>health=%{y}\", \"legendgroup\": \"cluster=1\", \"marker\": {\"color\": \"#00cc96\", \"line\": {\"color\": \"DarkSlateGrey\", \"width\": 1}, \"opacity\": 0.7, \"size\": 7, \"symbol\": \"circle\"}, \"mode\": \"markers\", \"name\": \"cluster=1\", \"showlegend\": true, \"type\": \"scatter\", \"x\": [80600, 75200, 91700, 62300, 125000, 72100, 55500], \"xaxis\": \"x\", \"y\": [2.84, 2.63, 7.77, 9.48, 1.81, 3.96, 11.5], \"yaxis\": \"y\"}],\n",
              "                        {\"height\": 600, \"legend\": {\"tracegroupgap\": 0, \"x\": 0.99, \"xanchor\": \"right\", \"y\": 0.99, \"yanchor\": \"top\"}, \"margin\": {\"t\": 60}, \"shapes\": [{\"fillcolor\": \"blue\", \"line\": {\"color\": \"black\"}, \"opacity\": 0.2, \"type\": \"circle\", \"x0\": 609, \"x1\": 29600, \"xref\": \"x\", \"y0\": 1.97, \"y1\": 14.2, \"yref\": \"y\"}, {\"fillcolor\": \"green\", \"line\": {\"color\": \"black\"}, \"opacity\": 0.2, \"type\": \"circle\", \"x0\": 55500, \"x1\": 125000, \"xref\": \"x\", \"y0\": 1.81, \"y1\": 11.5, \"yref\": \"y\"}, {\"fillcolor\": \"red\", \"line\": {\"color\": \"black\"}, \"opacity\": 0.2, \"type\": \"circle\", \"x0\": 22900, \"x1\": 57600, \"xref\": \"x\", \"y0\": 2.77, \"y1\": 17.9, \"yref\": \"y\"}], \"template\": {\"data\": {\"bar\": [{\"error_x\": {\"color\": \"#2a3f5f\"}, \"error_y\": {\"color\": \"#2a3f5f\"}, \"marker\": {\"line\": {\"color\": \"#E5ECF6\", \"width\": 0.5}}, \"type\": \"bar\"}], \"barpolar\": [{\"marker\": {\"line\": {\"color\": \"#E5ECF6\", \"width\": 0.5}}, \"type\": \"barpolar\"}], \"carpet\": [{\"aaxis\": {\"endlinecolor\": \"#2a3f5f\", \"gridcolor\": \"white\", \"linecolor\": \"white\", \"minorgridcolor\": \"white\", \"startlinecolor\": \"#2a3f5f\"}, \"baxis\": {\"endlinecolor\": \"#2a3f5f\", \"gridcolor\": \"white\", \"linecolor\": \"white\", \"minorgridcolor\": \"white\", \"startlinecolor\": \"#2a3f5f\"}, \"type\": \"carpet\"}], \"choropleth\": [{\"colorbar\": {\"outlinewidth\": 0, \"ticks\": \"\"}, \"type\": \"choropleth\"}], \"contour\": [{\"colorbar\": {\"outlinewidth\": 0, \"ticks\": \"\"}, \"colorscale\": [[0.0, \"#0d0887\"], [0.1111111111111111, \"#46039f\"], [0.2222222222222222, \"#7201a8\"], [0.3333333333333333, \"#9c179e\"], [0.4444444444444444, \"#bd3786\"], [0.5555555555555556, \"#d8576b\"], [0.6666666666666666, \"#ed7953\"], [0.7777777777777778, \"#fb9f3a\"], [0.8888888888888888, \"#fdca26\"], [1.0, \"#f0f921\"]], \"type\": \"contour\"}], \"contourcarpet\": [{\"colorbar\": {\"outlinewidth\": 0, \"ticks\": \"\"}, \"type\": \"contourcarpet\"}], \"heatmap\": [{\"colorbar\": {\"outlinewidth\": 0, \"ticks\": \"\"}, \"colorscale\": [[0.0, \"#0d0887\"], [0.1111111111111111, \"#46039f\"], [0.2222222222222222, \"#7201a8\"], [0.3333333333333333, \"#9c179e\"], [0.4444444444444444, \"#bd3786\"], [0.5555555555555556, \"#d8576b\"], [0.6666666666666666, \"#ed7953\"], [0.7777777777777778, \"#fb9f3a\"], [0.8888888888888888, \"#fdca26\"], [1.0, \"#f0f921\"]], \"type\": \"heatmap\"}], \"heatmapgl\": [{\"colorbar\": {\"outlinewidth\": 0, \"ticks\": \"\"}, \"colorscale\": [[0.0, \"#0d0887\"], [0.1111111111111111, \"#46039f\"], [0.2222222222222222, \"#7201a8\"], [0.3333333333333333, \"#9c179e\"], [0.4444444444444444, \"#bd3786\"], [0.5555555555555556, \"#d8576b\"], [0.6666666666666666, \"#ed7953\"], [0.7777777777777778, \"#fb9f3a\"], [0.8888888888888888, \"#fdca26\"], [1.0, \"#f0f921\"]], \"type\": \"heatmapgl\"}], \"histogram\": [{\"marker\": {\"colorbar\": {\"outlinewidth\": 0, \"ticks\": \"\"}}, \"type\": \"histogram\"}], \"histogram2d\": [{\"colorbar\": {\"outlinewidth\": 0, \"ticks\": \"\"}, \"colorscale\": [[0.0, \"#0d0887\"], [0.1111111111111111, \"#46039f\"], [0.2222222222222222, \"#7201a8\"], [0.3333333333333333, \"#9c179e\"], [0.4444444444444444, \"#bd3786\"], [0.5555555555555556, \"#d8576b\"], [0.6666666666666666, \"#ed7953\"], [0.7777777777777778, \"#fb9f3a\"], [0.8888888888888888, \"#fdca26\"], [1.0, \"#f0f921\"]], \"type\": \"histogram2d\"}], \"histogram2dcontour\": [{\"colorbar\": {\"outlinewidth\": 0, \"ticks\": \"\"}, \"colorscale\": [[0.0, \"#0d0887\"], [0.1111111111111111, \"#46039f\"], [0.2222222222222222, \"#7201a8\"], [0.3333333333333333, \"#9c179e\"], [0.4444444444444444, \"#bd3786\"], [0.5555555555555556, \"#d8576b\"], [0.6666666666666666, \"#ed7953\"], [0.7777777777777778, \"#fb9f3a\"], [0.8888888888888888, \"#fdca26\"], [1.0, \"#f0f921\"]], \"type\": \"histogram2dcontour\"}], \"mesh3d\": [{\"colorbar\": {\"outlinewidth\": 0, \"ticks\": \"\"}, \"type\": \"mesh3d\"}], \"parcoords\": [{\"line\": {\"colorbar\": {\"outlinewidth\": 0, \"ticks\": \"\"}}, \"type\": \"parcoords\"}], \"pie\": [{\"automargin\": true, \"type\": \"pie\"}], \"scatter\": [{\"marker\": {\"colorbar\": {\"outlinewidth\": 0, \"ticks\": \"\"}}, \"type\": \"scatter\"}], \"scatter3d\": [{\"line\": {\"colorbar\": {\"outlinewidth\": 0, \"ticks\": \"\"}}, \"marker\": {\"colorbar\": {\"outlinewidth\": 0, \"ticks\": \"\"}}, \"type\": \"scatter3d\"}], \"scattercarpet\": [{\"marker\": {\"colorbar\": {\"outlinewidth\": 0, \"ticks\": \"\"}}, \"type\": \"scattercarpet\"}], \"scattergeo\": [{\"marker\": {\"colorbar\": {\"outlinewidth\": 0, \"ticks\": \"\"}}, \"type\": \"scattergeo\"}], \"scattergl\": [{\"marker\": {\"colorbar\": {\"outlinewidth\": 0, \"ticks\": \"\"}}, \"type\": \"scattergl\"}], \"scattermapbox\": [{\"marker\": {\"colorbar\": {\"outlinewidth\": 0, \"ticks\": \"\"}}, \"type\": \"scattermapbox\"}], \"scatterpolar\": [{\"marker\": {\"colorbar\": {\"outlinewidth\": 0, \"ticks\": \"\"}}, \"type\": \"scatterpolar\"}], \"scatterpolargl\": [{\"marker\": {\"colorbar\": {\"outlinewidth\": 0, \"ticks\": \"\"}}, \"type\": \"scatterpolargl\"}], \"scatterternary\": [{\"marker\": {\"colorbar\": {\"outlinewidth\": 0, \"ticks\": \"\"}}, \"type\": \"scatterternary\"}], \"surface\": [{\"colorbar\": {\"outlinewidth\": 0, \"ticks\": \"\"}, \"colorscale\": [[0.0, \"#0d0887\"], [0.1111111111111111, \"#46039f\"], [0.2222222222222222, \"#7201a8\"], [0.3333333333333333, \"#9c179e\"], [0.4444444444444444, \"#bd3786\"], [0.5555555555555556, \"#d8576b\"], [0.6666666666666666, \"#ed7953\"], [0.7777777777777778, \"#fb9f3a\"], [0.8888888888888888, \"#fdca26\"], [1.0, \"#f0f921\"]], \"type\": \"surface\"}], \"table\": [{\"cells\": {\"fill\": {\"color\": \"#EBF0F8\"}, \"line\": {\"color\": \"white\"}}, \"header\": {\"fill\": {\"color\": \"#C8D4E3\"}, \"line\": {\"color\": \"white\"}}, \"type\": \"table\"}]}, \"layout\": {\"annotationdefaults\": {\"arrowcolor\": \"#2a3f5f\", \"arrowhead\": 0, \"arrowwidth\": 1}, \"coloraxis\": {\"colorbar\": {\"outlinewidth\": 0, \"ticks\": \"\"}}, \"colorscale\": {\"diverging\": [[0, \"#8e0152\"], [0.1, \"#c51b7d\"], [0.2, \"#de77ae\"], [0.3, \"#f1b6da\"], [0.4, \"#fde0ef\"], [0.5, \"#f7f7f7\"], [0.6, \"#e6f5d0\"], [0.7, \"#b8e186\"], [0.8, \"#7fbc41\"], [0.9, \"#4d9221\"], [1, \"#276419\"]], \"sequential\": [[0.0, \"#0d0887\"], [0.1111111111111111, \"#46039f\"], [0.2222222222222222, \"#7201a8\"], [0.3333333333333333, \"#9c179e\"], [0.4444444444444444, \"#bd3786\"], [0.5555555555555556, \"#d8576b\"], [0.6666666666666666, \"#ed7953\"], [0.7777777777777778, \"#fb9f3a\"], [0.8888888888888888, \"#fdca26\"], [1.0, \"#f0f921\"]], \"sequentialminus\": [[0.0, \"#0d0887\"], [0.1111111111111111, \"#46039f\"], [0.2222222222222222, \"#7201a8\"], [0.3333333333333333, \"#9c179e\"], [0.4444444444444444, \"#bd3786\"], [0.5555555555555556, \"#d8576b\"], [0.6666666666666666, \"#ed7953\"], [0.7777777777777778, \"#fb9f3a\"], [0.8888888888888888, \"#fdca26\"], [1.0, \"#f0f921\"]]}, \"colorway\": [\"#636efa\", \"#EF553B\", \"#00cc96\", \"#ab63fa\", \"#FFA15A\", \"#19d3f3\", \"#FF6692\", \"#B6E880\", \"#FF97FF\", \"#FECB52\"], \"font\": {\"color\": \"#2a3f5f\"}, \"geo\": {\"bgcolor\": \"white\", \"lakecolor\": \"white\", \"landcolor\": \"#E5ECF6\", \"showlakes\": true, \"showland\": true, \"subunitcolor\": \"white\"}, \"hoverlabel\": {\"align\": \"left\"}, \"hovermode\": \"closest\", \"mapbox\": {\"style\": \"light\"}, \"paper_bgcolor\": \"white\", \"plot_bgcolor\": \"#E5ECF6\", \"polar\": {\"angularaxis\": {\"gridcolor\": \"white\", \"linecolor\": \"white\", \"ticks\": \"\"}, \"bgcolor\": \"#E5ECF6\", \"radialaxis\": {\"gridcolor\": \"white\", \"linecolor\": \"white\", \"ticks\": \"\"}}, \"scene\": {\"xaxis\": {\"backgroundcolor\": \"#E5ECF6\", \"gridcolor\": \"white\", \"gridwidth\": 2, \"linecolor\": \"white\", \"showbackground\": true, \"ticks\": \"\", \"zerolinecolor\": \"white\"}, \"yaxis\": {\"backgroundcolor\": \"#E5ECF6\", \"gridcolor\": \"white\", \"gridwidth\": 2, \"linecolor\": \"white\", \"showbackground\": true, \"ticks\": \"\", \"zerolinecolor\": \"white\"}, \"zaxis\": {\"backgroundcolor\": \"#E5ECF6\", \"gridcolor\": \"white\", \"gridwidth\": 2, \"linecolor\": \"white\", \"showbackground\": true, \"ticks\": \"\", \"zerolinecolor\": \"white\"}}, \"shapedefaults\": {\"line\": {\"color\": \"#2a3f5f\"}}, \"ternary\": {\"aaxis\": {\"gridcolor\": \"white\", \"linecolor\": \"white\", \"ticks\": \"\"}, \"baxis\": {\"gridcolor\": \"white\", \"linecolor\": \"white\", \"ticks\": \"\"}, \"bgcolor\": \"#E5ECF6\", \"caxis\": {\"gridcolor\": \"white\", \"linecolor\": \"white\", \"ticks\": \"\"}}, \"title\": {\"x\": 0.05}, \"xaxis\": {\"automargin\": true, \"gridcolor\": \"white\", \"linecolor\": \"white\", \"ticks\": \"\", \"title\": {\"standoff\": 15}, \"zerolinecolor\": \"white\", \"zerolinewidth\": 2}, \"yaxis\": {\"automargin\": true, \"gridcolor\": \"white\", \"linecolor\": \"white\", \"ticks\": \"\", \"title\": {\"standoff\": 15}, \"zerolinecolor\": \"white\", \"zerolinewidth\": 2}}}, \"title\": {\"text\": \"K-means 2D\", \"x\": 0.5}, \"width\": 800, \"xaxis\": {\"anchor\": \"y\", \"domain\": [0.0, 1.0], \"title\": {\"text\": \"income\"}}, \"yaxis\": {\"anchor\": \"x\", \"domain\": [0.0, 1.0], \"title\": {\"text\": \"health\"}}},\n",
              "                        {\"responsive\": true}\n",
              "                    ).then(function(){\n",
              "                            \n",
              "var gd = document.getElementById('fa0ed03c-a121-47ea-8ee1-06249d41cb6b');\n",
              "var x = new MutationObserver(function (mutations, observer) {{\n",
              "        var display = window.getComputedStyle(gd).display;\n",
              "        if (!display || display === 'none') {{\n",
              "            console.log([gd, 'removed!']);\n",
              "            Plotly.purge(gd);\n",
              "            observer.disconnect();\n",
              "        }}\n",
              "}});\n",
              "\n",
              "// Listen for the removal of the full notebook cells\n",
              "var notebookContainer = gd.closest('#notebook-container');\n",
              "if (notebookContainer) {{\n",
              "    x.observe(notebookContainer, {childList: true});\n",
              "}}\n",
              "\n",
              "// Listen for the clearing of the current output cell\n",
              "var outputEl = gd.closest('.output');\n",
              "if (outputEl) {{\n",
              "    x.observe(outputEl, {childList: true});\n",
              "}}\n",
              "\n",
              "                        })\n",
              "                };\n",
              "                \n",
              "            </script>\n",
              "        </div>\n",
              "</body>\n",
              "</html>"
            ]
          },
          "metadata": {
            "tags": []
          }
        }
      ]
    },
    {
      "cell_type": "code",
      "metadata": {
        "colab": {
          "base_uri": "https://localhost:8080/",
          "height": 542
        },
        "id": "7x_wbTO3QuM2",
        "outputId": "3658c1b9-998a-4211-ea72-c79498a847da"
      },
      "source": [
        "fig = px.scatter_3d(dataset_k, x = \"income\", y = \"health\", z='child_mort',\n",
        "              color='cluster',symbol='cluster',opacity=0.7)\n",
        "fig.update_traces(marker=dict(size=5,\n",
        "                              line=dict(width=2,\n",
        "                                        color='DarkSlateGrey')),\n",
        "                  selector=dict(mode='markers'))\n",
        "fig.update_layout(margin=dict(l=0, r=0, b=0, t=0))\n",
        "fig.update_layout(legend=dict(\n",
        "    yanchor=\"top\",\n",
        "    y=0.90,\n",
        "    xanchor=\"right\",\n",
        "    x=0.75\n",
        "))\n",
        "fig.show()"
      ],
      "execution_count": 18,
      "outputs": [
        {
          "output_type": "display_data",
          "data": {
            "text/html": [
              "<html>\n",
              "<head><meta charset=\"utf-8\" /></head>\n",
              "<body>\n",
              "    <div>\n",
              "            <script src=\"https://cdnjs.cloudflare.com/ajax/libs/mathjax/2.7.5/MathJax.js?config=TeX-AMS-MML_SVG\"></script><script type=\"text/javascript\">if (window.MathJax) {MathJax.Hub.Config({SVG: {font: \"STIX-Web\"}});}</script>\n",
              "                <script type=\"text/javascript\">window.PlotlyConfig = {MathJaxConfig: 'local'};</script>\n",
              "        <script src=\"https://cdn.plot.ly/plotly-latest.min.js\"></script>    \n",
              "            <div id=\"ac74dfa0-ff67-47f9-9a93-b46505c5e033\" class=\"plotly-graph-div\" style=\"height:525px; width:100%;\"></div>\n",
              "            <script type=\"text/javascript\">\n",
              "                \n",
              "                    window.PLOTLYENV=window.PLOTLYENV || {};\n",
              "                    \n",
              "                if (document.getElementById(\"ac74dfa0-ff67-47f9-9a93-b46505c5e033\")) {\n",
              "                    Plotly.newPlot(\n",
              "                        'ac74dfa0-ff67-47f9-9a93-b46505c5e033',\n",
              "                        [{\"hoverlabel\": {\"namelength\": 0}, \"hovertemplate\": \"cluster=0<br>income=%{x}<br>health=%{y}<br>child_mort=%{z}\", \"legendgroup\": \"cluster=0\", \"marker\": {\"color\": \"#636efa\", \"line\": {\"color\": \"DarkSlateGrey\", \"width\": 2}, \"opacity\": 0.7, \"size\": 5, \"symbol\": \"circle\"}, \"mode\": \"markers\", \"name\": \"cluster=0\", \"scene\": \"scene\", \"showlegend\": true, \"type\": \"scatter3d\", \"x\": [1610, 9930, 12900, 5900, 19100, 18700, 6700, 16000, 2440, 15300, 16200, 7880, 1820, 6420, 5410, 9720, 13300, 14500, 15300, 1430, 764, 2520, 2660, 5830, 888, 1930, 19400, 9530, 10900, 1410, 609, 5190, 13000, 2690, 20100, 11100, 9350, 9860, 7300, 1420, 22700, 7350, 15400, 1660, 6730, 3060, 11200, 6710, 1190, 1390, 5840, 1500, 22300, 4410, 8430, 17400, 12700, 8000, 9470, 20100, 2480, 1730, 2790, 3980, 18300, 16300, 2380, 700, 29600, 21100, 11400, 1390, 1030, 21100, 10500, 1870, 3320, 15900, 3340, 3910, 7710, 14000, 6440, 918, 3720, 8460, 1990, 814, 5150, 4280, 15400, 7290, 9960, 5600, 21800, 17800, 23100, 1350, 5400, 2180, 12700, 20400, 1220, 25200, 1780, 12000, 8560, 9920, 3370, 14200, 2110, 2090, 13500, 1850, 1210, 4980, 10400, 18000, 9940, 1540, 7820, 17100, 4240, 2950, 16500, 4490, 4480, 3280], \"y\": [7.58, 6.55, 4.17, 2.85, 6.03, 8.1, 4.4, 5.88, 3.52, 7.97, 5.61, 5.2, 4.1, 5.2, 4.84, 11.1, 8.3, 9.01, 6.87, 6.74, 11.6, 5.68, 5.13, 4.09, 3.98, 4.53, 7.96, 5.07, 7.59, 4.51, 7.91, 2.46, 10.9, 5.3, 7.76, 6.22, 8.06, 4.66, 6.91, 2.66, 6.03, 4.86, 3.5, 5.69, 10.1, 5.22, 5.86, 6.85, 4.93, 8.5, 5.38, 6.91, 7.33, 4.05, 2.61, 5.6, 8.41, 4.81, 8.04, 4.29, 4.75, 11.3, 6.18, 4.47, 6.68, 7.03, 11.1, 11.8, 3.88, 7.04, 7.09, 3.77, 6.59, 4.39, 6.33, 4.98, 4.41, 6.0, 14.2, 11.7, 5.44, 9.11, 5.2, 5.21, 1.97, 6.78, 5.25, 5.16, 5.07, 2.2, 8.1, 5.87, 5.08, 3.61, 7.46, 5.58, 5.08, 10.5, 6.47, 5.66, 10.4, 3.4, 13.1, 8.79, 8.55, 8.94, 2.94, 4.47, 6.32, 7.01, 5.98, 6.01, 3.88, 9.12, 7.65, 5.07, 6.21, 6.74, 2.5, 9.01, 7.72, 8.35, 5.81, 5.25, 4.91, 6.84, 5.18, 5.89], \"z\": [90.2, 16.6, 27.3, 119.0, 10.3, 14.5, 18.1, 39.2, 49.4, 14.2, 5.5, 18.8, 111.0, 42.7, 46.6, 6.9, 52.5, 19.8, 10.8, 116.0, 93.6, 44.4, 108.0, 26.5, 149.0, 150.0, 8.7, 15.7, 18.6, 88.2, 116.0, 63.9, 10.2, 111.0, 5.5, 34.4, 25.1, 29.1, 19.2, 55.2, 4.5, 24.1, 63.7, 80.3, 16.5, 74.7, 14.6, 35.4, 109.0, 114.0, 37.6, 208.0, 6.0, 58.8, 33.3, 19.3, 36.9, 18.1, 21.1, 21.5, 62.2, 62.7, 29.6, 78.9, 7.8, 10.3, 99.7, 89.3, 16.6, 6.1, 10.4, 62.2, 90.5, 7.9, 13.2, 137.0, 97.4, 15.0, 40.0, 17.2, 26.1, 6.8, 33.5, 101.0, 64.4, 56.0, 47.0, 123.0, 130.0, 92.1, 19.7, 24.1, 20.3, 31.9, 6.0, 11.5, 10.0, 63.6, 18.9, 66.8, 7.6, 14.4, 160.0, 7.0, 28.1, 53.7, 11.2, 20.7, 76.7, 24.1, 52.4, 71.9, 14.9, 62.6, 90.3, 17.4, 17.4, 19.1, 62.0, 81.0, 11.7, 10.6, 36.3, 29.2, 17.1, 23.3, 56.3, 83.1]}, {\"hoverlabel\": {\"namelength\": 0}, \"hovertemplate\": \"cluster=2<br>income=%{x}<br>health=%{y}<br>child_mort=%{z}\", \"legendgroup\": \"cluster=2\", \"marker\": {\"color\": \"#EF553B\", \"line\": {\"color\": \"DarkSlateGrey\", \"width\": 2}, \"opacity\": 0.7, \"size\": 5, \"symbol\": \"diamond\"}, \"mode\": \"markers\", \"name\": \"cluster=2\", \"scene\": \"scene\", \"showlegend\": true, \"type\": \"scatter3d\", \"x\": [41400, 43200, 22900, 41100, 41100, 40700, 33900, 28300, 44000, 33700, 39800, 36900, 40400, 28700, 38800, 45700, 29600, 36200, 35800, 28300, 45500, 32300, 45300, 27200, 45400, 28700, 30400, 32500, 42900, 57600, 36200, 49400], \"y\": [8.73, 11.0, 7.89, 4.97, 10.7, 11.3, 5.97, 7.88, 11.4, 4.48, 8.95, 11.9, 11.6, 10.3, 9.4, 9.19, 7.63, 9.53, 9.49, 8.65, 11.9, 10.1, 2.77, 11.0, 4.29, 9.41, 6.93, 9.54, 9.63, 3.66, 9.64, 17.9], \"z\": [4.8, 4.3, 13.8, 8.6, 4.5, 5.6, 3.6, 3.4, 4.1, 111.0, 3.0, 4.2, 4.2, 3.9, 2.6, 4.2, 4.6, 4.0, 3.2, 6.8, 4.5, 6.2, 11.7, 3.9, 15.7, 3.2, 4.1, 3.8, 3.0, 8.6, 5.2, 7.3]}, {\"hoverlabel\": {\"namelength\": 0}, \"hovertemplate\": \"cluster=1<br>income=%{x}<br>health=%{y}<br>child_mort=%{z}\", \"legendgroup\": \"cluster=1\", \"marker\": {\"color\": \"#00cc96\", \"line\": {\"color\": \"DarkSlateGrey\", \"width\": 2}, \"opacity\": 0.7, \"size\": 5, \"symbol\": \"square\"}, \"mode\": \"markers\", \"name\": \"cluster=1\", \"scene\": \"scene\", \"showlegend\": true, \"type\": \"scatter3d\", \"x\": [80600, 75200, 91700, 62300, 125000, 72100, 55500], \"y\": [2.84, 2.63, 7.77, 9.48, 1.81, 3.96, 11.5], \"z\": [10.5, 10.8, 2.8, 3.2, 9.0, 2.8, 4.5]}],\n",
              "                        {\"legend\": {\"tracegroupgap\": 0, \"x\": 0.75, \"xanchor\": \"right\", \"y\": 0.9, \"yanchor\": \"top\"}, \"margin\": {\"b\": 0, \"l\": 0, \"r\": 0, \"t\": 0}, \"scene\": {\"domain\": {\"x\": [0.0, 1.0], \"y\": [0.0, 1.0]}, \"xaxis\": {\"title\": {\"text\": \"income\"}}, \"yaxis\": {\"title\": {\"text\": \"health\"}}, \"zaxis\": {\"title\": {\"text\": \"child_mort\"}}}, \"template\": {\"data\": {\"bar\": [{\"error_x\": {\"color\": \"#2a3f5f\"}, \"error_y\": {\"color\": \"#2a3f5f\"}, \"marker\": {\"line\": {\"color\": \"#E5ECF6\", \"width\": 0.5}}, \"type\": \"bar\"}], \"barpolar\": [{\"marker\": {\"line\": {\"color\": \"#E5ECF6\", \"width\": 0.5}}, \"type\": \"barpolar\"}], \"carpet\": [{\"aaxis\": {\"endlinecolor\": \"#2a3f5f\", \"gridcolor\": \"white\", \"linecolor\": \"white\", \"minorgridcolor\": \"white\", \"startlinecolor\": \"#2a3f5f\"}, \"baxis\": {\"endlinecolor\": \"#2a3f5f\", \"gridcolor\": \"white\", \"linecolor\": \"white\", \"minorgridcolor\": \"white\", \"startlinecolor\": \"#2a3f5f\"}, \"type\": \"carpet\"}], \"choropleth\": [{\"colorbar\": {\"outlinewidth\": 0, \"ticks\": \"\"}, \"type\": \"choropleth\"}], \"contour\": [{\"colorbar\": {\"outlinewidth\": 0, \"ticks\": \"\"}, \"colorscale\": [[0.0, \"#0d0887\"], [0.1111111111111111, \"#46039f\"], [0.2222222222222222, \"#7201a8\"], [0.3333333333333333, \"#9c179e\"], [0.4444444444444444, \"#bd3786\"], [0.5555555555555556, \"#d8576b\"], [0.6666666666666666, \"#ed7953\"], [0.7777777777777778, \"#fb9f3a\"], [0.8888888888888888, \"#fdca26\"], [1.0, \"#f0f921\"]], \"type\": \"contour\"}], \"contourcarpet\": [{\"colorbar\": {\"outlinewidth\": 0, \"ticks\": \"\"}, \"type\": \"contourcarpet\"}], \"heatmap\": [{\"colorbar\": {\"outlinewidth\": 0, \"ticks\": \"\"}, \"colorscale\": [[0.0, \"#0d0887\"], [0.1111111111111111, \"#46039f\"], [0.2222222222222222, \"#7201a8\"], [0.3333333333333333, \"#9c179e\"], [0.4444444444444444, \"#bd3786\"], [0.5555555555555556, \"#d8576b\"], [0.6666666666666666, \"#ed7953\"], [0.7777777777777778, \"#fb9f3a\"], [0.8888888888888888, \"#fdca26\"], [1.0, \"#f0f921\"]], \"type\": \"heatmap\"}], \"heatmapgl\": [{\"colorbar\": {\"outlinewidth\": 0, \"ticks\": \"\"}, \"colorscale\": [[0.0, \"#0d0887\"], [0.1111111111111111, \"#46039f\"], [0.2222222222222222, \"#7201a8\"], [0.3333333333333333, \"#9c179e\"], [0.4444444444444444, \"#bd3786\"], [0.5555555555555556, \"#d8576b\"], [0.6666666666666666, \"#ed7953\"], [0.7777777777777778, \"#fb9f3a\"], [0.8888888888888888, \"#fdca26\"], [1.0, \"#f0f921\"]], \"type\": \"heatmapgl\"}], \"histogram\": [{\"marker\": {\"colorbar\": {\"outlinewidth\": 0, \"ticks\": \"\"}}, \"type\": \"histogram\"}], \"histogram2d\": [{\"colorbar\": {\"outlinewidth\": 0, \"ticks\": \"\"}, \"colorscale\": [[0.0, \"#0d0887\"], [0.1111111111111111, \"#46039f\"], [0.2222222222222222, \"#7201a8\"], [0.3333333333333333, \"#9c179e\"], [0.4444444444444444, \"#bd3786\"], [0.5555555555555556, \"#d8576b\"], [0.6666666666666666, \"#ed7953\"], [0.7777777777777778, \"#fb9f3a\"], [0.8888888888888888, \"#fdca26\"], [1.0, \"#f0f921\"]], \"type\": \"histogram2d\"}], \"histogram2dcontour\": [{\"colorbar\": {\"outlinewidth\": 0, \"ticks\": \"\"}, \"colorscale\": [[0.0, \"#0d0887\"], [0.1111111111111111, \"#46039f\"], [0.2222222222222222, \"#7201a8\"], [0.3333333333333333, \"#9c179e\"], [0.4444444444444444, \"#bd3786\"], [0.5555555555555556, \"#d8576b\"], [0.6666666666666666, \"#ed7953\"], [0.7777777777777778, \"#fb9f3a\"], [0.8888888888888888, \"#fdca26\"], [1.0, \"#f0f921\"]], \"type\": \"histogram2dcontour\"}], \"mesh3d\": [{\"colorbar\": {\"outlinewidth\": 0, \"ticks\": \"\"}, \"type\": \"mesh3d\"}], \"parcoords\": [{\"line\": {\"colorbar\": {\"outlinewidth\": 0, \"ticks\": \"\"}}, \"type\": \"parcoords\"}], \"pie\": [{\"automargin\": true, \"type\": \"pie\"}], \"scatter\": [{\"marker\": {\"colorbar\": {\"outlinewidth\": 0, \"ticks\": \"\"}}, \"type\": \"scatter\"}], \"scatter3d\": [{\"line\": {\"colorbar\": {\"outlinewidth\": 0, \"ticks\": \"\"}}, \"marker\": {\"colorbar\": {\"outlinewidth\": 0, \"ticks\": \"\"}}, \"type\": \"scatter3d\"}], \"scattercarpet\": [{\"marker\": {\"colorbar\": {\"outlinewidth\": 0, \"ticks\": \"\"}}, \"type\": \"scattercarpet\"}], \"scattergeo\": [{\"marker\": {\"colorbar\": {\"outlinewidth\": 0, \"ticks\": \"\"}}, \"type\": \"scattergeo\"}], \"scattergl\": [{\"marker\": {\"colorbar\": {\"outlinewidth\": 0, \"ticks\": \"\"}}, \"type\": \"scattergl\"}], \"scattermapbox\": [{\"marker\": {\"colorbar\": {\"outlinewidth\": 0, \"ticks\": \"\"}}, \"type\": \"scattermapbox\"}], \"scatterpolar\": [{\"marker\": {\"colorbar\": {\"outlinewidth\": 0, \"ticks\": \"\"}}, \"type\": \"scatterpolar\"}], \"scatterpolargl\": [{\"marker\": {\"colorbar\": {\"outlinewidth\": 0, \"ticks\": \"\"}}, \"type\": \"scatterpolargl\"}], \"scatterternary\": [{\"marker\": {\"colorbar\": {\"outlinewidth\": 0, \"ticks\": \"\"}}, \"type\": \"scatterternary\"}], \"surface\": [{\"colorbar\": {\"outlinewidth\": 0, \"ticks\": \"\"}, \"colorscale\": [[0.0, \"#0d0887\"], [0.1111111111111111, \"#46039f\"], [0.2222222222222222, \"#7201a8\"], [0.3333333333333333, \"#9c179e\"], [0.4444444444444444, \"#bd3786\"], [0.5555555555555556, \"#d8576b\"], [0.6666666666666666, \"#ed7953\"], [0.7777777777777778, \"#fb9f3a\"], [0.8888888888888888, \"#fdca26\"], [1.0, \"#f0f921\"]], \"type\": \"surface\"}], \"table\": [{\"cells\": {\"fill\": {\"color\": \"#EBF0F8\"}, \"line\": {\"color\": \"white\"}}, \"header\": {\"fill\": {\"color\": \"#C8D4E3\"}, \"line\": {\"color\": \"white\"}}, \"type\": \"table\"}]}, \"layout\": {\"annotationdefaults\": {\"arrowcolor\": \"#2a3f5f\", \"arrowhead\": 0, \"arrowwidth\": 1}, \"coloraxis\": {\"colorbar\": {\"outlinewidth\": 0, \"ticks\": \"\"}}, \"colorscale\": {\"diverging\": [[0, \"#8e0152\"], [0.1, \"#c51b7d\"], [0.2, \"#de77ae\"], [0.3, \"#f1b6da\"], [0.4, \"#fde0ef\"], [0.5, \"#f7f7f7\"], [0.6, \"#e6f5d0\"], [0.7, \"#b8e186\"], [0.8, \"#7fbc41\"], [0.9, \"#4d9221\"], [1, \"#276419\"]], \"sequential\": [[0.0, \"#0d0887\"], [0.1111111111111111, \"#46039f\"], [0.2222222222222222, \"#7201a8\"], [0.3333333333333333, \"#9c179e\"], [0.4444444444444444, \"#bd3786\"], [0.5555555555555556, \"#d8576b\"], [0.6666666666666666, \"#ed7953\"], [0.7777777777777778, \"#fb9f3a\"], [0.8888888888888888, \"#fdca26\"], [1.0, \"#f0f921\"]], \"sequentialminus\": [[0.0, \"#0d0887\"], [0.1111111111111111, \"#46039f\"], [0.2222222222222222, \"#7201a8\"], [0.3333333333333333, \"#9c179e\"], [0.4444444444444444, \"#bd3786\"], [0.5555555555555556, \"#d8576b\"], [0.6666666666666666, \"#ed7953\"], [0.7777777777777778, \"#fb9f3a\"], [0.8888888888888888, \"#fdca26\"], [1.0, \"#f0f921\"]]}, \"colorway\": [\"#636efa\", \"#EF553B\", \"#00cc96\", \"#ab63fa\", \"#FFA15A\", \"#19d3f3\", \"#FF6692\", \"#B6E880\", \"#FF97FF\", \"#FECB52\"], \"font\": {\"color\": \"#2a3f5f\"}, \"geo\": {\"bgcolor\": \"white\", \"lakecolor\": \"white\", \"landcolor\": \"#E5ECF6\", \"showlakes\": true, \"showland\": true, \"subunitcolor\": \"white\"}, \"hoverlabel\": {\"align\": \"left\"}, \"hovermode\": \"closest\", \"mapbox\": {\"style\": \"light\"}, \"paper_bgcolor\": \"white\", \"plot_bgcolor\": \"#E5ECF6\", \"polar\": {\"angularaxis\": {\"gridcolor\": \"white\", \"linecolor\": \"white\", \"ticks\": \"\"}, \"bgcolor\": \"#E5ECF6\", \"radialaxis\": {\"gridcolor\": \"white\", \"linecolor\": \"white\", \"ticks\": \"\"}}, \"scene\": {\"xaxis\": {\"backgroundcolor\": \"#E5ECF6\", \"gridcolor\": \"white\", \"gridwidth\": 2, \"linecolor\": \"white\", \"showbackground\": true, \"ticks\": \"\", \"zerolinecolor\": \"white\"}, \"yaxis\": {\"backgroundcolor\": \"#E5ECF6\", \"gridcolor\": \"white\", \"gridwidth\": 2, \"linecolor\": \"white\", \"showbackground\": true, \"ticks\": \"\", \"zerolinecolor\": \"white\"}, \"zaxis\": {\"backgroundcolor\": \"#E5ECF6\", \"gridcolor\": \"white\", \"gridwidth\": 2, \"linecolor\": \"white\", \"showbackground\": true, \"ticks\": \"\", \"zerolinecolor\": \"white\"}}, \"shapedefaults\": {\"line\": {\"color\": \"#2a3f5f\"}}, \"ternary\": {\"aaxis\": {\"gridcolor\": \"white\", \"linecolor\": \"white\", \"ticks\": \"\"}, \"baxis\": {\"gridcolor\": \"white\", \"linecolor\": \"white\", \"ticks\": \"\"}, \"bgcolor\": \"#E5ECF6\", \"caxis\": {\"gridcolor\": \"white\", \"linecolor\": \"white\", \"ticks\": \"\"}}, \"title\": {\"x\": 0.05}, \"xaxis\": {\"automargin\": true, \"gridcolor\": \"white\", \"linecolor\": \"white\", \"ticks\": \"\", \"title\": {\"standoff\": 15}, \"zerolinecolor\": \"white\", \"zerolinewidth\": 2}, \"yaxis\": {\"automargin\": true, \"gridcolor\": \"white\", \"linecolor\": \"white\", \"ticks\": \"\", \"title\": {\"standoff\": 15}, \"zerolinecolor\": \"white\", \"zerolinewidth\": 2}}}},\n",
              "                        {\"responsive\": true}\n",
              "                    ).then(function(){\n",
              "                            \n",
              "var gd = document.getElementById('ac74dfa0-ff67-47f9-9a93-b46505c5e033');\n",
              "var x = new MutationObserver(function (mutations, observer) {{\n",
              "        var display = window.getComputedStyle(gd).display;\n",
              "        if (!display || display === 'none') {{\n",
              "            console.log([gd, 'removed!']);\n",
              "            Plotly.purge(gd);\n",
              "            observer.disconnect();\n",
              "        }}\n",
              "}});\n",
              "\n",
              "// Listen for the removal of the full notebook cells\n",
              "var notebookContainer = gd.closest('#notebook-container');\n",
              "if (notebookContainer) {{\n",
              "    x.observe(notebookContainer, {childList: true});\n",
              "}}\n",
              "\n",
              "// Listen for the clearing of the current output cell\n",
              "var outputEl = gd.closest('.output');\n",
              "if (outputEl) {{\n",
              "    x.observe(outputEl, {childList: true});\n",
              "}}\n",
              "\n",
              "                        })\n",
              "                };\n",
              "                \n",
              "            </script>\n",
              "        </div>\n",
              "</body>\n",
              "</html>"
            ]
          },
          "metadata": {
            "tags": []
          }
        }
      ]
    },
    {
      "cell_type": "markdown",
      "metadata": {
        "id": "gLThzMIALHrc"
      },
      "source": [
        "## Fuzzy C-means"
      ]
    },
    {
      "cell_type": "code",
      "metadata": {
        "colab": {
          "base_uri": "https://localhost:8080/"
        },
        "id": "Px3Psg-HSPNK",
        "outputId": "763767c8-bb22-4a64-aba3-01cff0d168a0"
      },
      "source": [
        "%pip install fuzzy-c-means"
      ],
      "execution_count": 19,
      "outputs": [
        {
          "output_type": "stream",
          "text": [
            "Requirement already satisfied: fuzzy-c-means in /usr/local/lib/python3.7/dist-packages (1.2.4)\n",
            "Requirement already satisfied: jaxlib<0.2.0,>=0.1.57 in /usr/local/lib/python3.7/dist-packages (from fuzzy-c-means) (0.1.66+cuda110)\n",
            "Requirement already satisfied: jax<0.3.0,>=0.2.7 in /usr/local/lib/python3.7/dist-packages (from fuzzy-c-means) (0.2.13)\n",
            "Requirement already satisfied: flatbuffers in /usr/local/lib/python3.7/dist-packages (from jaxlib<0.2.0,>=0.1.57->fuzzy-c-means) (1.12)\n",
            "Requirement already satisfied: absl-py in /usr/local/lib/python3.7/dist-packages (from jaxlib<0.2.0,>=0.1.57->fuzzy-c-means) (0.12.0)\n",
            "Requirement already satisfied: numpy>=1.16 in /usr/local/lib/python3.7/dist-packages (from jaxlib<0.2.0,>=0.1.57->fuzzy-c-means) (1.19.5)\n",
            "Requirement already satisfied: scipy in /usr/local/lib/python3.7/dist-packages (from jaxlib<0.2.0,>=0.1.57->fuzzy-c-means) (1.4.1)\n",
            "Requirement already satisfied: opt-einsum in /usr/local/lib/python3.7/dist-packages (from jax<0.3.0,>=0.2.7->fuzzy-c-means) (3.3.0)\n",
            "Requirement already satisfied: six in /usr/local/lib/python3.7/dist-packages (from absl-py->jaxlib<0.2.0,>=0.1.57->fuzzy-c-means) (1.15.0)\n"
          ],
          "name": "stdout"
        }
      ]
    },
    {
      "cell_type": "code",
      "metadata": {
        "id": "mHTukbjXOsJY"
      },
      "source": [
        "import fcmeans\n",
        "from fcmeans import FCM"
      ],
      "execution_count": 20,
      "outputs": []
    },
    {
      "cell_type": "code",
      "metadata": {
        "id": "L3c1FDaPU78H"
      },
      "source": [
        "X_normal_np = X_normal.to_numpy()"
      ],
      "execution_count": 21,
      "outputs": []
    },
    {
      "cell_type": "code",
      "metadata": {
        "id": "kDhApRhJSk1r",
        "colab": {
          "base_uri": "https://localhost:8080/"
        },
        "outputId": "92482ae3-99b6-4f1a-ea85-303964c7dcb4"
      },
      "source": [
        "fcm = FCM(n_clusters=3)\n",
        "fcm.fit(X_normal_np)"
      ],
      "execution_count": 22,
      "outputs": [
        {
          "output_type": "stream",
          "text": [
            "WARNING:absl:No GPU/TPU found, falling back to CPU. (Set TF_CPP_MIN_LOG_LEVEL=0 and rerun for more info.)\n"
          ],
          "name": "stderr"
        }
      ]
    },
    {
      "cell_type": "code",
      "metadata": {
        "id": "Lu8FLp87SyxH"
      },
      "source": [
        "fcm_centers = fcm.centers\n",
        "fcm_labels = fcm.predict(X_normal_np)"
      ],
      "execution_count": 23,
      "outputs": []
    },
    {
      "cell_type": "code",
      "metadata": {
        "colab": {
          "base_uri": "https://localhost:8080/"
        },
        "id": "bOQLY9RnUKNx",
        "outputId": "8275ac98-1126-4817-f9b1-6251a81ff71f"
      },
      "source": [
        "fcm_labels"
      ],
      "execution_count": 24,
      "outputs": [
        {
          "output_type": "execute_result",
          "data": {
            "text/plain": [
              "DeviceArray([1, 2, 2, 1, 2, 2, 2, 0, 0, 2, 0, 0, 2, 2, 2, 0, 2, 1, 2, 2,\n",
              "             2, 2, 2, 0, 2, 1, 1, 2, 1, 0, 2, 1, 1, 2, 2, 2, 1, 1, 1, 0,\n",
              "             1, 2, 0, 0, 0, 2, 2, 2, 2, 1, 1, 2, 2, 0, 0, 1, 1, 2, 0, 1,\n",
              "             0, 2, 2, 1, 1, 2, 1, 2, 0, 2, 2, 2, 1, 0, 0, 0, 2, 0, 2, 2,\n",
              "             1, 1, 0, 2, 1, 2, 2, 1, 1, 2, 2, 0, 2, 1, 1, 2, 2, 1, 0, 1,\n",
              "             2, 2, 2, 2, 2, 2, 1, 2, 1, 2, 0, 0, 1, 1, 0, 2, 1, 2, 2, 2,\n",
              "             2, 2, 0, 0, 2, 2, 1, 2, 2, 1, 2, 2, 1, 0, 0, 0, 1, 2, 0, 0,\n",
              "             2, 2, 1, 2, 0, 0, 2, 1, 2, 1, 1, 2, 2, 2, 2, 1, 2, 0, 0, 0,\n",
              "             2, 2, 2, 2, 2, 1, 1], dtype=int32)"
            ]
          },
          "metadata": {
            "tags": []
          },
          "execution_count": 24
        }
      ]
    },
    {
      "cell_type": "code",
      "metadata": {
        "id": "_5jb_4WwUqkh"
      },
      "source": [
        "dataset_c =dataset.copy()\n",
        "dataset_c[\"cluster\"] = fcm_labels\n",
        "dataset_c[\"cluster\"] = dataset_c[\"cluster\"].astype(\"category\")"
      ],
      "execution_count": 25,
      "outputs": []
    },
    {
      "cell_type": "code",
      "metadata": {
        "id": "myFRVBbqVcvC"
      },
      "source": [
        "#plt.figure(figsize=(12,6))\n",
        "#sns.scatterplot(x = \"income\", y = \"health\",hue = \"cluster\", data = dataset_c)"
      ],
      "execution_count": 26,
      "outputs": []
    },
    {
      "cell_type": "code",
      "metadata": {
        "colab": {
          "base_uri": "https://localhost:8080/",
          "height": 617
        },
        "id": "rA4oyfBktqGK",
        "outputId": "3ed4b960-ea15-4ee6-f972-a08f5da55352"
      },
      "source": [
        "fig = px.scatter(dataset_c, x=\"income\", y=\"health\", color=\"cluster\",opacity=0.7,height=600, width=800)\n",
        "fig.update_traces(marker=dict(size=7,\n",
        "                              line=dict(width=1,\n",
        "                                        color='DarkSlateGrey')),\n",
        "                  selector=dict(mode='markers'))\n",
        "\n",
        "fig.add_shape(type=\"circle\",\n",
        "    xref=\"x\", yref=\"y\",\n",
        "    x0=min(dataset_c[\"income\"][dataset_c[\"cluster\"]==0]), y0=min(dataset_c[\"health\"][dataset_c[\"cluster\"]==0]),\n",
        "    x1=max(dataset_c[\"income\"][dataset_c[\"cluster\"]==0]), y1=max(dataset_c[\"health\"][dataset_c[\"cluster\"]==0]),\n",
        "    opacity=0.2,\n",
        "    fillcolor=\"green\",\n",
        "    line_color=\"black\",\n",
        ")\n",
        "\n",
        "fig.add_shape(type=\"circle\",\n",
        "    xref=\"x\", yref=\"y\",\n",
        "    x0=min(dataset_c[\"income\"][dataset_c[\"cluster\"]==1]), y0=min(dataset_c[\"health\"][dataset_c[\"cluster\"]==1]),\n",
        "    x1=max(dataset_c[\"income\"][dataset_c[\"cluster\"]==1]), y1=max(dataset_c[\"health\"][dataset_c[\"cluster\"]==1]),\n",
        "    opacity=0.2,\n",
        "    fillcolor=\"blue\",\n",
        "    line_color=\"black\",\n",
        ")\n",
        "\n",
        "fig.add_shape(type=\"circle\",\n",
        "    xref=\"x\", yref=\"y\",\n",
        "    x0=min(dataset_c[\"income\"][dataset_c[\"cluster\"]==2]), y0=min(dataset_c[\"health\"][dataset_c[\"cluster\"]==2]),\n",
        "    x1=max(dataset_c[\"income\"][dataset_c[\"cluster\"]==2]), y1=max(dataset_c[\"health\"][dataset_c[\"cluster\"]==2]),\n",
        "    opacity=0.2,\n",
        "    fillcolor=\"red\",\n",
        "    line_color=\"black\",\n",
        ")\n",
        "\n",
        "fig.update_layout(title_text='Fuzzy C-means 2D', title_x=0.5)\n",
        "fig.update_layout(legend=dict(\n",
        "    yanchor=\"top\",\n",
        "    y=0.99,\n",
        "    xanchor=\"right\",\n",
        "    x=0.99\n",
        "))\n",
        "fig.show()"
      ],
      "execution_count": 27,
      "outputs": [
        {
          "output_type": "display_data",
          "data": {
            "text/html": [
              "<html>\n",
              "<head><meta charset=\"utf-8\" /></head>\n",
              "<body>\n",
              "    <div>\n",
              "            <script src=\"https://cdnjs.cloudflare.com/ajax/libs/mathjax/2.7.5/MathJax.js?config=TeX-AMS-MML_SVG\"></script><script type=\"text/javascript\">if (window.MathJax) {MathJax.Hub.Config({SVG: {font: \"STIX-Web\"}});}</script>\n",
              "                <script type=\"text/javascript\">window.PlotlyConfig = {MathJaxConfig: 'local'};</script>\n",
              "        <script src=\"https://cdn.plot.ly/plotly-latest.min.js\"></script>    \n",
              "            <div id=\"bc9ae143-b77d-4b51-9501-a1c85a0d2aac\" class=\"plotly-graph-div\" style=\"height:600px; width:800px;\"></div>\n",
              "            <script type=\"text/javascript\">\n",
              "                \n",
              "                    window.PLOTLYENV=window.PLOTLYENV || {};\n",
              "                    \n",
              "                if (document.getElementById(\"bc9ae143-b77d-4b51-9501-a1c85a0d2aac\")) {\n",
              "                    Plotly.newPlot(\n",
              "                        'bc9ae143-b77d-4b51-9501-a1c85a0d2aac',\n",
              "                        [{\"hoverlabel\": {\"namelength\": 0}, \"hovertemplate\": \"cluster=1<br>income=%{x}<br>health=%{y}\", \"legendgroup\": \"cluster=1\", \"marker\": {\"color\": \"#636efa\", \"line\": {\"color\": \"DarkSlateGrey\", \"width\": 1}, \"opacity\": 0.7, \"size\": 7, \"symbol\": \"circle\"}, \"mode\": \"markers\", \"name\": \"cluster=1\", \"showlegend\": true, \"type\": \"scatter\", \"x\": [1610, 5900, 1820, 1430, 764, 2660, 888, 1930, 1410, 609, 5190, 2690, 33700, 1420, 15400, 1660, 3060, 1190, 1390, 1500, 12700, 2480, 1730, 3980, 2380, 700, 1390, 1030, 1870, 3320, 918, 8460, 814, 5150, 4280, 1350, 2180, 1220, 1780, 3370, 2090, 1850, 1210, 1540, 4480, 3280], \"xaxis\": \"x\", \"y\": [7.58, 2.85, 4.1, 6.74, 11.6, 5.13, 3.98, 4.53, 4.51, 7.91, 2.46, 5.3, 4.48, 2.66, 3.5, 5.69, 5.22, 4.93, 8.5, 6.91, 8.41, 4.75, 11.3, 4.47, 11.1, 11.8, 3.77, 6.59, 4.98, 4.41, 5.21, 6.78, 5.16, 5.07, 2.2, 10.5, 5.66, 13.1, 8.55, 6.32, 6.01, 9.12, 7.65, 9.01, 5.18, 5.89], \"yaxis\": \"y\"}, {\"hoverlabel\": {\"namelength\": 0}, \"hovertemplate\": \"cluster=2<br>income=%{x}<br>health=%{y}\", \"legendgroup\": \"cluster=2\", \"marker\": {\"color\": \"#EF553B\", \"line\": {\"color\": \"DarkSlateGrey\", \"width\": 1}, \"opacity\": 0.7, \"size\": 7, \"symbol\": \"circle\"}, \"mode\": \"markers\", \"name\": \"cluster=2\", \"showlegend\": true, \"type\": \"scatter\", \"x\": [9930, 12900, 19100, 18700, 6700, 16000, 2440, 15300, 16200, 7880, 6420, 5410, 9720, 13300, 14500, 15300, 2520, 5830, 19400, 9530, 10900, 20100, 11100, 9350, 9860, 7300, 22700, 7350, 6730, 11200, 6710, 5840, 22300, 4410, 8430, 17400, 8000, 9470, 20100, 2790, 18300, 16300, 29600, 21100, 11400, 21100, 10500, 15900, 3340, 3910, 7710, 14000, 6440, 3720, 1990, 45300, 15400, 7290, 9960, 5600, 21800, 17800, 23100, 5400, 45400, 12700, 20400, 12000, 8560, 9920, 14200, 2110, 13500, 4980, 10400, 18000, 9940, 7820, 17100, 4240, 2950, 16500, 4490], \"xaxis\": \"x\", \"y\": [6.55, 4.17, 6.03, 8.1, 4.4, 5.88, 3.52, 7.97, 5.61, 5.2, 5.2, 4.84, 11.1, 8.3, 9.01, 6.87, 5.68, 4.09, 7.96, 5.07, 7.59, 7.76, 6.22, 8.06, 4.66, 6.91, 6.03, 4.86, 10.1, 5.86, 6.85, 5.38, 7.33, 4.05, 2.61, 5.6, 4.81, 8.04, 4.29, 6.18, 6.68, 7.03, 3.88, 7.04, 7.09, 4.39, 6.33, 6.0, 14.2, 11.7, 5.44, 9.11, 5.2, 1.97, 5.25, 2.77, 8.1, 5.87, 5.08, 3.61, 7.46, 5.58, 5.08, 6.47, 4.29, 10.4, 3.4, 8.94, 2.94, 4.47, 7.01, 5.98, 3.88, 5.07, 6.21, 6.74, 2.5, 7.72, 8.35, 5.81, 5.25, 4.91, 6.84], \"yaxis\": \"y\"}, {\"hoverlabel\": {\"namelength\": 0}, \"hovertemplate\": \"cluster=0<br>income=%{x}<br>health=%{y}\", \"legendgroup\": \"cluster=0\", \"marker\": {\"color\": \"#00cc96\", \"line\": {\"color\": \"DarkSlateGrey\", \"width\": 1}, \"opacity\": 0.7, \"size\": 7, \"symbol\": \"circle\"}, \"mode\": \"markers\", \"name\": \"cluster=0\", \"showlegend\": true, \"type\": \"scatter\", \"x\": [41400, 43200, 22900, 41100, 41100, 80600, 40700, 13000, 33900, 28300, 44000, 39800, 36900, 40400, 28700, 38800, 45700, 29600, 36200, 35800, 75200, 91700, 28300, 45500, 32300, 62300, 27200, 125000, 72100, 25200, 28700, 30400, 32500, 42900, 55500, 57600, 36200, 49400], \"xaxis\": \"x\", \"y\": [8.73, 11.0, 7.89, 4.97, 10.7, 2.84, 11.3, 10.9, 5.97, 7.88, 11.4, 8.95, 11.9, 11.6, 10.3, 9.4, 9.19, 7.63, 9.53, 9.49, 2.63, 7.77, 8.65, 11.9, 10.1, 9.48, 11.0, 1.81, 3.96, 8.79, 9.41, 6.93, 9.54, 9.63, 11.5, 3.66, 9.64, 17.9], \"yaxis\": \"y\"}],\n",
              "                        {\"height\": 600, \"legend\": {\"tracegroupgap\": 0, \"x\": 0.99, \"xanchor\": \"right\", \"y\": 0.99, \"yanchor\": \"top\"}, \"margin\": {\"t\": 60}, \"shapes\": [{\"fillcolor\": \"green\", \"line\": {\"color\": \"black\"}, \"opacity\": 0.2, \"type\": \"circle\", \"x0\": 13000, \"x1\": 125000, \"xref\": \"x\", \"y0\": 1.81, \"y1\": 17.9, \"yref\": \"y\"}, {\"fillcolor\": \"blue\", \"line\": {\"color\": \"black\"}, \"opacity\": 0.2, \"type\": \"circle\", \"x0\": 609, \"x1\": 33700, \"xref\": \"x\", \"y0\": 2.2, \"y1\": 13.1, \"yref\": \"y\"}, {\"fillcolor\": \"red\", \"line\": {\"color\": \"black\"}, \"opacity\": 0.2, \"type\": \"circle\", \"x0\": 1990, \"x1\": 45400, \"xref\": \"x\", \"y0\": 1.97, \"y1\": 14.2, \"yref\": \"y\"}], \"template\": {\"data\": {\"bar\": [{\"error_x\": {\"color\": \"#2a3f5f\"}, \"error_y\": {\"color\": \"#2a3f5f\"}, \"marker\": {\"line\": {\"color\": \"#E5ECF6\", \"width\": 0.5}}, \"type\": \"bar\"}], \"barpolar\": [{\"marker\": {\"line\": {\"color\": \"#E5ECF6\", \"width\": 0.5}}, \"type\": \"barpolar\"}], \"carpet\": [{\"aaxis\": {\"endlinecolor\": \"#2a3f5f\", \"gridcolor\": \"white\", \"linecolor\": \"white\", \"minorgridcolor\": \"white\", \"startlinecolor\": \"#2a3f5f\"}, \"baxis\": {\"endlinecolor\": \"#2a3f5f\", \"gridcolor\": \"white\", \"linecolor\": \"white\", \"minorgridcolor\": \"white\", \"startlinecolor\": \"#2a3f5f\"}, \"type\": \"carpet\"}], \"choropleth\": [{\"colorbar\": {\"outlinewidth\": 0, \"ticks\": \"\"}, \"type\": \"choropleth\"}], \"contour\": [{\"colorbar\": {\"outlinewidth\": 0, \"ticks\": \"\"}, \"colorscale\": [[0.0, \"#0d0887\"], [0.1111111111111111, \"#46039f\"], [0.2222222222222222, \"#7201a8\"], [0.3333333333333333, \"#9c179e\"], [0.4444444444444444, \"#bd3786\"], [0.5555555555555556, \"#d8576b\"], [0.6666666666666666, \"#ed7953\"], [0.7777777777777778, \"#fb9f3a\"], [0.8888888888888888, \"#fdca26\"], [1.0, \"#f0f921\"]], \"type\": \"contour\"}], \"contourcarpet\": [{\"colorbar\": {\"outlinewidth\": 0, \"ticks\": \"\"}, \"type\": \"contourcarpet\"}], \"heatmap\": [{\"colorbar\": {\"outlinewidth\": 0, \"ticks\": \"\"}, \"colorscale\": [[0.0, \"#0d0887\"], [0.1111111111111111, \"#46039f\"], [0.2222222222222222, \"#7201a8\"], [0.3333333333333333, \"#9c179e\"], [0.4444444444444444, \"#bd3786\"], [0.5555555555555556, \"#d8576b\"], [0.6666666666666666, \"#ed7953\"], [0.7777777777777778, \"#fb9f3a\"], [0.8888888888888888, \"#fdca26\"], [1.0, \"#f0f921\"]], \"type\": \"heatmap\"}], \"heatmapgl\": [{\"colorbar\": {\"outlinewidth\": 0, \"ticks\": \"\"}, \"colorscale\": [[0.0, \"#0d0887\"], [0.1111111111111111, \"#46039f\"], [0.2222222222222222, \"#7201a8\"], [0.3333333333333333, \"#9c179e\"], [0.4444444444444444, \"#bd3786\"], [0.5555555555555556, \"#d8576b\"], [0.6666666666666666, \"#ed7953\"], [0.7777777777777778, \"#fb9f3a\"], [0.8888888888888888, \"#fdca26\"], [1.0, \"#f0f921\"]], \"type\": \"heatmapgl\"}], \"histogram\": [{\"marker\": {\"colorbar\": {\"outlinewidth\": 0, \"ticks\": \"\"}}, \"type\": \"histogram\"}], \"histogram2d\": [{\"colorbar\": {\"outlinewidth\": 0, \"ticks\": \"\"}, \"colorscale\": [[0.0, \"#0d0887\"], [0.1111111111111111, \"#46039f\"], [0.2222222222222222, \"#7201a8\"], [0.3333333333333333, \"#9c179e\"], [0.4444444444444444, \"#bd3786\"], [0.5555555555555556, \"#d8576b\"], [0.6666666666666666, \"#ed7953\"], [0.7777777777777778, \"#fb9f3a\"], [0.8888888888888888, \"#fdca26\"], [1.0, \"#f0f921\"]], \"type\": \"histogram2d\"}], \"histogram2dcontour\": [{\"colorbar\": {\"outlinewidth\": 0, \"ticks\": \"\"}, \"colorscale\": [[0.0, \"#0d0887\"], [0.1111111111111111, \"#46039f\"], [0.2222222222222222, \"#7201a8\"], [0.3333333333333333, \"#9c179e\"], [0.4444444444444444, \"#bd3786\"], [0.5555555555555556, \"#d8576b\"], [0.6666666666666666, \"#ed7953\"], [0.7777777777777778, \"#fb9f3a\"], [0.8888888888888888, \"#fdca26\"], [1.0, \"#f0f921\"]], \"type\": \"histogram2dcontour\"}], \"mesh3d\": [{\"colorbar\": {\"outlinewidth\": 0, \"ticks\": \"\"}, \"type\": \"mesh3d\"}], \"parcoords\": [{\"line\": {\"colorbar\": {\"outlinewidth\": 0, \"ticks\": \"\"}}, \"type\": \"parcoords\"}], \"pie\": [{\"automargin\": true, \"type\": \"pie\"}], \"scatter\": [{\"marker\": {\"colorbar\": {\"outlinewidth\": 0, \"ticks\": \"\"}}, \"type\": \"scatter\"}], \"scatter3d\": [{\"line\": {\"colorbar\": {\"outlinewidth\": 0, \"ticks\": \"\"}}, \"marker\": {\"colorbar\": {\"outlinewidth\": 0, \"ticks\": \"\"}}, \"type\": \"scatter3d\"}], \"scattercarpet\": [{\"marker\": {\"colorbar\": {\"outlinewidth\": 0, \"ticks\": \"\"}}, \"type\": \"scattercarpet\"}], \"scattergeo\": [{\"marker\": {\"colorbar\": {\"outlinewidth\": 0, \"ticks\": \"\"}}, \"type\": \"scattergeo\"}], \"scattergl\": [{\"marker\": {\"colorbar\": {\"outlinewidth\": 0, \"ticks\": \"\"}}, \"type\": \"scattergl\"}], \"scattermapbox\": [{\"marker\": {\"colorbar\": {\"outlinewidth\": 0, \"ticks\": \"\"}}, \"type\": \"scattermapbox\"}], \"scatterpolar\": [{\"marker\": {\"colorbar\": {\"outlinewidth\": 0, \"ticks\": \"\"}}, \"type\": \"scatterpolar\"}], \"scatterpolargl\": [{\"marker\": {\"colorbar\": {\"outlinewidth\": 0, \"ticks\": \"\"}}, \"type\": \"scatterpolargl\"}], \"scatterternary\": [{\"marker\": {\"colorbar\": {\"outlinewidth\": 0, \"ticks\": \"\"}}, \"type\": \"scatterternary\"}], \"surface\": [{\"colorbar\": {\"outlinewidth\": 0, \"ticks\": \"\"}, \"colorscale\": [[0.0, \"#0d0887\"], [0.1111111111111111, \"#46039f\"], [0.2222222222222222, \"#7201a8\"], [0.3333333333333333, \"#9c179e\"], [0.4444444444444444, \"#bd3786\"], [0.5555555555555556, \"#d8576b\"], [0.6666666666666666, \"#ed7953\"], [0.7777777777777778, \"#fb9f3a\"], [0.8888888888888888, \"#fdca26\"], [1.0, \"#f0f921\"]], \"type\": \"surface\"}], \"table\": [{\"cells\": {\"fill\": {\"color\": \"#EBF0F8\"}, \"line\": {\"color\": \"white\"}}, \"header\": {\"fill\": {\"color\": \"#C8D4E3\"}, \"line\": {\"color\": \"white\"}}, \"type\": \"table\"}]}, \"layout\": {\"annotationdefaults\": {\"arrowcolor\": \"#2a3f5f\", \"arrowhead\": 0, \"arrowwidth\": 1}, \"coloraxis\": {\"colorbar\": {\"outlinewidth\": 0, \"ticks\": \"\"}}, \"colorscale\": {\"diverging\": [[0, \"#8e0152\"], [0.1, \"#c51b7d\"], [0.2, \"#de77ae\"], [0.3, \"#f1b6da\"], [0.4, \"#fde0ef\"], [0.5, \"#f7f7f7\"], [0.6, \"#e6f5d0\"], [0.7, \"#b8e186\"], [0.8, \"#7fbc41\"], [0.9, \"#4d9221\"], [1, \"#276419\"]], \"sequential\": [[0.0, \"#0d0887\"], [0.1111111111111111, \"#46039f\"], [0.2222222222222222, \"#7201a8\"], [0.3333333333333333, \"#9c179e\"], [0.4444444444444444, \"#bd3786\"], [0.5555555555555556, \"#d8576b\"], [0.6666666666666666, \"#ed7953\"], [0.7777777777777778, \"#fb9f3a\"], [0.8888888888888888, \"#fdca26\"], [1.0, \"#f0f921\"]], \"sequentialminus\": [[0.0, \"#0d0887\"], [0.1111111111111111, \"#46039f\"], [0.2222222222222222, \"#7201a8\"], [0.3333333333333333, \"#9c179e\"], [0.4444444444444444, \"#bd3786\"], [0.5555555555555556, \"#d8576b\"], [0.6666666666666666, \"#ed7953\"], [0.7777777777777778, \"#fb9f3a\"], [0.8888888888888888, \"#fdca26\"], [1.0, \"#f0f921\"]]}, \"colorway\": [\"#636efa\", \"#EF553B\", \"#00cc96\", \"#ab63fa\", \"#FFA15A\", \"#19d3f3\", \"#FF6692\", \"#B6E880\", \"#FF97FF\", \"#FECB52\"], \"font\": {\"color\": \"#2a3f5f\"}, \"geo\": {\"bgcolor\": \"white\", \"lakecolor\": \"white\", \"landcolor\": \"#E5ECF6\", \"showlakes\": true, \"showland\": true, \"subunitcolor\": \"white\"}, \"hoverlabel\": {\"align\": \"left\"}, \"hovermode\": \"closest\", \"mapbox\": {\"style\": \"light\"}, \"paper_bgcolor\": \"white\", \"plot_bgcolor\": \"#E5ECF6\", \"polar\": {\"angularaxis\": {\"gridcolor\": \"white\", \"linecolor\": \"white\", \"ticks\": \"\"}, \"bgcolor\": \"#E5ECF6\", \"radialaxis\": {\"gridcolor\": \"white\", \"linecolor\": \"white\", \"ticks\": \"\"}}, \"scene\": {\"xaxis\": {\"backgroundcolor\": \"#E5ECF6\", \"gridcolor\": \"white\", \"gridwidth\": 2, \"linecolor\": \"white\", \"showbackground\": true, \"ticks\": \"\", \"zerolinecolor\": \"white\"}, \"yaxis\": {\"backgroundcolor\": \"#E5ECF6\", \"gridcolor\": \"white\", \"gridwidth\": 2, \"linecolor\": \"white\", \"showbackground\": true, \"ticks\": \"\", \"zerolinecolor\": \"white\"}, \"zaxis\": {\"backgroundcolor\": \"#E5ECF6\", \"gridcolor\": \"white\", \"gridwidth\": 2, \"linecolor\": \"white\", \"showbackground\": true, \"ticks\": \"\", \"zerolinecolor\": \"white\"}}, \"shapedefaults\": {\"line\": {\"color\": \"#2a3f5f\"}}, \"ternary\": {\"aaxis\": {\"gridcolor\": \"white\", \"linecolor\": \"white\", \"ticks\": \"\"}, \"baxis\": {\"gridcolor\": \"white\", \"linecolor\": \"white\", \"ticks\": \"\"}, \"bgcolor\": \"#E5ECF6\", \"caxis\": {\"gridcolor\": \"white\", \"linecolor\": \"white\", \"ticks\": \"\"}}, \"title\": {\"x\": 0.05}, \"xaxis\": {\"automargin\": true, \"gridcolor\": \"white\", \"linecolor\": \"white\", \"ticks\": \"\", \"title\": {\"standoff\": 15}, \"zerolinecolor\": \"white\", \"zerolinewidth\": 2}, \"yaxis\": {\"automargin\": true, \"gridcolor\": \"white\", \"linecolor\": \"white\", \"ticks\": \"\", \"title\": {\"standoff\": 15}, \"zerolinecolor\": \"white\", \"zerolinewidth\": 2}}}, \"title\": {\"text\": \"Fuzzy C-means 2D\", \"x\": 0.5}, \"width\": 800, \"xaxis\": {\"anchor\": \"y\", \"domain\": [0.0, 1.0], \"title\": {\"text\": \"income\"}}, \"yaxis\": {\"anchor\": \"x\", \"domain\": [0.0, 1.0], \"title\": {\"text\": \"health\"}}},\n",
              "                        {\"responsive\": true}\n",
              "                    ).then(function(){\n",
              "                            \n",
              "var gd = document.getElementById('bc9ae143-b77d-4b51-9501-a1c85a0d2aac');\n",
              "var x = new MutationObserver(function (mutations, observer) {{\n",
              "        var display = window.getComputedStyle(gd).display;\n",
              "        if (!display || display === 'none') {{\n",
              "            console.log([gd, 'removed!']);\n",
              "            Plotly.purge(gd);\n",
              "            observer.disconnect();\n",
              "        }}\n",
              "}});\n",
              "\n",
              "// Listen for the removal of the full notebook cells\n",
              "var notebookContainer = gd.closest('#notebook-container');\n",
              "if (notebookContainer) {{\n",
              "    x.observe(notebookContainer, {childList: true});\n",
              "}}\n",
              "\n",
              "// Listen for the clearing of the current output cell\n",
              "var outputEl = gd.closest('.output');\n",
              "if (outputEl) {{\n",
              "    x.observe(outputEl, {childList: true});\n",
              "}}\n",
              "\n",
              "                        })\n",
              "                };\n",
              "                \n",
              "            </script>\n",
              "        </div>\n",
              "</body>\n",
              "</html>"
            ]
          },
          "metadata": {
            "tags": []
          }
        }
      ]
    },
    {
      "cell_type": "code",
      "metadata": {
        "colab": {
          "base_uri": "https://localhost:8080/",
          "height": 542
        },
        "id": "ACUqupt3VgnF",
        "outputId": "fd98d889-aca8-4c4f-e7fc-25241450bf11"
      },
      "source": [
        "fig = px.scatter_3d(dataset_c, x = \"income\", y = \"health\", z='child_mort',\n",
        "              color='cluster',symbol='cluster',opacity=0.7)\n",
        "fig.update_traces(marker=dict(size=5,\n",
        "                              line=dict(width=2,\n",
        "                                        color='DarkSlateGrey')),\n",
        "                  selector=dict(mode='markers'))\n",
        "fig.update_layout(margin=dict(l=0, r=0, b=0, t=0))\n",
        "fig.update_layout(legend=dict(\n",
        "    yanchor=\"top\",\n",
        "    y=0.90,\n",
        "    xanchor=\"right\",\n",
        "    x=0.75\n",
        "))\n",
        "fig.show()"
      ],
      "execution_count": 28,
      "outputs": [
        {
          "output_type": "display_data",
          "data": {
            "text/html": [
              "<html>\n",
              "<head><meta charset=\"utf-8\" /></head>\n",
              "<body>\n",
              "    <div>\n",
              "            <script src=\"https://cdnjs.cloudflare.com/ajax/libs/mathjax/2.7.5/MathJax.js?config=TeX-AMS-MML_SVG\"></script><script type=\"text/javascript\">if (window.MathJax) {MathJax.Hub.Config({SVG: {font: \"STIX-Web\"}});}</script>\n",
              "                <script type=\"text/javascript\">window.PlotlyConfig = {MathJaxConfig: 'local'};</script>\n",
              "        <script src=\"https://cdn.plot.ly/plotly-latest.min.js\"></script>    \n",
              "            <div id=\"b837987e-c6ad-493f-960e-a92527c5aaff\" class=\"plotly-graph-div\" style=\"height:525px; width:100%;\"></div>\n",
              "            <script type=\"text/javascript\">\n",
              "                \n",
              "                    window.PLOTLYENV=window.PLOTLYENV || {};\n",
              "                    \n",
              "                if (document.getElementById(\"b837987e-c6ad-493f-960e-a92527c5aaff\")) {\n",
              "                    Plotly.newPlot(\n",
              "                        'b837987e-c6ad-493f-960e-a92527c5aaff',\n",
              "                        [{\"hoverlabel\": {\"namelength\": 0}, \"hovertemplate\": \"cluster=1<br>income=%{x}<br>health=%{y}<br>child_mort=%{z}\", \"legendgroup\": \"cluster=1\", \"marker\": {\"color\": \"#636efa\", \"line\": {\"color\": \"DarkSlateGrey\", \"width\": 2}, \"opacity\": 0.7, \"size\": 5, \"symbol\": \"circle\"}, \"mode\": \"markers\", \"name\": \"cluster=1\", \"scene\": \"scene\", \"showlegend\": true, \"type\": \"scatter3d\", \"x\": [1610, 5900, 1820, 1430, 764, 2660, 888, 1930, 1410, 609, 5190, 2690, 33700, 1420, 15400, 1660, 3060, 1190, 1390, 1500, 12700, 2480, 1730, 3980, 2380, 700, 1390, 1030, 1870, 3320, 918, 8460, 814, 5150, 4280, 1350, 2180, 1220, 1780, 3370, 2090, 1850, 1210, 1540, 4480, 3280], \"y\": [7.58, 2.85, 4.1, 6.74, 11.6, 5.13, 3.98, 4.53, 4.51, 7.91, 2.46, 5.3, 4.48, 2.66, 3.5, 5.69, 5.22, 4.93, 8.5, 6.91, 8.41, 4.75, 11.3, 4.47, 11.1, 11.8, 3.77, 6.59, 4.98, 4.41, 5.21, 6.78, 5.16, 5.07, 2.2, 10.5, 5.66, 13.1, 8.55, 6.32, 6.01, 9.12, 7.65, 9.01, 5.18, 5.89], \"z\": [90.2, 119.0, 111.0, 116.0, 93.6, 108.0, 149.0, 150.0, 88.2, 116.0, 63.9, 111.0, 111.0, 55.2, 63.7, 80.3, 74.7, 109.0, 114.0, 208.0, 36.9, 62.2, 62.7, 78.9, 99.7, 89.3, 62.2, 90.5, 137.0, 97.4, 101.0, 56.0, 123.0, 130.0, 92.1, 63.6, 66.8, 160.0, 28.1, 76.7, 71.9, 62.6, 90.3, 81.0, 56.3, 83.1]}, {\"hoverlabel\": {\"namelength\": 0}, \"hovertemplate\": \"cluster=2<br>income=%{x}<br>health=%{y}<br>child_mort=%{z}\", \"legendgroup\": \"cluster=2\", \"marker\": {\"color\": \"#EF553B\", \"line\": {\"color\": \"DarkSlateGrey\", \"width\": 2}, \"opacity\": 0.7, \"size\": 5, \"symbol\": \"diamond\"}, \"mode\": \"markers\", \"name\": \"cluster=2\", \"scene\": \"scene\", \"showlegend\": true, \"type\": \"scatter3d\", \"x\": [9930, 12900, 19100, 18700, 6700, 16000, 2440, 15300, 16200, 7880, 6420, 5410, 9720, 13300, 14500, 15300, 2520, 5830, 19400, 9530, 10900, 20100, 11100, 9350, 9860, 7300, 22700, 7350, 6730, 11200, 6710, 5840, 22300, 4410, 8430, 17400, 8000, 9470, 20100, 2790, 18300, 16300, 29600, 21100, 11400, 21100, 10500, 15900, 3340, 3910, 7710, 14000, 6440, 3720, 1990, 45300, 15400, 7290, 9960, 5600, 21800, 17800, 23100, 5400, 45400, 12700, 20400, 12000, 8560, 9920, 14200, 2110, 13500, 4980, 10400, 18000, 9940, 7820, 17100, 4240, 2950, 16500, 4490], \"y\": [6.55, 4.17, 6.03, 8.1, 4.4, 5.88, 3.52, 7.97, 5.61, 5.2, 5.2, 4.84, 11.1, 8.3, 9.01, 6.87, 5.68, 4.09, 7.96, 5.07, 7.59, 7.76, 6.22, 8.06, 4.66, 6.91, 6.03, 4.86, 10.1, 5.86, 6.85, 5.38, 7.33, 4.05, 2.61, 5.6, 4.81, 8.04, 4.29, 6.18, 6.68, 7.03, 3.88, 7.04, 7.09, 4.39, 6.33, 6.0, 14.2, 11.7, 5.44, 9.11, 5.2, 1.97, 5.25, 2.77, 8.1, 5.87, 5.08, 3.61, 7.46, 5.58, 5.08, 6.47, 4.29, 10.4, 3.4, 8.94, 2.94, 4.47, 7.01, 5.98, 3.88, 5.07, 6.21, 6.74, 2.5, 7.72, 8.35, 5.81, 5.25, 4.91, 6.84], \"z\": [16.6, 27.3, 10.3, 14.5, 18.1, 39.2, 49.4, 14.2, 5.5, 18.8, 42.7, 46.6, 6.9, 52.5, 19.8, 10.8, 44.4, 26.5, 8.7, 15.7, 18.6, 5.5, 34.4, 25.1, 29.1, 19.2, 4.5, 24.1, 16.5, 14.6, 35.4, 37.6, 6.0, 58.8, 33.3, 19.3, 18.1, 21.1, 21.5, 29.6, 7.8, 10.3, 16.6, 6.1, 10.4, 7.9, 13.2, 15.0, 40.0, 17.2, 26.1, 6.8, 33.5, 64.4, 47.0, 11.7, 19.7, 24.1, 20.3, 31.9, 6.0, 11.5, 10.0, 18.9, 15.7, 7.6, 14.4, 53.7, 11.2, 20.7, 24.1, 52.4, 14.9, 17.4, 17.4, 19.1, 62.0, 11.7, 10.6, 36.3, 29.2, 17.1, 23.3]}, {\"hoverlabel\": {\"namelength\": 0}, \"hovertemplate\": \"cluster=0<br>income=%{x}<br>health=%{y}<br>child_mort=%{z}\", \"legendgroup\": \"cluster=0\", \"marker\": {\"color\": \"#00cc96\", \"line\": {\"color\": \"DarkSlateGrey\", \"width\": 2}, \"opacity\": 0.7, \"size\": 5, \"symbol\": \"square\"}, \"mode\": \"markers\", \"name\": \"cluster=0\", \"scene\": \"scene\", \"showlegend\": true, \"type\": \"scatter3d\", \"x\": [41400, 43200, 22900, 41100, 41100, 80600, 40700, 13000, 33900, 28300, 44000, 39800, 36900, 40400, 28700, 38800, 45700, 29600, 36200, 35800, 75200, 91700, 28300, 45500, 32300, 62300, 27200, 125000, 72100, 25200, 28700, 30400, 32500, 42900, 55500, 57600, 36200, 49400], \"y\": [8.73, 11.0, 7.89, 4.97, 10.7, 2.84, 11.3, 10.9, 5.97, 7.88, 11.4, 8.95, 11.9, 11.6, 10.3, 9.4, 9.19, 7.63, 9.53, 9.49, 2.63, 7.77, 8.65, 11.9, 10.1, 9.48, 11.0, 1.81, 3.96, 8.79, 9.41, 6.93, 9.54, 9.63, 11.5, 3.66, 9.64, 17.9], \"z\": [4.8, 4.3, 13.8, 8.6, 4.5, 10.5, 5.6, 10.2, 3.6, 3.4, 4.1, 3.0, 4.2, 4.2, 3.9, 2.6, 4.2, 4.6, 4.0, 3.2, 10.8, 2.8, 6.8, 4.5, 6.2, 3.2, 3.9, 9.0, 2.8, 7.0, 3.2, 4.1, 3.8, 3.0, 4.5, 8.6, 5.2, 7.3]}],\n",
              "                        {\"legend\": {\"tracegroupgap\": 0, \"x\": 0.75, \"xanchor\": \"right\", \"y\": 0.9, \"yanchor\": \"top\"}, \"margin\": {\"b\": 0, \"l\": 0, \"r\": 0, \"t\": 0}, \"scene\": {\"domain\": {\"x\": [0.0, 1.0], \"y\": [0.0, 1.0]}, \"xaxis\": {\"title\": {\"text\": \"income\"}}, \"yaxis\": {\"title\": {\"text\": \"health\"}}, \"zaxis\": {\"title\": {\"text\": \"child_mort\"}}}, \"template\": {\"data\": {\"bar\": [{\"error_x\": {\"color\": \"#2a3f5f\"}, \"error_y\": {\"color\": \"#2a3f5f\"}, \"marker\": {\"line\": {\"color\": \"#E5ECF6\", \"width\": 0.5}}, \"type\": \"bar\"}], \"barpolar\": [{\"marker\": {\"line\": {\"color\": \"#E5ECF6\", \"width\": 0.5}}, \"type\": \"barpolar\"}], \"carpet\": [{\"aaxis\": {\"endlinecolor\": \"#2a3f5f\", \"gridcolor\": \"white\", \"linecolor\": \"white\", \"minorgridcolor\": \"white\", \"startlinecolor\": \"#2a3f5f\"}, \"baxis\": {\"endlinecolor\": \"#2a3f5f\", \"gridcolor\": \"white\", \"linecolor\": \"white\", \"minorgridcolor\": \"white\", \"startlinecolor\": \"#2a3f5f\"}, \"type\": \"carpet\"}], \"choropleth\": [{\"colorbar\": {\"outlinewidth\": 0, \"ticks\": \"\"}, \"type\": \"choropleth\"}], \"contour\": [{\"colorbar\": {\"outlinewidth\": 0, \"ticks\": \"\"}, \"colorscale\": [[0.0, \"#0d0887\"], [0.1111111111111111, \"#46039f\"], [0.2222222222222222, \"#7201a8\"], [0.3333333333333333, \"#9c179e\"], [0.4444444444444444, \"#bd3786\"], [0.5555555555555556, \"#d8576b\"], [0.6666666666666666, \"#ed7953\"], [0.7777777777777778, \"#fb9f3a\"], [0.8888888888888888, \"#fdca26\"], [1.0, \"#f0f921\"]], \"type\": \"contour\"}], \"contourcarpet\": [{\"colorbar\": {\"outlinewidth\": 0, \"ticks\": \"\"}, \"type\": \"contourcarpet\"}], \"heatmap\": [{\"colorbar\": {\"outlinewidth\": 0, \"ticks\": \"\"}, \"colorscale\": [[0.0, \"#0d0887\"], [0.1111111111111111, \"#46039f\"], [0.2222222222222222, \"#7201a8\"], [0.3333333333333333, \"#9c179e\"], [0.4444444444444444, \"#bd3786\"], [0.5555555555555556, \"#d8576b\"], [0.6666666666666666, \"#ed7953\"], [0.7777777777777778, \"#fb9f3a\"], [0.8888888888888888, \"#fdca26\"], [1.0, \"#f0f921\"]], \"type\": \"heatmap\"}], \"heatmapgl\": [{\"colorbar\": {\"outlinewidth\": 0, \"ticks\": \"\"}, \"colorscale\": [[0.0, \"#0d0887\"], [0.1111111111111111, \"#46039f\"], [0.2222222222222222, \"#7201a8\"], [0.3333333333333333, \"#9c179e\"], [0.4444444444444444, \"#bd3786\"], [0.5555555555555556, \"#d8576b\"], [0.6666666666666666, \"#ed7953\"], [0.7777777777777778, \"#fb9f3a\"], [0.8888888888888888, \"#fdca26\"], [1.0, \"#f0f921\"]], \"type\": \"heatmapgl\"}], \"histogram\": [{\"marker\": {\"colorbar\": {\"outlinewidth\": 0, \"ticks\": \"\"}}, \"type\": \"histogram\"}], \"histogram2d\": [{\"colorbar\": {\"outlinewidth\": 0, \"ticks\": \"\"}, \"colorscale\": [[0.0, \"#0d0887\"], [0.1111111111111111, \"#46039f\"], [0.2222222222222222, \"#7201a8\"], [0.3333333333333333, \"#9c179e\"], [0.4444444444444444, \"#bd3786\"], [0.5555555555555556, \"#d8576b\"], [0.6666666666666666, \"#ed7953\"], [0.7777777777777778, \"#fb9f3a\"], [0.8888888888888888, \"#fdca26\"], [1.0, \"#f0f921\"]], \"type\": \"histogram2d\"}], \"histogram2dcontour\": [{\"colorbar\": {\"outlinewidth\": 0, \"ticks\": \"\"}, \"colorscale\": [[0.0, \"#0d0887\"], [0.1111111111111111, \"#46039f\"], [0.2222222222222222, \"#7201a8\"], [0.3333333333333333, \"#9c179e\"], [0.4444444444444444, \"#bd3786\"], [0.5555555555555556, \"#d8576b\"], [0.6666666666666666, \"#ed7953\"], [0.7777777777777778, \"#fb9f3a\"], [0.8888888888888888, \"#fdca26\"], [1.0, \"#f0f921\"]], \"type\": \"histogram2dcontour\"}], \"mesh3d\": [{\"colorbar\": {\"outlinewidth\": 0, \"ticks\": \"\"}, \"type\": \"mesh3d\"}], \"parcoords\": [{\"line\": {\"colorbar\": {\"outlinewidth\": 0, \"ticks\": \"\"}}, \"type\": \"parcoords\"}], \"pie\": [{\"automargin\": true, \"type\": \"pie\"}], \"scatter\": [{\"marker\": {\"colorbar\": {\"outlinewidth\": 0, \"ticks\": \"\"}}, \"type\": \"scatter\"}], \"scatter3d\": [{\"line\": {\"colorbar\": {\"outlinewidth\": 0, \"ticks\": \"\"}}, \"marker\": {\"colorbar\": {\"outlinewidth\": 0, \"ticks\": \"\"}}, \"type\": \"scatter3d\"}], \"scattercarpet\": [{\"marker\": {\"colorbar\": {\"outlinewidth\": 0, \"ticks\": \"\"}}, \"type\": \"scattercarpet\"}], \"scattergeo\": [{\"marker\": {\"colorbar\": {\"outlinewidth\": 0, \"ticks\": \"\"}}, \"type\": \"scattergeo\"}], \"scattergl\": [{\"marker\": {\"colorbar\": {\"outlinewidth\": 0, \"ticks\": \"\"}}, \"type\": \"scattergl\"}], \"scattermapbox\": [{\"marker\": {\"colorbar\": {\"outlinewidth\": 0, \"ticks\": \"\"}}, \"type\": \"scattermapbox\"}], \"scatterpolar\": [{\"marker\": {\"colorbar\": {\"outlinewidth\": 0, \"ticks\": \"\"}}, \"type\": \"scatterpolar\"}], \"scatterpolargl\": [{\"marker\": {\"colorbar\": {\"outlinewidth\": 0, \"ticks\": \"\"}}, \"type\": \"scatterpolargl\"}], \"scatterternary\": [{\"marker\": {\"colorbar\": {\"outlinewidth\": 0, \"ticks\": \"\"}}, \"type\": \"scatterternary\"}], \"surface\": [{\"colorbar\": {\"outlinewidth\": 0, \"ticks\": \"\"}, \"colorscale\": [[0.0, \"#0d0887\"], [0.1111111111111111, \"#46039f\"], [0.2222222222222222, \"#7201a8\"], [0.3333333333333333, \"#9c179e\"], [0.4444444444444444, \"#bd3786\"], [0.5555555555555556, \"#d8576b\"], [0.6666666666666666, \"#ed7953\"], [0.7777777777777778, \"#fb9f3a\"], [0.8888888888888888, \"#fdca26\"], [1.0, \"#f0f921\"]], \"type\": \"surface\"}], \"table\": [{\"cells\": {\"fill\": {\"color\": \"#EBF0F8\"}, \"line\": {\"color\": \"white\"}}, \"header\": {\"fill\": {\"color\": \"#C8D4E3\"}, \"line\": {\"color\": \"white\"}}, \"type\": \"table\"}]}, \"layout\": {\"annotationdefaults\": {\"arrowcolor\": \"#2a3f5f\", \"arrowhead\": 0, \"arrowwidth\": 1}, \"coloraxis\": {\"colorbar\": {\"outlinewidth\": 0, \"ticks\": \"\"}}, \"colorscale\": {\"diverging\": [[0, \"#8e0152\"], [0.1, \"#c51b7d\"], [0.2, \"#de77ae\"], [0.3, \"#f1b6da\"], [0.4, \"#fde0ef\"], [0.5, \"#f7f7f7\"], [0.6, \"#e6f5d0\"], [0.7, \"#b8e186\"], [0.8, \"#7fbc41\"], [0.9, \"#4d9221\"], [1, \"#276419\"]], \"sequential\": [[0.0, \"#0d0887\"], [0.1111111111111111, \"#46039f\"], [0.2222222222222222, \"#7201a8\"], [0.3333333333333333, \"#9c179e\"], [0.4444444444444444, \"#bd3786\"], [0.5555555555555556, \"#d8576b\"], [0.6666666666666666, \"#ed7953\"], [0.7777777777777778, \"#fb9f3a\"], [0.8888888888888888, \"#fdca26\"], [1.0, \"#f0f921\"]], \"sequentialminus\": [[0.0, \"#0d0887\"], [0.1111111111111111, \"#46039f\"], [0.2222222222222222, \"#7201a8\"], [0.3333333333333333, \"#9c179e\"], [0.4444444444444444, \"#bd3786\"], [0.5555555555555556, \"#d8576b\"], [0.6666666666666666, \"#ed7953\"], [0.7777777777777778, \"#fb9f3a\"], [0.8888888888888888, \"#fdca26\"], [1.0, \"#f0f921\"]]}, \"colorway\": [\"#636efa\", \"#EF553B\", \"#00cc96\", \"#ab63fa\", \"#FFA15A\", \"#19d3f3\", \"#FF6692\", \"#B6E880\", \"#FF97FF\", \"#FECB52\"], \"font\": {\"color\": \"#2a3f5f\"}, \"geo\": {\"bgcolor\": \"white\", \"lakecolor\": \"white\", \"landcolor\": \"#E5ECF6\", \"showlakes\": true, \"showland\": true, \"subunitcolor\": \"white\"}, \"hoverlabel\": {\"align\": \"left\"}, \"hovermode\": \"closest\", \"mapbox\": {\"style\": \"light\"}, \"paper_bgcolor\": \"white\", \"plot_bgcolor\": \"#E5ECF6\", \"polar\": {\"angularaxis\": {\"gridcolor\": \"white\", \"linecolor\": \"white\", \"ticks\": \"\"}, \"bgcolor\": \"#E5ECF6\", \"radialaxis\": {\"gridcolor\": \"white\", \"linecolor\": \"white\", \"ticks\": \"\"}}, \"scene\": {\"xaxis\": {\"backgroundcolor\": \"#E5ECF6\", \"gridcolor\": \"white\", \"gridwidth\": 2, \"linecolor\": \"white\", \"showbackground\": true, \"ticks\": \"\", \"zerolinecolor\": \"white\"}, \"yaxis\": {\"backgroundcolor\": \"#E5ECF6\", \"gridcolor\": \"white\", \"gridwidth\": 2, \"linecolor\": \"white\", \"showbackground\": true, \"ticks\": \"\", \"zerolinecolor\": \"white\"}, \"zaxis\": {\"backgroundcolor\": \"#E5ECF6\", \"gridcolor\": \"white\", \"gridwidth\": 2, \"linecolor\": \"white\", \"showbackground\": true, \"ticks\": \"\", \"zerolinecolor\": \"white\"}}, \"shapedefaults\": {\"line\": {\"color\": \"#2a3f5f\"}}, \"ternary\": {\"aaxis\": {\"gridcolor\": \"white\", \"linecolor\": \"white\", \"ticks\": \"\"}, \"baxis\": {\"gridcolor\": \"white\", \"linecolor\": \"white\", \"ticks\": \"\"}, \"bgcolor\": \"#E5ECF6\", \"caxis\": {\"gridcolor\": \"white\", \"linecolor\": \"white\", \"ticks\": \"\"}}, \"title\": {\"x\": 0.05}, \"xaxis\": {\"automargin\": true, \"gridcolor\": \"white\", \"linecolor\": \"white\", \"ticks\": \"\", \"title\": {\"standoff\": 15}, \"zerolinecolor\": \"white\", \"zerolinewidth\": 2}, \"yaxis\": {\"automargin\": true, \"gridcolor\": \"white\", \"linecolor\": \"white\", \"ticks\": \"\", \"title\": {\"standoff\": 15}, \"zerolinecolor\": \"white\", \"zerolinewidth\": 2}}}},\n",
              "                        {\"responsive\": true}\n",
              "                    ).then(function(){\n",
              "                            \n",
              "var gd = document.getElementById('b837987e-c6ad-493f-960e-a92527c5aaff');\n",
              "var x = new MutationObserver(function (mutations, observer) {{\n",
              "        var display = window.getComputedStyle(gd).display;\n",
              "        if (!display || display === 'none') {{\n",
              "            console.log([gd, 'removed!']);\n",
              "            Plotly.purge(gd);\n",
              "            observer.disconnect();\n",
              "        }}\n",
              "}});\n",
              "\n",
              "// Listen for the removal of the full notebook cells\n",
              "var notebookContainer = gd.closest('#notebook-container');\n",
              "if (notebookContainer) {{\n",
              "    x.observe(notebookContainer, {childList: true});\n",
              "}}\n",
              "\n",
              "// Listen for the clearing of the current output cell\n",
              "var outputEl = gd.closest('.output');\n",
              "if (outputEl) {{\n",
              "    x.observe(outputEl, {childList: true});\n",
              "}}\n",
              "\n",
              "                        })\n",
              "                };\n",
              "                \n",
              "            </script>\n",
              "        </div>\n",
              "</body>\n",
              "</html>"
            ]
          },
          "metadata": {
            "tags": []
          }
        }
      ]
    },
    {
      "cell_type": "markdown",
      "metadata": {
        "id": "QLVYWxLzQD9k"
      },
      "source": [
        "# Clustering Plotly"
      ]
    },
    {
      "cell_type": "code",
      "metadata": {
        "id": "yubMnyg-QpYK"
      },
      "source": [
        "import plotly.graph_objects as go"
      ],
      "execution_count": 29,
      "outputs": []
    },
    {
      "cell_type": "markdown",
      "metadata": {
        "id": "md83PlWhU5eM"
      },
      "source": [
        "## K-means"
      ]
    },
    {
      "cell_type": "code",
      "metadata": {
        "colab": {
          "base_uri": "https://localhost:8080/",
          "height": 542
        },
        "id": "PNlfSfEjRjix",
        "outputId": "31604f3c-4293-4a66-e6ca-7c83b88a050a"
      },
      "source": [
        "fig = go.Figure()\n",
        "\n",
        "\n",
        "# Add scatter traces\n",
        "fig.add_trace(go.Scatter(x=dataset_k[\"income\"][dataset_k[\"cluster\"] == 1],\n",
        "                         y=dataset_k[\"health\"][dataset_k[\"cluster\"] == 1], mode=\"markers\"))\n",
        "fig.add_trace(go.Scatter(x=dataset_k[\"income\"][dataset_k[\"cluster\"] == 2],\n",
        "                         y=dataset_k[\"health\"][dataset_k[\"cluster\"] == 2], mode=\"markers\"))\n",
        "fig.add_trace(go.Scatter(x=dataset_k[\"income\"][dataset_k[\"cluster\"] == 0],\n",
        "                         y=dataset_k[\"health\"][dataset_k[\"cluster\"] == 0], mode=\"markers\"))\n",
        "\n",
        "# Add shapes\n",
        "fig.add_shape(type=\"circle\",\n",
        "    xref=\"x\", yref=\"y\",\n",
        "    x0=min(dataset_k[\"income\"][dataset_k[\"cluster\"] == 1]), y0=min(dataset_k[\"health\"][dataset_k[\"cluster\"] == 1]),\n",
        "    x1=max(dataset_k[\"income\"][dataset_k[\"cluster\"] == 1]), y1=max(dataset_k[\"health\"][dataset_k[\"cluster\"] == 1]),\n",
        "    opacity=0.2,\n",
        "    fillcolor=\"blue\",\n",
        "    line_color=\"blue\",)\n",
        "fig.add_shape(type=\"circle\",\n",
        "    xref=\"x\", yref=\"y\",\n",
        "    x0=min(dataset_k[\"income\"][dataset_k[\"cluster\"] == 2]), y0=min(dataset_k[\"health\"][dataset_k[\"cluster\"] == 2]),\n",
        "    x1=max(dataset_k[\"income\"][dataset_k[\"cluster\"] == 2]), y1=max(dataset_k[\"health\"][dataset_k[\"cluster\"] == 2]),\n",
        "    opacity=0.2,\n",
        "    fillcolor=\"red\",\n",
        "    line_color=\"red\",)\n",
        "fig.add_shape(type=\"circle\",\n",
        "    xref=\"x\", yref=\"y\",\n",
        "    x0=min(dataset_k[\"income\"][dataset_k[\"cluster\"] == 0]), y0=min(dataset_k[\"health\"][dataset_k[\"cluster\"] == 0]),\n",
        "    x1=max(dataset_k[\"income\"][dataset_k[\"cluster\"] == 0]), y1=max(dataset_k[\"health\"][dataset_k[\"cluster\"] == 0]),\n",
        "    opacity=0.2,\n",
        "    fillcolor=\"green\",\n",
        "    line_color=\"green\",)\n"
      ],
      "execution_count": 30,
      "outputs": [
        {
          "output_type": "display_data",
          "data": {
            "text/html": [
              "<html>\n",
              "<head><meta charset=\"utf-8\" /></head>\n",
              "<body>\n",
              "    <div>\n",
              "            <script src=\"https://cdnjs.cloudflare.com/ajax/libs/mathjax/2.7.5/MathJax.js?config=TeX-AMS-MML_SVG\"></script><script type=\"text/javascript\">if (window.MathJax) {MathJax.Hub.Config({SVG: {font: \"STIX-Web\"}});}</script>\n",
              "                <script type=\"text/javascript\">window.PlotlyConfig = {MathJaxConfig: 'local'};</script>\n",
              "        <script src=\"https://cdn.plot.ly/plotly-latest.min.js\"></script>    \n",
              "            <div id=\"6683d817-f9d2-472e-a0d5-46f2546aa1b7\" class=\"plotly-graph-div\" style=\"height:525px; width:100%;\"></div>\n",
              "            <script type=\"text/javascript\">\n",
              "                \n",
              "                    window.PLOTLYENV=window.PLOTLYENV || {};\n",
              "                    \n",
              "                if (document.getElementById(\"6683d817-f9d2-472e-a0d5-46f2546aa1b7\")) {\n",
              "                    Plotly.newPlot(\n",
              "                        '6683d817-f9d2-472e-a0d5-46f2546aa1b7',\n",
              "                        [{\"mode\": \"markers\", \"type\": \"scatter\", \"x\": [80600, 75200, 91700, 62300, 125000, 72100, 55500], \"y\": [2.84, 2.63, 7.77, 9.48, 1.81, 3.96, 11.5]}, {\"mode\": \"markers\", \"type\": \"scatter\", \"x\": [41400, 43200, 22900, 41100, 41100, 40700, 33900, 28300, 44000, 33700, 39800, 36900, 40400, 28700, 38800, 45700, 29600, 36200, 35800, 28300, 45500, 32300, 45300, 27200, 45400, 28700, 30400, 32500, 42900, 57600, 36200, 49400], \"y\": [8.73, 11.0, 7.89, 4.97, 10.7, 11.3, 5.97, 7.88, 11.4, 4.48, 8.95, 11.9, 11.6, 10.3, 9.4, 9.19, 7.63, 9.53, 9.49, 8.65, 11.9, 10.1, 2.77, 11.0, 4.29, 9.41, 6.93, 9.54, 9.63, 3.66, 9.64, 17.9]}, {\"mode\": \"markers\", \"type\": \"scatter\", \"x\": [1610, 9930, 12900, 5900, 19100, 18700, 6700, 16000, 2440, 15300, 16200, 7880, 1820, 6420, 5410, 9720, 13300, 14500, 15300, 1430, 764, 2520, 2660, 5830, 888, 1930, 19400, 9530, 10900, 1410, 609, 5190, 13000, 2690, 20100, 11100, 9350, 9860, 7300, 1420, 22700, 7350, 15400, 1660, 6730, 3060, 11200, 6710, 1190, 1390, 5840, 1500, 22300, 4410, 8430, 17400, 12700, 8000, 9470, 20100, 2480, 1730, 2790, 3980, 18300, 16300, 2380, 700, 29600, 21100, 11400, 1390, 1030, 21100, 10500, 1870, 3320, 15900, 3340, 3910, 7710, 14000, 6440, 918, 3720, 8460, 1990, 814, 5150, 4280, 15400, 7290, 9960, 5600, 21800, 17800, 23100, 1350, 5400, 2180, 12700, 20400, 1220, 25200, 1780, 12000, 8560, 9920, 3370, 14200, 2110, 2090, 13500, 1850, 1210, 4980, 10400, 18000, 9940, 1540, 7820, 17100, 4240, 2950, 16500, 4490, 4480, 3280], \"y\": [7.58, 6.55, 4.17, 2.85, 6.03, 8.1, 4.4, 5.88, 3.52, 7.97, 5.61, 5.2, 4.1, 5.2, 4.84, 11.1, 8.3, 9.01, 6.87, 6.74, 11.6, 5.68, 5.13, 4.09, 3.98, 4.53, 7.96, 5.07, 7.59, 4.51, 7.91, 2.46, 10.9, 5.3, 7.76, 6.22, 8.06, 4.66, 6.91, 2.66, 6.03, 4.86, 3.5, 5.69, 10.1, 5.22, 5.86, 6.85, 4.93, 8.5, 5.38, 6.91, 7.33, 4.05, 2.61, 5.6, 8.41, 4.81, 8.04, 4.29, 4.75, 11.3, 6.18, 4.47, 6.68, 7.03, 11.1, 11.8, 3.88, 7.04, 7.09, 3.77, 6.59, 4.39, 6.33, 4.98, 4.41, 6.0, 14.2, 11.7, 5.44, 9.11, 5.2, 5.21, 1.97, 6.78, 5.25, 5.16, 5.07, 2.2, 8.1, 5.87, 5.08, 3.61, 7.46, 5.58, 5.08, 10.5, 6.47, 5.66, 10.4, 3.4, 13.1, 8.79, 8.55, 8.94, 2.94, 4.47, 6.32, 7.01, 5.98, 6.01, 3.88, 9.12, 7.65, 5.07, 6.21, 6.74, 2.5, 9.01, 7.72, 8.35, 5.81, 5.25, 4.91, 6.84, 5.18, 5.89]}],\n",
              "                        {\"shapes\": [{\"fillcolor\": \"blue\", \"line\": {\"color\": \"blue\"}, \"opacity\": 0.2, \"type\": \"circle\", \"x0\": 55500, \"x1\": 125000, \"xref\": \"x\", \"y0\": 1.81, \"y1\": 11.5, \"yref\": \"y\"}, {\"fillcolor\": \"red\", \"line\": {\"color\": \"red\"}, \"opacity\": 0.2, \"type\": \"circle\", \"x0\": 22900, \"x1\": 57600, \"xref\": \"x\", \"y0\": 2.77, \"y1\": 17.9, \"yref\": \"y\"}, {\"fillcolor\": \"green\", \"line\": {\"color\": \"green\"}, \"opacity\": 0.2, \"type\": \"circle\", \"x0\": 609, \"x1\": 29600, \"xref\": \"x\", \"y0\": 1.97, \"y1\": 14.2, \"yref\": \"y\"}], \"template\": {\"data\": {\"bar\": [{\"error_x\": {\"color\": \"#2a3f5f\"}, \"error_y\": {\"color\": \"#2a3f5f\"}, \"marker\": {\"line\": {\"color\": \"#E5ECF6\", \"width\": 0.5}}, \"type\": \"bar\"}], \"barpolar\": [{\"marker\": {\"line\": {\"color\": \"#E5ECF6\", \"width\": 0.5}}, \"type\": \"barpolar\"}], \"carpet\": [{\"aaxis\": {\"endlinecolor\": \"#2a3f5f\", \"gridcolor\": \"white\", \"linecolor\": \"white\", \"minorgridcolor\": \"white\", \"startlinecolor\": \"#2a3f5f\"}, \"baxis\": {\"endlinecolor\": \"#2a3f5f\", \"gridcolor\": \"white\", \"linecolor\": \"white\", \"minorgridcolor\": \"white\", \"startlinecolor\": \"#2a3f5f\"}, \"type\": \"carpet\"}], \"choropleth\": [{\"colorbar\": {\"outlinewidth\": 0, \"ticks\": \"\"}, \"type\": \"choropleth\"}], \"contour\": [{\"colorbar\": {\"outlinewidth\": 0, \"ticks\": \"\"}, \"colorscale\": [[0.0, \"#0d0887\"], [0.1111111111111111, \"#46039f\"], [0.2222222222222222, \"#7201a8\"], [0.3333333333333333, \"#9c179e\"], [0.4444444444444444, \"#bd3786\"], [0.5555555555555556, \"#d8576b\"], [0.6666666666666666, \"#ed7953\"], [0.7777777777777778, \"#fb9f3a\"], [0.8888888888888888, \"#fdca26\"], [1.0, \"#f0f921\"]], \"type\": \"contour\"}], \"contourcarpet\": [{\"colorbar\": {\"outlinewidth\": 0, \"ticks\": \"\"}, \"type\": \"contourcarpet\"}], \"heatmap\": [{\"colorbar\": {\"outlinewidth\": 0, \"ticks\": \"\"}, \"colorscale\": [[0.0, \"#0d0887\"], [0.1111111111111111, \"#46039f\"], [0.2222222222222222, \"#7201a8\"], [0.3333333333333333, \"#9c179e\"], [0.4444444444444444, \"#bd3786\"], [0.5555555555555556, \"#d8576b\"], [0.6666666666666666, \"#ed7953\"], [0.7777777777777778, \"#fb9f3a\"], [0.8888888888888888, \"#fdca26\"], [1.0, \"#f0f921\"]], \"type\": \"heatmap\"}], \"heatmapgl\": [{\"colorbar\": {\"outlinewidth\": 0, \"ticks\": \"\"}, \"colorscale\": [[0.0, \"#0d0887\"], [0.1111111111111111, \"#46039f\"], [0.2222222222222222, \"#7201a8\"], [0.3333333333333333, \"#9c179e\"], [0.4444444444444444, \"#bd3786\"], [0.5555555555555556, \"#d8576b\"], [0.6666666666666666, \"#ed7953\"], [0.7777777777777778, \"#fb9f3a\"], [0.8888888888888888, \"#fdca26\"], [1.0, \"#f0f921\"]], \"type\": \"heatmapgl\"}], \"histogram\": [{\"marker\": {\"colorbar\": {\"outlinewidth\": 0, \"ticks\": \"\"}}, \"type\": \"histogram\"}], \"histogram2d\": [{\"colorbar\": {\"outlinewidth\": 0, \"ticks\": \"\"}, \"colorscale\": [[0.0, \"#0d0887\"], [0.1111111111111111, \"#46039f\"], [0.2222222222222222, \"#7201a8\"], [0.3333333333333333, \"#9c179e\"], [0.4444444444444444, \"#bd3786\"], [0.5555555555555556, \"#d8576b\"], [0.6666666666666666, \"#ed7953\"], [0.7777777777777778, \"#fb9f3a\"], [0.8888888888888888, \"#fdca26\"], [1.0, \"#f0f921\"]], \"type\": \"histogram2d\"}], \"histogram2dcontour\": [{\"colorbar\": {\"outlinewidth\": 0, \"ticks\": \"\"}, \"colorscale\": [[0.0, \"#0d0887\"], [0.1111111111111111, \"#46039f\"], [0.2222222222222222, \"#7201a8\"], [0.3333333333333333, \"#9c179e\"], [0.4444444444444444, \"#bd3786\"], [0.5555555555555556, \"#d8576b\"], [0.6666666666666666, \"#ed7953\"], [0.7777777777777778, \"#fb9f3a\"], [0.8888888888888888, \"#fdca26\"], [1.0, \"#f0f921\"]], \"type\": \"histogram2dcontour\"}], \"mesh3d\": [{\"colorbar\": {\"outlinewidth\": 0, \"ticks\": \"\"}, \"type\": \"mesh3d\"}], \"parcoords\": [{\"line\": {\"colorbar\": {\"outlinewidth\": 0, \"ticks\": \"\"}}, \"type\": \"parcoords\"}], \"pie\": [{\"automargin\": true, \"type\": \"pie\"}], \"scatter\": [{\"marker\": {\"colorbar\": {\"outlinewidth\": 0, \"ticks\": \"\"}}, \"type\": \"scatter\"}], \"scatter3d\": [{\"line\": {\"colorbar\": {\"outlinewidth\": 0, \"ticks\": \"\"}}, \"marker\": {\"colorbar\": {\"outlinewidth\": 0, \"ticks\": \"\"}}, \"type\": \"scatter3d\"}], \"scattercarpet\": [{\"marker\": {\"colorbar\": {\"outlinewidth\": 0, \"ticks\": \"\"}}, \"type\": \"scattercarpet\"}], \"scattergeo\": [{\"marker\": {\"colorbar\": {\"outlinewidth\": 0, \"ticks\": \"\"}}, \"type\": \"scattergeo\"}], \"scattergl\": [{\"marker\": {\"colorbar\": {\"outlinewidth\": 0, \"ticks\": \"\"}}, \"type\": \"scattergl\"}], \"scattermapbox\": [{\"marker\": {\"colorbar\": {\"outlinewidth\": 0, \"ticks\": \"\"}}, \"type\": \"scattermapbox\"}], \"scatterpolar\": [{\"marker\": {\"colorbar\": {\"outlinewidth\": 0, \"ticks\": \"\"}}, \"type\": \"scatterpolar\"}], \"scatterpolargl\": [{\"marker\": {\"colorbar\": {\"outlinewidth\": 0, \"ticks\": \"\"}}, \"type\": \"scatterpolargl\"}], \"scatterternary\": [{\"marker\": {\"colorbar\": {\"outlinewidth\": 0, \"ticks\": \"\"}}, \"type\": \"scatterternary\"}], \"surface\": [{\"colorbar\": {\"outlinewidth\": 0, \"ticks\": \"\"}, \"colorscale\": [[0.0, \"#0d0887\"], [0.1111111111111111, \"#46039f\"], [0.2222222222222222, \"#7201a8\"], [0.3333333333333333, \"#9c179e\"], [0.4444444444444444, \"#bd3786\"], [0.5555555555555556, \"#d8576b\"], [0.6666666666666666, \"#ed7953\"], [0.7777777777777778, \"#fb9f3a\"], [0.8888888888888888, \"#fdca26\"], [1.0, \"#f0f921\"]], \"type\": \"surface\"}], \"table\": [{\"cells\": {\"fill\": {\"color\": \"#EBF0F8\"}, \"line\": {\"color\": \"white\"}}, \"header\": {\"fill\": {\"color\": \"#C8D4E3\"}, \"line\": {\"color\": \"white\"}}, \"type\": \"table\"}]}, \"layout\": {\"annotationdefaults\": {\"arrowcolor\": \"#2a3f5f\", \"arrowhead\": 0, \"arrowwidth\": 1}, \"coloraxis\": {\"colorbar\": {\"outlinewidth\": 0, \"ticks\": \"\"}}, \"colorscale\": {\"diverging\": [[0, \"#8e0152\"], [0.1, \"#c51b7d\"], [0.2, \"#de77ae\"], [0.3, \"#f1b6da\"], [0.4, \"#fde0ef\"], [0.5, \"#f7f7f7\"], [0.6, \"#e6f5d0\"], [0.7, \"#b8e186\"], [0.8, \"#7fbc41\"], [0.9, \"#4d9221\"], [1, \"#276419\"]], \"sequential\": [[0.0, \"#0d0887\"], [0.1111111111111111, \"#46039f\"], [0.2222222222222222, \"#7201a8\"], [0.3333333333333333, \"#9c179e\"], [0.4444444444444444, \"#bd3786\"], [0.5555555555555556, \"#d8576b\"], [0.6666666666666666, \"#ed7953\"], [0.7777777777777778, \"#fb9f3a\"], [0.8888888888888888, \"#fdca26\"], [1.0, \"#f0f921\"]], \"sequentialminus\": [[0.0, \"#0d0887\"], [0.1111111111111111, \"#46039f\"], [0.2222222222222222, \"#7201a8\"], [0.3333333333333333, \"#9c179e\"], [0.4444444444444444, \"#bd3786\"], [0.5555555555555556, \"#d8576b\"], [0.6666666666666666, \"#ed7953\"], [0.7777777777777778, \"#fb9f3a\"], [0.8888888888888888, \"#fdca26\"], [1.0, \"#f0f921\"]]}, \"colorway\": [\"#636efa\", \"#EF553B\", \"#00cc96\", \"#ab63fa\", \"#FFA15A\", \"#19d3f3\", \"#FF6692\", \"#B6E880\", \"#FF97FF\", \"#FECB52\"], \"font\": {\"color\": \"#2a3f5f\"}, \"geo\": {\"bgcolor\": \"white\", \"lakecolor\": \"white\", \"landcolor\": \"#E5ECF6\", \"showlakes\": true, \"showland\": true, \"subunitcolor\": \"white\"}, \"hoverlabel\": {\"align\": \"left\"}, \"hovermode\": \"closest\", \"mapbox\": {\"style\": \"light\"}, \"paper_bgcolor\": \"white\", \"plot_bgcolor\": \"#E5ECF6\", \"polar\": {\"angularaxis\": {\"gridcolor\": \"white\", \"linecolor\": \"white\", \"ticks\": \"\"}, \"bgcolor\": \"#E5ECF6\", \"radialaxis\": {\"gridcolor\": \"white\", \"linecolor\": \"white\", \"ticks\": \"\"}}, \"scene\": {\"xaxis\": {\"backgroundcolor\": \"#E5ECF6\", \"gridcolor\": \"white\", \"gridwidth\": 2, \"linecolor\": \"white\", \"showbackground\": true, \"ticks\": \"\", \"zerolinecolor\": \"white\"}, \"yaxis\": {\"backgroundcolor\": \"#E5ECF6\", \"gridcolor\": \"white\", \"gridwidth\": 2, \"linecolor\": \"white\", \"showbackground\": true, \"ticks\": \"\", \"zerolinecolor\": \"white\"}, \"zaxis\": {\"backgroundcolor\": \"#E5ECF6\", \"gridcolor\": \"white\", \"gridwidth\": 2, \"linecolor\": \"white\", \"showbackground\": true, \"ticks\": \"\", \"zerolinecolor\": \"white\"}}, \"shapedefaults\": {\"line\": {\"color\": \"#2a3f5f\"}}, \"ternary\": {\"aaxis\": {\"gridcolor\": \"white\", \"linecolor\": \"white\", \"ticks\": \"\"}, \"baxis\": {\"gridcolor\": \"white\", \"linecolor\": \"white\", \"ticks\": \"\"}, \"bgcolor\": \"#E5ECF6\", \"caxis\": {\"gridcolor\": \"white\", \"linecolor\": \"white\", \"ticks\": \"\"}}, \"title\": {\"x\": 0.05}, \"xaxis\": {\"automargin\": true, \"gridcolor\": \"white\", \"linecolor\": \"white\", \"ticks\": \"\", \"title\": {\"standoff\": 15}, \"zerolinecolor\": \"white\", \"zerolinewidth\": 2}, \"yaxis\": {\"automargin\": true, \"gridcolor\": \"white\", \"linecolor\": \"white\", \"ticks\": \"\", \"title\": {\"standoff\": 15}, \"zerolinecolor\": \"white\", \"zerolinewidth\": 2}}}},\n",
              "                        {\"responsive\": true}\n",
              "                    ).then(function(){\n",
              "                            \n",
              "var gd = document.getElementById('6683d817-f9d2-472e-a0d5-46f2546aa1b7');\n",
              "var x = new MutationObserver(function (mutations, observer) {{\n",
              "        var display = window.getComputedStyle(gd).display;\n",
              "        if (!display || display === 'none') {{\n",
              "            console.log([gd, 'removed!']);\n",
              "            Plotly.purge(gd);\n",
              "            observer.disconnect();\n",
              "        }}\n",
              "}});\n",
              "\n",
              "// Listen for the removal of the full notebook cells\n",
              "var notebookContainer = gd.closest('#notebook-container');\n",
              "if (notebookContainer) {{\n",
              "    x.observe(notebookContainer, {childList: true});\n",
              "}}\n",
              "\n",
              "// Listen for the clearing of the current output cell\n",
              "var outputEl = gd.closest('.output');\n",
              "if (outputEl) {{\n",
              "    x.observe(outputEl, {childList: true});\n",
              "}}\n",
              "\n",
              "                        })\n",
              "                };\n",
              "                \n",
              "            </script>\n",
              "        </div>\n",
              "</body>\n",
              "</html>"
            ]
          },
          "metadata": {
            "tags": []
          }
        }
      ]
    },
    {
      "cell_type": "markdown",
      "metadata": {
        "id": "OxWkjIoXU9hw"
      },
      "source": [
        "## C-means"
      ]
    },
    {
      "cell_type": "code",
      "metadata": {
        "colab": {
          "base_uri": "https://localhost:8080/",
          "height": 542
        },
        "id": "ib_EwlUESicC",
        "outputId": "11f017df-7de7-4efe-b980-83d80259bf52"
      },
      "source": [
        "fig = go.Figure()\n",
        "\n",
        "\n",
        "# Add scatter traces\n",
        "fig.add_trace(go.Scatter(x=dataset_c[\"income\"][dataset_c[\"cluster\"] == 1],\n",
        "                         y=dataset_c[\"health\"][dataset_c[\"cluster\"] == 1], mode=\"markers\"))\n",
        "fig.add_trace(go.Scatter(x=dataset_c[\"income\"][dataset_c[\"cluster\"] == 2],\n",
        "                         y=dataset_c[\"health\"][dataset_c[\"cluster\"] == 2], mode=\"markers\"))\n",
        "fig.add_trace(go.Scatter(x=dataset_c[\"income\"][dataset_c[\"cluster\"] == 0],\n",
        "                         y=dataset_c[\"health\"][dataset_c[\"cluster\"] == 0], mode=\"markers\"))\n",
        "\n",
        "# Add shapes\n",
        "fig.add_shape(type=\"circle\",\n",
        "    xref=\"x\", yref=\"y\",\n",
        "    x0=min(dataset_c[\"income\"][dataset_c[\"cluster\"] == 1]), y0=min(dataset_c[\"health\"][dataset_c[\"cluster\"] == 1]),\n",
        "    x1=max(dataset_c[\"income\"][dataset_c[\"cluster\"] == 1]), y1=max(dataset_c[\"health\"][dataset_c[\"cluster\"] == 1]),\n",
        "    opacity=0.2,\n",
        "    fillcolor=\"blue\",\n",
        "    line_color=\"blue\",)\n",
        "fig.add_shape(type=\"circle\",\n",
        "    xref=\"x\", yref=\"y\",\n",
        "    x0=min(dataset_c[\"income\"][dataset_c[\"cluster\"] == 2]), y0=min(dataset_c[\"health\"][dataset_c[\"cluster\"] == 2]),\n",
        "    x1=max(dataset_c[\"income\"][dataset_c[\"cluster\"] == 2]), y1=max(dataset_c[\"health\"][dataset_c[\"cluster\"] == 2]),\n",
        "    opacity=0.2,\n",
        "    fillcolor=\"red\",\n",
        "    line_color=\"red\",)\n",
        "fig.add_shape(type=\"circle\",\n",
        "    xref=\"x\", yref=\"y\",\n",
        "    x0=min(dataset_c[\"income\"][dataset_c[\"cluster\"] == 0]), y0=min(dataset_c[\"health\"][dataset_c[\"cluster\"] == 0]),\n",
        "    x1=max(dataset_c[\"income\"][dataset_c[\"cluster\"] == 0]), y1=max(dataset_c[\"health\"][dataset_c[\"cluster\"] == 0]),\n",
        "    opacity=0.2,\n",
        "    fillcolor=\"green\",\n",
        "    line_color=\"green\",)"
      ],
      "execution_count": 31,
      "outputs": [
        {
          "output_type": "display_data",
          "data": {
            "text/html": [
              "<html>\n",
              "<head><meta charset=\"utf-8\" /></head>\n",
              "<body>\n",
              "    <div>\n",
              "            <script src=\"https://cdnjs.cloudflare.com/ajax/libs/mathjax/2.7.5/MathJax.js?config=TeX-AMS-MML_SVG\"></script><script type=\"text/javascript\">if (window.MathJax) {MathJax.Hub.Config({SVG: {font: \"STIX-Web\"}});}</script>\n",
              "                <script type=\"text/javascript\">window.PlotlyConfig = {MathJaxConfig: 'local'};</script>\n",
              "        <script src=\"https://cdn.plot.ly/plotly-latest.min.js\"></script>    \n",
              "            <div id=\"4094521f-7ccc-4e45-8cf0-9e72f0b56864\" class=\"plotly-graph-div\" style=\"height:525px; width:100%;\"></div>\n",
              "            <script type=\"text/javascript\">\n",
              "                \n",
              "                    window.PLOTLYENV=window.PLOTLYENV || {};\n",
              "                    \n",
              "                if (document.getElementById(\"4094521f-7ccc-4e45-8cf0-9e72f0b56864\")) {\n",
              "                    Plotly.newPlot(\n",
              "                        '4094521f-7ccc-4e45-8cf0-9e72f0b56864',\n",
              "                        [{\"mode\": \"markers\", \"type\": \"scatter\", \"x\": [1610, 5900, 1820, 1430, 764, 2660, 888, 1930, 1410, 609, 5190, 2690, 33700, 1420, 15400, 1660, 3060, 1190, 1390, 1500, 12700, 2480, 1730, 3980, 2380, 700, 1390, 1030, 1870, 3320, 918, 8460, 814, 5150, 4280, 1350, 2180, 1220, 1780, 3370, 2090, 1850, 1210, 1540, 4480, 3280], \"y\": [7.58, 2.85, 4.1, 6.74, 11.6, 5.13, 3.98, 4.53, 4.51, 7.91, 2.46, 5.3, 4.48, 2.66, 3.5, 5.69, 5.22, 4.93, 8.5, 6.91, 8.41, 4.75, 11.3, 4.47, 11.1, 11.8, 3.77, 6.59, 4.98, 4.41, 5.21, 6.78, 5.16, 5.07, 2.2, 10.5, 5.66, 13.1, 8.55, 6.32, 6.01, 9.12, 7.65, 9.01, 5.18, 5.89]}, {\"mode\": \"markers\", \"type\": \"scatter\", \"x\": [9930, 12900, 19100, 18700, 6700, 16000, 2440, 15300, 16200, 7880, 6420, 5410, 9720, 13300, 14500, 15300, 2520, 5830, 19400, 9530, 10900, 20100, 11100, 9350, 9860, 7300, 22700, 7350, 6730, 11200, 6710, 5840, 22300, 4410, 8430, 17400, 8000, 9470, 20100, 2790, 18300, 16300, 29600, 21100, 11400, 21100, 10500, 15900, 3340, 3910, 7710, 14000, 6440, 3720, 1990, 45300, 15400, 7290, 9960, 5600, 21800, 17800, 23100, 5400, 45400, 12700, 20400, 12000, 8560, 9920, 14200, 2110, 13500, 4980, 10400, 18000, 9940, 7820, 17100, 4240, 2950, 16500, 4490], \"y\": [6.55, 4.17, 6.03, 8.1, 4.4, 5.88, 3.52, 7.97, 5.61, 5.2, 5.2, 4.84, 11.1, 8.3, 9.01, 6.87, 5.68, 4.09, 7.96, 5.07, 7.59, 7.76, 6.22, 8.06, 4.66, 6.91, 6.03, 4.86, 10.1, 5.86, 6.85, 5.38, 7.33, 4.05, 2.61, 5.6, 4.81, 8.04, 4.29, 6.18, 6.68, 7.03, 3.88, 7.04, 7.09, 4.39, 6.33, 6.0, 14.2, 11.7, 5.44, 9.11, 5.2, 1.97, 5.25, 2.77, 8.1, 5.87, 5.08, 3.61, 7.46, 5.58, 5.08, 6.47, 4.29, 10.4, 3.4, 8.94, 2.94, 4.47, 7.01, 5.98, 3.88, 5.07, 6.21, 6.74, 2.5, 7.72, 8.35, 5.81, 5.25, 4.91, 6.84]}, {\"mode\": \"markers\", \"type\": \"scatter\", \"x\": [41400, 43200, 22900, 41100, 41100, 80600, 40700, 13000, 33900, 28300, 44000, 39800, 36900, 40400, 28700, 38800, 45700, 29600, 36200, 35800, 75200, 91700, 28300, 45500, 32300, 62300, 27200, 125000, 72100, 25200, 28700, 30400, 32500, 42900, 55500, 57600, 36200, 49400], \"y\": [8.73, 11.0, 7.89, 4.97, 10.7, 2.84, 11.3, 10.9, 5.97, 7.88, 11.4, 8.95, 11.9, 11.6, 10.3, 9.4, 9.19, 7.63, 9.53, 9.49, 2.63, 7.77, 8.65, 11.9, 10.1, 9.48, 11.0, 1.81, 3.96, 8.79, 9.41, 6.93, 9.54, 9.63, 11.5, 3.66, 9.64, 17.9]}],\n",
              "                        {\"shapes\": [{\"fillcolor\": \"blue\", \"line\": {\"color\": \"blue\"}, \"opacity\": 0.2, \"type\": \"circle\", \"x0\": 609, \"x1\": 33700, \"xref\": \"x\", \"y0\": 2.2, \"y1\": 13.1, \"yref\": \"y\"}, {\"fillcolor\": \"red\", \"line\": {\"color\": \"red\"}, \"opacity\": 0.2, \"type\": \"circle\", \"x0\": 1990, \"x1\": 45400, \"xref\": \"x\", \"y0\": 1.97, \"y1\": 14.2, \"yref\": \"y\"}, {\"fillcolor\": \"green\", \"line\": {\"color\": \"green\"}, \"opacity\": 0.2, \"type\": \"circle\", \"x0\": 13000, \"x1\": 125000, \"xref\": \"x\", \"y0\": 1.81, \"y1\": 17.9, \"yref\": \"y\"}], \"template\": {\"data\": {\"bar\": [{\"error_x\": {\"color\": \"#2a3f5f\"}, \"error_y\": {\"color\": \"#2a3f5f\"}, \"marker\": {\"line\": {\"color\": \"#E5ECF6\", \"width\": 0.5}}, \"type\": \"bar\"}], \"barpolar\": [{\"marker\": {\"line\": {\"color\": \"#E5ECF6\", \"width\": 0.5}}, \"type\": \"barpolar\"}], \"carpet\": [{\"aaxis\": {\"endlinecolor\": \"#2a3f5f\", \"gridcolor\": \"white\", \"linecolor\": \"white\", \"minorgridcolor\": \"white\", \"startlinecolor\": \"#2a3f5f\"}, \"baxis\": {\"endlinecolor\": \"#2a3f5f\", \"gridcolor\": \"white\", \"linecolor\": \"white\", \"minorgridcolor\": \"white\", \"startlinecolor\": \"#2a3f5f\"}, \"type\": \"carpet\"}], \"choropleth\": [{\"colorbar\": {\"outlinewidth\": 0, \"ticks\": \"\"}, \"type\": \"choropleth\"}], \"contour\": [{\"colorbar\": {\"outlinewidth\": 0, \"ticks\": \"\"}, \"colorscale\": [[0.0, \"#0d0887\"], [0.1111111111111111, \"#46039f\"], [0.2222222222222222, \"#7201a8\"], [0.3333333333333333, \"#9c179e\"], [0.4444444444444444, \"#bd3786\"], [0.5555555555555556, \"#d8576b\"], [0.6666666666666666, \"#ed7953\"], [0.7777777777777778, \"#fb9f3a\"], [0.8888888888888888, \"#fdca26\"], [1.0, \"#f0f921\"]], \"type\": \"contour\"}], \"contourcarpet\": [{\"colorbar\": {\"outlinewidth\": 0, \"ticks\": \"\"}, \"type\": \"contourcarpet\"}], \"heatmap\": [{\"colorbar\": {\"outlinewidth\": 0, \"ticks\": \"\"}, \"colorscale\": [[0.0, \"#0d0887\"], [0.1111111111111111, \"#46039f\"], [0.2222222222222222, \"#7201a8\"], [0.3333333333333333, \"#9c179e\"], [0.4444444444444444, \"#bd3786\"], [0.5555555555555556, \"#d8576b\"], [0.6666666666666666, \"#ed7953\"], [0.7777777777777778, \"#fb9f3a\"], [0.8888888888888888, \"#fdca26\"], [1.0, \"#f0f921\"]], \"type\": \"heatmap\"}], \"heatmapgl\": [{\"colorbar\": {\"outlinewidth\": 0, \"ticks\": \"\"}, \"colorscale\": [[0.0, \"#0d0887\"], [0.1111111111111111, \"#46039f\"], [0.2222222222222222, \"#7201a8\"], [0.3333333333333333, \"#9c179e\"], [0.4444444444444444, \"#bd3786\"], [0.5555555555555556, \"#d8576b\"], [0.6666666666666666, \"#ed7953\"], [0.7777777777777778, \"#fb9f3a\"], [0.8888888888888888, \"#fdca26\"], [1.0, \"#f0f921\"]], \"type\": \"heatmapgl\"}], \"histogram\": [{\"marker\": {\"colorbar\": {\"outlinewidth\": 0, \"ticks\": \"\"}}, \"type\": \"histogram\"}], \"histogram2d\": [{\"colorbar\": {\"outlinewidth\": 0, \"ticks\": \"\"}, \"colorscale\": [[0.0, \"#0d0887\"], [0.1111111111111111, \"#46039f\"], [0.2222222222222222, \"#7201a8\"], [0.3333333333333333, \"#9c179e\"], [0.4444444444444444, \"#bd3786\"], [0.5555555555555556, \"#d8576b\"], [0.6666666666666666, \"#ed7953\"], [0.7777777777777778, \"#fb9f3a\"], [0.8888888888888888, \"#fdca26\"], [1.0, \"#f0f921\"]], \"type\": \"histogram2d\"}], \"histogram2dcontour\": [{\"colorbar\": {\"outlinewidth\": 0, \"ticks\": \"\"}, \"colorscale\": [[0.0, \"#0d0887\"], [0.1111111111111111, \"#46039f\"], [0.2222222222222222, \"#7201a8\"], [0.3333333333333333, \"#9c179e\"], [0.4444444444444444, \"#bd3786\"], [0.5555555555555556, \"#d8576b\"], [0.6666666666666666, \"#ed7953\"], [0.7777777777777778, \"#fb9f3a\"], [0.8888888888888888, \"#fdca26\"], [1.0, \"#f0f921\"]], \"type\": \"histogram2dcontour\"}], \"mesh3d\": [{\"colorbar\": {\"outlinewidth\": 0, \"ticks\": \"\"}, \"type\": \"mesh3d\"}], \"parcoords\": [{\"line\": {\"colorbar\": {\"outlinewidth\": 0, \"ticks\": \"\"}}, \"type\": \"parcoords\"}], \"pie\": [{\"automargin\": true, \"type\": \"pie\"}], \"scatter\": [{\"marker\": {\"colorbar\": {\"outlinewidth\": 0, \"ticks\": \"\"}}, \"type\": \"scatter\"}], \"scatter3d\": [{\"line\": {\"colorbar\": {\"outlinewidth\": 0, \"ticks\": \"\"}}, \"marker\": {\"colorbar\": {\"outlinewidth\": 0, \"ticks\": \"\"}}, \"type\": \"scatter3d\"}], \"scattercarpet\": [{\"marker\": {\"colorbar\": {\"outlinewidth\": 0, \"ticks\": \"\"}}, \"type\": \"scattercarpet\"}], \"scattergeo\": [{\"marker\": {\"colorbar\": {\"outlinewidth\": 0, \"ticks\": \"\"}}, \"type\": \"scattergeo\"}], \"scattergl\": [{\"marker\": {\"colorbar\": {\"outlinewidth\": 0, \"ticks\": \"\"}}, \"type\": \"scattergl\"}], \"scattermapbox\": [{\"marker\": {\"colorbar\": {\"outlinewidth\": 0, \"ticks\": \"\"}}, \"type\": \"scattermapbox\"}], \"scatterpolar\": [{\"marker\": {\"colorbar\": {\"outlinewidth\": 0, \"ticks\": \"\"}}, \"type\": \"scatterpolar\"}], \"scatterpolargl\": [{\"marker\": {\"colorbar\": {\"outlinewidth\": 0, \"ticks\": \"\"}}, \"type\": \"scatterpolargl\"}], \"scatterternary\": [{\"marker\": {\"colorbar\": {\"outlinewidth\": 0, \"ticks\": \"\"}}, \"type\": \"scatterternary\"}], \"surface\": [{\"colorbar\": {\"outlinewidth\": 0, \"ticks\": \"\"}, \"colorscale\": [[0.0, \"#0d0887\"], [0.1111111111111111, \"#46039f\"], [0.2222222222222222, \"#7201a8\"], [0.3333333333333333, \"#9c179e\"], [0.4444444444444444, \"#bd3786\"], [0.5555555555555556, \"#d8576b\"], [0.6666666666666666, \"#ed7953\"], [0.7777777777777778, \"#fb9f3a\"], [0.8888888888888888, \"#fdca26\"], [1.0, \"#f0f921\"]], \"type\": \"surface\"}], \"table\": [{\"cells\": {\"fill\": {\"color\": \"#EBF0F8\"}, \"line\": {\"color\": \"white\"}}, \"header\": {\"fill\": {\"color\": \"#C8D4E3\"}, \"line\": {\"color\": \"white\"}}, \"type\": \"table\"}]}, \"layout\": {\"annotationdefaults\": {\"arrowcolor\": \"#2a3f5f\", \"arrowhead\": 0, \"arrowwidth\": 1}, \"coloraxis\": {\"colorbar\": {\"outlinewidth\": 0, \"ticks\": \"\"}}, \"colorscale\": {\"diverging\": [[0, \"#8e0152\"], [0.1, \"#c51b7d\"], [0.2, \"#de77ae\"], [0.3, \"#f1b6da\"], [0.4, \"#fde0ef\"], [0.5, \"#f7f7f7\"], [0.6, \"#e6f5d0\"], [0.7, \"#b8e186\"], [0.8, \"#7fbc41\"], [0.9, \"#4d9221\"], [1, \"#276419\"]], \"sequential\": [[0.0, \"#0d0887\"], [0.1111111111111111, \"#46039f\"], [0.2222222222222222, \"#7201a8\"], [0.3333333333333333, \"#9c179e\"], [0.4444444444444444, \"#bd3786\"], [0.5555555555555556, \"#d8576b\"], [0.6666666666666666, \"#ed7953\"], [0.7777777777777778, \"#fb9f3a\"], [0.8888888888888888, \"#fdca26\"], [1.0, \"#f0f921\"]], \"sequentialminus\": [[0.0, \"#0d0887\"], [0.1111111111111111, \"#46039f\"], [0.2222222222222222, \"#7201a8\"], [0.3333333333333333, \"#9c179e\"], [0.4444444444444444, \"#bd3786\"], [0.5555555555555556, \"#d8576b\"], [0.6666666666666666, \"#ed7953\"], [0.7777777777777778, \"#fb9f3a\"], [0.8888888888888888, \"#fdca26\"], [1.0, \"#f0f921\"]]}, \"colorway\": [\"#636efa\", \"#EF553B\", \"#00cc96\", \"#ab63fa\", \"#FFA15A\", \"#19d3f3\", \"#FF6692\", \"#B6E880\", \"#FF97FF\", \"#FECB52\"], \"font\": {\"color\": \"#2a3f5f\"}, \"geo\": {\"bgcolor\": \"white\", \"lakecolor\": \"white\", \"landcolor\": \"#E5ECF6\", \"showlakes\": true, \"showland\": true, \"subunitcolor\": \"white\"}, \"hoverlabel\": {\"align\": \"left\"}, \"hovermode\": \"closest\", \"mapbox\": {\"style\": \"light\"}, \"paper_bgcolor\": \"white\", \"plot_bgcolor\": \"#E5ECF6\", \"polar\": {\"angularaxis\": {\"gridcolor\": \"white\", \"linecolor\": \"white\", \"ticks\": \"\"}, \"bgcolor\": \"#E5ECF6\", \"radialaxis\": {\"gridcolor\": \"white\", \"linecolor\": \"white\", \"ticks\": \"\"}}, \"scene\": {\"xaxis\": {\"backgroundcolor\": \"#E5ECF6\", \"gridcolor\": \"white\", \"gridwidth\": 2, \"linecolor\": \"white\", \"showbackground\": true, \"ticks\": \"\", \"zerolinecolor\": \"white\"}, \"yaxis\": {\"backgroundcolor\": \"#E5ECF6\", \"gridcolor\": \"white\", \"gridwidth\": 2, \"linecolor\": \"white\", \"showbackground\": true, \"ticks\": \"\", \"zerolinecolor\": \"white\"}, \"zaxis\": {\"backgroundcolor\": \"#E5ECF6\", \"gridcolor\": \"white\", \"gridwidth\": 2, \"linecolor\": \"white\", \"showbackground\": true, \"ticks\": \"\", \"zerolinecolor\": \"white\"}}, \"shapedefaults\": {\"line\": {\"color\": \"#2a3f5f\"}}, \"ternary\": {\"aaxis\": {\"gridcolor\": \"white\", \"linecolor\": \"white\", \"ticks\": \"\"}, \"baxis\": {\"gridcolor\": \"white\", \"linecolor\": \"white\", \"ticks\": \"\"}, \"bgcolor\": \"#E5ECF6\", \"caxis\": {\"gridcolor\": \"white\", \"linecolor\": \"white\", \"ticks\": \"\"}}, \"title\": {\"x\": 0.05}, \"xaxis\": {\"automargin\": true, \"gridcolor\": \"white\", \"linecolor\": \"white\", \"ticks\": \"\", \"title\": {\"standoff\": 15}, \"zerolinecolor\": \"white\", \"zerolinewidth\": 2}, \"yaxis\": {\"automargin\": true, \"gridcolor\": \"white\", \"linecolor\": \"white\", \"ticks\": \"\", \"title\": {\"standoff\": 15}, \"zerolinecolor\": \"white\", \"zerolinewidth\": 2}}}},\n",
              "                        {\"responsive\": true}\n",
              "                    ).then(function(){\n",
              "                            \n",
              "var gd = document.getElementById('4094521f-7ccc-4e45-8cf0-9e72f0b56864');\n",
              "var x = new MutationObserver(function (mutations, observer) {{\n",
              "        var display = window.getComputedStyle(gd).display;\n",
              "        if (!display || display === 'none') {{\n",
              "            console.log([gd, 'removed!']);\n",
              "            Plotly.purge(gd);\n",
              "            observer.disconnect();\n",
              "        }}\n",
              "}});\n",
              "\n",
              "// Listen for the removal of the full notebook cells\n",
              "var notebookContainer = gd.closest('#notebook-container');\n",
              "if (notebookContainer) {{\n",
              "    x.observe(notebookContainer, {childList: true});\n",
              "}}\n",
              "\n",
              "// Listen for the clearing of the current output cell\n",
              "var outputEl = gd.closest('.output');\n",
              "if (outputEl) {{\n",
              "    x.observe(outputEl, {childList: true});\n",
              "}}\n",
              "\n",
              "                        })\n",
              "                };\n",
              "                \n",
              "            </script>\n",
              "        </div>\n",
              "</body>\n",
              "</html>"
            ]
          },
          "metadata": {
            "tags": []
          }
        }
      ]
    },
    {
      "cell_type": "code",
      "metadata": {
        "id": "T6rbUpeKUmO8"
      },
      "source": [
        ""
      ],
      "execution_count": 31,
      "outputs": []
    }
  ]
}