{
  "nbformat": 4,
  "nbformat_minor": 0,
  "metadata": {
    "colab": {
      "name": "Heart_Diease_Classification.ipynb",
      "provenance": [],
      "collapsed_sections": [],
      "machine_shape": "hm",
      "include_colab_link": true
    },
    "kernelspec": {
      "name": "python3",
      "display_name": "Python 3"
    },
    "language_info": {
      "name": "python"
    },
    "accelerator": "GPU"
  },
  "cells": [
    {
      "cell_type": "markdown",
      "metadata": {
        "id": "view-in-github",
        "colab_type": "text"
      },
      "source": [
        "<a href=\"https://colab.research.google.com/github/TaeminDA/portfolio/blob/main/basic/binary/Heart_Diease_Classification.ipynb\" target=\"_parent\"><img src=\"https://colab.research.google.com/assets/colab-badge.svg\" alt=\"Open In Colab\"/></a>"
      ]
    },
    {
      "cell_type": "markdown",
      "metadata": {
        "id": "ZWjnfM84rNQ1"
      },
      "source": [
        "# Heart Diease Classification"
      ]
    },
    {
      "cell_type": "markdown",
      "metadata": {
        "id": "SfHnOsj_rmuk"
      },
      "source": [
        "## Import"
      ]
    },
    {
      "cell_type": "code",
      "metadata": {
        "id": "lQvgmcl5rmdp"
      },
      "source": [
        "import pandas as pd\n",
        "import numpy as np\n",
        "import matplotlib.pyplot as plt\n",
        "import seaborn as sns\n",
        "import tensorflow as tf\n",
        "from tensorflow import keras\n",
        "#from timeit import default_timer as timer\n",
        "#from datetime import timedelta"
      ],
      "execution_count": 1,
      "outputs": []
    },
    {
      "cell_type": "code",
      "metadata": {
        "id": "vfvi-lRJrJzi"
      },
      "source": [
        "heart = pd.read_csv(\"/content/heart.csv\")"
      ],
      "execution_count": 2,
      "outputs": []
    },
    {
      "cell_type": "markdown",
      "metadata": {
        "id": "7ieuY_Vfr8Nn"
      },
      "source": [
        "*   Age : Age of the patient 1: male, 0: female\n",
        "*   Sex : Sex of the patient\n",
        "*   Lexang: exercise induced angina (1 = yes; 0 = no)\n",
        "*   ca: number of major vessels (0-3)\n",
        "\n",
        "*   cp : Chest Pain type chest pain type\n",
        "Value 1: typical angina\n",
        "Value 2: atypical angina\n",
        "Value 3: non-anginal pain\n",
        "Value 4: asymptomatic\n",
        "*   trtbps : resting blood pressure (in mm Hg)\n",
        "*   chol : cholestoral in mg/dl fetched via BMI sensor\n",
        "*   fbs : (fasting blood sugar > 120 mg/dl) (1 = true; 0 = false)\n",
        "*   rest_ecg : resting electrocardiographic results\n",
        "Value 0: normal\n",
        "Value 1: having ST-T wave abnormality (T wave inversions and/or ST elevation or depression of > 0.05 mV)\n",
        "Value 2: showing probable or definite left ventricular hypertrophy by Estes' criteria\n",
        "* thalach : maximum heart rate achieved\n",
        "* target : 0= less chance of heart attack 1= more chance of heart attack"
      ]
    },
    {
      "cell_type": "code",
      "metadata": {
        "colab": {
          "base_uri": "https://localhost:8080/",
          "height": 204
        },
        "id": "Selo6iJfrhy8",
        "outputId": "4677fc84-5189-45d5-d20b-a352f77fb26a"
      },
      "source": [
        "heart.head()"
      ],
      "execution_count": 3,
      "outputs": [
        {
          "output_type": "execute_result",
          "data": {
            "text/html": [
              "<div>\n",
              "<style scoped>\n",
              "    .dataframe tbody tr th:only-of-type {\n",
              "        vertical-align: middle;\n",
              "    }\n",
              "\n",
              "    .dataframe tbody tr th {\n",
              "        vertical-align: top;\n",
              "    }\n",
              "\n",
              "    .dataframe thead th {\n",
              "        text-align: right;\n",
              "    }\n",
              "</style>\n",
              "<table border=\"1\" class=\"dataframe\">\n",
              "  <thead>\n",
              "    <tr style=\"text-align: right;\">\n",
              "      <th></th>\n",
              "      <th>age</th>\n",
              "      <th>sex</th>\n",
              "      <th>cp</th>\n",
              "      <th>trestbps</th>\n",
              "      <th>chol</th>\n",
              "      <th>fbs</th>\n",
              "      <th>restecg</th>\n",
              "      <th>thalach</th>\n",
              "      <th>exang</th>\n",
              "      <th>oldpeak</th>\n",
              "      <th>slope</th>\n",
              "      <th>ca</th>\n",
              "      <th>thal</th>\n",
              "      <th>target</th>\n",
              "    </tr>\n",
              "  </thead>\n",
              "  <tbody>\n",
              "    <tr>\n",
              "      <th>0</th>\n",
              "      <td>63</td>\n",
              "      <td>1</td>\n",
              "      <td>3</td>\n",
              "      <td>145</td>\n",
              "      <td>233</td>\n",
              "      <td>1</td>\n",
              "      <td>0</td>\n",
              "      <td>150</td>\n",
              "      <td>0</td>\n",
              "      <td>2.3</td>\n",
              "      <td>0</td>\n",
              "      <td>0</td>\n",
              "      <td>1</td>\n",
              "      <td>1</td>\n",
              "    </tr>\n",
              "    <tr>\n",
              "      <th>1</th>\n",
              "      <td>37</td>\n",
              "      <td>1</td>\n",
              "      <td>2</td>\n",
              "      <td>130</td>\n",
              "      <td>250</td>\n",
              "      <td>0</td>\n",
              "      <td>1</td>\n",
              "      <td>187</td>\n",
              "      <td>0</td>\n",
              "      <td>3.5</td>\n",
              "      <td>0</td>\n",
              "      <td>0</td>\n",
              "      <td>2</td>\n",
              "      <td>1</td>\n",
              "    </tr>\n",
              "    <tr>\n",
              "      <th>2</th>\n",
              "      <td>41</td>\n",
              "      <td>0</td>\n",
              "      <td>1</td>\n",
              "      <td>130</td>\n",
              "      <td>204</td>\n",
              "      <td>0</td>\n",
              "      <td>0</td>\n",
              "      <td>172</td>\n",
              "      <td>0</td>\n",
              "      <td>1.4</td>\n",
              "      <td>2</td>\n",
              "      <td>0</td>\n",
              "      <td>2</td>\n",
              "      <td>1</td>\n",
              "    </tr>\n",
              "    <tr>\n",
              "      <th>3</th>\n",
              "      <td>56</td>\n",
              "      <td>1</td>\n",
              "      <td>1</td>\n",
              "      <td>120</td>\n",
              "      <td>236</td>\n",
              "      <td>0</td>\n",
              "      <td>1</td>\n",
              "      <td>178</td>\n",
              "      <td>0</td>\n",
              "      <td>0.8</td>\n",
              "      <td>2</td>\n",
              "      <td>0</td>\n",
              "      <td>2</td>\n",
              "      <td>1</td>\n",
              "    </tr>\n",
              "    <tr>\n",
              "      <th>4</th>\n",
              "      <td>57</td>\n",
              "      <td>0</td>\n",
              "      <td>0</td>\n",
              "      <td>120</td>\n",
              "      <td>354</td>\n",
              "      <td>0</td>\n",
              "      <td>1</td>\n",
              "      <td>163</td>\n",
              "      <td>1</td>\n",
              "      <td>0.6</td>\n",
              "      <td>2</td>\n",
              "      <td>0</td>\n",
              "      <td>2</td>\n",
              "      <td>1</td>\n",
              "    </tr>\n",
              "  </tbody>\n",
              "</table>\n",
              "</div>"
            ],
            "text/plain": [
              "   age  sex  cp  trestbps  chol  fbs  ...  exang  oldpeak  slope  ca  thal  target\n",
              "0   63    1   3       145   233    1  ...      0      2.3      0   0     1       1\n",
              "1   37    1   2       130   250    0  ...      0      3.5      0   0     2       1\n",
              "2   41    0   1       130   204    0  ...      0      1.4      2   0     2       1\n",
              "3   56    1   1       120   236    0  ...      0      0.8      2   0     2       1\n",
              "4   57    0   0       120   354    0  ...      1      0.6      2   0     2       1\n",
              "\n",
              "[5 rows x 14 columns]"
            ]
          },
          "metadata": {
            "tags": []
          },
          "execution_count": 3
        }
      ]
    },
    {
      "cell_type": "code",
      "metadata": {
        "colab": {
          "base_uri": "https://localhost:8080/"
        },
        "id": "OuKEJ6lFsyYX",
        "outputId": "91a3e3e9-381c-4448-caa5-7a30e9e24076"
      },
      "source": [
        "heart.info()"
      ],
      "execution_count": 4,
      "outputs": [
        {
          "output_type": "stream",
          "text": [
            "<class 'pandas.core.frame.DataFrame'>\n",
            "RangeIndex: 303 entries, 0 to 302\n",
            "Data columns (total 14 columns):\n",
            " #   Column    Non-Null Count  Dtype  \n",
            "---  ------    --------------  -----  \n",
            " 0   age       303 non-null    int64  \n",
            " 1   sex       303 non-null    int64  \n",
            " 2   cp        303 non-null    int64  \n",
            " 3   trestbps  303 non-null    int64  \n",
            " 4   chol      303 non-null    int64  \n",
            " 5   fbs       303 non-null    int64  \n",
            " 6   restecg   303 non-null    int64  \n",
            " 7   thalach   303 non-null    int64  \n",
            " 8   exang     303 non-null    int64  \n",
            " 9   oldpeak   303 non-null    float64\n",
            " 10  slope     303 non-null    int64  \n",
            " 11  ca        303 non-null    int64  \n",
            " 12  thal      303 non-null    int64  \n",
            " 13  target    303 non-null    int64  \n",
            "dtypes: float64(1), int64(13)\n",
            "memory usage: 33.3 KB\n"
          ],
          "name": "stdout"
        }
      ]
    },
    {
      "cell_type": "code",
      "metadata": {
        "colab": {
          "base_uri": "https://localhost:8080/"
        },
        "id": "GTLh9FgVrhpU",
        "outputId": "1adc346e-a72b-45c7-ce0b-9e9df7951b75"
      },
      "source": [
        "for i in heart.columns:\n",
        "  print(i,\"unique value:\")\n",
        "  print(\"=>\", heart[i].unique())"
      ],
      "execution_count": 5,
      "outputs": [
        {
          "output_type": "stream",
          "text": [
            "age unique value:\n",
            "=> [63 37 41 56 57 44 52 54 48 49 64 58 50 66 43 69 59 42 61 40 71 51 65 53\n",
            " 46 45 39 47 62 34 35 29 55 60 67 68 74 76 70 38 77]\n",
            "sex unique value:\n",
            "=> [1 0]\n",
            "cp unique value:\n",
            "=> [3 2 1 0]\n",
            "trestbps unique value:\n",
            "=> [145 130 120 140 172 150 110 135 160 105 125 142 155 104 138 128 108 134\n",
            " 122 115 118 100 124  94 112 102 152 101 132 148 178 129 180 136 126 106\n",
            " 156 170 146 117 200 165 174 192 144 123 154 114 164]\n",
            "chol unique value:\n",
            "=> [233 250 204 236 354 192 294 263 199 168 239 275 266 211 283 219 340 226\n",
            " 247 234 243 302 212 175 417 197 198 177 273 213 304 232 269 360 308 245\n",
            " 208 264 321 325 235 257 216 256 231 141 252 201 222 260 182 303 265 309\n",
            " 186 203 183 220 209 258 227 261 221 205 240 318 298 564 277 214 248 255\n",
            " 207 223 288 160 394 315 246 244 270 195 196 254 126 313 262 215 193 271\n",
            " 268 267 210 295 306 178 242 180 228 149 278 253 342 157 286 229 284 224\n",
            " 206 167 230 335 276 353 225 330 290 172 305 188 282 185 326 274 164 307\n",
            " 249 341 407 217 174 281 289 322 299 300 293 184 409 259 200 327 237 218\n",
            " 319 166 311 169 187 176 241 131]\n",
            "fbs unique value:\n",
            "=> [1 0]\n",
            "restecg unique value:\n",
            "=> [0 1 2]\n",
            "thalach unique value:\n",
            "=> [150 187 172 178 163 148 153 173 162 174 160 139 171 144 158 114 151 161\n",
            " 179 137 157 123 152 168 140 188 125 170 165 142 180 143 182 156 115 149\n",
            " 146 175 186 185 159 130 190 132 147 154 202 166 164 184 122 169 138 111\n",
            " 145 194 131 133 155 167 192 121  96 126 105 181 116 108 129 120 112 128\n",
            " 109 113  99 177 141 136  97 127 103 124  88 195 106  95 117  71 118 134\n",
            "  90]\n",
            "exang unique value:\n",
            "=> [0 1]\n",
            "oldpeak unique value:\n",
            "=> [2.3 3.5 1.4 0.8 0.6 0.4 1.3 0.  0.5 1.6 1.2 0.2 1.8 1.  2.6 1.5 3.  2.4\n",
            " 0.1 1.9 4.2 1.1 2.  0.7 0.3 0.9 3.6 3.1 3.2 2.5 2.2 2.8 3.4 6.2 4.  5.6\n",
            " 2.9 2.1 3.8 4.4]\n",
            "slope unique value:\n",
            "=> [0 2 1]\n",
            "ca unique value:\n",
            "=> [0 2 1 3 4]\n",
            "thal unique value:\n",
            "=> [1 2 3 0]\n",
            "target unique value:\n",
            "=> [1 0]\n"
          ],
          "name": "stdout"
        }
      ]
    },
    {
      "cell_type": "code",
      "metadata": {
        "id": "FVIE_HNlrher"
      },
      "source": [
        "categorical_columns = [\"sex\",\"cp\",\"fbs\",\"restecg\",\"exang\",\"slope\",\"ca\",\"thal\"]"
      ],
      "execution_count": 6,
      "outputs": []
    },
    {
      "cell_type": "markdown",
      "metadata": {
        "id": "63tDSp0IriS-"
      },
      "source": [
        "## EDA"
      ]
    },
    {
      "cell_type": "code",
      "metadata": {
        "id": "PTQAJAsZC4_-"
      },
      "source": [
        "EDA = heart.copy()"
      ],
      "execution_count": 7,
      "outputs": []
    },
    {
      "cell_type": "code",
      "metadata": {
        "id": "RQqBv0EYAQQv"
      },
      "source": [
        "EDA.sex = EDA.sex.astype('str')"
      ],
      "execution_count": 8,
      "outputs": []
    },
    {
      "cell_type": "code",
      "metadata": {
        "colab": {
          "base_uri": "https://localhost:8080/"
        },
        "id": "8yi2SWWI_b7a",
        "outputId": "c1ae5000-5629-4e5b-8da8-81480dbf8414"
      },
      "source": [
        "EDA.sex[EDA.sex == '0'] = 'female'\n",
        "EDA.sex[EDA.sex == '1'] = 'male'"
      ],
      "execution_count": 9,
      "outputs": [
        {
          "output_type": "stream",
          "text": [
            "/usr/local/lib/python3.7/dist-packages/ipykernel_launcher.py:1: SettingWithCopyWarning: \n",
            "A value is trying to be set on a copy of a slice from a DataFrame\n",
            "\n",
            "See the caveats in the documentation: https://pandas.pydata.org/pandas-docs/stable/user_guide/indexing.html#returning-a-view-versus-a-copy\n",
            "  \"\"\"Entry point for launching an IPython kernel.\n",
            "/usr/local/lib/python3.7/dist-packages/ipykernel_launcher.py:2: SettingWithCopyWarning: \n",
            "A value is trying to be set on a copy of a slice from a DataFrame\n",
            "\n",
            "See the caveats in the documentation: https://pandas.pydata.org/pandas-docs/stable/user_guide/indexing.html#returning-a-view-versus-a-copy\n",
            "  \n"
          ],
          "name": "stderr"
        }
      ]
    },
    {
      "cell_type": "code",
      "metadata": {
        "colab": {
          "base_uri": "https://localhost:8080/"
        },
        "id": "cZdFZN238rfC",
        "outputId": "c2ce0b67-8737-4174-99e8-82694a850267"
      },
      "source": [
        "EDA.columns"
      ],
      "execution_count": 10,
      "outputs": [
        {
          "output_type": "execute_result",
          "data": {
            "text/plain": [
              "Index(['age', 'sex', 'cp', 'trestbps', 'chol', 'fbs', 'restecg', 'thalach',\n",
              "       'exang', 'oldpeak', 'slope', 'ca', 'thal', 'target'],\n",
              "      dtype='object')"
            ]
          },
          "metadata": {
            "tags": []
          },
          "execution_count": 10
        }
      ]
    },
    {
      "cell_type": "code",
      "metadata": {
        "colab": {
          "base_uri": "https://localhost:8080/",
          "height": 920
        },
        "id": "MUJxMgoi6u2r",
        "outputId": "deeee2cd-890e-40d7-8d3b-9290d81d9163"
      },
      "source": [
        "sns.set_style(\"whitegrid\")\n",
        "sns.pairplot(EDA[['age', 'trestbps', 'chol', 'thalach', 'oldpeak']])"
      ],
      "execution_count": 11,
      "outputs": [
        {
          "output_type": "execute_result",
          "data": {
            "text/plain": [
              "<seaborn.axisgrid.PairGrid at 0x7f0bfe2f1190>"
            ]
          },
          "metadata": {
            "tags": []
          },
          "execution_count": 11
        },
        {
          "output_type": "display_data",
          "data": {
            "image/png": "[encoded data removed]",
            "text/plain": [
              "<Figure size 900x900 with 30 Axes>"
            ]
          },
          "metadata": {
            "tags": []
          }
        }
      ]
    },
    {
      "cell_type": "code",
      "metadata": {
        "id": "RSmhYeaX9JQD"
      },
      "source": [
        ""
      ],
      "execution_count": 11,
      "outputs": []
    },
    {
      "cell_type": "code",
      "metadata": {
        "colab": {
          "base_uri": "https://localhost:8080/",
          "height": 510
        },
        "id": "4ZDWW1ijxpvr",
        "outputId": "78a35e0a-f876-48c4-d446-99ebeee22f9e"
      },
      "source": [
        "fig, ax = plt.subplots(1,3, figsize = (15,7))\n",
        "\n",
        "sns.histplot(x='age', data =EDA,  ax = ax[0])\n",
        "sns.histplot(x='age', data =EDA[EDA.sex == 'male'], ax = ax[1])\n",
        "sns.histplot(x='age', data =EDA[EDA.sex == 'female'], ax = ax[2])\n",
        "\n",
        "ax[0].set_title('Whole')\n",
        "ax[1].set_title('Male')\n",
        "ax[2].set_title('Female')\n",
        "\n",
        "plt.suptitle(\"Age Distribution\")"
      ],
      "execution_count": 12,
      "outputs": [
        {
          "output_type": "execute_result",
          "data": {
            "text/plain": [
              "Text(0.5, 0.98, 'Age Distribution')"
            ]
          },
          "metadata": {
            "tags": []
          },
          "execution_count": 12
        },
        {
          "output_type": "display_data",
          "data": {
            "image/png": "[encoded data removed]",
            "text/plain": [
              "<Figure size 1080x504 with 3 Axes>"
            ]
          },
          "metadata": {
            "tags": []
          }
        }
      ]
    },
    {
      "cell_type": "code",
      "metadata": {
        "colab": {
          "base_uri": "https://localhost:8080/",
          "height": 296
        },
        "id": "U7fUHMAG_NtQ",
        "outputId": "2efc60e6-0b2d-4015-ae96-52e571d3c5b1"
      },
      "source": [
        "sns.histplot(x = \"sex\", data = EDA)"
      ],
      "execution_count": 13,
      "outputs": [
        {
          "output_type": "execute_result",
          "data": {
            "text/plain": [
              "<matplotlib.axes._subplots.AxesSubplot at 0x7f0bb25ee7d0>"
            ]
          },
          "metadata": {
            "tags": []
          },
          "execution_count": 13
        },
        {
          "output_type": "display_data",
          "data": {
            "image/png": "[encoded data removed]",
            "text/plain": [
              "<Figure size 432x288 with 1 Axes>"
            ]
          },
          "metadata": {
            "tags": []
          }
        }
      ]
    },
    {
      "cell_type": "code",
      "metadata": {
        "colab": {
          "base_uri": "https://localhost:8080/",
          "height": 459
        },
        "id": "FqOKJqxMndMj",
        "outputId": "49f1a328-1ebf-491d-8016-5a9feac229b3"
      },
      "source": [
        "fig, ax = plt.subplots(1,2, figsize = (12,7))\n",
        "\n",
        "sns.boxplot(x = 'sex', y = 'thalach', data = EDA, ax = ax[0])\n",
        "sns.boxplot(x = 'target', y = 'thalach', data = EDA, ax = ax[1])"
      ],
      "execution_count": 14,
      "outputs": [
        {
          "output_type": "execute_result",
          "data": {
            "text/plain": [
              "<matplotlib.axes._subplots.AxesSubplot at 0x7f0bb07890d0>"
            ]
          },
          "metadata": {
            "tags": []
          },
          "execution_count": 14
        },
        {
          "output_type": "display_data",
          "data": {
            "image/png": "[encoded data removed]",
            "text/plain": [
              "<Figure size 864x504 with 2 Axes>"
            ]
          },
          "metadata": {
            "tags": []
          }
        }
      ]
    },
    {
      "cell_type": "code",
      "metadata": {
        "id": "yhUiTkxhrTap"
      },
      "source": [
        "male_1_index = (EDA.target == 1) & (EDA.sex == 'male')\n",
        "female_1_index = (EDA.target == 1) & (EDA.sex == 'female')\n",
        "\n",
        "male_0_index = (EDA.target == 0) & (EDA.sex == 'male')\n",
        "female_0_index = (EDA.target == 0) & (EDA.sex == 'female')"
      ],
      "execution_count": 15,
      "outputs": []
    },
    {
      "cell_type": "code",
      "metadata": {
        "id": "BQe2zbBDsNh2"
      },
      "source": [
        "prop_male_1 = sum(male_1_index)/sum(EDA.sex == 'male')\n",
        "prop_female_1 = sum(female_1_index)/sum(EDA.sex == 'female')"
      ],
      "execution_count": 16,
      "outputs": []
    },
    {
      "cell_type": "code",
      "metadata": {
        "colab": {
          "base_uri": "https://localhost:8080/"
        },
        "id": "JBsmDNfFshzo",
        "outputId": "8217b639-56fd-42af-ee22-1f2120c87879"
      },
      "source": [
        "print('The percetage of males who have the heart diese',prop_male_1)\n",
        "print('The percetage of females who have the heart diese',prop_female_1)"
      ],
      "execution_count": 17,
      "outputs": [
        {
          "output_type": "stream",
          "text": [
            "The percetage of males who have the heart diese 0.4492753623188406\n",
            "The percetage of females who have the heart diese 0.75\n"
          ],
          "name": "stdout"
        }
      ]
    },
    {
      "cell_type": "code",
      "metadata": {
        "id": "JJvxhgr0s0Yv"
      },
      "source": [
        "prop_male_0 = sum(male_0_index)/sum(EDA.sex == 'male')\n",
        "prop_female_0 = sum(female_0_index)/sum(EDA.sex == 'female')"
      ],
      "execution_count": 18,
      "outputs": []
    },
    {
      "cell_type": "code",
      "metadata": {
        "colab": {
          "base_uri": "https://localhost:8080/"
        },
        "id": "2qPb6OEVs6Iz",
        "outputId": "8d94bc34-27c5-4324-93ac-e45cb9730ffa"
      },
      "source": [
        "# must be 1\n",
        "print(prop_male_0 + prop_male_1)\n",
        "print(prop_female_0 + prop_female_1)"
      ],
      "execution_count": 19,
      "outputs": [
        {
          "output_type": "stream",
          "text": [
            "1.0\n",
            "1.0\n"
          ],
          "name": "stdout"
        }
      ]
    },
    {
      "cell_type": "code",
      "metadata": {
        "colab": {
          "base_uri": "https://localhost:8080/",
          "height": 381
        },
        "id": "8n5BEGiCtZZ3",
        "outputId": "d29dc521-0f6a-4c8e-b7ee-4538ac41d873"
      },
      "source": [
        "fig, ax = plt.subplots(1,2, figsize=(10,6))\n",
        "\n",
        "ax[0].pie(x=[prop_male_0,prop_male_1], autopct=\"%.1f%%\", explode=[0.01]*2, labels=[\"Dieses\",\"No Dieses\"], pctdistance=0.5)\n",
        "ax[1].pie(x=[prop_female_0,prop_female_1], autopct=\"%.1f%%\", explode=[0.01]*2, labels=[\"Dieses\",\"No Dieses\"], pctdistance=0.5)\n",
        "\n",
        "ax[0].set_title('Male')\n",
        "ax[1].set_title('Female')\n",
        "\n",
        "fig.suptitle(\"Percentage\")"
      ],
      "execution_count": 20,
      "outputs": [
        {
          "output_type": "execute_result",
          "data": {
            "text/plain": [
              "Text(0.5, 0.98, 'Percentage')"
            ]
          },
          "metadata": {
            "tags": []
          },
          "execution_count": 20
        },
        {
          "output_type": "display_data",
          "data": {
            "image/png": "[encoded data removed]",
            "text/plain": [
              "<Figure size 720x432 with 2 Axes>"
            ]
          },
          "metadata": {
            "tags": []
          }
        }
      ]
    },
    {
      "cell_type": "markdown",
      "metadata": {
        "id": "7LOffSzkwGjj"
      },
      "source": [
        "***"
      ]
    },
    {
      "cell_type": "markdown",
      "metadata": {
        "id": "j80dL4Pyv-OI"
      },
      "source": [
        "## Data Engineering"
      ]
    },
    {
      "cell_type": "code",
      "metadata": {
        "id": "t67Ur6b-tfof"
      },
      "source": [
        "y = heart.target\n",
        "X = heart.drop([\"target\"], axis = 1)"
      ],
      "execution_count": 21,
      "outputs": []
    },
    {
      "cell_type": "markdown",
      "metadata": {
        "id": "mLYDE0Fqt_vi"
      },
      "source": [
        "### One Hot Encoding"
      ]
    },
    {
      "cell_type": "code",
      "metadata": {
        "id": "3x8esCcFt_Jm"
      },
      "source": [
        "from sklearn.preprocessing import OneHotEncoder\n",
        "ohe = OneHotEncoder(drop='first')"
      ],
      "execution_count": 22,
      "outputs": []
    },
    {
      "cell_type": "code",
      "metadata": {
        "id": "sszZt7yluE1I"
      },
      "source": [
        "non_categorical = ['age', 'trestbps', 'chol', 'thalach', 'oldpeak']"
      ],
      "execution_count": 23,
      "outputs": []
    },
    {
      "cell_type": "code",
      "metadata": {
        "id": "Vqm-Z3_RuWCB"
      },
      "source": [
        "ohe_dataset = ohe.fit_transform(heart[categorical_columns])\n",
        "columns_ohe = ohe.get_feature_names(input_features = heart[categorical_columns].columns)\n",
        "ohe_dataset = pd.DataFrame(ohe_dataset.toarray())\n",
        "ohe_dataset.columns = columns_ohe\n",
        "X_OH = pd.concat([X.drop(categorical_columns,axis = 1),ohe_dataset],axis = 1)"
      ],
      "execution_count": 24,
      "outputs": []
    },
    {
      "cell_type": "code",
      "metadata": {
        "colab": {
          "base_uri": "https://localhost:8080/",
          "height": 204
        },
        "id": "U538PrSqtv0t",
        "outputId": "6986ae3e-bc65-4c61-d5ee-6c3da6a438bd"
      },
      "source": [
        "# One Hot Encoding\n",
        "X_OH.head()"
      ],
      "execution_count": 25,
      "outputs": [
        {
          "output_type": "execute_result",
          "data": {
            "text/html": [
              "<div>\n",
              "<style scoped>\n",
              "    .dataframe tbody tr th:only-of-type {\n",
              "        vertical-align: middle;\n",
              "    }\n",
              "\n",
              "    .dataframe tbody tr th {\n",
              "        vertical-align: top;\n",
              "    }\n",
              "\n",
              "    .dataframe thead th {\n",
              "        text-align: right;\n",
              "    }\n",
              "</style>\n",
              "<table border=\"1\" class=\"dataframe\">\n",
              "  <thead>\n",
              "    <tr style=\"text-align: right;\">\n",
              "      <th></th>\n",
              "      <th>age</th>\n",
              "      <th>trestbps</th>\n",
              "      <th>chol</th>\n",
              "      <th>thalach</th>\n",
              "      <th>oldpeak</th>\n",
              "      <th>sex_1</th>\n",
              "      <th>cp_1</th>\n",
              "      <th>cp_2</th>\n",
              "      <th>cp_3</th>\n",
              "      <th>fbs_1</th>\n",
              "      <th>restecg_1</th>\n",
              "      <th>restecg_2</th>\n",
              "      <th>exang_1</th>\n",
              "      <th>slope_1</th>\n",
              "      <th>slope_2</th>\n",
              "      <th>ca_1</th>\n",
              "      <th>ca_2</th>\n",
              "      <th>ca_3</th>\n",
              "      <th>ca_4</th>\n",
              "      <th>thal_1</th>\n",
              "      <th>thal_2</th>\n",
              "      <th>thal_3</th>\n",
              "    </tr>\n",
              "  </thead>\n",
              "  <tbody>\n",
              "    <tr>\n",
              "      <th>0</th>\n",
              "      <td>63</td>\n",
              "      <td>145</td>\n",
              "      <td>233</td>\n",
              "      <td>150</td>\n",
              "      <td>2.3</td>\n",
              "      <td>1.0</td>\n",
              "      <td>0.0</td>\n",
              "      <td>0.0</td>\n",
              "      <td>1.0</td>\n",
              "      <td>1.0</td>\n",
              "      <td>0.0</td>\n",
              "      <td>0.0</td>\n",
              "      <td>0.0</td>\n",
              "      <td>0.0</td>\n",
              "      <td>0.0</td>\n",
              "      <td>0.0</td>\n",
              "      <td>0.0</td>\n",
              "      <td>0.0</td>\n",
              "      <td>0.0</td>\n",
              "      <td>1.0</td>\n",
              "      <td>0.0</td>\n",
              "      <td>0.0</td>\n",
              "    </tr>\n",
              "    <tr>\n",
              "      <th>1</th>\n",
              "      <td>37</td>\n",
              "      <td>130</td>\n",
              "      <td>250</td>\n",
              "      <td>187</td>\n",
              "      <td>3.5</td>\n",
              "      <td>1.0</td>\n",
              "      <td>0.0</td>\n",
              "      <td>1.0</td>\n",
              "      <td>0.0</td>\n",
              "      <td>0.0</td>\n",
              "      <td>1.0</td>\n",
              "      <td>0.0</td>\n",
              "      <td>0.0</td>\n",
              "      <td>0.0</td>\n",
              "      <td>0.0</td>\n",
              "      <td>0.0</td>\n",
              "      <td>0.0</td>\n",
              "      <td>0.0</td>\n",
              "      <td>0.0</td>\n",
              "      <td>0.0</td>\n",
              "      <td>1.0</td>\n",
              "      <td>0.0</td>\n",
              "    </tr>\n",
              "    <tr>\n",
              "      <th>2</th>\n",
              "      <td>41</td>\n",
              "      <td>130</td>\n",
              "      <td>204</td>\n",
              "      <td>172</td>\n",
              "      <td>1.4</td>\n",
              "      <td>0.0</td>\n",
              "      <td>1.0</td>\n",
              "      <td>0.0</td>\n",
              "      <td>0.0</td>\n",
              "      <td>0.0</td>\n",
              "      <td>0.0</td>\n",
              "      <td>0.0</td>\n",
              "      <td>0.0</td>\n",
              "      <td>0.0</td>\n",
              "      <td>1.0</td>\n",
              "      <td>0.0</td>\n",
              "      <td>0.0</td>\n",
              "      <td>0.0</td>\n",
              "      <td>0.0</td>\n",
              "      <td>0.0</td>\n",
              "      <td>1.0</td>\n",
              "      <td>0.0</td>\n",
              "    </tr>\n",
              "    <tr>\n",
              "      <th>3</th>\n",
              "      <td>56</td>\n",
              "      <td>120</td>\n",
              "      <td>236</td>\n",
              "      <td>178</td>\n",
              "      <td>0.8</td>\n",
              "      <td>1.0</td>\n",
              "      <td>1.0</td>\n",
              "      <td>0.0</td>\n",
              "      <td>0.0</td>\n",
              "      <td>0.0</td>\n",
              "      <td>1.0</td>\n",
              "      <td>0.0</td>\n",
              "      <td>0.0</td>\n",
              "      <td>0.0</td>\n",
              "      <td>1.0</td>\n",
              "      <td>0.0</td>\n",
              "      <td>0.0</td>\n",
              "      <td>0.0</td>\n",
              "      <td>0.0</td>\n",
              "      <td>0.0</td>\n",
              "      <td>1.0</td>\n",
              "      <td>0.0</td>\n",
              "    </tr>\n",
              "    <tr>\n",
              "      <th>4</th>\n",
              "      <td>57</td>\n",
              "      <td>120</td>\n",
              "      <td>354</td>\n",
              "      <td>163</td>\n",
              "      <td>0.6</td>\n",
              "      <td>0.0</td>\n",
              "      <td>0.0</td>\n",
              "      <td>0.0</td>\n",
              "      <td>0.0</td>\n",
              "      <td>0.0</td>\n",
              "      <td>1.0</td>\n",
              "      <td>0.0</td>\n",
              "      <td>1.0</td>\n",
              "      <td>0.0</td>\n",
              "      <td>1.0</td>\n",
              "      <td>0.0</td>\n",
              "      <td>0.0</td>\n",
              "      <td>0.0</td>\n",
              "      <td>0.0</td>\n",
              "      <td>0.0</td>\n",
              "      <td>1.0</td>\n",
              "      <td>0.0</td>\n",
              "    </tr>\n",
              "  </tbody>\n",
              "</table>\n",
              "</div>"
            ],
            "text/plain": [
              "   age  trestbps  chol  thalach  oldpeak  ...  ca_3  ca_4  thal_1  thal_2  thal_3\n",
              "0   63       145   233      150      2.3  ...   0.0   0.0     1.0     0.0     0.0\n",
              "1   37       130   250      187      3.5  ...   0.0   0.0     0.0     1.0     0.0\n",
              "2   41       130   204      172      1.4  ...   0.0   0.0     0.0     1.0     0.0\n",
              "3   56       120   236      178      0.8  ...   0.0   0.0     0.0     1.0     0.0\n",
              "4   57       120   354      163      0.6  ...   0.0   0.0     0.0     1.0     0.0\n",
              "\n",
              "[5 rows x 22 columns]"
            ]
          },
          "metadata": {
            "tags": []
          },
          "execution_count": 25
        }
      ]
    },
    {
      "cell_type": "markdown",
      "metadata": {
        "id": "PPFlGx_PvKwx"
      },
      "source": [
        "### Normalization"
      ]
    },
    {
      "cell_type": "code",
      "metadata": {
        "id": "hc9fbZinvKEI"
      },
      "source": [
        "from sklearn.preprocessing import MinMaxScaler\n",
        "scaler = MinMaxScaler()\n",
        "\n",
        "min_heart = X_OH.min()\n",
        "max_heart = X_OH.max()\n",
        "\n",
        "X_normalized = scaler.fit_transform(X_OH)\n",
        "\n",
        "X_normalized = pd.DataFrame(X_normalized)\n",
        "\n",
        "X_normalized.columns = X_OH.columns"
      ],
      "execution_count": 26,
      "outputs": []
    },
    {
      "cell_type": "code",
      "metadata": {
        "colab": {
          "base_uri": "https://localhost:8080/",
          "height": 204
        },
        "id": "DX9yKXDxvttw",
        "outputId": "a189c219-3a06-467d-f8a3-bfb401ea93a0"
      },
      "source": [
        "X_normalized.head()"
      ],
      "execution_count": 27,
      "outputs": [
        {
          "output_type": "execute_result",
          "data": {
            "text/html": [
              "<div>\n",
              "<style scoped>\n",
              "    .dataframe tbody tr th:only-of-type {\n",
              "        vertical-align: middle;\n",
              "    }\n",
              "\n",
              "    .dataframe tbody tr th {\n",
              "        vertical-align: top;\n",
              "    }\n",
              "\n",
              "    .dataframe thead th {\n",
              "        text-align: right;\n",
              "    }\n",
              "</style>\n",
              "<table border=\"1\" class=\"dataframe\">\n",
              "  <thead>\n",
              "    <tr style=\"text-align: right;\">\n",
              "      <th></th>\n",
              "      <th>age</th>\n",
              "      <th>trestbps</th>\n",
              "      <th>chol</th>\n",
              "      <th>thalach</th>\n",
              "      <th>oldpeak</th>\n",
              "      <th>sex_1</th>\n",
              "      <th>cp_1</th>\n",
              "      <th>cp_2</th>\n",
              "      <th>cp_3</th>\n",
              "      <th>fbs_1</th>\n",
              "      <th>restecg_1</th>\n",
              "      <th>restecg_2</th>\n",
              "      <th>exang_1</th>\n",
              "      <th>slope_1</th>\n",
              "      <th>slope_2</th>\n",
              "      <th>ca_1</th>\n",
              "      <th>ca_2</th>\n",
              "      <th>ca_3</th>\n",
              "      <th>ca_4</th>\n",
              "      <th>thal_1</th>\n",
              "      <th>thal_2</th>\n",
              "      <th>thal_3</th>\n",
              "    </tr>\n",
              "  </thead>\n",
              "  <tbody>\n",
              "    <tr>\n",
              "      <th>0</th>\n",
              "      <td>0.708333</td>\n",
              "      <td>0.481132</td>\n",
              "      <td>0.244292</td>\n",
              "      <td>0.603053</td>\n",
              "      <td>0.370968</td>\n",
              "      <td>1.0</td>\n",
              "      <td>0.0</td>\n",
              "      <td>0.0</td>\n",
              "      <td>1.0</td>\n",
              "      <td>1.0</td>\n",
              "      <td>0.0</td>\n",
              "      <td>0.0</td>\n",
              "      <td>0.0</td>\n",
              "      <td>0.0</td>\n",
              "      <td>0.0</td>\n",
              "      <td>0.0</td>\n",
              "      <td>0.0</td>\n",
              "      <td>0.0</td>\n",
              "      <td>0.0</td>\n",
              "      <td>1.0</td>\n",
              "      <td>0.0</td>\n",
              "      <td>0.0</td>\n",
              "    </tr>\n",
              "    <tr>\n",
              "      <th>1</th>\n",
              "      <td>0.166667</td>\n",
              "      <td>0.339623</td>\n",
              "      <td>0.283105</td>\n",
              "      <td>0.885496</td>\n",
              "      <td>0.564516</td>\n",
              "      <td>1.0</td>\n",
              "      <td>0.0</td>\n",
              "      <td>1.0</td>\n",
              "      <td>0.0</td>\n",
              "      <td>0.0</td>\n",
              "      <td>1.0</td>\n",
              "      <td>0.0</td>\n",
              "      <td>0.0</td>\n",
              "      <td>0.0</td>\n",
              "      <td>0.0</td>\n",
              "      <td>0.0</td>\n",
              "      <td>0.0</td>\n",
              "      <td>0.0</td>\n",
              "      <td>0.0</td>\n",
              "      <td>0.0</td>\n",
              "      <td>1.0</td>\n",
              "      <td>0.0</td>\n",
              "    </tr>\n",
              "    <tr>\n",
              "      <th>2</th>\n",
              "      <td>0.250000</td>\n",
              "      <td>0.339623</td>\n",
              "      <td>0.178082</td>\n",
              "      <td>0.770992</td>\n",
              "      <td>0.225806</td>\n",
              "      <td>0.0</td>\n",
              "      <td>1.0</td>\n",
              "      <td>0.0</td>\n",
              "      <td>0.0</td>\n",
              "      <td>0.0</td>\n",
              "      <td>0.0</td>\n",
              "      <td>0.0</td>\n",
              "      <td>0.0</td>\n",
              "      <td>0.0</td>\n",
              "      <td>1.0</td>\n",
              "      <td>0.0</td>\n",
              "      <td>0.0</td>\n",
              "      <td>0.0</td>\n",
              "      <td>0.0</td>\n",
              "      <td>0.0</td>\n",
              "      <td>1.0</td>\n",
              "      <td>0.0</td>\n",
              "    </tr>\n",
              "    <tr>\n",
              "      <th>3</th>\n",
              "      <td>0.562500</td>\n",
              "      <td>0.245283</td>\n",
              "      <td>0.251142</td>\n",
              "      <td>0.816794</td>\n",
              "      <td>0.129032</td>\n",
              "      <td>1.0</td>\n",
              "      <td>1.0</td>\n",
              "      <td>0.0</td>\n",
              "      <td>0.0</td>\n",
              "      <td>0.0</td>\n",
              "      <td>1.0</td>\n",
              "      <td>0.0</td>\n",
              "      <td>0.0</td>\n",
              "      <td>0.0</td>\n",
              "      <td>1.0</td>\n",
              "      <td>0.0</td>\n",
              "      <td>0.0</td>\n",
              "      <td>0.0</td>\n",
              "      <td>0.0</td>\n",
              "      <td>0.0</td>\n",
              "      <td>1.0</td>\n",
              "      <td>0.0</td>\n",
              "    </tr>\n",
              "    <tr>\n",
              "      <th>4</th>\n",
              "      <td>0.583333</td>\n",
              "      <td>0.245283</td>\n",
              "      <td>0.520548</td>\n",
              "      <td>0.702290</td>\n",
              "      <td>0.096774</td>\n",
              "      <td>0.0</td>\n",
              "      <td>0.0</td>\n",
              "      <td>0.0</td>\n",
              "      <td>0.0</td>\n",
              "      <td>0.0</td>\n",
              "      <td>1.0</td>\n",
              "      <td>0.0</td>\n",
              "      <td>1.0</td>\n",
              "      <td>0.0</td>\n",
              "      <td>1.0</td>\n",
              "      <td>0.0</td>\n",
              "      <td>0.0</td>\n",
              "      <td>0.0</td>\n",
              "      <td>0.0</td>\n",
              "      <td>0.0</td>\n",
              "      <td>1.0</td>\n",
              "      <td>0.0</td>\n",
              "    </tr>\n",
              "  </tbody>\n",
              "</table>\n",
              "</div>"
            ],
            "text/plain": [
              "        age  trestbps      chol   thalach  ...  ca_4  thal_1  thal_2  thal_3\n",
              "0  0.708333  0.481132  0.244292  0.603053  ...   0.0     1.0     0.0     0.0\n",
              "1  0.166667  0.339623  0.283105  0.885496  ...   0.0     0.0     1.0     0.0\n",
              "2  0.250000  0.339623  0.178082  0.770992  ...   0.0     0.0     1.0     0.0\n",
              "3  0.562500  0.245283  0.251142  0.816794  ...   0.0     0.0     1.0     0.0\n",
              "4  0.583333  0.245283  0.520548  0.702290  ...   0.0     0.0     1.0     0.0\n",
              "\n",
              "[5 rows x 22 columns]"
            ]
          },
          "metadata": {
            "tags": []
          },
          "execution_count": 27
        }
      ]
    },
    {
      "cell_type": "code",
      "metadata": {
        "id": "tCObFAvxKwC4"
      },
      "source": [
        "from sklearn.preprocessing import StandardScaler\n",
        "scaler = StandardScaler()\n",
        "\n",
        "min_heart = X_OH.min()\n",
        "max_heart = X_OH.max()\n",
        "\n",
        "X_std = scaler.fit_transform(X_OH)\n",
        "\n",
        "X_std = pd.DataFrame(X_std)\n",
        "\n",
        "X_std.columns = X_OH.columns"
      ],
      "execution_count": 28,
      "outputs": []
    },
    {
      "cell_type": "code",
      "metadata": {
        "colab": {
          "base_uri": "https://localhost:8080/",
          "height": 204
        },
        "id": "pz9skFGoK7vZ",
        "outputId": "0fd18c48-e536-4164-9eff-3fcb9deefc9d"
      },
      "source": [
        "X_std.head()"
      ],
      "execution_count": 29,
      "outputs": [
        {
          "output_type": "execute_result",
          "data": {
            "text/html": [
              "<div>\n",
              "<style scoped>\n",
              "    .dataframe tbody tr th:only-of-type {\n",
              "        vertical-align: middle;\n",
              "    }\n",
              "\n",
              "    .dataframe tbody tr th {\n",
              "        vertical-align: top;\n",
              "    }\n",
              "\n",
              "    .dataframe thead th {\n",
              "        text-align: right;\n",
              "    }\n",
              "</style>\n",
              "<table border=\"1\" class=\"dataframe\">\n",
              "  <thead>\n",
              "    <tr style=\"text-align: right;\">\n",
              "      <th></th>\n",
              "      <th>age</th>\n",
              "      <th>trestbps</th>\n",
              "      <th>chol</th>\n",
              "      <th>thalach</th>\n",
              "      <th>oldpeak</th>\n",
              "      <th>sex_1</th>\n",
              "      <th>cp_1</th>\n",
              "      <th>cp_2</th>\n",
              "      <th>cp_3</th>\n",
              "      <th>fbs_1</th>\n",
              "      <th>restecg_1</th>\n",
              "      <th>restecg_2</th>\n",
              "      <th>exang_1</th>\n",
              "      <th>slope_1</th>\n",
              "      <th>slope_2</th>\n",
              "      <th>ca_1</th>\n",
              "      <th>ca_2</th>\n",
              "      <th>ca_3</th>\n",
              "      <th>ca_4</th>\n",
              "      <th>thal_1</th>\n",
              "      <th>thal_2</th>\n",
              "      <th>thal_3</th>\n",
              "    </tr>\n",
              "  </thead>\n",
              "  <tbody>\n",
              "    <tr>\n",
              "      <th>0</th>\n",
              "      <td>0.952197</td>\n",
              "      <td>0.763956</td>\n",
              "      <td>-0.256334</td>\n",
              "      <td>0.015443</td>\n",
              "      <td>1.087338</td>\n",
              "      <td>0.681005</td>\n",
              "      <td>-0.444554</td>\n",
              "      <td>-0.634648</td>\n",
              "      <td>3.489114</td>\n",
              "      <td>2.394438</td>\n",
              "      <td>-1.003306</td>\n",
              "      <td>-0.115663</td>\n",
              "      <td>-0.696631</td>\n",
              "      <td>-0.926766</td>\n",
              "      <td>-0.939142</td>\n",
              "      <td>-0.522599</td>\n",
              "      <td>-0.378677</td>\n",
              "      <td>-0.265841</td>\n",
              "      <td>-0.129532</td>\n",
              "      <td>3.979112</td>\n",
              "      <td>-1.100763</td>\n",
              "      <td>-0.793116</td>\n",
              "    </tr>\n",
              "    <tr>\n",
              "      <th>1</th>\n",
              "      <td>-1.915313</td>\n",
              "      <td>-0.092738</td>\n",
              "      <td>0.072199</td>\n",
              "      <td>1.633471</td>\n",
              "      <td>2.122573</td>\n",
              "      <td>0.681005</td>\n",
              "      <td>-0.444554</td>\n",
              "      <td>1.575677</td>\n",
              "      <td>-0.286606</td>\n",
              "      <td>-0.417635</td>\n",
              "      <td>0.996705</td>\n",
              "      <td>-0.115663</td>\n",
              "      <td>-0.696631</td>\n",
              "      <td>-0.926766</td>\n",
              "      <td>-0.939142</td>\n",
              "      <td>-0.522599</td>\n",
              "      <td>-0.378677</td>\n",
              "      <td>-0.265841</td>\n",
              "      <td>-0.129532</td>\n",
              "      <td>-0.251312</td>\n",
              "      <td>0.908461</td>\n",
              "      <td>-0.793116</td>\n",
              "    </tr>\n",
              "    <tr>\n",
              "      <th>2</th>\n",
              "      <td>-1.474158</td>\n",
              "      <td>-0.092738</td>\n",
              "      <td>-0.816773</td>\n",
              "      <td>0.977514</td>\n",
              "      <td>0.310912</td>\n",
              "      <td>-1.468418</td>\n",
              "      <td>2.249444</td>\n",
              "      <td>-0.634648</td>\n",
              "      <td>-0.286606</td>\n",
              "      <td>-0.417635</td>\n",
              "      <td>-1.003306</td>\n",
              "      <td>-0.115663</td>\n",
              "      <td>-0.696631</td>\n",
              "      <td>-0.926766</td>\n",
              "      <td>1.064802</td>\n",
              "      <td>-0.522599</td>\n",
              "      <td>-0.378677</td>\n",
              "      <td>-0.265841</td>\n",
              "      <td>-0.129532</td>\n",
              "      <td>-0.251312</td>\n",
              "      <td>0.908461</td>\n",
              "      <td>-0.793116</td>\n",
              "    </tr>\n",
              "    <tr>\n",
              "      <th>3</th>\n",
              "      <td>0.180175</td>\n",
              "      <td>-0.663867</td>\n",
              "      <td>-0.198357</td>\n",
              "      <td>1.239897</td>\n",
              "      <td>-0.206705</td>\n",
              "      <td>0.681005</td>\n",
              "      <td>2.249444</td>\n",
              "      <td>-0.634648</td>\n",
              "      <td>-0.286606</td>\n",
              "      <td>-0.417635</td>\n",
              "      <td>0.996705</td>\n",
              "      <td>-0.115663</td>\n",
              "      <td>-0.696631</td>\n",
              "      <td>-0.926766</td>\n",
              "      <td>1.064802</td>\n",
              "      <td>-0.522599</td>\n",
              "      <td>-0.378677</td>\n",
              "      <td>-0.265841</td>\n",
              "      <td>-0.129532</td>\n",
              "      <td>-0.251312</td>\n",
              "      <td>0.908461</td>\n",
              "      <td>-0.793116</td>\n",
              "    </tr>\n",
              "    <tr>\n",
              "      <th>4</th>\n",
              "      <td>0.290464</td>\n",
              "      <td>-0.663867</td>\n",
              "      <td>2.082050</td>\n",
              "      <td>0.583939</td>\n",
              "      <td>-0.379244</td>\n",
              "      <td>-1.468418</td>\n",
              "      <td>-0.444554</td>\n",
              "      <td>-0.634648</td>\n",
              "      <td>-0.286606</td>\n",
              "      <td>-0.417635</td>\n",
              "      <td>0.996705</td>\n",
              "      <td>-0.115663</td>\n",
              "      <td>1.435481</td>\n",
              "      <td>-0.926766</td>\n",
              "      <td>1.064802</td>\n",
              "      <td>-0.522599</td>\n",
              "      <td>-0.378677</td>\n",
              "      <td>-0.265841</td>\n",
              "      <td>-0.129532</td>\n",
              "      <td>-0.251312</td>\n",
              "      <td>0.908461</td>\n",
              "      <td>-0.793116</td>\n",
              "    </tr>\n",
              "  </tbody>\n",
              "</table>\n",
              "</div>"
            ],
            "text/plain": [
              "        age  trestbps      chol  ...    thal_1    thal_2    thal_3\n",
              "0  0.952197  0.763956 -0.256334  ...  3.979112 -1.100763 -0.793116\n",
              "1 -1.915313 -0.092738  0.072199  ... -0.251312  0.908461 -0.793116\n",
              "2 -1.474158 -0.092738 -0.816773  ... -0.251312  0.908461 -0.793116\n",
              "3  0.180175 -0.663867 -0.198357  ... -0.251312  0.908461 -0.793116\n",
              "4  0.290464 -0.663867  2.082050  ... -0.251312  0.908461 -0.793116\n",
              "\n",
              "[5 rows x 22 columns]"
            ]
          },
          "metadata": {
            "tags": []
          },
          "execution_count": 29
        }
      ]
    },
    {
      "cell_type": "markdown",
      "metadata": {
        "id": "Amj6qMO3wMuO"
      },
      "source": [
        "### Splitting Dataset"
      ]
    },
    {
      "cell_type": "code",
      "metadata": {
        "id": "5j4NqfD4wZyD"
      },
      "source": [
        "from sklearn.model_selection import train_test_split "
      ],
      "execution_count": 30,
      "outputs": []
    },
    {
      "cell_type": "code",
      "metadata": {
        "id": "ZvG_Blv9wUQi"
      },
      "source": [
        "X_train, X_test, y_train, y_test = train_test_split(\n",
        "    X_std, \n",
        "    y, \n",
        "    test_size=0.2,  \n",
        "    random_state=629) \n",
        "\n",
        "X_train_tree, X_test_tree, y_train_tree, y_test_tree = train_test_split(\n",
        "    X, \n",
        "    y, \n",
        "    test_size=0.2,  \n",
        "    random_state=629) "
      ],
      "execution_count": 31,
      "outputs": []
    },
    {
      "cell_type": "markdown",
      "metadata": {
        "id": "iUqP1Meec2WN"
      },
      "source": [
        "# Binary Classifers"
      ]
    },
    {
      "cell_type": "code",
      "metadata": {
        "id": "JvjVyb4rlx-0"
      },
      "source": [
        "from sklearn import metrics"
      ],
      "execution_count": 32,
      "outputs": []
    },
    {
      "cell_type": "markdown",
      "metadata": {
        "id": "8YCoAV-EvG_n"
      },
      "source": [
        "## DNN"
      ]
    },
    {
      "cell_type": "markdown",
      "metadata": {
        "id": "WtbfPgyH-LiA"
      },
      "source": [
        "The number of examples is 303, which is quite little to feed DNN model. But just for FUN we can give it a try!"
      ]
    },
    {
      "cell_type": "code",
      "metadata": {
        "id": "C36EppIix2I0"
      },
      "source": [
        "from tensorflow.keras import regularizers"
      ],
      "execution_count": 33,
      "outputs": []
    },
    {
      "cell_type": "code",
      "metadata": {
        "id": "vm4noJlEtNVY"
      },
      "source": [
        "val_acc_threshold = 0.93\n",
        "acc_threshold = 0.95"
      ],
      "execution_count": 34,
      "outputs": []
    },
    {
      "cell_type": "code",
      "metadata": {
        "id": "A6KlhrF_tVUn"
      },
      "source": [
        "class myCallback(tf.keras.callbacks.Callback): \n",
        "    def on_epoch_end(self, epoch, logs={}): \n",
        "        if((logs.get('accuracy') > acc_threshold) & (logs.get('val_accuracy') > val_acc_threshold)):    \n",
        "          print(\"Reached  val_accuracy, so stopping training!!\".format(acc_threshold))\n",
        "          self.model.stop_training = True"
      ],
      "execution_count": 35,
      "outputs": []
    },
    {
      "cell_type": "code",
      "metadata": {
        "id": "h_R8oizhuU5e"
      },
      "source": [
        "callbacks = myCallback()"
      ],
      "execution_count": 36,
      "outputs": []
    },
    {
      "cell_type": "code",
      "metadata": {
        "colab": {
          "base_uri": "https://localhost:8080/"
        },
        "id": "FTNngVU3wL5V",
        "outputId": "3c1a7c59-87fa-4c23-9c21-abc4af217c3e"
      },
      "source": [
        "model = keras.Sequential([\n",
        "                          keras.layers.Dense(256,activation = \"relu\",kernel_regularizer=regularizers.l2(l2=1e-2)),\n",
        "                          keras.layers.BatchNormalization(),\n",
        "                          keras.layers.Dense(128,activation = \"relu\",kernel_regularizer=regularizers.l2(l2=1e-2)),\n",
        "                          keras.layers.BatchNormalization(),\n",
        "                          keras.layers.Dense(64,activation = \"relu\",kernel_regularizer=regularizers.l2(l2=1e-2)),\n",
        "                          keras.layers.BatchNormalization(),\n",
        "                          keras.layers.Dense(16,activation = \"relu\",kernel_regularizer=regularizers.l2(l2=1e-2)),\n",
        "                          keras.layers.BatchNormalization(),\n",
        "                          keras.layers.Dense(1,activation=\"sigmoid\")\n",
        "                          ])\n",
        "## Callback\n",
        "  \n",
        "\n",
        "adam_opt = keras.optimizers.Adam(lr=0.001)\n",
        "model.compile(optimizer=adam_opt,loss = 'binary_crossentropy', metrics=['accuracy'])\n",
        "\n",
        "\n",
        "history = model.fit(X_train,\n",
        "                    y_train,\n",
        "                    epochs=300,\n",
        "                    verbose=1,\n",
        "                    validation_data = (X_test,y_test),\n",
        "                    callbacks=[callbacks])"
      ],
      "execution_count": 37,
      "outputs": [
        {
          "output_type": "stream",
          "text": [
            "/usr/local/lib/python3.7/dist-packages/tensorflow/python/keras/optimizer_v2/optimizer_v2.py:375: UserWarning: The `lr` argument is deprecated, use `learning_rate` instead.\n",
            "  \"The `lr` argument is deprecated, use `learning_rate` instead.\")\n"
          ],
          "name": "stderr"
        },
        {
          "output_type": "stream",
          "text": [
            "Epoch 1/300\n",
            "8/8 [==============================] - 3s 49ms/step - loss: 3.8667 - accuracy: 0.6653 - val_loss: 3.8307 - val_accuracy: 0.8197\n",
            "Epoch 2/300\n",
            "8/8 [==============================] - 0s 8ms/step - loss: 3.4762 - accuracy: 0.8760 - val_loss: 3.7305 - val_accuracy: 0.8197\n",
            "Epoch 3/300\n",
            "8/8 [==============================] - 0s 8ms/step - loss: 3.3511 - accuracy: 0.9050 - val_loss: 3.6341 - val_accuracy: 0.8033\n",
            "Epoch 4/300\n",
            "8/8 [==============================] - 0s 8ms/step - loss: 3.2036 - accuracy: 0.9380 - val_loss: 3.5389 - val_accuracy: 0.7869\n",
            "Epoch 5/300\n",
            "8/8 [==============================] - 0s 9ms/step - loss: 3.1197 - accuracy: 0.9298 - val_loss: 3.4440 - val_accuracy: 0.7869\n",
            "Epoch 6/300\n",
            "8/8 [==============================] - 0s 8ms/step - loss: 2.9778 - accuracy: 0.9587 - val_loss: 3.3444 - val_accuracy: 0.7869\n",
            "Epoch 7/300\n",
            "8/8 [==============================] - 0s 8ms/step - loss: 2.8750 - accuracy: 0.9669 - val_loss: 3.2463 - val_accuracy: 0.8033\n",
            "Epoch 8/300\n",
            "8/8 [==============================] - 0s 8ms/step - loss: 2.7522 - accuracy: 0.9793 - val_loss: 3.1488 - val_accuracy: 0.8197\n",
            "Epoch 9/300\n",
            "8/8 [==============================] - 0s 8ms/step - loss: 2.6393 - accuracy: 0.9876 - val_loss: 3.0470 - val_accuracy: 0.8033\n",
            "Epoch 10/300\n",
            "8/8 [==============================] - 0s 8ms/step - loss: 2.5254 - accuracy: 0.9917 - val_loss: 2.9507 - val_accuracy: 0.7869\n",
            "Epoch 11/300\n",
            "8/8 [==============================] - 0s 7ms/step - loss: 2.4267 - accuracy: 0.9876 - val_loss: 2.8510 - val_accuracy: 0.8033\n",
            "Epoch 12/300\n",
            "8/8 [==============================] - 0s 8ms/step - loss: 2.3463 - accuracy: 0.9793 - val_loss: 2.7561 - val_accuracy: 0.7705\n",
            "Epoch 13/300\n",
            "8/8 [==============================] - 0s 8ms/step - loss: 2.2313 - accuracy: 0.9917 - val_loss: 2.6726 - val_accuracy: 0.7541\n",
            "Epoch 14/300\n",
            "8/8 [==============================] - 0s 8ms/step - loss: 2.1220 - accuracy: 0.9959 - val_loss: 2.5827 - val_accuracy: 0.7377\n",
            "Epoch 15/300\n",
            "8/8 [==============================] - 0s 8ms/step - loss: 2.0388 - accuracy: 0.9917 - val_loss: 2.4967 - val_accuracy: 0.7377\n",
            "Epoch 16/300\n",
            "8/8 [==============================] - 0s 8ms/step - loss: 1.9531 - accuracy: 0.9959 - val_loss: 2.3974 - val_accuracy: 0.7705\n",
            "Epoch 17/300\n",
            "8/8 [==============================] - 0s 8ms/step - loss: 1.8759 - accuracy: 0.9959 - val_loss: 2.3047 - val_accuracy: 0.7705\n",
            "Epoch 18/300\n",
            "8/8 [==============================] - 0s 8ms/step - loss: 1.8234 - accuracy: 0.9835 - val_loss: 2.2364 - val_accuracy: 0.8033\n",
            "Epoch 19/300\n",
            "8/8 [==============================] - 0s 8ms/step - loss: 1.6993 - accuracy: 1.0000 - val_loss: 2.1779 - val_accuracy: 0.7705\n",
            "Epoch 20/300\n",
            "8/8 [==============================] - 0s 8ms/step - loss: 1.6385 - accuracy: 1.0000 - val_loss: 2.0889 - val_accuracy: 0.7705\n",
            "Epoch 21/300\n",
            "8/8 [==============================] - 0s 8ms/step - loss: 1.5667 - accuracy: 0.9959 - val_loss: 2.0141 - val_accuracy: 0.7377\n",
            "Epoch 22/300\n",
            "8/8 [==============================] - 0s 8ms/step - loss: 1.4980 - accuracy: 0.9959 - val_loss: 1.9350 - val_accuracy: 0.8033\n",
            "Epoch 23/300\n",
            "8/8 [==============================] - 0s 8ms/step - loss: 1.4225 - accuracy: 1.0000 - val_loss: 1.8784 - val_accuracy: 0.7869\n",
            "Epoch 24/300\n",
            "8/8 [==============================] - 0s 8ms/step - loss: 1.3647 - accuracy: 0.9917 - val_loss: 1.8185 - val_accuracy: 0.7869\n",
            "Epoch 25/300\n",
            "8/8 [==============================] - 0s 8ms/step - loss: 1.2997 - accuracy: 1.0000 - val_loss: 1.7665 - val_accuracy: 0.7541\n",
            "Epoch 26/300\n",
            "8/8 [==============================] - 0s 8ms/step - loss: 1.2499 - accuracy: 0.9917 - val_loss: 1.6994 - val_accuracy: 0.7541\n",
            "Epoch 27/300\n",
            "8/8 [==============================] - 0s 8ms/step - loss: 1.1859 - accuracy: 1.0000 - val_loss: 1.6478 - val_accuracy: 0.7705\n",
            "Epoch 28/300\n",
            "8/8 [==============================] - 0s 8ms/step - loss: 1.1331 - accuracy: 0.9959 - val_loss: 1.5957 - val_accuracy: 0.7869\n",
            "Epoch 29/300\n",
            "8/8 [==============================] - 0s 8ms/step - loss: 1.0825 - accuracy: 1.0000 - val_loss: 1.5530 - val_accuracy: 0.8033\n",
            "Epoch 30/300\n",
            "8/8 [==============================] - 0s 8ms/step - loss: 1.0577 - accuracy: 0.9876 - val_loss: 1.5245 - val_accuracy: 0.7869\n",
            "Epoch 31/300\n",
            "8/8 [==============================] - 0s 8ms/step - loss: 0.9936 - accuracy: 0.9959 - val_loss: 1.4557 - val_accuracy: 0.7541\n",
            "Epoch 32/300\n",
            "8/8 [==============================] - 0s 8ms/step - loss: 0.9608 - accuracy: 0.9917 - val_loss: 1.4152 - val_accuracy: 0.7541\n",
            "Epoch 33/300\n",
            "8/8 [==============================] - 0s 8ms/step - loss: 0.9434 - accuracy: 0.9793 - val_loss: 1.3805 - val_accuracy: 0.7377\n",
            "Epoch 34/300\n",
            "8/8 [==============================] - 0s 9ms/step - loss: 0.9114 - accuracy: 0.9917 - val_loss: 1.3136 - val_accuracy: 0.7869\n",
            "Epoch 35/300\n",
            "8/8 [==============================] - 0s 9ms/step - loss: 0.8855 - accuracy: 0.9835 - val_loss: 1.3013 - val_accuracy: 0.7377\n",
            "Epoch 36/300\n",
            "8/8 [==============================] - 0s 8ms/step - loss: 0.8259 - accuracy: 0.9959 - val_loss: 1.2515 - val_accuracy: 0.7541\n",
            "Epoch 37/300\n",
            "8/8 [==============================] - 0s 8ms/step - loss: 0.8065 - accuracy: 0.9876 - val_loss: 1.1983 - val_accuracy: 0.7705\n",
            "Epoch 38/300\n",
            "8/8 [==============================] - 0s 8ms/step - loss: 0.7828 - accuracy: 0.9876 - val_loss: 1.2143 - val_accuracy: 0.7213\n",
            "Epoch 39/300\n",
            "8/8 [==============================] - 0s 8ms/step - loss: 0.7784 - accuracy: 0.9752 - val_loss: 1.1788 - val_accuracy: 0.7705\n",
            "Epoch 40/300\n",
            "8/8 [==============================] - 0s 8ms/step - loss: 0.7366 - accuracy: 0.9959 - val_loss: 1.1298 - val_accuracy: 0.7869\n",
            "Epoch 41/300\n",
            "8/8 [==============================] - 0s 8ms/step - loss: 0.7264 - accuracy: 0.9876 - val_loss: 1.1053 - val_accuracy: 0.7869\n",
            "Epoch 42/300\n",
            "8/8 [==============================] - 0s 8ms/step - loss: 0.7271 - accuracy: 0.9628 - val_loss: 1.0750 - val_accuracy: 0.8033\n",
            "Epoch 43/300\n",
            "8/8 [==============================] - 0s 8ms/step - loss: 0.7646 - accuracy: 0.9793 - val_loss: 1.0371 - val_accuracy: 0.8033\n",
            "Epoch 44/300\n",
            "8/8 [==============================] - 0s 8ms/step - loss: 0.7300 - accuracy: 0.9628 - val_loss: 1.0326 - val_accuracy: 0.8525\n",
            "Epoch 45/300\n",
            "8/8 [==============================] - 0s 8ms/step - loss: 0.6778 - accuracy: 0.9752 - val_loss: 1.0246 - val_accuracy: 0.8197\n",
            "Epoch 46/300\n",
            "8/8 [==============================] - 0s 8ms/step - loss: 0.6609 - accuracy: 0.9752 - val_loss: 1.0923 - val_accuracy: 0.7705\n",
            "Epoch 47/300\n",
            "8/8 [==============================] - 0s 8ms/step - loss: 0.6334 - accuracy: 0.9835 - val_loss: 1.1094 - val_accuracy: 0.7705\n",
            "Epoch 48/300\n",
            "8/8 [==============================] - 0s 8ms/step - loss: 0.5877 - accuracy: 0.9959 - val_loss: 1.1146 - val_accuracy: 0.7541\n",
            "Epoch 49/300\n",
            "8/8 [==============================] - 0s 8ms/step - loss: 0.6265 - accuracy: 0.9835 - val_loss: 1.1070 - val_accuracy: 0.7705\n",
            "Epoch 50/300\n",
            "8/8 [==============================] - 0s 8ms/step - loss: 0.5566 - accuracy: 1.0000 - val_loss: 1.0548 - val_accuracy: 0.7705\n",
            "Epoch 51/300\n",
            "8/8 [==============================] - 0s 9ms/step - loss: 0.5453 - accuracy: 0.9959 - val_loss: 1.0329 - val_accuracy: 0.8033\n",
            "Epoch 52/300\n",
            "8/8 [==============================] - 0s 8ms/step - loss: 0.5224 - accuracy: 1.0000 - val_loss: 1.0127 - val_accuracy: 0.7705\n",
            "Epoch 53/300\n",
            "8/8 [==============================] - 0s 8ms/step - loss: 0.5220 - accuracy: 0.9917 - val_loss: 1.0000 - val_accuracy: 0.7705\n",
            "Epoch 54/300\n",
            "8/8 [==============================] - 0s 8ms/step - loss: 0.4940 - accuracy: 0.9959 - val_loss: 1.0175 - val_accuracy: 0.7213\n",
            "Epoch 55/300\n",
            "8/8 [==============================] - 0s 8ms/step - loss: 0.4801 - accuracy: 0.9959 - val_loss: 0.9439 - val_accuracy: 0.8197\n",
            "Epoch 56/300\n",
            "8/8 [==============================] - 0s 8ms/step - loss: 0.4795 - accuracy: 0.9917 - val_loss: 0.9061 - val_accuracy: 0.7705\n",
            "Epoch 57/300\n",
            "8/8 [==============================] - 0s 8ms/step - loss: 0.4473 - accuracy: 1.0000 - val_loss: 0.9469 - val_accuracy: 0.7541\n",
            "Epoch 58/300\n",
            "8/8 [==============================] - 0s 8ms/step - loss: 0.4669 - accuracy: 0.9876 - val_loss: 1.0696 - val_accuracy: 0.7541\n",
            "Epoch 59/300\n",
            "8/8 [==============================] - 0s 8ms/step - loss: 0.4305 - accuracy: 0.9959 - val_loss: 1.1236 - val_accuracy: 0.7213\n",
            "Epoch 60/300\n",
            "8/8 [==============================] - 0s 8ms/step - loss: 0.4404 - accuracy: 0.9793 - val_loss: 1.0112 - val_accuracy: 0.7541\n",
            "Epoch 61/300\n",
            "8/8 [==============================] - 0s 9ms/step - loss: 0.4145 - accuracy: 0.9959 - val_loss: 1.0392 - val_accuracy: 0.7541\n",
            "Epoch 62/300\n",
            "8/8 [==============================] - 0s 8ms/step - loss: 0.4355 - accuracy: 0.9711 - val_loss: 0.9614 - val_accuracy: 0.7869\n",
            "Epoch 63/300\n",
            "8/8 [==============================] - 0s 8ms/step - loss: 0.4253 - accuracy: 0.9752 - val_loss: 1.1281 - val_accuracy: 0.7377\n",
            "Epoch 64/300\n",
            "8/8 [==============================] - 0s 8ms/step - loss: 0.4252 - accuracy: 0.9793 - val_loss: 1.0699 - val_accuracy: 0.7541\n",
            "Epoch 65/300\n",
            "8/8 [==============================] - 0s 8ms/step - loss: 0.4105 - accuracy: 0.9876 - val_loss: 1.0510 - val_accuracy: 0.7049\n",
            "Epoch 66/300\n",
            "8/8 [==============================] - 0s 8ms/step - loss: 0.4058 - accuracy: 0.9876 - val_loss: 1.0968 - val_accuracy: 0.7705\n",
            "Epoch 67/300\n",
            "8/8 [==============================] - 0s 8ms/step - loss: 0.3776 - accuracy: 0.9959 - val_loss: 1.0711 - val_accuracy: 0.7377\n",
            "Epoch 68/300\n",
            "8/8 [==============================] - 0s 9ms/step - loss: 0.3783 - accuracy: 0.9917 - val_loss: 1.0426 - val_accuracy: 0.7869\n",
            "Epoch 69/300\n",
            "8/8 [==============================] - 0s 8ms/step - loss: 0.3617 - accuracy: 0.9917 - val_loss: 1.1340 - val_accuracy: 0.7705\n",
            "Epoch 70/300\n",
            "8/8 [==============================] - 0s 8ms/step - loss: 0.4072 - accuracy: 0.9835 - val_loss: 1.0401 - val_accuracy: 0.8197\n",
            "Epoch 71/300\n",
            "8/8 [==============================] - 0s 8ms/step - loss: 0.3545 - accuracy: 0.9917 - val_loss: 1.0727 - val_accuracy: 0.7541\n",
            "Epoch 72/300\n",
            "8/8 [==============================] - 0s 9ms/step - loss: 0.3340 - accuracy: 0.9959 - val_loss: 1.0331 - val_accuracy: 0.7705\n",
            "Epoch 73/300\n",
            "8/8 [==============================] - 0s 8ms/step - loss: 0.3390 - accuracy: 0.9917 - val_loss: 0.9944 - val_accuracy: 0.7705\n",
            "Epoch 74/300\n",
            "8/8 [==============================] - 0s 8ms/step - loss: 0.3208 - accuracy: 0.9917 - val_loss: 1.0162 - val_accuracy: 0.7705\n",
            "Epoch 75/300\n",
            "8/8 [==============================] - 0s 8ms/step - loss: 0.3277 - accuracy: 0.9876 - val_loss: 1.0553 - val_accuracy: 0.8033\n",
            "Epoch 76/300\n",
            "8/8 [==============================] - 0s 9ms/step - loss: 0.3132 - accuracy: 0.9917 - val_loss: 1.0222 - val_accuracy: 0.7705\n",
            "Epoch 77/300\n",
            "8/8 [==============================] - 0s 8ms/step - loss: 0.3146 - accuracy: 0.9917 - val_loss: 1.1126 - val_accuracy: 0.7705\n",
            "Epoch 78/300\n",
            "8/8 [==============================] - 0s 8ms/step - loss: 0.2916 - accuracy: 0.9959 - val_loss: 1.1207 - val_accuracy: 0.7541\n",
            "Epoch 79/300\n",
            "8/8 [==============================] - 0s 8ms/step - loss: 0.2811 - accuracy: 1.0000 - val_loss: 1.1189 - val_accuracy: 0.7541\n",
            "Epoch 80/300\n",
            "8/8 [==============================] - 0s 8ms/step - loss: 0.2735 - accuracy: 1.0000 - val_loss: 1.1242 - val_accuracy: 0.7377\n",
            "Epoch 81/300\n",
            "8/8 [==============================] - 0s 8ms/step - loss: 0.2640 - accuracy: 1.0000 - val_loss: 1.1251 - val_accuracy: 0.7377\n",
            "Epoch 82/300\n",
            "8/8 [==============================] - 0s 8ms/step - loss: 0.2567 - accuracy: 1.0000 - val_loss: 1.1233 - val_accuracy: 0.7377\n",
            "Epoch 83/300\n",
            "8/8 [==============================] - 0s 8ms/step - loss: 0.2490 - accuracy: 0.9959 - val_loss: 1.0609 - val_accuracy: 0.7377\n",
            "Epoch 84/300\n",
            "8/8 [==============================] - 0s 8ms/step - loss: 0.2420 - accuracy: 1.0000 - val_loss: 0.8602 - val_accuracy: 0.7869\n",
            "Epoch 85/300\n",
            "8/8 [==============================] - 0s 8ms/step - loss: 0.2590 - accuracy: 0.9917 - val_loss: 0.8857 - val_accuracy: 0.7705\n",
            "Epoch 86/300\n",
            "8/8 [==============================] - 0s 8ms/step - loss: 0.2901 - accuracy: 0.9835 - val_loss: 0.8511 - val_accuracy: 0.8033\n",
            "Epoch 87/300\n",
            "8/8 [==============================] - 0s 8ms/step - loss: 0.2614 - accuracy: 0.9876 - val_loss: 0.9521 - val_accuracy: 0.7705\n",
            "Epoch 88/300\n",
            "8/8 [==============================] - 0s 8ms/step - loss: 0.2626 - accuracy: 0.9793 - val_loss: 1.0016 - val_accuracy: 0.7541\n",
            "Epoch 89/300\n",
            "8/8 [==============================] - 0s 8ms/step - loss: 0.2640 - accuracy: 0.9835 - val_loss: 1.0323 - val_accuracy: 0.7541\n",
            "Epoch 90/300\n",
            "8/8 [==============================] - 0s 8ms/step - loss: 0.3040 - accuracy: 0.9711 - val_loss: 1.0870 - val_accuracy: 0.7541\n",
            "Epoch 91/300\n",
            "8/8 [==============================] - 0s 8ms/step - loss: 0.3544 - accuracy: 0.9463 - val_loss: 1.0946 - val_accuracy: 0.7541\n",
            "Epoch 92/300\n",
            "8/8 [==============================] - 0s 8ms/step - loss: 0.3525 - accuracy: 0.9587 - val_loss: 1.2436 - val_accuracy: 0.7377\n",
            "Epoch 93/300\n",
            "8/8 [==============================] - 0s 8ms/step - loss: 0.3245 - accuracy: 0.9711 - val_loss: 1.2207 - val_accuracy: 0.7377\n",
            "Epoch 94/300\n",
            "8/8 [==============================] - 0s 8ms/step - loss: 0.3046 - accuracy: 0.9835 - val_loss: 1.0488 - val_accuracy: 0.7869\n",
            "Epoch 95/300\n",
            "8/8 [==============================] - 0s 8ms/step - loss: 0.2654 - accuracy: 0.9876 - val_loss: 1.0462 - val_accuracy: 0.7869\n",
            "Epoch 96/300\n",
            "8/8 [==============================] - 0s 8ms/step - loss: 0.3108 - accuracy: 0.9669 - val_loss: 1.0408 - val_accuracy: 0.7541\n",
            "Epoch 97/300\n",
            "8/8 [==============================] - 0s 8ms/step - loss: 0.2723 - accuracy: 0.9835 - val_loss: 1.0267 - val_accuracy: 0.7541\n",
            "Epoch 98/300\n",
            "8/8 [==============================] - 0s 8ms/step - loss: 0.2647 - accuracy: 0.9876 - val_loss: 1.1365 - val_accuracy: 0.7213\n",
            "Epoch 99/300\n",
            "8/8 [==============================] - 0s 8ms/step - loss: 0.2545 - accuracy: 0.9959 - val_loss: 1.2295 - val_accuracy: 0.7213\n",
            "Epoch 100/300\n",
            "8/8 [==============================] - 0s 8ms/step - loss: 0.2629 - accuracy: 0.9876 - val_loss: 1.2716 - val_accuracy: 0.7377\n",
            "Epoch 101/300\n",
            "8/8 [==============================] - 0s 8ms/step - loss: 0.2421 - accuracy: 0.9959 - val_loss: 1.2519 - val_accuracy: 0.6885\n",
            "Epoch 102/300\n",
            "8/8 [==============================] - 0s 8ms/step - loss: 0.2429 - accuracy: 0.9917 - val_loss: 1.2167 - val_accuracy: 0.7377\n",
            "Epoch 103/300\n",
            "8/8 [==============================] - 0s 8ms/step - loss: 0.2379 - accuracy: 0.9917 - val_loss: 1.1943 - val_accuracy: 0.7541\n",
            "Epoch 104/300\n",
            "8/8 [==============================] - 0s 8ms/step - loss: 0.2782 - accuracy: 0.9669 - val_loss: 1.2282 - val_accuracy: 0.7213\n",
            "Epoch 105/300\n",
            "8/8 [==============================] - 0s 8ms/step - loss: 0.2647 - accuracy: 0.9793 - val_loss: 1.3034 - val_accuracy: 0.7705\n",
            "Epoch 106/300\n",
            "8/8 [==============================] - 0s 8ms/step - loss: 0.2446 - accuracy: 0.9876 - val_loss: 1.3060 - val_accuracy: 0.8033\n",
            "Epoch 107/300\n",
            "8/8 [==============================] - 0s 9ms/step - loss: 0.2553 - accuracy: 0.9917 - val_loss: 1.2901 - val_accuracy: 0.7541\n",
            "Epoch 108/300\n",
            "8/8 [==============================] - 0s 8ms/step - loss: 0.2276 - accuracy: 0.9917 - val_loss: 1.2712 - val_accuracy: 0.7705\n",
            "Epoch 109/300\n",
            "8/8 [==============================] - 0s 8ms/step - loss: 0.2180 - accuracy: 1.0000 - val_loss: 1.2847 - val_accuracy: 0.7541\n",
            "Epoch 110/300\n",
            "8/8 [==============================] - 0s 9ms/step - loss: 0.2143 - accuracy: 0.9959 - val_loss: 1.2559 - val_accuracy: 0.7541\n",
            "Epoch 111/300\n",
            "8/8 [==============================] - 0s 8ms/step - loss: 0.2274 - accuracy: 0.9876 - val_loss: 1.2642 - val_accuracy: 0.7541\n",
            "Epoch 112/300\n",
            "8/8 [==============================] - 0s 8ms/step - loss: 0.2094 - accuracy: 0.9959 - val_loss: 1.3219 - val_accuracy: 0.7377\n",
            "Epoch 113/300\n",
            "8/8 [==============================] - 0s 8ms/step - loss: 0.2371 - accuracy: 0.9835 - val_loss: 1.2048 - val_accuracy: 0.7377\n",
            "Epoch 114/300\n",
            "8/8 [==============================] - 0s 8ms/step - loss: 0.2093 - accuracy: 0.9876 - val_loss: 1.1722 - val_accuracy: 0.7213\n",
            "Epoch 115/300\n",
            "8/8 [==============================] - 0s 8ms/step - loss: 0.2183 - accuracy: 0.9917 - val_loss: 1.1832 - val_accuracy: 0.7705\n",
            "Epoch 116/300\n",
            "8/8 [==============================] - 0s 8ms/step - loss: 0.2810 - accuracy: 0.9711 - val_loss: 1.3074 - val_accuracy: 0.7377\n",
            "Epoch 117/300\n",
            "8/8 [==============================] - 0s 8ms/step - loss: 0.2325 - accuracy: 0.9876 - val_loss: 1.3214 - val_accuracy: 0.7377\n",
            "Epoch 118/300\n",
            "8/8 [==============================] - 0s 8ms/step - loss: 0.2611 - accuracy: 0.9752 - val_loss: 1.2490 - val_accuracy: 0.7049\n",
            "Epoch 119/300\n",
            "8/8 [==============================] - 0s 8ms/step - loss: 0.2258 - accuracy: 0.9876 - val_loss: 1.2229 - val_accuracy: 0.7705\n",
            "Epoch 120/300\n",
            "8/8 [==============================] - 0s 8ms/step - loss: 0.3082 - accuracy: 0.9669 - val_loss: 1.0565 - val_accuracy: 0.7869\n",
            "Epoch 121/300\n",
            "8/8 [==============================] - 0s 8ms/step - loss: 0.3514 - accuracy: 0.9587 - val_loss: 1.1476 - val_accuracy: 0.7541\n",
            "Epoch 122/300\n",
            "8/8 [==============================] - 0s 9ms/step - loss: 0.2951 - accuracy: 0.9711 - val_loss: 1.1797 - val_accuracy: 0.7705\n",
            "Epoch 123/300\n",
            "8/8 [==============================] - 0s 8ms/step - loss: 0.3183 - accuracy: 0.9587 - val_loss: 1.1077 - val_accuracy: 0.8033\n",
            "Epoch 124/300\n",
            "8/8 [==============================] - 0s 8ms/step - loss: 0.2591 - accuracy: 0.9835 - val_loss: 1.2789 - val_accuracy: 0.8033\n",
            "Epoch 125/300\n",
            "8/8 [==============================] - 0s 9ms/step - loss: 0.2594 - accuracy: 0.9835 - val_loss: 1.2255 - val_accuracy: 0.7541\n",
            "Epoch 126/300\n",
            "8/8 [==============================] - 0s 8ms/step - loss: 0.2184 - accuracy: 0.9876 - val_loss: 1.0989 - val_accuracy: 0.8197\n",
            "Epoch 127/300\n",
            "8/8 [==============================] - 0s 8ms/step - loss: 0.2334 - accuracy: 0.9835 - val_loss: 1.1911 - val_accuracy: 0.7541\n",
            "Epoch 128/300\n",
            "8/8 [==============================] - 0s 9ms/step - loss: 0.2189 - accuracy: 0.9917 - val_loss: 1.2520 - val_accuracy: 0.7377\n",
            "Epoch 129/300\n",
            "8/8 [==============================] - 0s 8ms/step - loss: 0.2239 - accuracy: 0.9876 - val_loss: 1.1914 - val_accuracy: 0.7213\n",
            "Epoch 130/300\n",
            "8/8 [==============================] - 0s 8ms/step - loss: 0.2271 - accuracy: 0.9793 - val_loss: 1.1978 - val_accuracy: 0.7705\n",
            "Epoch 131/300\n",
            "8/8 [==============================] - 0s 8ms/step - loss: 0.2161 - accuracy: 0.9835 - val_loss: 1.2379 - val_accuracy: 0.7213\n",
            "Epoch 132/300\n",
            "8/8 [==============================] - 0s 8ms/step - loss: 0.1908 - accuracy: 0.9959 - val_loss: 1.1383 - val_accuracy: 0.7705\n",
            "Epoch 133/300\n",
            "8/8 [==============================] - 0s 8ms/step - loss: 0.1826 - accuracy: 1.0000 - val_loss: 1.1171 - val_accuracy: 0.7705\n",
            "Epoch 134/300\n",
            "8/8 [==============================] - 0s 9ms/step - loss: 0.1819 - accuracy: 1.0000 - val_loss: 1.1075 - val_accuracy: 0.7705\n",
            "Epoch 135/300\n",
            "8/8 [==============================] - 0s 8ms/step - loss: 0.1706 - accuracy: 1.0000 - val_loss: 1.1039 - val_accuracy: 0.7705\n",
            "Epoch 136/300\n",
            "8/8 [==============================] - 0s 8ms/step - loss: 0.1667 - accuracy: 1.0000 - val_loss: 1.0944 - val_accuracy: 0.7705\n",
            "Epoch 137/300\n",
            "8/8 [==============================] - 0s 8ms/step - loss: 0.1602 - accuracy: 1.0000 - val_loss: 1.1133 - val_accuracy: 0.7705\n",
            "Epoch 138/300\n",
            "8/8 [==============================] - 0s 8ms/step - loss: 0.1568 - accuracy: 1.0000 - val_loss: 1.1092 - val_accuracy: 0.7705\n",
            "Epoch 139/300\n",
            "8/8 [==============================] - 0s 8ms/step - loss: 0.1573 - accuracy: 1.0000 - val_loss: 1.0275 - val_accuracy: 0.7705\n",
            "Epoch 140/300\n",
            "8/8 [==============================] - 0s 8ms/step - loss: 0.1495 - accuracy: 1.0000 - val_loss: 0.9747 - val_accuracy: 0.7705\n",
            "Epoch 141/300\n",
            "8/8 [==============================] - 0s 8ms/step - loss: 0.1664 - accuracy: 0.9917 - val_loss: 0.9810 - val_accuracy: 0.7541\n",
            "Epoch 142/300\n",
            "8/8 [==============================] - 0s 8ms/step - loss: 0.1493 - accuracy: 0.9917 - val_loss: 1.0192 - val_accuracy: 0.7541\n",
            "Epoch 143/300\n",
            "8/8 [==============================] - 0s 8ms/step - loss: 0.1472 - accuracy: 1.0000 - val_loss: 1.0494 - val_accuracy: 0.7705\n",
            "Epoch 144/300\n",
            "8/8 [==============================] - 0s 9ms/step - loss: 0.1660 - accuracy: 0.9959 - val_loss: 1.0284 - val_accuracy: 0.7705\n",
            "Epoch 145/300\n",
            "8/8 [==============================] - 0s 8ms/step - loss: 0.1437 - accuracy: 0.9959 - val_loss: 0.9760 - val_accuracy: 0.7705\n",
            "Epoch 146/300\n",
            "8/8 [==============================] - 0s 8ms/step - loss: 0.1453 - accuracy: 0.9959 - val_loss: 0.9477 - val_accuracy: 0.8033\n",
            "Epoch 147/300\n",
            "8/8 [==============================] - 0s 8ms/step - loss: 0.1875 - accuracy: 0.9876 - val_loss: 1.1541 - val_accuracy: 0.7213\n",
            "Epoch 148/300\n",
            "8/8 [==============================] - 0s 8ms/step - loss: 0.1599 - accuracy: 0.9917 - val_loss: 1.2219 - val_accuracy: 0.7049\n",
            "Epoch 149/300\n",
            "8/8 [==============================] - 0s 8ms/step - loss: 0.1563 - accuracy: 0.9917 - val_loss: 1.2114 - val_accuracy: 0.7377\n",
            "Epoch 150/300\n",
            "8/8 [==============================] - 0s 8ms/step - loss: 0.1622 - accuracy: 0.9876 - val_loss: 1.2257 - val_accuracy: 0.7213\n",
            "Epoch 151/300\n",
            "8/8 [==============================] - 0s 8ms/step - loss: 0.1638 - accuracy: 0.9917 - val_loss: 1.1537 - val_accuracy: 0.7213\n",
            "Epoch 152/300\n",
            "8/8 [==============================] - 0s 8ms/step - loss: 0.1843 - accuracy: 0.9835 - val_loss: 1.0407 - val_accuracy: 0.7377\n",
            "Epoch 153/300\n",
            "8/8 [==============================] - 0s 8ms/step - loss: 0.1988 - accuracy: 0.9793 - val_loss: 1.0345 - val_accuracy: 0.7705\n",
            "Epoch 154/300\n",
            "8/8 [==============================] - 0s 9ms/step - loss: 0.2091 - accuracy: 0.9793 - val_loss: 1.1766 - val_accuracy: 0.7541\n",
            "Epoch 155/300\n",
            "8/8 [==============================] - 0s 8ms/step - loss: 0.1823 - accuracy: 0.9917 - val_loss: 1.1628 - val_accuracy: 0.7377\n",
            "Epoch 156/300\n",
            "8/8 [==============================] - 0s 9ms/step - loss: 0.1879 - accuracy: 0.9835 - val_loss: 1.1890 - val_accuracy: 0.7541\n",
            "Epoch 157/300\n",
            "8/8 [==============================] - 0s 8ms/step - loss: 0.1583 - accuracy: 0.9959 - val_loss: 1.2537 - val_accuracy: 0.7377\n",
            "Epoch 158/300\n",
            "8/8 [==============================] - 0s 8ms/step - loss: 0.1713 - accuracy: 0.9917 - val_loss: 1.2711 - val_accuracy: 0.7541\n",
            "Epoch 159/300\n",
            "8/8 [==============================] - 0s 8ms/step - loss: 0.1496 - accuracy: 0.9959 - val_loss: 1.1763 - val_accuracy: 0.7705\n",
            "Epoch 160/300\n",
            "8/8 [==============================] - 0s 8ms/step - loss: 0.1646 - accuracy: 0.9835 - val_loss: 1.1680 - val_accuracy: 0.7377\n",
            "Epoch 161/300\n",
            "8/8 [==============================] - 0s 8ms/step - loss: 0.1534 - accuracy: 0.9959 - val_loss: 1.1576 - val_accuracy: 0.7541\n",
            "Epoch 162/300\n",
            "8/8 [==============================] - 0s 8ms/step - loss: 0.1415 - accuracy: 1.0000 - val_loss: 1.1526 - val_accuracy: 0.7705\n",
            "Epoch 163/300\n",
            "8/8 [==============================] - 0s 8ms/step - loss: 0.1804 - accuracy: 0.9752 - val_loss: 0.9706 - val_accuracy: 0.7705\n",
            "Epoch 164/300\n",
            "8/8 [==============================] - 0s 8ms/step - loss: 0.1575 - accuracy: 0.9959 - val_loss: 0.9686 - val_accuracy: 0.7705\n",
            "Epoch 165/300\n",
            "8/8 [==============================] - 0s 8ms/step - loss: 0.1552 - accuracy: 0.9876 - val_loss: 1.0588 - val_accuracy: 0.7541\n",
            "Epoch 166/300\n",
            "8/8 [==============================] - 0s 8ms/step - loss: 0.1555 - accuracy: 0.9917 - val_loss: 1.3135 - val_accuracy: 0.7213\n",
            "Epoch 167/300\n",
            "8/8 [==============================] - 0s 8ms/step - loss: 0.1553 - accuracy: 0.9876 - val_loss: 1.4284 - val_accuracy: 0.7541\n",
            "Epoch 168/300\n",
            "8/8 [==============================] - 0s 8ms/step - loss: 0.1699 - accuracy: 0.9835 - val_loss: 1.2326 - val_accuracy: 0.7541\n",
            "Epoch 169/300\n",
            "8/8 [==============================] - 0s 9ms/step - loss: 0.1513 - accuracy: 0.9917 - val_loss: 1.0951 - val_accuracy: 0.7541\n",
            "Epoch 170/300\n",
            "8/8 [==============================] - 0s 8ms/step - loss: 0.1458 - accuracy: 0.9917 - val_loss: 1.1299 - val_accuracy: 0.7705\n",
            "Epoch 171/300\n",
            "8/8 [==============================] - 0s 8ms/step - loss: 0.1422 - accuracy: 0.9959 - val_loss: 1.1934 - val_accuracy: 0.7377\n",
            "Epoch 172/300\n",
            "8/8 [==============================] - 0s 8ms/step - loss: 0.1435 - accuracy: 0.9959 - val_loss: 1.3277 - val_accuracy: 0.7377\n",
            "Epoch 173/300\n",
            "8/8 [==============================] - 0s 8ms/step - loss: 0.1782 - accuracy: 0.9876 - val_loss: 1.3597 - val_accuracy: 0.7377\n",
            "Epoch 174/300\n",
            "8/8 [==============================] - 0s 8ms/step - loss: 0.1496 - accuracy: 0.9959 - val_loss: 1.2082 - val_accuracy: 0.7377\n",
            "Epoch 175/300\n",
            "8/8 [==============================] - 0s 8ms/step - loss: 0.1435 - accuracy: 0.9959 - val_loss: 1.1141 - val_accuracy: 0.7541\n",
            "Epoch 176/300\n",
            "8/8 [==============================] - 0s 8ms/step - loss: 0.1274 - accuracy: 1.0000 - val_loss: 1.1150 - val_accuracy: 0.7377\n",
            "Epoch 177/300\n",
            "8/8 [==============================] - 0s 8ms/step - loss: 0.1277 - accuracy: 0.9959 - val_loss: 1.0142 - val_accuracy: 0.7377\n",
            "Epoch 178/300\n",
            "8/8 [==============================] - 0s 8ms/step - loss: 0.1537 - accuracy: 0.9876 - val_loss: 1.0827 - val_accuracy: 0.7705\n",
            "Epoch 179/300\n",
            "8/8 [==============================] - 0s 8ms/step - loss: 0.2163 - accuracy: 0.9669 - val_loss: 1.2671 - val_accuracy: 0.7213\n",
            "Epoch 180/300\n",
            "8/8 [==============================] - 0s 8ms/step - loss: 0.1520 - accuracy: 0.9876 - val_loss: 1.3328 - val_accuracy: 0.7377\n",
            "Epoch 181/300\n",
            "8/8 [==============================] - 0s 9ms/step - loss: 0.1726 - accuracy: 0.9793 - val_loss: 1.2987 - val_accuracy: 0.7869\n",
            "Epoch 182/300\n",
            "8/8 [==============================] - 0s 8ms/step - loss: 0.2366 - accuracy: 0.9504 - val_loss: 1.4656 - val_accuracy: 0.7213\n",
            "Epoch 183/300\n",
            "8/8 [==============================] - 0s 8ms/step - loss: 0.1908 - accuracy: 0.9793 - val_loss: 1.3637 - val_accuracy: 0.7541\n",
            "Epoch 184/300\n",
            "8/8 [==============================] - 0s 9ms/step - loss: 0.2012 - accuracy: 0.9793 - val_loss: 1.4103 - val_accuracy: 0.7541\n",
            "Epoch 185/300\n",
            "8/8 [==============================] - 0s 8ms/step - loss: 0.1568 - accuracy: 0.9917 - val_loss: 1.4880 - val_accuracy: 0.7213\n",
            "Epoch 186/300\n",
            "8/8 [==============================] - 0s 8ms/step - loss: 0.1877 - accuracy: 0.9876 - val_loss: 1.5499 - val_accuracy: 0.7049\n",
            "Epoch 187/300\n",
            "8/8 [==============================] - 0s 8ms/step - loss: 0.1627 - accuracy: 0.9917 - val_loss: 1.5460 - val_accuracy: 0.7213\n",
            "Epoch 188/300\n",
            "8/8 [==============================] - 0s 8ms/step - loss: 0.2068 - accuracy: 0.9793 - val_loss: 1.5194 - val_accuracy: 0.7213\n",
            "Epoch 189/300\n",
            "8/8 [==============================] - 0s 8ms/step - loss: 0.1518 - accuracy: 0.9917 - val_loss: 1.4871 - val_accuracy: 0.7377\n",
            "Epoch 190/300\n",
            "8/8 [==============================] - 0s 8ms/step - loss: 0.1421 - accuracy: 0.9959 - val_loss: 1.3902 - val_accuracy: 0.7541\n",
            "Epoch 191/300\n",
            "8/8 [==============================] - 0s 9ms/step - loss: 0.2211 - accuracy: 0.9711 - val_loss: 1.4198 - val_accuracy: 0.7541\n",
            "Epoch 192/300\n",
            "8/8 [==============================] - 0s 8ms/step - loss: 0.1564 - accuracy: 0.9876 - val_loss: 1.3827 - val_accuracy: 0.7705\n",
            "Epoch 193/300\n",
            "8/8 [==============================] - 0s 8ms/step - loss: 0.1474 - accuracy: 0.9959 - val_loss: 1.2377 - val_accuracy: 0.7705\n",
            "Epoch 194/300\n",
            "8/8 [==============================] - 0s 8ms/step - loss: 0.1362 - accuracy: 1.0000 - val_loss: 1.1608 - val_accuracy: 0.7705\n",
            "Epoch 195/300\n",
            "8/8 [==============================] - 0s 9ms/step - loss: 0.1557 - accuracy: 0.9876 - val_loss: 1.1234 - val_accuracy: 0.7705\n",
            "Epoch 196/300\n",
            "8/8 [==============================] - 0s 8ms/step - loss: 0.1816 - accuracy: 0.9835 - val_loss: 1.1685 - val_accuracy: 0.7541\n",
            "Epoch 197/300\n",
            "8/8 [==============================] - 0s 8ms/step - loss: 0.1661 - accuracy: 0.9835 - val_loss: 1.0714 - val_accuracy: 0.8033\n",
            "Epoch 198/300\n",
            "8/8 [==============================] - 0s 8ms/step - loss: 0.1609 - accuracy: 0.9917 - val_loss: 1.3060 - val_accuracy: 0.7377\n",
            "Epoch 199/300\n",
            "8/8 [==============================] - 0s 8ms/step - loss: 0.1646 - accuracy: 0.9959 - val_loss: 1.2927 - val_accuracy: 0.7377\n",
            "Epoch 200/300\n",
            "8/8 [==============================] - 0s 8ms/step - loss: 0.1734 - accuracy: 0.9793 - val_loss: 1.3370 - val_accuracy: 0.7377\n",
            "Epoch 201/300\n",
            "8/8 [==============================] - 0s 9ms/step - loss: 0.1925 - accuracy: 0.9793 - val_loss: 1.2367 - val_accuracy: 0.7213\n",
            "Epoch 202/300\n",
            "8/8 [==============================] - 0s 9ms/step - loss: 0.1651 - accuracy: 0.9835 - val_loss: 1.3683 - val_accuracy: 0.7213\n",
            "Epoch 203/300\n",
            "8/8 [==============================] - 0s 9ms/step - loss: 0.2190 - accuracy: 0.9587 - val_loss: 1.4325 - val_accuracy: 0.7541\n",
            "Epoch 204/300\n",
            "8/8 [==============================] - 0s 9ms/step - loss: 0.1754 - accuracy: 0.9835 - val_loss: 1.4253 - val_accuracy: 0.7049\n",
            "Epoch 205/300\n",
            "8/8 [==============================] - 0s 8ms/step - loss: 0.1733 - accuracy: 0.9876 - val_loss: 1.4494 - val_accuracy: 0.7377\n",
            "Epoch 206/300\n",
            "8/8 [==============================] - 0s 9ms/step - loss: 0.1412 - accuracy: 0.9959 - val_loss: 1.5667 - val_accuracy: 0.7377\n",
            "Epoch 207/300\n",
            "8/8 [==============================] - 0s 8ms/step - loss: 0.1458 - accuracy: 0.9959 - val_loss: 1.4882 - val_accuracy: 0.7213\n",
            "Epoch 208/300\n",
            "8/8 [==============================] - 0s 8ms/step - loss: 0.1877 - accuracy: 0.9835 - val_loss: 1.4104 - val_accuracy: 0.7377\n",
            "Epoch 209/300\n",
            "8/8 [==============================] - 0s 9ms/step - loss: 0.1929 - accuracy: 0.9793 - val_loss: 1.4546 - val_accuracy: 0.7049\n",
            "Epoch 210/300\n",
            "8/8 [==============================] - 0s 9ms/step - loss: 0.1441 - accuracy: 0.9959 - val_loss: 1.3992 - val_accuracy: 0.7049\n",
            "Epoch 211/300\n",
            "8/8 [==============================] - 0s 8ms/step - loss: 0.1767 - accuracy: 0.9876 - val_loss: 1.3269 - val_accuracy: 0.7049\n",
            "Epoch 212/300\n",
            "8/8 [==============================] - 0s 9ms/step - loss: 0.1288 - accuracy: 1.0000 - val_loss: 1.3293 - val_accuracy: 0.7213\n",
            "Epoch 213/300\n",
            "8/8 [==============================] - 0s 9ms/step - loss: 0.1343 - accuracy: 0.9959 - val_loss: 1.3152 - val_accuracy: 0.7213\n",
            "Epoch 214/300\n",
            "8/8 [==============================] - 0s 8ms/step - loss: 0.1270 - accuracy: 1.0000 - val_loss: 1.2681 - val_accuracy: 0.7377\n",
            "Epoch 215/300\n",
            "8/8 [==============================] - 0s 8ms/step - loss: 0.1269 - accuracy: 1.0000 - val_loss: 1.2635 - val_accuracy: 0.7541\n",
            "Epoch 216/300\n",
            "8/8 [==============================] - 0s 8ms/step - loss: 0.1188 - accuracy: 1.0000 - val_loss: 1.2666 - val_accuracy: 0.7541\n",
            "Epoch 217/300\n",
            "8/8 [==============================] - 0s 8ms/step - loss: 0.1168 - accuracy: 1.0000 - val_loss: 1.2646 - val_accuracy: 0.7541\n",
            "Epoch 218/300\n",
            "8/8 [==============================] - 0s 8ms/step - loss: 0.1489 - accuracy: 0.9917 - val_loss: 1.2322 - val_accuracy: 0.7377\n",
            "Epoch 219/300\n",
            "8/8 [==============================] - 0s 8ms/step - loss: 0.1438 - accuracy: 0.9917 - val_loss: 1.1569 - val_accuracy: 0.7541\n",
            "Epoch 220/300\n",
            "8/8 [==============================] - 0s 8ms/step - loss: 0.1296 - accuracy: 0.9959 - val_loss: 1.1448 - val_accuracy: 0.7541\n",
            "Epoch 221/300\n",
            "8/8 [==============================] - 0s 9ms/step - loss: 0.1263 - accuracy: 0.9917 - val_loss: 1.0619 - val_accuracy: 0.7541\n",
            "Epoch 222/300\n",
            "8/8 [==============================] - 0s 9ms/step - loss: 0.1058 - accuracy: 1.0000 - val_loss: 1.0561 - val_accuracy: 0.7377\n",
            "Epoch 223/300\n",
            "8/8 [==============================] - 0s 8ms/step - loss: 0.1067 - accuracy: 0.9959 - val_loss: 1.1260 - val_accuracy: 0.7377\n",
            "Epoch 224/300\n",
            "8/8 [==============================] - 0s 8ms/step - loss: 0.1021 - accuracy: 1.0000 - val_loss: 1.1749 - val_accuracy: 0.7541\n",
            "Epoch 225/300\n",
            "8/8 [==============================] - 0s 8ms/step - loss: 0.1279 - accuracy: 0.9876 - val_loss: 1.0837 - val_accuracy: 0.7541\n",
            "Epoch 226/300\n",
            "8/8 [==============================] - 0s 8ms/step - loss: 0.1196 - accuracy: 0.9959 - val_loss: 0.8949 - val_accuracy: 0.7869\n",
            "Epoch 227/300\n",
            "8/8 [==============================] - 0s 10ms/step - loss: 0.1106 - accuracy: 0.9917 - val_loss: 1.0003 - val_accuracy: 0.7869\n",
            "Epoch 228/300\n",
            "8/8 [==============================] - 0s 9ms/step - loss: 0.1076 - accuracy: 0.9917 - val_loss: 1.0853 - val_accuracy: 0.7377\n",
            "Epoch 229/300\n",
            "8/8 [==============================] - 0s 9ms/step - loss: 0.1257 - accuracy: 0.9959 - val_loss: 0.9027 - val_accuracy: 0.8033\n",
            "Epoch 230/300\n",
            "8/8 [==============================] - 0s 9ms/step - loss: 0.0999 - accuracy: 1.0000 - val_loss: 0.8925 - val_accuracy: 0.8033\n",
            "Epoch 231/300\n",
            "8/8 [==============================] - 0s 8ms/step - loss: 0.1177 - accuracy: 0.9959 - val_loss: 1.0352 - val_accuracy: 0.8033\n",
            "Epoch 232/300\n",
            "8/8 [==============================] - 0s 8ms/step - loss: 0.1494 - accuracy: 0.9876 - val_loss: 1.0410 - val_accuracy: 0.8197\n",
            "Epoch 233/300\n",
            "8/8 [==============================] - 0s 9ms/step - loss: 0.1164 - accuracy: 0.9876 - val_loss: 0.8732 - val_accuracy: 0.7705\n",
            "Epoch 234/300\n",
            "8/8 [==============================] - 0s 9ms/step - loss: 0.1314 - accuracy: 0.9876 - val_loss: 1.0274 - val_accuracy: 0.7541\n",
            "Epoch 235/300\n",
            "8/8 [==============================] - 0s 8ms/step - loss: 0.2600 - accuracy: 0.9628 - val_loss: 1.2697 - val_accuracy: 0.7541\n",
            "Epoch 236/300\n",
            "8/8 [==============================] - 0s 8ms/step - loss: 0.1532 - accuracy: 0.9752 - val_loss: 1.3233 - val_accuracy: 0.7541\n",
            "Epoch 237/300\n",
            "8/8 [==============================] - 0s 8ms/step - loss: 0.1622 - accuracy: 0.9835 - val_loss: 1.3148 - val_accuracy: 0.7869\n",
            "Epoch 238/300\n",
            "8/8 [==============================] - 0s 8ms/step - loss: 0.1535 - accuracy: 0.9835 - val_loss: 1.3155 - val_accuracy: 0.7213\n",
            "Epoch 239/300\n",
            "8/8 [==============================] - 0s 8ms/step - loss: 0.1612 - accuracy: 0.9917 - val_loss: 1.2964 - val_accuracy: 0.7541\n",
            "Epoch 240/300\n",
            "8/8 [==============================] - 0s 9ms/step - loss: 0.1722 - accuracy: 0.9752 - val_loss: 1.3293 - val_accuracy: 0.7541\n",
            "Epoch 241/300\n",
            "8/8 [==============================] - 0s 9ms/step - loss: 0.2068 - accuracy: 0.9793 - val_loss: 1.6446 - val_accuracy: 0.7213\n",
            "Epoch 242/300\n",
            "8/8 [==============================] - 0s 8ms/step - loss: 0.2103 - accuracy: 0.9628 - val_loss: 1.3552 - val_accuracy: 0.7705\n",
            "Epoch 243/300\n",
            "8/8 [==============================] - 0s 8ms/step - loss: 0.1621 - accuracy: 0.9835 - val_loss: 1.3095 - val_accuracy: 0.7869\n",
            "Epoch 244/300\n",
            "8/8 [==============================] - 0s 8ms/step - loss: 0.1539 - accuracy: 0.9917 - val_loss: 1.2759 - val_accuracy: 0.7541\n",
            "Epoch 245/300\n",
            "8/8 [==============================] - 0s 8ms/step - loss: 0.1869 - accuracy: 0.9752 - val_loss: 1.2818 - val_accuracy: 0.7705\n",
            "Epoch 246/300\n",
            "8/8 [==============================] - 0s 9ms/step - loss: 0.1582 - accuracy: 0.9959 - val_loss: 1.2966 - val_accuracy: 0.7869\n",
            "Epoch 247/300\n",
            "8/8 [==============================] - 0s 8ms/step - loss: 0.1388 - accuracy: 0.9917 - val_loss: 1.2376 - val_accuracy: 0.7705\n",
            "Epoch 248/300\n",
            "8/8 [==============================] - 0s 8ms/step - loss: 0.1327 - accuracy: 0.9959 - val_loss: 1.2653 - val_accuracy: 0.7541\n",
            "Epoch 249/300\n",
            "8/8 [==============================] - 0s 8ms/step - loss: 0.1340 - accuracy: 0.9959 - val_loss: 1.2365 - val_accuracy: 0.7377\n",
            "Epoch 250/300\n",
            "8/8 [==============================] - 0s 8ms/step - loss: 0.1345 - accuracy: 0.9959 - val_loss: 1.2077 - val_accuracy: 0.7213\n",
            "Epoch 251/300\n",
            "8/8 [==============================] - 0s 8ms/step - loss: 0.1385 - accuracy: 0.9959 - val_loss: 1.1688 - val_accuracy: 0.7869\n",
            "Epoch 252/300\n",
            "8/8 [==============================] - 0s 9ms/step - loss: 0.1210 - accuracy: 1.0000 - val_loss: 1.1677 - val_accuracy: 0.7541\n",
            "Epoch 253/300\n",
            "8/8 [==============================] - 0s 8ms/step - loss: 0.1559 - accuracy: 0.9835 - val_loss: 1.1439 - val_accuracy: 0.7705\n",
            "Epoch 254/300\n",
            "8/8 [==============================] - 0s 8ms/step - loss: 0.1200 - accuracy: 0.9959 - val_loss: 1.0902 - val_accuracy: 0.7541\n",
            "Epoch 255/300\n",
            "8/8 [==============================] - 0s 8ms/step - loss: 0.1266 - accuracy: 0.9917 - val_loss: 1.0729 - val_accuracy: 0.7541\n",
            "Epoch 256/300\n",
            "8/8 [==============================] - 0s 9ms/step - loss: 0.1926 - accuracy: 0.9669 - val_loss: 1.2700 - val_accuracy: 0.7213\n",
            "Epoch 257/300\n",
            "8/8 [==============================] - 0s 8ms/step - loss: 0.1198 - accuracy: 0.9959 - val_loss: 1.4672 - val_accuracy: 0.7377\n",
            "Epoch 258/300\n",
            "8/8 [==============================] - 0s 8ms/step - loss: 0.1614 - accuracy: 0.9793 - val_loss: 1.3257 - val_accuracy: 0.7377\n",
            "Epoch 259/300\n",
            "8/8 [==============================] - 0s 8ms/step - loss: 0.1911 - accuracy: 0.9628 - val_loss: 1.4530 - val_accuracy: 0.7213\n",
            "Epoch 260/300\n",
            "8/8 [==============================] - 0s 8ms/step - loss: 0.1410 - accuracy: 0.9917 - val_loss: 1.2343 - val_accuracy: 0.7377\n",
            "Epoch 261/300\n",
            "8/8 [==============================] - 0s 8ms/step - loss: 0.1590 - accuracy: 0.9835 - val_loss: 1.2553 - val_accuracy: 0.7213\n",
            "Epoch 262/300\n",
            "8/8 [==============================] - 0s 8ms/step - loss: 0.1208 - accuracy: 0.9959 - val_loss: 1.3027 - val_accuracy: 0.7049\n",
            "Epoch 263/300\n",
            "8/8 [==============================] - 0s 8ms/step - loss: 0.1427 - accuracy: 0.9959 - val_loss: 1.3710 - val_accuracy: 0.7049\n",
            "Epoch 264/300\n",
            "8/8 [==============================] - 0s 8ms/step - loss: 0.1358 - accuracy: 0.9917 - val_loss: 1.3232 - val_accuracy: 0.7049\n",
            "Epoch 265/300\n",
            "8/8 [==============================] - 0s 9ms/step - loss: 0.1192 - accuracy: 0.9959 - val_loss: 1.3376 - val_accuracy: 0.7049\n",
            "Epoch 266/300\n",
            "8/8 [==============================] - 0s 9ms/step - loss: 0.1134 - accuracy: 0.9959 - val_loss: 1.3755 - val_accuracy: 0.7049\n",
            "Epoch 267/300\n",
            "8/8 [==============================] - 0s 8ms/step - loss: 0.1074 - accuracy: 1.0000 - val_loss: 1.3947 - val_accuracy: 0.7049\n",
            "Epoch 268/300\n",
            "8/8 [==============================] - 0s 9ms/step - loss: 0.1103 - accuracy: 0.9959 - val_loss: 1.4045 - val_accuracy: 0.7213\n",
            "Epoch 269/300\n",
            "8/8 [==============================] - 0s 8ms/step - loss: 0.1021 - accuracy: 1.0000 - val_loss: 1.4041 - val_accuracy: 0.7213\n",
            "Epoch 270/300\n",
            "8/8 [==============================] - 0s 9ms/step - loss: 0.1582 - accuracy: 0.9835 - val_loss: 1.1316 - val_accuracy: 0.7377\n",
            "Epoch 271/300\n",
            "8/8 [==============================] - 0s 8ms/step - loss: 0.1080 - accuracy: 0.9959 - val_loss: 1.1780 - val_accuracy: 0.7213\n",
            "Epoch 272/300\n",
            "8/8 [==============================] - 0s 8ms/step - loss: 0.1166 - accuracy: 0.9959 - val_loss: 1.1807 - val_accuracy: 0.7213\n",
            "Epoch 273/300\n",
            "8/8 [==============================] - 0s 8ms/step - loss: 0.1184 - accuracy: 0.9917 - val_loss: 1.1488 - val_accuracy: 0.7541\n",
            "Epoch 274/300\n",
            "8/8 [==============================] - 0s 8ms/step - loss: 0.1008 - accuracy: 0.9959 - val_loss: 1.1008 - val_accuracy: 0.7541\n",
            "Epoch 275/300\n",
            "8/8 [==============================] - 0s 9ms/step - loss: 0.0979 - accuracy: 1.0000 - val_loss: 1.1353 - val_accuracy: 0.7541\n",
            "Epoch 276/300\n",
            "8/8 [==============================] - 0s 9ms/step - loss: 0.1024 - accuracy: 0.9959 - val_loss: 1.1795 - val_accuracy: 0.7541\n",
            "Epoch 277/300\n",
            "8/8 [==============================] - 0s 8ms/step - loss: 0.1003 - accuracy: 1.0000 - val_loss: 1.2470 - val_accuracy: 0.7377\n",
            "Epoch 278/300\n",
            "8/8 [==============================] - 0s 9ms/step - loss: 0.0951 - accuracy: 0.9959 - val_loss: 1.2864 - val_accuracy: 0.7377\n",
            "Epoch 279/300\n",
            "8/8 [==============================] - 0s 9ms/step - loss: 0.0894 - accuracy: 1.0000 - val_loss: 1.2920 - val_accuracy: 0.7377\n",
            "Epoch 280/300\n",
            "8/8 [==============================] - 0s 9ms/step - loss: 0.0885 - accuracy: 1.0000 - val_loss: 1.2850 - val_accuracy: 0.7377\n",
            "Epoch 281/300\n",
            "8/8 [==============================] - 0s 9ms/step - loss: 0.1077 - accuracy: 0.9959 - val_loss: 1.2415 - val_accuracy: 0.7377\n",
            "Epoch 282/300\n",
            "8/8 [==============================] - 0s 8ms/step - loss: 0.1618 - accuracy: 0.9835 - val_loss: 1.2428 - val_accuracy: 0.7377\n",
            "Epoch 283/300\n",
            "8/8 [==============================] - 0s 8ms/step - loss: 0.0869 - accuracy: 1.0000 - val_loss: 1.2224 - val_accuracy: 0.7541\n",
            "Epoch 284/300\n",
            "8/8 [==============================] - 0s 9ms/step - loss: 0.1143 - accuracy: 0.9959 - val_loss: 1.2574 - val_accuracy: 0.7377\n",
            "Epoch 285/300\n",
            "8/8 [==============================] - 0s 9ms/step - loss: 0.0889 - accuracy: 1.0000 - val_loss: 1.2605 - val_accuracy: 0.7213\n",
            "Epoch 286/300\n",
            "8/8 [==============================] - 0s 8ms/step - loss: 0.1006 - accuracy: 0.9959 - val_loss: 1.3051 - val_accuracy: 0.7377\n",
            "Epoch 287/300\n",
            "8/8 [==============================] - 0s 9ms/step - loss: 0.0980 - accuracy: 0.9959 - val_loss: 1.3636 - val_accuracy: 0.7377\n",
            "Epoch 288/300\n",
            "8/8 [==============================] - 0s 9ms/step - loss: 0.1171 - accuracy: 0.9959 - val_loss: 1.1776 - val_accuracy: 0.7377\n",
            "Epoch 289/300\n",
            "8/8 [==============================] - 0s 9ms/step - loss: 0.1060 - accuracy: 0.9959 - val_loss: 1.0848 - val_accuracy: 0.7377\n",
            "Epoch 290/300\n",
            "8/8 [==============================] - 0s 8ms/step - loss: 0.0938 - accuracy: 0.9959 - val_loss: 1.1233 - val_accuracy: 0.7377\n",
            "Epoch 291/300\n",
            "8/8 [==============================] - 0s 8ms/step - loss: 0.0859 - accuracy: 1.0000 - val_loss: 1.2457 - val_accuracy: 0.7377\n",
            "Epoch 292/300\n",
            "8/8 [==============================] - 0s 8ms/step - loss: 0.1568 - accuracy: 0.9793 - val_loss: 1.1537 - val_accuracy: 0.7377\n",
            "Epoch 293/300\n",
            "8/8 [==============================] - 0s 8ms/step - loss: 0.1381 - accuracy: 0.9835 - val_loss: 1.2865 - val_accuracy: 0.7377\n",
            "Epoch 294/300\n",
            "8/8 [==============================] - 0s 8ms/step - loss: 0.1225 - accuracy: 0.9793 - val_loss: 1.3402 - val_accuracy: 0.7213\n",
            "Epoch 295/300\n",
            "8/8 [==============================] - 0s 8ms/step - loss: 0.1231 - accuracy: 0.9835 - val_loss: 1.2916 - val_accuracy: 0.7213\n",
            "Epoch 296/300\n",
            "8/8 [==============================] - 0s 8ms/step - loss: 0.1237 - accuracy: 0.9835 - val_loss: 1.3877 - val_accuracy: 0.7213\n",
            "Epoch 297/300\n",
            "8/8 [==============================] - 0s 8ms/step - loss: 0.1429 - accuracy: 0.9835 - val_loss: 1.3185 - val_accuracy: 0.7705\n",
            "Epoch 298/300\n",
            "8/8 [==============================] - 0s 9ms/step - loss: 0.1557 - accuracy: 0.9711 - val_loss: 1.3560 - val_accuracy: 0.7377\n",
            "Epoch 299/300\n",
            "8/8 [==============================] - 0s 9ms/step - loss: 0.1092 - accuracy: 0.9917 - val_loss: 1.3189 - val_accuracy: 0.7541\n",
            "Epoch 300/300\n",
            "8/8 [==============================] - 0s 8ms/step - loss: 0.2115 - accuracy: 0.9587 - val_loss: 1.0297 - val_accuracy: 0.7869\n"
          ],
          "name": "stdout"
        }
      ]
    },
    {
      "cell_type": "code",
      "metadata": {
        "colab": {
          "base_uri": "https://localhost:8080/",
          "height": 282
        },
        "id": "nzlmht_oobhg",
        "outputId": "cc20cbe3-5ab0-48c0-c6dc-0428ddbb4a27"
      },
      "source": [
        "plt.plot(history.history[\"accuracy\"])\n",
        "plt.plot(history.history[\"val_accuracy\"])"
      ],
      "execution_count": 38,
      "outputs": [
        {
          "output_type": "execute_result",
          "data": {
            "text/plain": [
              "[<matplotlib.lines.Line2D at 0x7f0b45d2d350>]"
            ]
          },
          "metadata": {
            "tags": []
          },
          "execution_count": 38
        },
        {
          "output_type": "display_data",
          "data": {
            "image/png": "[encoded data removed]",
            "text/plain": [
              "<Figure size 432x288 with 1 Axes>"
            ]
          },
          "metadata": {
            "tags": []
          }
        }
      ]
    },
    {
      "cell_type": "code",
      "metadata": {
        "colab": {
          "base_uri": "https://localhost:8080/"
        },
        "id": "QK3V28MlVwoz",
        "outputId": "46a256ad-3df8-4508-cc10-b68d021a9031"
      },
      "source": [
        "y_dnn_pred = model.predict_classes(X_test)"
      ],
      "execution_count": 39,
      "outputs": [
        {
          "output_type": "stream",
          "text": [
            "/usr/local/lib/python3.7/dist-packages/tensorflow/python/keras/engine/sequential.py:455: UserWarning: `model.predict_classes()` is deprecated and will be removed after 2021-01-01. Please use instead:* `np.argmax(model.predict(x), axis=-1)`,   if your model does multi-class classification   (e.g. if it uses a `softmax` last-layer activation).* `(model.predict(x) > 0.5).astype(\"int32\")`,   if your model does binary classification   (e.g. if it uses a `sigmoid` last-layer activation).\n",
            "  warnings.warn('`model.predict_classes()` is deprecated and '\n"
          ],
          "name": "stderr"
        }
      ]
    },
    {
      "cell_type": "code",
      "metadata": {
        "id": "9bYqAtRQWEir"
      },
      "source": [
        "y_dnn_pred = np.squeeze(y_dnn_pred)"
      ],
      "execution_count": 40,
      "outputs": []
    },
    {
      "cell_type": "code",
      "metadata": {
        "colab": {
          "base_uri": "https://localhost:8080/"
        },
        "id": "c2vjsIJWV_Wm",
        "outputId": "185e4ad3-846f-441f-fe47-ab602b8089bc"
      },
      "source": [
        "print(\"Accuracy:\",metrics.accuracy_score(y_test, y_dnn_pred))"
      ],
      "execution_count": 41,
      "outputs": [
        {
          "output_type": "stream",
          "text": [
            "Accuracy: 0.7868852459016393\n"
          ],
          "name": "stdout"
        }
      ]
    },
    {
      "cell_type": "markdown",
      "metadata": {
        "id": "2Wa7trnhIemX"
      },
      "source": [
        "## Support Vector Machine"
      ]
    },
    {
      "cell_type": "code",
      "metadata": {
        "id": "Lz53SCT9IeHV"
      },
      "source": [
        "from sklearn import svm\n",
        "from sklearn.model_selection import GridSearchCV"
      ],
      "execution_count": 42,
      "outputs": []
    },
    {
      "cell_type": "code",
      "metadata": {
        "id": "6z0f5oodL07r"
      },
      "source": [
        "param_grid = {'C': [0.1,1, 10, 100], 'gamma': [1,0.1,0.01,0.001],'kernel': ['rbf', 'poly', 'sigmoid']}"
      ],
      "execution_count": 43,
      "outputs": []
    },
    {
      "cell_type": "code",
      "metadata": {
        "colab": {
          "base_uri": "https://localhost:8080/"
        },
        "id": "u7MEg80eL5ku",
        "outputId": "1d44f442-5436-4f3a-ab3e-c0931e4f794a"
      },
      "source": [
        "grid = GridSearchCV(svm.SVC(),param_grid,refit=True,verbose=0)\n",
        "grid.fit(X_train,y_train)"
      ],
      "execution_count": 44,
      "outputs": [
        {
          "output_type": "execute_result",
          "data": {
            "text/plain": [
              "GridSearchCV(cv=None, error_score=nan,\n",
              "             estimator=SVC(C=1.0, break_ties=False, cache_size=200,\n",
              "                           class_weight=None, coef0=0.0,\n",
              "                           decision_function_shape='ovr', degree=3,\n",
              "                           gamma='scale', kernel='rbf', max_iter=-1,\n",
              "                           probability=False, random_state=None, shrinking=True,\n",
              "                           tol=0.001, verbose=False),\n",
              "             iid='deprecated', n_jobs=None,\n",
              "             param_grid={'C': [0.1, 1, 10, 100], 'gamma': [1, 0.1, 0.01, 0.001],\n",
              "                         'kernel': ['rbf', 'poly', 'sigmoid']},\n",
              "             pre_dispatch='2*n_jobs', refit=True, return_train_score=False,\n",
              "             scoring=None, verbose=0)"
            ]
          },
          "metadata": {
            "tags": []
          },
          "execution_count": 44
        }
      ]
    },
    {
      "cell_type": "code",
      "metadata": {
        "id": "u4P32_9aL_tx",
        "colab": {
          "base_uri": "https://localhost:8080/"
        },
        "outputId": "decb14cf-8cf0-4813-8123-b6aa87c06893"
      },
      "source": [
        "print(grid.best_estimator_)"
      ],
      "execution_count": 45,
      "outputs": [
        {
          "output_type": "stream",
          "text": [
            "SVC(C=10, break_ties=False, cache_size=200, class_weight=None, coef0=0.0,\n",
            "    decision_function_shape='ovr', degree=3, gamma=0.1, kernel='sigmoid',\n",
            "    max_iter=-1, probability=False, random_state=None, shrinking=True,\n",
            "    tol=0.001, verbose=False)\n"
          ],
          "name": "stdout"
        }
      ]
    },
    {
      "cell_type": "code",
      "metadata": {
        "id": "z0s-jSDBMC7K"
      },
      "source": [
        "clf = svm.SVC(C=10, break_ties=False, cache_size=200, class_weight=None, coef0=0.0,\n",
        "    decision_function_shape='ovr', degree=3, gamma=0.1, kernel='sigmoid',\n",
        "    max_iter=-1, probability=False, random_state=None, shrinking=True,\n",
        "    tol=0.001, verbose=False)"
      ],
      "execution_count": 46,
      "outputs": []
    },
    {
      "cell_type": "code",
      "metadata": {
        "id": "zV90gd3jIpDH",
        "colab": {
          "base_uri": "https://localhost:8080/"
        },
        "outputId": "494e0756-87f3-4a3f-c820-4597f659a594"
      },
      "source": [
        "clf.fit(X_train, y_train)"
      ],
      "execution_count": 47,
      "outputs": [
        {
          "output_type": "execute_result",
          "data": {
            "text/plain": [
              "SVC(C=10, break_ties=False, cache_size=200, class_weight=None, coef0=0.0,\n",
              "    decision_function_shape='ovr', degree=3, gamma=0.1, kernel='sigmoid',\n",
              "    max_iter=-1, probability=False, random_state=None, shrinking=True,\n",
              "    tol=0.001, verbose=False)"
            ]
          },
          "metadata": {
            "tags": []
          },
          "execution_count": 47
        }
      ]
    },
    {
      "cell_type": "code",
      "metadata": {
        "id": "k-l6rFkgKixZ"
      },
      "source": [
        "y_svm_pred = clf.predict(X_test)"
      ],
      "execution_count": 48,
      "outputs": []
    },
    {
      "cell_type": "code",
      "metadata": {
        "id": "C6ogiJM_KeP-",
        "colab": {
          "base_uri": "https://localhost:8080/"
        },
        "outputId": "5356447b-baca-4a08-e761-7c7116003546"
      },
      "source": [
        "print(\"Accuracy:\",metrics.accuracy_score(y_test, y_svm_pred))"
      ],
      "execution_count": 49,
      "outputs": [
        {
          "output_type": "stream",
          "text": [
            "Accuracy: 0.8524590163934426\n"
          ],
          "name": "stdout"
        }
      ]
    },
    {
      "cell_type": "markdown",
      "metadata": {
        "id": "zQg7KS93MTOl"
      },
      "source": [
        "## Random Forest"
      ]
    },
    {
      "cell_type": "code",
      "metadata": {
        "id": "eRRomm4SMSrH"
      },
      "source": [
        "from sklearn.ensemble import RandomForestClassifier"
      ],
      "execution_count": 50,
      "outputs": []
    },
    {
      "cell_type": "code",
      "metadata": {
        "id": "evi3ZjHCM235"
      },
      "source": [
        "#param_grid = {'max_depth': [80, 90, 100, 110],\n",
        "#              'min_samples_leaf': [3, 4, 5],\n",
        "#              'min_samples_split': [8, 10, 12],\n",
        "#              'n_estimators': [100, 200, 300, 1000]}"
      ],
      "execution_count": 51,
      "outputs": []
    },
    {
      "cell_type": "code",
      "metadata": {
        "id": "I2T7UyI9NDU9"
      },
      "source": [
        "#grid = GridSearchCV(RandomForestClassifier(),param_grid,refit=True,verbose=2)\n",
        "#grid.fit(X,y)"
      ],
      "execution_count": 52,
      "outputs": []
    },
    {
      "cell_type": "code",
      "metadata": {
        "id": "AoFHgLC8NZ8o"
      },
      "source": [
        "#print(grid.best_estimator_)"
      ],
      "execution_count": 53,
      "outputs": []
    },
    {
      "cell_type": "code",
      "metadata": {
        "id": "Im-bncEOQQTl"
      },
      "source": [
        "clf = RandomForestClassifier()"
      ],
      "execution_count": 54,
      "outputs": []
    },
    {
      "cell_type": "code",
      "metadata": {
        "id": "3tsRlJ-UMi5T",
        "colab": {
          "base_uri": "https://localhost:8080/"
        },
        "outputId": "76798230-0d3f-4610-8de4-f6aca7c3ec43"
      },
      "source": [
        "clf.fit(X_train_tree, y_train_tree)"
      ],
      "execution_count": 55,
      "outputs": [
        {
          "output_type": "execute_result",
          "data": {
            "text/plain": [
              "RandomForestClassifier(bootstrap=True, ccp_alpha=0.0, class_weight=None,\n",
              "                       criterion='gini', max_depth=None, max_features='auto',\n",
              "                       max_leaf_nodes=None, max_samples=None,\n",
              "                       min_impurity_decrease=0.0, min_impurity_split=None,\n",
              "                       min_samples_leaf=1, min_samples_split=2,\n",
              "                       min_weight_fraction_leaf=0.0, n_estimators=100,\n",
              "                       n_jobs=None, oob_score=False, random_state=None,\n",
              "                       verbose=0, warm_start=False)"
            ]
          },
          "metadata": {
            "tags": []
          },
          "execution_count": 55
        }
      ]
    },
    {
      "cell_type": "code",
      "metadata": {
        "id": "N-bjDHn4MitE"
      },
      "source": [
        "y_rf_pred = clf.predict(X_test_tree)"
      ],
      "execution_count": 56,
      "outputs": []
    },
    {
      "cell_type": "code",
      "metadata": {
        "id": "Wd04W1mkMiav",
        "colab": {
          "base_uri": "https://localhost:8080/"
        },
        "outputId": "41067c3f-8c5a-43ea-cdec-bee0a27b225c"
      },
      "source": [
        "print(\"Accuracy:\",metrics.accuracy_score(y_test_tree, y_rf_pred))"
      ],
      "execution_count": 57,
      "outputs": [
        {
          "output_type": "stream",
          "text": [
            "Accuracy: 0.8032786885245902\n"
          ],
          "name": "stdout"
        }
      ]
    },
    {
      "cell_type": "markdown",
      "metadata": {
        "id": "CjGqlBftQguH"
      },
      "source": [
        "## Adaboost"
      ]
    },
    {
      "cell_type": "code",
      "metadata": {
        "id": "bjdy88eqQAua"
      },
      "source": [
        "from sklearn.ensemble import AdaBoostClassifier"
      ],
      "execution_count": 58,
      "outputs": []
    },
    {
      "cell_type": "code",
      "metadata": {
        "id": "Tkz3SOurQjEz"
      },
      "source": [
        "clf = AdaBoostClassifier(n_estimators=100, random_state=0)"
      ],
      "execution_count": 59,
      "outputs": []
    },
    {
      "cell_type": "code",
      "metadata": {
        "id": "iUTqXNllQnNa",
        "colab": {
          "base_uri": "https://localhost:8080/"
        },
        "outputId": "41b63a12-05e1-4962-ee7b-1e505ef1ab2c"
      },
      "source": [
        "clf.fit(X_train, y_train)"
      ],
      "execution_count": 60,
      "outputs": [
        {
          "output_type": "execute_result",
          "data": {
            "text/plain": [
              "AdaBoostClassifier(algorithm='SAMME.R', base_estimator=None, learning_rate=1.0,\n",
              "                   n_estimators=100, random_state=0)"
            ]
          },
          "metadata": {
            "tags": []
          },
          "execution_count": 60
        }
      ]
    },
    {
      "cell_type": "code",
      "metadata": {
        "id": "Op8vbR8HQo3c"
      },
      "source": [
        "y_ada_pred = clf.predict(X_test)"
      ],
      "execution_count": 61,
      "outputs": []
    },
    {
      "cell_type": "code",
      "metadata": {
        "id": "_iKFEPDcQrQy",
        "colab": {
          "base_uri": "https://localhost:8080/"
        },
        "outputId": "ffdf074d-5a2b-49d6-a525-bf52d9dd51d3"
      },
      "source": [
        "print(\"Accuracy:\",metrics.accuracy_score(y_test, y_ada_pred))"
      ],
      "execution_count": 62,
      "outputs": [
        {
          "output_type": "stream",
          "text": [
            "Accuracy: 0.8032786885245902\n"
          ],
          "name": "stdout"
        }
      ]
    },
    {
      "cell_type": "markdown",
      "metadata": {
        "id": "Lm3ViWysRIJD"
      },
      "source": [
        "## Gradient Boosting"
      ]
    },
    {
      "cell_type": "code",
      "metadata": {
        "id": "iZuWF0cuQtyc"
      },
      "source": [
        "from sklearn.ensemble import GradientBoostingClassifier"
      ],
      "execution_count": 63,
      "outputs": []
    },
    {
      "cell_type": "code",
      "metadata": {
        "id": "qcMS4uKiRNYS"
      },
      "source": [
        "clf = GradientBoostingClassifier(n_estimators=100, learning_rate=1.0, max_depth=1, random_state=0)"
      ],
      "execution_count": 64,
      "outputs": []
    },
    {
      "cell_type": "code",
      "metadata": {
        "id": "kGbz0JDaRfDN",
        "colab": {
          "base_uri": "https://localhost:8080/"
        },
        "outputId": "0fda0d41-9900-440c-a328-7cf94bce349c"
      },
      "source": [
        "clf.fit(X_train, y_train)"
      ],
      "execution_count": 65,
      "outputs": [
        {
          "output_type": "execute_result",
          "data": {
            "text/plain": [
              "GradientBoostingClassifier(ccp_alpha=0.0, criterion='friedman_mse', init=None,\n",
              "                           learning_rate=1.0, loss='deviance', max_depth=1,\n",
              "                           max_features=None, max_leaf_nodes=None,\n",
              "                           min_impurity_decrease=0.0, min_impurity_split=None,\n",
              "                           min_samples_leaf=1, min_samples_split=2,\n",
              "                           min_weight_fraction_leaf=0.0, n_estimators=100,\n",
              "                           n_iter_no_change=None, presort='deprecated',\n",
              "                           random_state=0, subsample=1.0, tol=0.0001,\n",
              "                           validation_fraction=0.1, verbose=0,\n",
              "                           warm_start=False)"
            ]
          },
          "metadata": {
            "tags": []
          },
          "execution_count": 65
        }
      ]
    },
    {
      "cell_type": "code",
      "metadata": {
        "id": "XSOuwL7cRi_i"
      },
      "source": [
        "y_gb_pred = clf.predict(X_test)"
      ],
      "execution_count": 66,
      "outputs": []
    },
    {
      "cell_type": "code",
      "metadata": {
        "id": "HLxcWvjNRmW2",
        "colab": {
          "base_uri": "https://localhost:8080/"
        },
        "outputId": "91c75650-f2a8-42aa-c002-a6ec9887af63"
      },
      "source": [
        "print(\"Accuracy:\",metrics.accuracy_score(y_test, y_gb_pred))"
      ],
      "execution_count": 67,
      "outputs": [
        {
          "output_type": "stream",
          "text": [
            "Accuracy: 0.819672131147541\n"
          ],
          "name": "stdout"
        }
      ]
    },
    {
      "cell_type": "markdown",
      "metadata": {
        "id": "MCRUJZFtS7UU"
      },
      "source": [
        "## Logistic Regression"
      ]
    },
    {
      "cell_type": "code",
      "metadata": {
        "id": "hL5kfLWsSejl"
      },
      "source": [
        "from sklearn.linear_model import LogisticRegression"
      ],
      "execution_count": 68,
      "outputs": []
    },
    {
      "cell_type": "code",
      "metadata": {
        "id": "GS9hVIxOS-uA"
      },
      "source": [
        "clf = LogisticRegression(random_state=0)"
      ],
      "execution_count": 69,
      "outputs": []
    },
    {
      "cell_type": "code",
      "metadata": {
        "id": "QnYSI7aATCCP",
        "colab": {
          "base_uri": "https://localhost:8080/"
        },
        "outputId": "6384b447-cebe-497e-f660-e666b761292c"
      },
      "source": [
        "clf.fit(X_train, y_train)"
      ],
      "execution_count": 70,
      "outputs": [
        {
          "output_type": "execute_result",
          "data": {
            "text/plain": [
              "LogisticRegression(C=1.0, class_weight=None, dual=False, fit_intercept=True,\n",
              "                   intercept_scaling=1, l1_ratio=None, max_iter=100,\n",
              "                   multi_class='auto', n_jobs=None, penalty='l2',\n",
              "                   random_state=0, solver='lbfgs', tol=0.0001, verbose=0,\n",
              "                   warm_start=False)"
            ]
          },
          "metadata": {
            "tags": []
          },
          "execution_count": 70
        }
      ]
    },
    {
      "cell_type": "code",
      "metadata": {
        "id": "FU5Po1UXTTLC"
      },
      "source": [
        "y_logistic_pred = clf.predict(X_test)"
      ],
      "execution_count": 71,
      "outputs": []
    },
    {
      "cell_type": "code",
      "metadata": {
        "id": "MSbt8pmITnQC",
        "colab": {
          "base_uri": "https://localhost:8080/"
        },
        "outputId": "5b76e2c4-be73-4d6e-b04b-554e94fc9ccb"
      },
      "source": [
        "print(\"Accuracy:\",metrics.accuracy_score(y_test, y_logistic_pred))"
      ],
      "execution_count": 72,
      "outputs": [
        {
          "output_type": "stream",
          "text": [
            "Accuracy: 0.8688524590163934\n"
          ],
          "name": "stdout"
        }
      ]
    },
    {
      "cell_type": "code",
      "metadata": {
        "id": "fjJzb3RVdgUi"
      },
      "source": [
        "# To Do List\n",
        "from sklearn.neighbors import KNeighborsClassifier\n",
        "from sklearn.naive_bayes import BernoulliNB\n",
        "from sklearn.naive_bayes import GaussianNB"
      ],
      "execution_count": 73,
      "outputs": []
    },
    {
      "cell_type": "code",
      "metadata": {
        "id": "43Jsecx-aSkd"
      },
      "source": [
        "from sklearn.metrics import confusion_matrix"
      ],
      "execution_count": 74,
      "outputs": []
    },
    {
      "cell_type": "markdown",
      "metadata": {
        "id": "YsfElX47gIBf"
      },
      "source": [
        "## Gaussian Naive Bayes"
      ]
    },
    {
      "cell_type": "code",
      "metadata": {
        "id": "qSGOqMG5d8dc",
        "colab": {
          "base_uri": "https://localhost:8080/"
        },
        "outputId": "f4cfea10-1031-4d20-bdec-e875cc062a29"
      },
      "source": [
        "clf = GaussianNB()\n",
        "clf.fit(X_train, y_train)\n",
        "  \n",
        "y_Gaussian_pred = clf.predict(X_test)\n",
        "\n",
        "print(\"Accuracy of Gaussian Naive Bayes:\", round(metrics.accuracy_score(y_test, y_Gaussian_pred),3))"
      ],
      "execution_count": 75,
      "outputs": [
        {
          "output_type": "stream",
          "text": [
            "Accuracy of Gaussian Naive Bayes: 0.852\n"
          ],
          "name": "stdout"
        }
      ]
    },
    {
      "cell_type": "markdown",
      "metadata": {
        "id": "ch3H79akgOFZ"
      },
      "source": [
        "## Bernoulli Naive Bayes"
      ]
    },
    {
      "cell_type": "code",
      "metadata": {
        "id": "2p7JeK3yemAp",
        "colab": {
          "base_uri": "https://localhost:8080/"
        },
        "outputId": "ffe75c0d-923d-4c42-b4aa-4e34be3d55c3"
      },
      "source": [
        "clf = BernoulliNB()\n",
        "clf.fit(X_train, y_train)\n",
        "  \n",
        "y_Bernoulli_pred = clf.predict(X_test)\n",
        "  \n",
        "print(\"The accuracy of Bernoulli Naive Bayes: \", round(metrics.accuracy_score(y_test, y_Bernoulli_pred),3))"
      ],
      "execution_count": 76,
      "outputs": [
        {
          "output_type": "stream",
          "text": [
            "The accuracy of Bernoulli Naive Bayes:  0.869\n"
          ],
          "name": "stdout"
        }
      ]
    },
    {
      "cell_type": "markdown",
      "metadata": {
        "id": "1SSaWiExggji"
      },
      "source": [
        "## K Nearest Neighbours"
      ]
    },
    {
      "cell_type": "code",
      "metadata": {
        "id": "FTzdhiGVfP_n",
        "colab": {
          "base_uri": "https://localhost:8080/"
        },
        "outputId": "9f745f61-331e-4a58-ecf0-74c841c68ffc"
      },
      "source": [
        "clf = KNeighborsClassifier(n_neighbors = 1)  \n",
        "clf.fit(X_train, y_train)\n",
        "\n",
        "y_KNeighbors_pred = model.predict(X_test).round()\n",
        "\n",
        "print(\"The accuracy of K Nearest Neighbours : \", round(metrics.accuracy_score(y_test, y_KNeighbors_pred),3))"
      ],
      "execution_count": 77,
      "outputs": [
        {
          "output_type": "stream",
          "text": [
            "The accuracy of K Nearest Neighbours :  0.787\n"
          ],
          "name": "stdout"
        }
      ]
    },
    {
      "cell_type": "markdown",
      "metadata": {
        "id": "Dmyay26bT0X_"
      },
      "source": [
        "# Summary"
      ]
    },
    {
      "cell_type": "code",
      "metadata": {
        "id": "-qHASpJ7TzQ5",
        "colab": {
          "base_uri": "https://localhost:8080/"
        },
        "outputId": "618fff65-0923-4fd7-812f-640d982914ad"
      },
      "source": [
        "names = [\"Deep Neural Network\", \"Support Vector Machine\", \"Random Forest\", \"Adaboost\",\"Gradient Boost\",\"Logistic Regression\",\n",
        "         \"Gaussian Naive Bayes\", \"Bernoulli Naive Bayes\",\"K Nearest Neighbours\"]\n",
        "\n",
        "predictions = [y_dnn_pred, y_svm_pred, y_rf_pred, y_ada_pred, y_gb_pred, y_logistic_pred, y_Gaussian_pred,\n",
        "               y_Bernoulli_pred, y_KNeighbors_pred]\n",
        "\n",
        "acc_list = []\n",
        "for i in range(len(names)):\n",
        "  score = metrics.accuracy_score(y_test,predictions[i])\n",
        "  print(\"Accuracy of\",names[i], \":\", round(score,3))\n",
        "  acc_list.append(score)\n",
        "\n",
        "index_max = np.argmax(acc_list)\n",
        "print(\"\\n\")\n",
        "print(\"The best model is << {0} >> with accuracy:{1}\".format(names[index_max],round(acc_list[index_max],3)))"
      ],
      "execution_count": 78,
      "outputs": [
        {
          "output_type": "stream",
          "text": [
            "Accuracy of Deep Neural Network : 0.787\n",
            "Accuracy of Support Vector Machine : 0.852\n",
            "Accuracy of Random Forest : 0.803\n",
            "Accuracy of Adaboost : 0.803\n",
            "Accuracy of Gradient Boost : 0.82\n",
            "Accuracy of Logistic Regression : 0.869\n",
            "Accuracy of Gaussian Naive Bayes : 0.852\n",
            "Accuracy of Bernoulli Naive Bayes : 0.869\n",
            "Accuracy of K Nearest Neighbours : 0.787\n",
            "\n",
            "\n",
            "The best model is << Logistic Regression >> with accuracy:0.869\n"
          ],
          "name": "stdout"
        }
      ]
    },
    {
      "cell_type": "code",
      "metadata": {
        "id": "AlbgzK1Yfp8C"
      },
      "source": [
        "#error_rate = []\n",
        "#  \n",
        "#for i in range(1, 40):\n",
        "#      \n",
        "#    model = KNeighborsClassifier(n_neighbors = i)\n",
        "#    model.fit(x_train, y_train)\n",
        "#    pred_i = model.predict(x_test)\n",
        "#    error_rate.append(np.mean(pred_i != y_test))\n",
        "  \n",
        "#plt.figure(figsize =(10, 6))\n",
        "#plt.plot(range(1, 40), error_rate, color ='blue',\n",
        "#                linestyle ='dashed', marker ='o',\n",
        "#         markerfacecolor ='red', markersize = 10)\n",
        "  \n",
        "#plt.title('Error Rate vs. K Value')\n",
        "#plt.xlabel('K')\n",
        "#plt.ylabel('Error Rate')"
      ],
      "execution_count": 79,
      "outputs": []
    }
  ]
}